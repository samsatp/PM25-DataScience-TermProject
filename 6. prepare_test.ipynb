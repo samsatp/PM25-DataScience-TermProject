{
 "metadata": {
  "language_info": {
   "codemirror_mode": {
    "name": "ipython",
    "version": 3
   },
   "file_extension": ".py",
   "mimetype": "text/x-python",
   "name": "python",
   "nbconvert_exporter": "python",
   "pygments_lexer": "ipython3",
   "version": "3.8.3-final"
  },
  "orig_nbformat": 2,
  "kernelspec": {
   "name": "python383jvsc74a57bd0a9c2c22397b07014c1cd4f0e704763f14b6d6b76ade59c4da849259a43dd80ef",
   "display_name": "Python 3.8.3 32-bit"
  },
  "metadata": {
   "interpreter": {
    "hash": "a9c2c22397b07014c1cd4f0e704763f14b6d6b76ade59c4da849259a43dd80ef"
   }
  }
 },
 "nbformat": 4,
 "nbformat_minor": 2,
 "cells": [
  {
   "cell_type": "code",
   "execution_count": 2,
   "metadata": {},
   "outputs": [],
   "source": [
    "import pandas as pd\n",
    "import numpy as np\n",
    "import os"
   ]
  },
  {
   "source": [
    "`2019-3-18 01:00:00` to `2020-3-18 13:00:00` <br>\n",
    "Temp, Wind, PM of test set is already cleaned. But Fire spot."
   ],
   "cell_type": "markdown",
   "metadata": {}
  },
  {
   "cell_type": "code",
   "execution_count": 9,
   "metadata": {},
   "outputs": [
    {
     "output_type": "stream",
     "name": "stdout",
     "text": [
      "2019-03-18 08:00:00 to 2020-03-18 20:00:00 \n2019-03-18 08:00:00 to 2020-03-18 20:00:00 \n2019-03-18 08:00:00 to 2020-03-18 20:00:00 \n2019-03-18 08:00:00 to 2020-03-18 20:00:00 \n2019-03-18 08:00:00 to 2020-03-18 20:00:00 \n"
     ]
    }
   ],
   "source": [
    "provinces = ['Bangkok','Chanthaburi','Chiang Mai','Kanchanaburi','Khon Kaen','Songkhla']\n",
    "data = {}\n",
    "for province in provinces:\n",
    "    if province=='Khon Kaen' : continue\n",
    "    df = pd.read_csv(f'./data/Test/{province}_imputed.csv', parse_dates=True, index_col=0)\n",
    "    data[province] = df\n",
    "    print(f'{df.index[0]} to {df.index[-1]} ')"
   ]
  },
  {
   "source": [
    "เริ่มและจบที่เวลาเดียวกันทั้งหมด"
   ],
   "cell_type": "markdown",
   "metadata": {}
  },
  {
   "cell_type": "code",
   "execution_count": 10,
   "metadata": {},
   "outputs": [
    {
     "output_type": "execute_result",
     "data": {
      "text/plain": [
       "                     PM2.5  Temp(C)  WindDir  Wind Speed(km/h)\n",
       "2019-03-18 08:00:00   45.6     29.3    130.0              17.0\n",
       "2019-03-18 09:00:00   46.6     29.3    130.0              17.0\n",
       "2019-03-18 10:00:00   47.7     33.4    120.0              14.0\n",
       "2019-03-18 11:00:00   43.7     33.4    120.0              14.0\n",
       "2019-03-18 12:00:00   41.6     33.4    120.0              14.0\n",
       "...                    ...      ...      ...               ...\n",
       "2020-03-18 16:00:00   23.9     33.0    210.0               7.0\n",
       "2020-03-18 17:00:00   24.4     33.0    210.0               7.0\n",
       "2020-03-18 18:00:00   24.9     33.0    210.0               7.0\n",
       "2020-03-18 19:00:00   27.0     30.4    260.0               6.0\n",
       "2020-03-18 20:00:00   26.1     30.4    260.0               6.0\n",
       "\n",
       "[8797 rows x 4 columns]"
      ],
      "text/html": "<div>\n<style scoped>\n    .dataframe tbody tr th:only-of-type {\n        vertical-align: middle;\n    }\n\n    .dataframe tbody tr th {\n        vertical-align: top;\n    }\n\n    .dataframe thead th {\n        text-align: right;\n    }\n</style>\n<table border=\"1\" class=\"dataframe\">\n  <thead>\n    <tr style=\"text-align: right;\">\n      <th></th>\n      <th>PM2.5</th>\n      <th>Temp(C)</th>\n      <th>WindDir</th>\n      <th>Wind Speed(km/h)</th>\n    </tr>\n  </thead>\n  <tbody>\n    <tr>\n      <th>2019-03-18 08:00:00</th>\n      <td>45.6</td>\n      <td>29.3</td>\n      <td>130.0</td>\n      <td>17.0</td>\n    </tr>\n    <tr>\n      <th>2019-03-18 09:00:00</th>\n      <td>46.6</td>\n      <td>29.3</td>\n      <td>130.0</td>\n      <td>17.0</td>\n    </tr>\n    <tr>\n      <th>2019-03-18 10:00:00</th>\n      <td>47.7</td>\n      <td>33.4</td>\n      <td>120.0</td>\n      <td>14.0</td>\n    </tr>\n    <tr>\n      <th>2019-03-18 11:00:00</th>\n      <td>43.7</td>\n      <td>33.4</td>\n      <td>120.0</td>\n      <td>14.0</td>\n    </tr>\n    <tr>\n      <th>2019-03-18 12:00:00</th>\n      <td>41.6</td>\n      <td>33.4</td>\n      <td>120.0</td>\n      <td>14.0</td>\n    </tr>\n    <tr>\n      <th>...</th>\n      <td>...</td>\n      <td>...</td>\n      <td>...</td>\n      <td>...</td>\n    </tr>\n    <tr>\n      <th>2020-03-18 16:00:00</th>\n      <td>23.9</td>\n      <td>33.0</td>\n      <td>210.0</td>\n      <td>7.0</td>\n    </tr>\n    <tr>\n      <th>2020-03-18 17:00:00</th>\n      <td>24.4</td>\n      <td>33.0</td>\n      <td>210.0</td>\n      <td>7.0</td>\n    </tr>\n    <tr>\n      <th>2020-03-18 18:00:00</th>\n      <td>24.9</td>\n      <td>33.0</td>\n      <td>210.0</td>\n      <td>7.0</td>\n    </tr>\n    <tr>\n      <th>2020-03-18 19:00:00</th>\n      <td>27.0</td>\n      <td>30.4</td>\n      <td>260.0</td>\n      <td>6.0</td>\n    </tr>\n    <tr>\n      <th>2020-03-18 20:00:00</th>\n      <td>26.1</td>\n      <td>30.4</td>\n      <td>260.0</td>\n      <td>6.0</td>\n    </tr>\n  </tbody>\n</table>\n<p>8797 rows × 4 columns</p>\n</div>"
     },
     "metadata": {},
     "execution_count": 10
    }
   ],
   "source": [
    "data['Bangkok']"
   ]
  },
  {
   "source": [
    "ข้อมูล Fire spot ที่ชัดเจนมีถึงแค่สิ้นปี 2019 เราต้องหาจากแหล่งอื่นอีก 3 เดือน (2020, Jan - Mar)"
   ],
   "cell_type": "markdown",
   "metadata": {}
  },
  {
   "cell_type": "code",
   "execution_count": 14,
   "metadata": {},
   "outputs": [],
   "source": [
    "countries = ['Cambodia','Myanmar','Thailand','Lao_PDR']\n",
    "fire = {}\n",
    "for country in countries:\n",
    "    df = pd.read_csv(f'./Fire hotspot/viirs-snpp_2019_{country}.csv')\n",
    "    df['hour'] = df['acq_time'].apply(str).str[:-2]\n",
    "    \n",
    "    df['datetime'] = pd.to_datetime(df['acq_date']+'T'+df['hour'].str.zfill(2), \n",
    "                        format='%Y-%m-%dT%H')\n",
    "    df = df.groupby('datetime').mean()\n",
    "    # เอาแค่ col ที่สนใจของตาราง fire spot\n",
    "    # Assume : frp represent brightness\n",
    "    fire[country] = df[['frp']].rename(columns={'frp':country+'_frp'})"
   ]
  },
  {
   "cell_type": "code",
   "execution_count": 18,
   "metadata": {},
   "outputs": [
    {
     "output_type": "stream",
     "name": "stdout",
     "text": [
      "2019-01-01 05:00:00 to 2019-12-31 18:00:00\n180640\n2019-01-01 05:00:00 to 2019-12-31 19:00:00\n377443\n2019-01-01 05:00:00 to 2019-12-31 19:00:00\n232841\n2019-01-01 05:00:00 to 2019-12-31 18:00:00\n172355\n"
     ]
    }
   ],
   "source": [
    "for c in countries:\n",
    "    print(f\"{fire[c].index[0]} to {fire[c].index[-1]}\")\n",
    "    print(len(fire[c]))"
   ]
  },
  {
   "cell_type": "code",
   "execution_count": 17,
   "metadata": {},
   "outputs": [
    {
     "output_type": "execute_result",
     "data": {
      "text/plain": [
       "                              Cambodia_frp  Myanmar_frp  Thailand_frp  \\\n",
       "         datetime                                                       \n",
       "Cambodia 2019-01-01 05:00:00          4.79          NaN           NaN   \n",
       "         2019-01-01 05:00:00          3.31          NaN           NaN   \n",
       "         2019-01-01 05:00:00          4.79          NaN           NaN   \n",
       "         2019-01-01 05:00:00         12.62          NaN           NaN   \n",
       "         2019-01-01 05:00:00         11.68          NaN           NaN   \n",
       "...                                    ...          ...           ...   \n",
       "Lao_PDR  2019-12-31 18:00:00           NaN          NaN           NaN   \n",
       "         2019-12-31 18:00:00           NaN          NaN           NaN   \n",
       "         2019-12-31 18:00:00           NaN          NaN           NaN   \n",
       "         2019-12-31 18:00:00           NaN          NaN           NaN   \n",
       "         2019-12-31 18:00:00           NaN          NaN           NaN   \n",
       "\n",
       "                              Lao_PDR_frp  \n",
       "         datetime                          \n",
       "Cambodia 2019-01-01 05:00:00          NaN  \n",
       "         2019-01-01 05:00:00          NaN  \n",
       "         2019-01-01 05:00:00          NaN  \n",
       "         2019-01-01 05:00:00          NaN  \n",
       "         2019-01-01 05:00:00          NaN  \n",
       "...                                   ...  \n",
       "Lao_PDR  2019-12-31 18:00:00         0.64  \n",
       "         2019-12-31 18:00:00         2.04  \n",
       "         2019-12-31 18:00:00         1.06  \n",
       "         2019-12-31 18:00:00         0.55  \n",
       "         2019-12-31 18:00:00         0.67  \n",
       "\n",
       "[963279 rows x 4 columns]"
      ],
      "text/html": "<div>\n<style scoped>\n    .dataframe tbody tr th:only-of-type {\n        vertical-align: middle;\n    }\n\n    .dataframe tbody tr th {\n        vertical-align: top;\n    }\n\n    .dataframe thead th {\n        text-align: right;\n    }\n</style>\n<table border=\"1\" class=\"dataframe\">\n  <thead>\n    <tr style=\"text-align: right;\">\n      <th></th>\n      <th></th>\n      <th>Cambodia_frp</th>\n      <th>Myanmar_frp</th>\n      <th>Thailand_frp</th>\n      <th>Lao_PDR_frp</th>\n    </tr>\n    <tr>\n      <th></th>\n      <th>datetime</th>\n      <th></th>\n      <th></th>\n      <th></th>\n      <th></th>\n    </tr>\n  </thead>\n  <tbody>\n    <tr>\n      <th rowspan=\"5\" valign=\"top\">Cambodia</th>\n      <th>2019-01-01 05:00:00</th>\n      <td>4.79</td>\n      <td>NaN</td>\n      <td>NaN</td>\n      <td>NaN</td>\n    </tr>\n    <tr>\n      <th>2019-01-01 05:00:00</th>\n      <td>3.31</td>\n      <td>NaN</td>\n      <td>NaN</td>\n      <td>NaN</td>\n    </tr>\n    <tr>\n      <th>2019-01-01 05:00:00</th>\n      <td>4.79</td>\n      <td>NaN</td>\n      <td>NaN</td>\n      <td>NaN</td>\n    </tr>\n    <tr>\n      <th>2019-01-01 05:00:00</th>\n      <td>12.62</td>\n      <td>NaN</td>\n      <td>NaN</td>\n      <td>NaN</td>\n    </tr>\n    <tr>\n      <th>2019-01-01 05:00:00</th>\n      <td>11.68</td>\n      <td>NaN</td>\n      <td>NaN</td>\n      <td>NaN</td>\n    </tr>\n    <tr>\n      <th>...</th>\n      <th>...</th>\n      <td>...</td>\n      <td>...</td>\n      <td>...</td>\n      <td>...</td>\n    </tr>\n    <tr>\n      <th rowspan=\"5\" valign=\"top\">Lao_PDR</th>\n      <th>2019-12-31 18:00:00</th>\n      <td>NaN</td>\n      <td>NaN</td>\n      <td>NaN</td>\n      <td>0.64</td>\n    </tr>\n    <tr>\n      <th>2019-12-31 18:00:00</th>\n      <td>NaN</td>\n      <td>NaN</td>\n      <td>NaN</td>\n      <td>2.04</td>\n    </tr>\n    <tr>\n      <th>2019-12-31 18:00:00</th>\n      <td>NaN</td>\n      <td>NaN</td>\n      <td>NaN</td>\n      <td>1.06</td>\n    </tr>\n    <tr>\n      <th>2019-12-31 18:00:00</th>\n      <td>NaN</td>\n      <td>NaN</td>\n      <td>NaN</td>\n      <td>0.55</td>\n    </tr>\n    <tr>\n      <th>2019-12-31 18:00:00</th>\n      <td>NaN</td>\n      <td>NaN</td>\n      <td>NaN</td>\n      <td>0.67</td>\n    </tr>\n  </tbody>\n</table>\n<p>963279 rows × 4 columns</p>\n</div>"
     },
     "metadata": {},
     "execution_count": 17
    }
   ],
   "source": [
    "pd.concat(fire)"
   ]
  },
  {
   "cell_type": "code",
   "execution_count": null,
   "metadata": {},
   "outputs": [],
   "source": []
  }
 ]
}