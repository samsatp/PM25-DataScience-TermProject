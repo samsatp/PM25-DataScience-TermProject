{
 "metadata": {
  "language_info": {
   "codemirror_mode": {
    "name": "ipython",
    "version": 3
   },
   "file_extension": ".py",
   "mimetype": "text/x-python",
   "name": "python",
   "nbconvert_exporter": "python",
   "pygments_lexer": "ipython3",
   "version": "3.8.3-final"
  },
  "orig_nbformat": 2,
  "kernelspec": {
   "name": "python383jvsc74a57bd0a9c2c22397b07014c1cd4f0e704763f14b6d6b76ade59c4da849259a43dd80ef",
   "display_name": "Python 3.8.3 32-bit"
  },
  "metadata": {
   "interpreter": {
    "hash": "a9c2c22397b07014c1cd4f0e704763f14b6d6b76ade59c4da849259a43dd80ef"
   }
  }
 },
 "nbformat": 4,
 "nbformat_minor": 2,
 "cells": [
  {
   "cell_type": "code",
   "execution_count": 1,
   "metadata": {},
   "outputs": [],
   "source": [
    "import pandas as pd\n",
    "import numpy as np\n",
    "import os"
   ]
  },
  {
   "source": [
    "`2019-3-18 01:00:00` to `2020-3-18 13:00:00` <br>\n",
    "Temp, Wind, PM of test set is already cleaned. But Fire spot."
   ],
   "cell_type": "markdown",
   "metadata": {}
  },
  {
   "cell_type": "code",
   "execution_count": 2,
   "metadata": {},
   "outputs": [
    {
     "output_type": "stream",
     "name": "stdout",
     "text": [
      "2019-03-18 08:00:00 to 2020-03-18 20:00:00 \n2019-03-18 08:00:00 to 2020-03-18 20:00:00 \n2019-03-18 08:00:00 to 2020-03-18 20:00:00 \n2019-03-18 08:00:00 to 2020-03-18 20:00:00 \n2019-03-18 08:00:00 to 2020-03-18 20:00:00 \n"
     ]
    }
   ],
   "source": [
    "provinces = ['Bangkok','Chanthaburi','Chiang Mai','Kanchanaburi','Khon Kaen','Songkhla']\n",
    "data = {}\n",
    "for province in provinces:\n",
    "    if province=='Khon Kaen' : continue\n",
    "    df = pd.read_csv(f'./data/Test/{province}_imputed.csv', parse_dates=True, index_col=0)\n",
    "    data[province] = df\n",
    "    print(f'{df.index[0]} to {df.index[-1]} ')"
   ]
  },
  {
   "source": [
    "เริ่มและจบที่เวลาเดียวกันทั้งหมด"
   ],
   "cell_type": "markdown",
   "metadata": {}
  },
  {
   "cell_type": "code",
   "execution_count": 3,
   "metadata": {},
   "outputs": [
    {
     "output_type": "execute_result",
     "data": {
      "text/plain": [
       "                     PM2.5  Temp(C)  WindDir  Wind Speed(km/h)\n",
       "2019-03-18 08:00:00   45.6     29.3    130.0              17.0\n",
       "2019-03-18 09:00:00   46.6     29.3    130.0              17.0\n",
       "2019-03-18 10:00:00   47.7     33.4    120.0              14.0\n",
       "2019-03-18 11:00:00   43.7     33.4    120.0              14.0\n",
       "2019-03-18 12:00:00   41.6     33.4    120.0              14.0\n",
       "...                    ...      ...      ...               ...\n",
       "2020-03-18 16:00:00   23.9     33.0    210.0               7.0\n",
       "2020-03-18 17:00:00   24.4     33.0    210.0               7.0\n",
       "2020-03-18 18:00:00   24.9     33.0    210.0               7.0\n",
       "2020-03-18 19:00:00   27.0     30.4    260.0               6.0\n",
       "2020-03-18 20:00:00   26.1     30.4    260.0               6.0\n",
       "\n",
       "[8797 rows x 4 columns]"
      ],
      "text/html": "<div>\n<style scoped>\n    .dataframe tbody tr th:only-of-type {\n        vertical-align: middle;\n    }\n\n    .dataframe tbody tr th {\n        vertical-align: top;\n    }\n\n    .dataframe thead th {\n        text-align: right;\n    }\n</style>\n<table border=\"1\" class=\"dataframe\">\n  <thead>\n    <tr style=\"text-align: right;\">\n      <th></th>\n      <th>PM2.5</th>\n      <th>Temp(C)</th>\n      <th>WindDir</th>\n      <th>Wind Speed(km/h)</th>\n    </tr>\n  </thead>\n  <tbody>\n    <tr>\n      <th>2019-03-18 08:00:00</th>\n      <td>45.6</td>\n      <td>29.3</td>\n      <td>130.0</td>\n      <td>17.0</td>\n    </tr>\n    <tr>\n      <th>2019-03-18 09:00:00</th>\n      <td>46.6</td>\n      <td>29.3</td>\n      <td>130.0</td>\n      <td>17.0</td>\n    </tr>\n    <tr>\n      <th>2019-03-18 10:00:00</th>\n      <td>47.7</td>\n      <td>33.4</td>\n      <td>120.0</td>\n      <td>14.0</td>\n    </tr>\n    <tr>\n      <th>2019-03-18 11:00:00</th>\n      <td>43.7</td>\n      <td>33.4</td>\n      <td>120.0</td>\n      <td>14.0</td>\n    </tr>\n    <tr>\n      <th>2019-03-18 12:00:00</th>\n      <td>41.6</td>\n      <td>33.4</td>\n      <td>120.0</td>\n      <td>14.0</td>\n    </tr>\n    <tr>\n      <th>...</th>\n      <td>...</td>\n      <td>...</td>\n      <td>...</td>\n      <td>...</td>\n    </tr>\n    <tr>\n      <th>2020-03-18 16:00:00</th>\n      <td>23.9</td>\n      <td>33.0</td>\n      <td>210.0</td>\n      <td>7.0</td>\n    </tr>\n    <tr>\n      <th>2020-03-18 17:00:00</th>\n      <td>24.4</td>\n      <td>33.0</td>\n      <td>210.0</td>\n      <td>7.0</td>\n    </tr>\n    <tr>\n      <th>2020-03-18 18:00:00</th>\n      <td>24.9</td>\n      <td>33.0</td>\n      <td>210.0</td>\n      <td>7.0</td>\n    </tr>\n    <tr>\n      <th>2020-03-18 19:00:00</th>\n      <td>27.0</td>\n      <td>30.4</td>\n      <td>260.0</td>\n      <td>6.0</td>\n    </tr>\n    <tr>\n      <th>2020-03-18 20:00:00</th>\n      <td>26.1</td>\n      <td>30.4</td>\n      <td>260.0</td>\n      <td>6.0</td>\n    </tr>\n  </tbody>\n</table>\n<p>8797 rows × 4 columns</p>\n</div>"
     },
     "metadata": {},
     "execution_count": 3
    }
   ],
   "source": [
    "data['Bangkok']"
   ]
  },
  {
   "source": [
    "ข้อมูล Fire spot ที่ชัดเจนมีถึงแค่สิ้นปี 2019 เราต้องหาจากแหล่งอื่นอีก 3 เดือน (2020, Jan - Mar)"
   ],
   "cell_type": "markdown",
   "metadata": {}
  },
  {
   "cell_type": "code",
   "execution_count": 10,
   "metadata": {},
   "outputs": [
    {
     "output_type": "execute_result",
     "data": {
      "text/plain": [
       "                     PM2.5  Temp(C)  WindDir  Wind Speed(km/h)  Cambodia_frp  \\\n",
       "2019-03-18 08:00:00   45.6     29.3    130.0              17.0           0.0   \n",
       "2019-03-18 09:00:00   46.6     29.3    130.0              17.0           0.0   \n",
       "2019-03-18 10:00:00   47.7     33.4    120.0              14.0           0.0   \n",
       "2019-03-18 11:00:00   43.7     33.4    120.0              14.0           0.0   \n",
       "2019-03-18 12:00:00   41.6     33.4    120.0              14.0           0.0   \n",
       "...                    ...      ...      ...               ...           ...   \n",
       "2020-03-18 16:00:00   23.9     33.0    210.0               7.0           NaN   \n",
       "2020-03-18 17:00:00   24.4     33.0    210.0               7.0           NaN   \n",
       "2020-03-18 18:00:00   24.9     33.0    210.0               7.0           NaN   \n",
       "2020-03-18 19:00:00   27.0     30.4    260.0               6.0           NaN   \n",
       "2020-03-18 20:00:00   26.1     30.4    260.0               6.0           NaN   \n",
       "\n",
       "                     Myanmar_frp  Thailand_frp  Lao_PDR_frp  \n",
       "2019-03-18 08:00:00          0.0           0.0          0.0  \n",
       "2019-03-18 09:00:00          0.0           0.0          0.0  \n",
       "2019-03-18 10:00:00          0.0           0.0          0.0  \n",
       "2019-03-18 11:00:00          0.0           0.0          0.0  \n",
       "2019-03-18 12:00:00          0.0           0.0          0.0  \n",
       "...                          ...           ...          ...  \n",
       "2020-03-18 16:00:00          NaN           NaN          NaN  \n",
       "2020-03-18 17:00:00          NaN           NaN          NaN  \n",
       "2020-03-18 18:00:00          NaN           NaN          NaN  \n",
       "2020-03-18 19:00:00          NaN           NaN          NaN  \n",
       "2020-03-18 20:00:00          NaN           NaN          NaN  \n",
       "\n",
       "[8797 rows x 8 columns]"
      ],
      "text/html": "<div>\n<style scoped>\n    .dataframe tbody tr th:only-of-type {\n        vertical-align: middle;\n    }\n\n    .dataframe tbody tr th {\n        vertical-align: top;\n    }\n\n    .dataframe thead th {\n        text-align: right;\n    }\n</style>\n<table border=\"1\" class=\"dataframe\">\n  <thead>\n    <tr style=\"text-align: right;\">\n      <th></th>\n      <th>PM2.5</th>\n      <th>Temp(C)</th>\n      <th>WindDir</th>\n      <th>Wind Speed(km/h)</th>\n      <th>Cambodia_frp</th>\n      <th>Myanmar_frp</th>\n      <th>Thailand_frp</th>\n      <th>Lao_PDR_frp</th>\n    </tr>\n  </thead>\n  <tbody>\n    <tr>\n      <th>2019-03-18 08:00:00</th>\n      <td>45.6</td>\n      <td>29.3</td>\n      <td>130.0</td>\n      <td>17.0</td>\n      <td>0.0</td>\n      <td>0.0</td>\n      <td>0.0</td>\n      <td>0.0</td>\n    </tr>\n    <tr>\n      <th>2019-03-18 09:00:00</th>\n      <td>46.6</td>\n      <td>29.3</td>\n      <td>130.0</td>\n      <td>17.0</td>\n      <td>0.0</td>\n      <td>0.0</td>\n      <td>0.0</td>\n      <td>0.0</td>\n    </tr>\n    <tr>\n      <th>2019-03-18 10:00:00</th>\n      <td>47.7</td>\n      <td>33.4</td>\n      <td>120.0</td>\n      <td>14.0</td>\n      <td>0.0</td>\n      <td>0.0</td>\n      <td>0.0</td>\n      <td>0.0</td>\n    </tr>\n    <tr>\n      <th>2019-03-18 11:00:00</th>\n      <td>43.7</td>\n      <td>33.4</td>\n      <td>120.0</td>\n      <td>14.0</td>\n      <td>0.0</td>\n      <td>0.0</td>\n      <td>0.0</td>\n      <td>0.0</td>\n    </tr>\n    <tr>\n      <th>2019-03-18 12:00:00</th>\n      <td>41.6</td>\n      <td>33.4</td>\n      <td>120.0</td>\n      <td>14.0</td>\n      <td>0.0</td>\n      <td>0.0</td>\n      <td>0.0</td>\n      <td>0.0</td>\n    </tr>\n    <tr>\n      <th>...</th>\n      <td>...</td>\n      <td>...</td>\n      <td>...</td>\n      <td>...</td>\n      <td>...</td>\n      <td>...</td>\n      <td>...</td>\n      <td>...</td>\n    </tr>\n    <tr>\n      <th>2020-03-18 16:00:00</th>\n      <td>23.9</td>\n      <td>33.0</td>\n      <td>210.0</td>\n      <td>7.0</td>\n      <td>NaN</td>\n      <td>NaN</td>\n      <td>NaN</td>\n      <td>NaN</td>\n    </tr>\n    <tr>\n      <th>2020-03-18 17:00:00</th>\n      <td>24.4</td>\n      <td>33.0</td>\n      <td>210.0</td>\n      <td>7.0</td>\n      <td>NaN</td>\n      <td>NaN</td>\n      <td>NaN</td>\n      <td>NaN</td>\n    </tr>\n    <tr>\n      <th>2020-03-18 18:00:00</th>\n      <td>24.9</td>\n      <td>33.0</td>\n      <td>210.0</td>\n      <td>7.0</td>\n      <td>NaN</td>\n      <td>NaN</td>\n      <td>NaN</td>\n      <td>NaN</td>\n    </tr>\n    <tr>\n      <th>2020-03-18 19:00:00</th>\n      <td>27.0</td>\n      <td>30.4</td>\n      <td>260.0</td>\n      <td>6.0</td>\n      <td>NaN</td>\n      <td>NaN</td>\n      <td>NaN</td>\n      <td>NaN</td>\n    </tr>\n    <tr>\n      <th>2020-03-18 20:00:00</th>\n      <td>26.1</td>\n      <td>30.4</td>\n      <td>260.0</td>\n      <td>6.0</td>\n      <td>NaN</td>\n      <td>NaN</td>\n      <td>NaN</td>\n      <td>NaN</td>\n    </tr>\n  </tbody>\n</table>\n<p>8797 rows × 8 columns</p>\n</div>"
     },
     "metadata": {},
     "execution_count": 10
    }
   ],
   "source": [
    "fire = pd.read_csv(\"./data/fire_2016_to_2019.csv\", index_col=0, parse_dates=True)\n",
    "data['Bangkok'].merge(fire, right_index=True, left_index=True, how='left')"
   ]
  },
  {
   "cell_type": "code",
   "execution_count": null,
   "metadata": {},
   "outputs": [],
   "source": []
  }
 ]
}