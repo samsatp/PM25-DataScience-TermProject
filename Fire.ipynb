{
 "metadata": {
  "language_info": {
   "codemirror_mode": {
    "name": "ipython",
    "version": 3
   },
   "file_extension": ".py",
   "mimetype": "text/x-python",
   "name": "python",
   "nbconvert_exporter": "python",
   "pygments_lexer": "ipython3",
   "version": "3.8.3-final"
  },
  "orig_nbformat": 2,
  "kernelspec": {
   "name": "python383jvsc74a57bd0a9c2c22397b07014c1cd4f0e704763f14b6d6b76ade59c4da849259a43dd80ef",
   "display_name": "Python 3.8.3 32-bit"
  },
  "metadata": {
   "interpreter": {
    "hash": "a9c2c22397b07014c1cd4f0e704763f14b6d6b76ade59c4da849259a43dd80ef"
   }
  }
 },
 "nbformat": 4,
 "nbformat_minor": 2,
 "cells": [
  {
   "cell_type": "code",
   "execution_count": 1,
   "metadata": {},
   "outputs": [],
   "source": [
    "import pandas as pd\n",
    "import numpy as np"
   ]
  },
  {
   "cell_type": "code",
   "execution_count": 2,
   "metadata": {},
   "outputs": [],
   "source": [
    "example_fire = pd.read_csv('Fire hotspot/viirs-snpp_2016_Cambodia.csv')\n",
    "\n",
    "example_fire['hour'] = example_fire['acq_time'].apply(str).str[:-2]\n",
    "\n",
    "example_fire['datetime'] = pd.to_datetime(\n",
    "                                            example_fire['acq_date']+'T'+example_fire['hour'].str.zfill(2), \n",
    "                                            format='%Y-%m-%dT%H')"
   ]
  },
  {
   "cell_type": "code",
   "execution_count": 3,
   "metadata": {},
   "outputs": [
    {
     "output_type": "execute_result",
     "data": {
      "text/plain": [
       "    latitude   longitude  bright_ti4  bright_ti5   frp            datetime\n",
       "0  11.128095  103.598412      340.71      300.81  4.28 2016-01-01 06:00:00\n",
       "1  11.331814  105.105881      342.53      298.30  6.83 2016-01-01 06:00:00\n",
       "2  10.649994  103.775459      332.40      299.12  4.63 2016-01-01 06:00:00"
      ],
      "text/html": "<div>\n<style scoped>\n    .dataframe tbody tr th:only-of-type {\n        vertical-align: middle;\n    }\n\n    .dataframe tbody tr th {\n        vertical-align: top;\n    }\n\n    .dataframe thead th {\n        text-align: right;\n    }\n</style>\n<table border=\"1\" class=\"dataframe\">\n  <thead>\n    <tr style=\"text-align: right;\">\n      <th></th>\n      <th>latitude</th>\n      <th>longitude</th>\n      <th>bright_ti4</th>\n      <th>bright_ti5</th>\n      <th>frp</th>\n      <th>datetime</th>\n    </tr>\n  </thead>\n  <tbody>\n    <tr>\n      <th>0</th>\n      <td>11.128095</td>\n      <td>103.598412</td>\n      <td>340.71</td>\n      <td>300.81</td>\n      <td>4.28</td>\n      <td>2016-01-01 06:00:00</td>\n    </tr>\n    <tr>\n      <th>1</th>\n      <td>11.331814</td>\n      <td>105.105881</td>\n      <td>342.53</td>\n      <td>298.30</td>\n      <td>6.83</td>\n      <td>2016-01-01 06:00:00</td>\n    </tr>\n    <tr>\n      <th>2</th>\n      <td>10.649994</td>\n      <td>103.775459</td>\n      <td>332.40</td>\n      <td>299.12</td>\n      <td>4.63</td>\n      <td>2016-01-01 06:00:00</td>\n    </tr>\n  </tbody>\n</table>\n</div>"
     },
     "metadata": {},
     "execution_count": 3
    }
   ],
   "source": [
    "filtered = example_fire[['latitude','longitude','bright_ti4','bright_ti5','frp','datetime']]\n",
    "filtered.head(3)"
   ]
  },
  {
   "cell_type": "code",
   "execution_count": 4,
   "metadata": {},
   "outputs": [
    {
     "output_type": "execute_result",
     "data": {
      "text/plain": [
       "                      latitude   longitude  bright_ti4  bright_ti5       frp\n",
       "datetime                                                                    \n",
       "2016-01-01 06:00:00  13.123613  105.508592  342.235212  299.471295  7.933461\n",
       "2016-01-01 17:00:00  12.971076  106.365074  307.710966  289.430966  1.661250\n",
       "2016-01-01 19:00:00  13.303865  105.259085  305.723942  288.617404  1.588750"
      ],
      "text/html": "<div>\n<style scoped>\n    .dataframe tbody tr th:only-of-type {\n        vertical-align: middle;\n    }\n\n    .dataframe tbody tr th {\n        vertical-align: top;\n    }\n\n    .dataframe thead th {\n        text-align: right;\n    }\n</style>\n<table border=\"1\" class=\"dataframe\">\n  <thead>\n    <tr style=\"text-align: right;\">\n      <th></th>\n      <th>latitude</th>\n      <th>longitude</th>\n      <th>bright_ti4</th>\n      <th>bright_ti5</th>\n      <th>frp</th>\n    </tr>\n    <tr>\n      <th>datetime</th>\n      <th></th>\n      <th></th>\n      <th></th>\n      <th></th>\n      <th></th>\n    </tr>\n  </thead>\n  <tbody>\n    <tr>\n      <th>2016-01-01 06:00:00</th>\n      <td>13.123613</td>\n      <td>105.508592</td>\n      <td>342.235212</td>\n      <td>299.471295</td>\n      <td>7.933461</td>\n    </tr>\n    <tr>\n      <th>2016-01-01 17:00:00</th>\n      <td>12.971076</td>\n      <td>106.365074</td>\n      <td>307.710966</td>\n      <td>289.430966</td>\n      <td>1.661250</td>\n    </tr>\n    <tr>\n      <th>2016-01-01 19:00:00</th>\n      <td>13.303865</td>\n      <td>105.259085</td>\n      <td>305.723942</td>\n      <td>288.617404</td>\n      <td>1.588750</td>\n    </tr>\n  </tbody>\n</table>\n</div>"
     },
     "metadata": {},
     "execution_count": 4
    }
   ],
   "source": [
    "fire_Cambodia_2016 = filtered.groupby('datetime').mean()\n",
    "fire_Cambodia_2016.head(3)"
   ]
  },
  {
   "cell_type": "code",
   "execution_count": 9,
   "metadata": {},
   "outputs": [],
   "source": [
    "years = ['2016','2017','2018','2019']\n",
    "countries = ['Cambodia','Myanmar','Thailand','Lao_PDR']\n",
    "\n",
    "fire = {'2016':{}, '2017':{}, '2018':{}, '2019':{}}"
   ]
  },
  {
   "cell_type": "code",
   "execution_count": 13,
   "metadata": {},
   "outputs": [],
   "source": [
    "for year in years:\n",
    "    for country in countries:\n",
    "        df = pd.read_csv(f'./Fire hotspot/viirs-snpp_{year}_{country}.csv')\n",
    "        df['hour'] = df['acq_time'].apply(str).str[:-2]\n",
    "        \n",
    "        df['datetime'] = pd.to_datetime(df['acq_date']+'T'+df['hour'].str.zfill(2), \n",
    "                            format='%Y-%m-%dT%H')   \n",
    "        fire[year][country] = df[['latitude','longitude','bright_ti4','bright_ti5','frp','datetime']]"
   ]
  },
  {
   "cell_type": "code",
   "execution_count": 16,
   "metadata": {},
   "outputs": [
    {
     "output_type": "execute_result",
     "data": {
      "text/plain": [
       "                      latitude   longitude  bright_ti4  bright_ti5       frp\n",
       "datetime                                                                    \n",
       "2019-01-01 05:00:00  15.784060  105.414863  335.452405  297.472658  4.922785\n",
       "2019-01-01 18:00:00  17.045321  104.933214  302.311429  281.548571  0.575714\n",
       "2019-01-02 05:00:00  17.282650  104.869486  337.637419  293.852581  5.232903\n",
       "2019-01-02 07:00:00  18.924614  101.750069  337.266667  289.783333  6.006667\n",
       "2019-01-02 18:00:00  15.789707  105.181188  310.707333  281.984000  1.951333\n",
       "...                        ...         ...         ...         ...       ...\n",
       "2019-12-30 05:00:00  16.466402  105.250331  338.574000  300.210462  9.720154\n",
       "2019-12-30 18:00:00  16.778148  105.091142  306.907778  289.616667  0.863333\n",
       "2019-12-31 05:00:00  16.147016  105.136903  342.156786  292.761786  5.227143\n",
       "2019-12-31 07:00:00  18.442010  103.006179  333.388000  292.942000  6.133000\n",
       "2019-12-31 18:00:00  17.328523  104.606295  306.550000  287.696364  0.977273\n",
       "\n",
       "[675 rows x 5 columns]"
      ],
      "text/html": "<div>\n<style scoped>\n    .dataframe tbody tr th:only-of-type {\n        vertical-align: middle;\n    }\n\n    .dataframe tbody tr th {\n        vertical-align: top;\n    }\n\n    .dataframe thead th {\n        text-align: right;\n    }\n</style>\n<table border=\"1\" class=\"dataframe\">\n  <thead>\n    <tr style=\"text-align: right;\">\n      <th></th>\n      <th>latitude</th>\n      <th>longitude</th>\n      <th>bright_ti4</th>\n      <th>bright_ti5</th>\n      <th>frp</th>\n    </tr>\n    <tr>\n      <th>datetime</th>\n      <th></th>\n      <th></th>\n      <th></th>\n      <th></th>\n      <th></th>\n    </tr>\n  </thead>\n  <tbody>\n    <tr>\n      <th>2019-01-01 05:00:00</th>\n      <td>15.784060</td>\n      <td>105.414863</td>\n      <td>335.452405</td>\n      <td>297.472658</td>\n      <td>4.922785</td>\n    </tr>\n    <tr>\n      <th>2019-01-01 18:00:00</th>\n      <td>17.045321</td>\n      <td>104.933214</td>\n      <td>302.311429</td>\n      <td>281.548571</td>\n      <td>0.575714</td>\n    </tr>\n    <tr>\n      <th>2019-01-02 05:00:00</th>\n      <td>17.282650</td>\n      <td>104.869486</td>\n      <td>337.637419</td>\n      <td>293.852581</td>\n      <td>5.232903</td>\n    </tr>\n    <tr>\n      <th>2019-01-02 07:00:00</th>\n      <td>18.924614</td>\n      <td>101.750069</td>\n      <td>337.266667</td>\n      <td>289.783333</td>\n      <td>6.006667</td>\n    </tr>\n    <tr>\n      <th>2019-01-02 18:00:00</th>\n      <td>15.789707</td>\n      <td>105.181188</td>\n      <td>310.707333</td>\n      <td>281.984000</td>\n      <td>1.951333</td>\n    </tr>\n    <tr>\n      <th>...</th>\n      <td>...</td>\n      <td>...</td>\n      <td>...</td>\n      <td>...</td>\n      <td>...</td>\n    </tr>\n    <tr>\n      <th>2019-12-30 05:00:00</th>\n      <td>16.466402</td>\n      <td>105.250331</td>\n      <td>338.574000</td>\n      <td>300.210462</td>\n      <td>9.720154</td>\n    </tr>\n    <tr>\n      <th>2019-12-30 18:00:00</th>\n      <td>16.778148</td>\n      <td>105.091142</td>\n      <td>306.907778</td>\n      <td>289.616667</td>\n      <td>0.863333</td>\n    </tr>\n    <tr>\n      <th>2019-12-31 05:00:00</th>\n      <td>16.147016</td>\n      <td>105.136903</td>\n      <td>342.156786</td>\n      <td>292.761786</td>\n      <td>5.227143</td>\n    </tr>\n    <tr>\n      <th>2019-12-31 07:00:00</th>\n      <td>18.442010</td>\n      <td>103.006179</td>\n      <td>333.388000</td>\n      <td>292.942000</td>\n      <td>6.133000</td>\n    </tr>\n    <tr>\n      <th>2019-12-31 18:00:00</th>\n      <td>17.328523</td>\n      <td>104.606295</td>\n      <td>306.550000</td>\n      <td>287.696364</td>\n      <td>0.977273</td>\n    </tr>\n  </tbody>\n</table>\n<p>675 rows × 5 columns</p>\n</div>"
     },
     "metadata": {},
     "execution_count": 16
    }
   ],
   "source": [
    "fire[year][country].groupby('datetime').mean()"
   ]
  },
  {
   "cell_type": "code",
   "execution_count": null,
   "metadata": {},
   "outputs": [],
   "source": []
  }
 ]
}