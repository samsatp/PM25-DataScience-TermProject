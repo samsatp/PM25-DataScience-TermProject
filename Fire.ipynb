{
 "metadata": {
  "language_info": {
   "codemirror_mode": {
    "name": "ipython",
    "version": 3
   },
   "file_extension": ".py",
   "mimetype": "text/x-python",
   "name": "python",
   "nbconvert_exporter": "python",
   "pygments_lexer": "ipython3",
   "version": "3.8.3-final"
  },
  "orig_nbformat": 2,
  "kernelspec": {
   "name": "python383jvsc74a57bd0a9c2c22397b07014c1cd4f0e704763f14b6d6b76ade59c4da849259a43dd80ef",
   "display_name": "Python 3.8.3 32-bit"
  },
  "metadata": {
   "interpreter": {
    "hash": "a9c2c22397b07014c1cd4f0e704763f14b6d6b76ade59c4da849259a43dd80ef"
   }
  }
 },
 "nbformat": 4,
 "nbformat_minor": 2,
 "cells": [
  {
   "cell_type": "code",
   "execution_count": 1,
   "metadata": {},
   "outputs": [],
   "source": [
    "import pandas as pd\n",
    "import numpy as np\n",
    "import os"
   ]
  },
  {
   "source": [
    "## Playground"
   ],
   "cell_type": "markdown",
   "metadata": {}
  },
  {
   "cell_type": "code",
   "execution_count": 2,
   "metadata": {},
   "outputs": [],
   "source": [
    "example_fire = pd.read_csv('Fire hotspot/viirs-snpp_2016_Cambodia.csv')\n",
    "\n",
    "example_fire['hour'] = example_fire['acq_time'].apply(str).str[:-2]\n",
    "\n",
    "example_fire['datetime'] = pd.to_datetime(\n",
    "                                            example_fire['acq_date']+'T'+example_fire['hour'].str.zfill(2), \n",
    "                                            format='%Y-%m-%dT%H')"
   ]
  },
  {
   "cell_type": "code",
   "execution_count": 3,
   "metadata": {},
   "outputs": [
    {
     "output_type": "execute_result",
     "data": {
      "text/plain": [
       "    latitude   longitude  bright_ti4  bright_ti5   frp            datetime\n",
       "0  11.128095  103.598412      340.71      300.81  4.28 2016-01-01 06:00:00\n",
       "1  11.331814  105.105881      342.53      298.30  6.83 2016-01-01 06:00:00\n",
       "2  10.649994  103.775459      332.40      299.12  4.63 2016-01-01 06:00:00"
      ],
      "text/html": "<div>\n<style scoped>\n    .dataframe tbody tr th:only-of-type {\n        vertical-align: middle;\n    }\n\n    .dataframe tbody tr th {\n        vertical-align: top;\n    }\n\n    .dataframe thead th {\n        text-align: right;\n    }\n</style>\n<table border=\"1\" class=\"dataframe\">\n  <thead>\n    <tr style=\"text-align: right;\">\n      <th></th>\n      <th>latitude</th>\n      <th>longitude</th>\n      <th>bright_ti4</th>\n      <th>bright_ti5</th>\n      <th>frp</th>\n      <th>datetime</th>\n    </tr>\n  </thead>\n  <tbody>\n    <tr>\n      <th>0</th>\n      <td>11.128095</td>\n      <td>103.598412</td>\n      <td>340.71</td>\n      <td>300.81</td>\n      <td>4.28</td>\n      <td>2016-01-01 06:00:00</td>\n    </tr>\n    <tr>\n      <th>1</th>\n      <td>11.331814</td>\n      <td>105.105881</td>\n      <td>342.53</td>\n      <td>298.30</td>\n      <td>6.83</td>\n      <td>2016-01-01 06:00:00</td>\n    </tr>\n    <tr>\n      <th>2</th>\n      <td>10.649994</td>\n      <td>103.775459</td>\n      <td>332.40</td>\n      <td>299.12</td>\n      <td>4.63</td>\n      <td>2016-01-01 06:00:00</td>\n    </tr>\n  </tbody>\n</table>\n</div>"
     },
     "metadata": {},
     "execution_count": 3
    }
   ],
   "source": [
    "filtered = example_fire[['latitude','longitude','bright_ti4','bright_ti5','frp','datetime']]\n",
    "filtered.head(3)"
   ]
  },
  {
   "cell_type": "code",
   "execution_count": 4,
   "metadata": {},
   "outputs": [
    {
     "output_type": "execute_result",
     "data": {
      "text/plain": [
       "                      latitude   longitude  bright_ti4  bright_ti5       frp\n",
       "datetime                                                                    \n",
       "2016-01-01 06:00:00  13.123613  105.508592  342.235212  299.471295  7.933461\n",
       "2016-01-01 17:00:00  12.971076  106.365074  307.710966  289.430966  1.661250\n",
       "2016-01-01 19:00:00  13.303865  105.259085  305.723942  288.617404  1.588750"
      ],
      "text/html": "<div>\n<style scoped>\n    .dataframe tbody tr th:only-of-type {\n        vertical-align: middle;\n    }\n\n    .dataframe tbody tr th {\n        vertical-align: top;\n    }\n\n    .dataframe thead th {\n        text-align: right;\n    }\n</style>\n<table border=\"1\" class=\"dataframe\">\n  <thead>\n    <tr style=\"text-align: right;\">\n      <th></th>\n      <th>latitude</th>\n      <th>longitude</th>\n      <th>bright_ti4</th>\n      <th>bright_ti5</th>\n      <th>frp</th>\n    </tr>\n    <tr>\n      <th>datetime</th>\n      <th></th>\n      <th></th>\n      <th></th>\n      <th></th>\n      <th></th>\n    </tr>\n  </thead>\n  <tbody>\n    <tr>\n      <th>2016-01-01 06:00:00</th>\n      <td>13.123613</td>\n      <td>105.508592</td>\n      <td>342.235212</td>\n      <td>299.471295</td>\n      <td>7.933461</td>\n    </tr>\n    <tr>\n      <th>2016-01-01 17:00:00</th>\n      <td>12.971076</td>\n      <td>106.365074</td>\n      <td>307.710966</td>\n      <td>289.430966</td>\n      <td>1.661250</td>\n    </tr>\n    <tr>\n      <th>2016-01-01 19:00:00</th>\n      <td>13.303865</td>\n      <td>105.259085</td>\n      <td>305.723942</td>\n      <td>288.617404</td>\n      <td>1.588750</td>\n    </tr>\n  </tbody>\n</table>\n</div>"
     },
     "metadata": {},
     "execution_count": 4
    }
   ],
   "source": [
    "fire_Cambodia_2016 = filtered.groupby('datetime').mean()\n",
    "fire_Cambodia_2016.head(3)"
   ]
  },
  {
   "cell_type": "code",
   "execution_count": 17,
   "metadata": {},
   "outputs": [],
   "source": [
    "bkk = pd.read_csv('./data/Train/Bangkok_imputed.csv', index_col=0, parse_dates=True)"
   ]
  },
  {
   "cell_type": "code",
   "execution_count": 19,
   "metadata": {},
   "outputs": [
    {
     "output_type": "execute_result",
     "data": {
      "text/plain": [
       "                     PM2.5  Temp(C)  WindDir  Wind Speed(km/h)   latitude  \\\n",
       "2016-03-03 08:00:00   62.9     26.4     65.0              15.0  13.120443   \n",
       "2016-03-03 09:00:00   62.9     26.4     65.0              15.0  13.120443   \n",
       "2016-03-03 10:00:00   55.5     31.4     75.0              13.0  13.120443   \n",
       "2016-03-03 11:00:00   55.5     31.4     75.0              13.0  13.120443   \n",
       "2016-03-03 12:00:00   47.9     31.4     75.0              13.0  13.120443   \n",
       "...                    ...      ...      ...               ...        ...   \n",
       "2019-03-17 19:00:00   42.2     31.3     70.0              17.0        NaN   \n",
       "2019-03-17 20:00:00   41.2     31.3     70.0              17.0        NaN   \n",
       "2019-03-17 21:00:00   37.7     31.3     70.0              17.0        NaN   \n",
       "2019-03-17 22:00:00   39.0     30.2     85.0              19.0        NaN   \n",
       "2019-03-17 23:00:00   38.9     30.2     85.0              19.0        NaN   \n",
       "\n",
       "                      longitude  bright_ti4  bright_ti5       frp  \n",
       "2016-03-03 08:00:00  105.059428  342.179605  302.474164  8.984035  \n",
       "2016-03-03 09:00:00  105.059428  342.179605  302.474164  8.984035  \n",
       "2016-03-03 10:00:00  105.059428  342.179605  302.474164  8.984035  \n",
       "2016-03-03 11:00:00  105.059428  342.179605  302.474164  8.984035  \n",
       "2016-03-03 12:00:00  105.059428  342.179605  302.474164  8.984035  \n",
       "...                         ...         ...         ...       ...  \n",
       "2019-03-17 19:00:00         NaN         NaN         NaN       NaN  \n",
       "2019-03-17 20:00:00         NaN         NaN         NaN       NaN  \n",
       "2019-03-17 21:00:00         NaN         NaN         NaN       NaN  \n",
       "2019-03-17 22:00:00         NaN         NaN         NaN       NaN  \n",
       "2019-03-17 23:00:00         NaN         NaN         NaN       NaN  \n",
       "\n",
       "[26632 rows x 9 columns]"
      ],
      "text/html": "<div>\n<style scoped>\n    .dataframe tbody tr th:only-of-type {\n        vertical-align: middle;\n    }\n\n    .dataframe tbody tr th {\n        vertical-align: top;\n    }\n\n    .dataframe thead th {\n        text-align: right;\n    }\n</style>\n<table border=\"1\" class=\"dataframe\">\n  <thead>\n    <tr style=\"text-align: right;\">\n      <th></th>\n      <th>PM2.5</th>\n      <th>Temp(C)</th>\n      <th>WindDir</th>\n      <th>Wind Speed(km/h)</th>\n      <th>latitude</th>\n      <th>longitude</th>\n      <th>bright_ti4</th>\n      <th>bright_ti5</th>\n      <th>frp</th>\n    </tr>\n  </thead>\n  <tbody>\n    <tr>\n      <th>2016-03-03 08:00:00</th>\n      <td>62.9</td>\n      <td>26.4</td>\n      <td>65.0</td>\n      <td>15.0</td>\n      <td>13.120443</td>\n      <td>105.059428</td>\n      <td>342.179605</td>\n      <td>302.474164</td>\n      <td>8.984035</td>\n    </tr>\n    <tr>\n      <th>2016-03-03 09:00:00</th>\n      <td>62.9</td>\n      <td>26.4</td>\n      <td>65.0</td>\n      <td>15.0</td>\n      <td>13.120443</td>\n      <td>105.059428</td>\n      <td>342.179605</td>\n      <td>302.474164</td>\n      <td>8.984035</td>\n    </tr>\n    <tr>\n      <th>2016-03-03 10:00:00</th>\n      <td>55.5</td>\n      <td>31.4</td>\n      <td>75.0</td>\n      <td>13.0</td>\n      <td>13.120443</td>\n      <td>105.059428</td>\n      <td>342.179605</td>\n      <td>302.474164</td>\n      <td>8.984035</td>\n    </tr>\n    <tr>\n      <th>2016-03-03 11:00:00</th>\n      <td>55.5</td>\n      <td>31.4</td>\n      <td>75.0</td>\n      <td>13.0</td>\n      <td>13.120443</td>\n      <td>105.059428</td>\n      <td>342.179605</td>\n      <td>302.474164</td>\n      <td>8.984035</td>\n    </tr>\n    <tr>\n      <th>2016-03-03 12:00:00</th>\n      <td>47.9</td>\n      <td>31.4</td>\n      <td>75.0</td>\n      <td>13.0</td>\n      <td>13.120443</td>\n      <td>105.059428</td>\n      <td>342.179605</td>\n      <td>302.474164</td>\n      <td>8.984035</td>\n    </tr>\n    <tr>\n      <th>...</th>\n      <td>...</td>\n      <td>...</td>\n      <td>...</td>\n      <td>...</td>\n      <td>...</td>\n      <td>...</td>\n      <td>...</td>\n      <td>...</td>\n      <td>...</td>\n    </tr>\n    <tr>\n      <th>2019-03-17 19:00:00</th>\n      <td>42.2</td>\n      <td>31.3</td>\n      <td>70.0</td>\n      <td>17.0</td>\n      <td>NaN</td>\n      <td>NaN</td>\n      <td>NaN</td>\n      <td>NaN</td>\n      <td>NaN</td>\n    </tr>\n    <tr>\n      <th>2019-03-17 20:00:00</th>\n      <td>41.2</td>\n      <td>31.3</td>\n      <td>70.0</td>\n      <td>17.0</td>\n      <td>NaN</td>\n      <td>NaN</td>\n      <td>NaN</td>\n      <td>NaN</td>\n      <td>NaN</td>\n    </tr>\n    <tr>\n      <th>2019-03-17 21:00:00</th>\n      <td>37.7</td>\n      <td>31.3</td>\n      <td>70.0</td>\n      <td>17.0</td>\n      <td>NaN</td>\n      <td>NaN</td>\n      <td>NaN</td>\n      <td>NaN</td>\n      <td>NaN</td>\n    </tr>\n    <tr>\n      <th>2019-03-17 22:00:00</th>\n      <td>39.0</td>\n      <td>30.2</td>\n      <td>85.0</td>\n      <td>19.0</td>\n      <td>NaN</td>\n      <td>NaN</td>\n      <td>NaN</td>\n      <td>NaN</td>\n      <td>NaN</td>\n    </tr>\n    <tr>\n      <th>2019-03-17 23:00:00</th>\n      <td>38.9</td>\n      <td>30.2</td>\n      <td>85.0</td>\n      <td>19.0</td>\n      <td>NaN</td>\n      <td>NaN</td>\n      <td>NaN</td>\n      <td>NaN</td>\n      <td>NaN</td>\n    </tr>\n  </tbody>\n</table>\n<p>26632 rows × 9 columns</p>\n</div>"
     },
     "metadata": {},
     "execution_count": 19
    }
   ],
   "source": [
    "bkk.merge(fire_Cambodia_2016.resample('H').ffill(), left_index=True, right_index=True, how='left')"
   ]
  },
  {
   "source": [
    "---\n",
    "# Extract Fire data"
   ],
   "cell_type": "markdown",
   "metadata": {}
  },
  {
   "cell_type": "code",
   "execution_count": 68,
   "metadata": {},
   "outputs": [],
   "source": [
    "years = ['2016','2017','2018','2019']\n",
    "countries = ['Cambodia','Myanmar','Thailand','Lao_PDR']\n",
    "\n",
    "fire = {'2016':{}, '2017':{}, '2018':{}, '2019':{}}"
   ]
  },
  {
   "cell_type": "code",
   "execution_count": 69,
   "metadata": {},
   "outputs": [],
   "source": [
    "for year in years:\n",
    "    for country in countries:\n",
    "        df = pd.read_csv(f'./Fire hotspot/viirs-snpp_{year}_{country}.csv')\n",
    "        df['hour'] = df['acq_time'].apply(str).str[:-2]\n",
    "        \n",
    "        df['datetime'] = pd.to_datetime(df['acq_date']+'T'+df['hour'].str.zfill(2), \n",
    "                            format='%Y-%m-%dT%H')   \n",
    "        # เอาแค่ col ที่สนใจของตาราง fire spot\n",
    "        # Assume : frp represent brightness\n",
    "        fire[year][country] = df[['frp','datetime']].rename(columns={'frp':country+'_frp'})"
   ]
  },
  {
   "cell_type": "code",
   "execution_count": 70,
   "metadata": {},
   "outputs": [],
   "source": [
    "#2016-03-03 08:00:00\n",
    "#2019-03-17 23:00:00\n",
    "data = {}\n",
    "for year in years:\n",
    "    left = pd.DataFrame(index=pd.date_range(\n",
    "                    start='2016-01-01 01:00:00', \n",
    "                    end='2019-03-17 23:00:00', freq='H'))\n",
    "    for country in countries:\n",
    "        fire_groupby = fire[year][country].groupby('datetime').mean()\n",
    "        left = left.merge(fire_groupby.resample('H').ffill(), left_index=True, right_index=True, how='left')\n",
    "    \n",
    "    data[year] = left.dropna(how='all')"
   ]
  },
  {
   "cell_type": "code",
   "execution_count": 78,
   "metadata": {},
   "outputs": [
    {
     "output_type": "execute_result",
     "data": {
      "text/plain": [
       "(8773, 4)"
      ]
     },
     "metadata": {},
     "execution_count": 78
    }
   ],
   "source": [
    "data['2016'].shape"
   ]
  },
  {
   "cell_type": "code",
   "execution_count": 76,
   "metadata": {},
   "outputs": [],
   "source": [
    "fire_all = pd.concat(data)\n",
    "fire_all.index = fire_all.index.levels[1]"
   ]
  },
  {
   "cell_type": "code",
   "execution_count": 79,
   "metadata": {},
   "outputs": [],
   "source": [
    "provinces = ['Bangkok','Chanthaburi','Chiang Mai','Kanchanaburi','Khon Kaen','Songkhla']\n",
    "mega = {}\n",
    "\n",
    "for province in provinces:\n",
    "    if province == 'Khon Kaen' : continue\n",
    "    df = pd.read_csv(f\"./data/Train/{province}_imputed.csv\", parse_dates=True, index_col=0)\n",
    "    mega[province] = df.merge(fire_all, left_index=True, right_index=True, how='left')"
   ]
  },
  {
   "cell_type": "code",
   "execution_count": 82,
   "metadata": {},
   "outputs": [
    {
     "output_type": "execute_result",
     "data": {
      "text/plain": [
       "                     PM2.5  Temp(C)  WindDir  Wind Speed(km/h)  Cambodia_frp  \\\n",
       "2016-03-03 08:00:00  62.90     26.4     65.0              15.0      8.984035   \n",
       "2016-03-03 09:00:00  62.90     26.4     65.0              15.0      8.984035   \n",
       "2016-03-03 10:00:00  55.50     31.4     75.0              13.0      8.984035   \n",
       "2016-03-03 11:00:00  55.50     31.4     75.0              13.0      8.984035   \n",
       "2016-03-03 12:00:00  47.90     31.4     75.0              13.0      8.984035   \n",
       "2016-03-03 13:00:00  43.60     34.1     70.0              12.0      8.984035   \n",
       "2016-03-03 14:00:00  28.60     34.1     70.0              12.0      8.984035   \n",
       "2016-03-03 15:00:00  33.60     34.1     70.0              12.0      8.984035   \n",
       "2016-03-03 16:00:00  34.80     34.6     60.0              12.0      8.984035   \n",
       "2016-03-03 17:00:00  31.30     34.6     60.0              12.0      8.984035   \n",
       "2016-03-03 18:00:00  45.12     34.6     60.0              12.0      1.574234   \n",
       "2016-03-03 19:00:00  42.10     29.1     70.0              11.0      1.574234   \n",
       "2016-03-03 20:00:00  38.60     29.1     70.0              11.0      1.574234   \n",
       "2016-03-03 21:00:00  45.50     29.1     70.0              11.0      1.574234   \n",
       "2016-03-03 22:00:00  49.90     27.3     70.0              15.0      1.574234   \n",
       "2016-03-03 23:00:00  44.10     27.3     70.0              15.0      1.574234   \n",
       "\n",
       "                     Myanmar_frp  Thailand_frp  Lao_PDR_frp  \n",
       "2016-03-03 08:00:00     8.099819      9.423972     7.991304  \n",
       "2016-03-03 09:00:00     8.099819      9.423972     7.991304  \n",
       "2016-03-03 10:00:00     8.099819      9.423972     7.991304  \n",
       "2016-03-03 11:00:00     8.099819      9.423972     7.991304  \n",
       "2016-03-03 12:00:00     8.099819      9.423972     7.991304  \n",
       "2016-03-03 13:00:00     8.099819      9.423972     7.991304  \n",
       "2016-03-03 14:00:00     8.099819      9.423972     7.991304  \n",
       "2016-03-03 15:00:00     8.099819      9.423972     7.991304  \n",
       "2016-03-03 16:00:00     8.099819      9.423972     7.991304  \n",
       "2016-03-03 17:00:00     8.099819      9.423972     7.991304  \n",
       "2016-03-03 18:00:00     1.505772      1.435772     1.274845  \n",
       "2016-03-03 19:00:00     1.238528      4.120000     1.274845  \n",
       "2016-03-03 20:00:00     1.238528      4.120000     1.274845  \n",
       "2016-03-03 21:00:00     1.238528      4.120000     1.274845  \n",
       "2016-03-03 22:00:00     1.238528      4.120000     1.274845  \n",
       "2016-03-03 23:00:00     1.238528      4.120000     1.274845  "
      ],
      "text/html": "<div>\n<style scoped>\n    .dataframe tbody tr th:only-of-type {\n        vertical-align: middle;\n    }\n\n    .dataframe tbody tr th {\n        vertical-align: top;\n    }\n\n    .dataframe thead th {\n        text-align: right;\n    }\n</style>\n<table border=\"1\" class=\"dataframe\">\n  <thead>\n    <tr style=\"text-align: right;\">\n      <th></th>\n      <th>PM2.5</th>\n      <th>Temp(C)</th>\n      <th>WindDir</th>\n      <th>Wind Speed(km/h)</th>\n      <th>Cambodia_frp</th>\n      <th>Myanmar_frp</th>\n      <th>Thailand_frp</th>\n      <th>Lao_PDR_frp</th>\n    </tr>\n  </thead>\n  <tbody>\n    <tr>\n      <th>2016-03-03 08:00:00</th>\n      <td>62.90</td>\n      <td>26.4</td>\n      <td>65.0</td>\n      <td>15.0</td>\n      <td>8.984035</td>\n      <td>8.099819</td>\n      <td>9.423972</td>\n      <td>7.991304</td>\n    </tr>\n    <tr>\n      <th>2016-03-03 09:00:00</th>\n      <td>62.90</td>\n      <td>26.4</td>\n      <td>65.0</td>\n      <td>15.0</td>\n      <td>8.984035</td>\n      <td>8.099819</td>\n      <td>9.423972</td>\n      <td>7.991304</td>\n    </tr>\n    <tr>\n      <th>2016-03-03 10:00:00</th>\n      <td>55.50</td>\n      <td>31.4</td>\n      <td>75.0</td>\n      <td>13.0</td>\n      <td>8.984035</td>\n      <td>8.099819</td>\n      <td>9.423972</td>\n      <td>7.991304</td>\n    </tr>\n    <tr>\n      <th>2016-03-03 11:00:00</th>\n      <td>55.50</td>\n      <td>31.4</td>\n      <td>75.0</td>\n      <td>13.0</td>\n      <td>8.984035</td>\n      <td>8.099819</td>\n      <td>9.423972</td>\n      <td>7.991304</td>\n    </tr>\n    <tr>\n      <th>2016-03-03 12:00:00</th>\n      <td>47.90</td>\n      <td>31.4</td>\n      <td>75.0</td>\n      <td>13.0</td>\n      <td>8.984035</td>\n      <td>8.099819</td>\n      <td>9.423972</td>\n      <td>7.991304</td>\n    </tr>\n    <tr>\n      <th>2016-03-03 13:00:00</th>\n      <td>43.60</td>\n      <td>34.1</td>\n      <td>70.0</td>\n      <td>12.0</td>\n      <td>8.984035</td>\n      <td>8.099819</td>\n      <td>9.423972</td>\n      <td>7.991304</td>\n    </tr>\n    <tr>\n      <th>2016-03-03 14:00:00</th>\n      <td>28.60</td>\n      <td>34.1</td>\n      <td>70.0</td>\n      <td>12.0</td>\n      <td>8.984035</td>\n      <td>8.099819</td>\n      <td>9.423972</td>\n      <td>7.991304</td>\n    </tr>\n    <tr>\n      <th>2016-03-03 15:00:00</th>\n      <td>33.60</td>\n      <td>34.1</td>\n      <td>70.0</td>\n      <td>12.0</td>\n      <td>8.984035</td>\n      <td>8.099819</td>\n      <td>9.423972</td>\n      <td>7.991304</td>\n    </tr>\n    <tr>\n      <th>2016-03-03 16:00:00</th>\n      <td>34.80</td>\n      <td>34.6</td>\n      <td>60.0</td>\n      <td>12.0</td>\n      <td>8.984035</td>\n      <td>8.099819</td>\n      <td>9.423972</td>\n      <td>7.991304</td>\n    </tr>\n    <tr>\n      <th>2016-03-03 17:00:00</th>\n      <td>31.30</td>\n      <td>34.6</td>\n      <td>60.0</td>\n      <td>12.0</td>\n      <td>8.984035</td>\n      <td>8.099819</td>\n      <td>9.423972</td>\n      <td>7.991304</td>\n    </tr>\n    <tr>\n      <th>2016-03-03 18:00:00</th>\n      <td>45.12</td>\n      <td>34.6</td>\n      <td>60.0</td>\n      <td>12.0</td>\n      <td>1.574234</td>\n      <td>1.505772</td>\n      <td>1.435772</td>\n      <td>1.274845</td>\n    </tr>\n    <tr>\n      <th>2016-03-03 19:00:00</th>\n      <td>42.10</td>\n      <td>29.1</td>\n      <td>70.0</td>\n      <td>11.0</td>\n      <td>1.574234</td>\n      <td>1.238528</td>\n      <td>4.120000</td>\n      <td>1.274845</td>\n    </tr>\n    <tr>\n      <th>2016-03-03 20:00:00</th>\n      <td>38.60</td>\n      <td>29.1</td>\n      <td>70.0</td>\n      <td>11.0</td>\n      <td>1.574234</td>\n      <td>1.238528</td>\n      <td>4.120000</td>\n      <td>1.274845</td>\n    </tr>\n    <tr>\n      <th>2016-03-03 21:00:00</th>\n      <td>45.50</td>\n      <td>29.1</td>\n      <td>70.0</td>\n      <td>11.0</td>\n      <td>1.574234</td>\n      <td>1.238528</td>\n      <td>4.120000</td>\n      <td>1.274845</td>\n    </tr>\n    <tr>\n      <th>2016-03-03 22:00:00</th>\n      <td>49.90</td>\n      <td>27.3</td>\n      <td>70.0</td>\n      <td>15.0</td>\n      <td>1.574234</td>\n      <td>1.238528</td>\n      <td>4.120000</td>\n      <td>1.274845</td>\n    </tr>\n    <tr>\n      <th>2016-03-03 23:00:00</th>\n      <td>44.10</td>\n      <td>27.3</td>\n      <td>70.0</td>\n      <td>15.0</td>\n      <td>1.574234</td>\n      <td>1.238528</td>\n      <td>4.120000</td>\n      <td>1.274845</td>\n    </tr>\n  </tbody>\n</table>\n</div>"
     },
     "metadata": {},
     "execution_count": 82
    }
   ],
   "source": [
    "mega['Bangkok'].loc['2016-3-3']"
   ]
  },
  {
   "source": [
    "## Save extracted data"
   ],
   "cell_type": "markdown",
   "metadata": {}
  },
  {
   "cell_type": "code",
   "execution_count": 85,
   "metadata": {},
   "outputs": [
    {
     "output_type": "stream",
     "name": "stdout",
     "text": [
      "Bangkok already\nChanthaburi already\nChiang Mai already\nKanchanaburi already\n"
     ]
    }
   ],
   "source": [
    "for province in provinces:\n",
    "    if province == 'Khon Kaen' : continue\n",
    "    path = f'./data/Train/fire_integrated/{province}_fire_integrated.csv'\n",
    "    if not os.path.exists(path):\n",
    "        mega[province].to_csv(path)\n",
    "    else:\n",
    "        print(f\"{province} already\")"
   ]
  },
  {
   "source": [
    "# Impute nulls"
   ],
   "cell_type": "markdown",
   "metadata": {}
  },
  {
   "cell_type": "code",
   "execution_count": null,
   "metadata": {},
   "outputs": [],
   "source": []
  }
 ]
}