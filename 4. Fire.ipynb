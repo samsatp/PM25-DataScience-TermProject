{
 "metadata": {
  "language_info": {
   "codemirror_mode": {
    "name": "ipython",
    "version": 3
   },
   "file_extension": ".py",
   "mimetype": "text/x-python",
   "name": "python",
   "nbconvert_exporter": "python",
   "pygments_lexer": "ipython3",
   "version": "3.8.3"
  },
  "orig_nbformat": 2,
  "kernelspec": {
   "name": "python383jvsc74a57bd0a9c2c22397b07014c1cd4f0e704763f14b6d6b76ade59c4da849259a43dd80ef",
   "display_name": "Python 3.8.3 32-bit"
  },
  "metadata": {
   "interpreter": {
    "hash": "a9c2c22397b07014c1cd4f0e704763f14b6d6b76ade59c4da849259a43dd80ef"
   }
  }
 },
 "nbformat": 4,
 "nbformat_minor": 2,
 "cells": [
  {
   "cell_type": "code",
   "execution_count": 1,
   "metadata": {},
   "outputs": [],
   "source": [
    "import pandas as pd\n",
    "import numpy as np\n",
    "import os\n",
    "from datetime import timedelta"
   ]
  },
  {
   "source": [
    "# Extract Fire data\n",
    "There are 2 types of fire data\n",
    "- Country labeled dataset\n",
    "- Unlabeled dataset\n",
    "\n",
    "This first part will deal with labeled one."
   ],
   "cell_type": "markdown",
   "metadata": {}
  },
  {
   "cell_type": "code",
   "execution_count": 2,
   "metadata": {},
   "outputs": [],
   "source": [
    "years = ['2016','2017','2018','2019']\n",
    "countries = ['Cambodia','Myanmar','Thailand','Lao_PDR']\n",
    "\n",
    "fire = {'2016':{}, '2017':{}, '2018':{}, '2019':{}}"
   ]
  },
  {
   "source": [
    "Load all the data (all years, all countries) and transform them."
   ],
   "cell_type": "markdown",
   "metadata": {}
  },
  {
   "cell_type": "code",
   "execution_count": 3,
   "metadata": {},
   "outputs": [],
   "source": [
    "data = {}\n",
    "\n",
    "for year in years:\n",
    "    # Create full timeline\n",
    "    timeline = pd.date_range(start=f'{year}-01-01', end=f'{year}-12-31 23:00:00', freq='H')\n",
    "    left = pd.DataFrame(index=timeline)\n",
    "    for country in countries:\n",
    "\n",
    "        # Import data & manually parse dates\n",
    "        df = pd.read_csv(f'./Fire hotspot/viirs-snpp_{year}_{country}.csv')\n",
    "        df['hour'] = df['acq_time'].apply(str).str[:-2]\n",
    "        df['datetime'] = pd.to_datetime(df['acq_date']+'T'+df['hour'].str.zfill(2), \n",
    "                            format='%Y-%m-%dT%H')   \n",
    "\n",
    "        # Assume : frp represent brightness\n",
    "        df = df[['latitude','longitude','frp','datetime']]\n",
    "        df.rename(columns={'frp':country+'_frp'}, inplace=True)\n",
    "        df.rename(columns={'latitude':country+'_lat'}, inplace=True)\n",
    "        df.rename(columns={'longitude':country+'_long'}, inplace=True)\n",
    "\n",
    "        # Assume : ไม่มีค่าไฟใน record = ไม่มีไฟ -> frp = 0\n",
    "        df = df.groupby('datetime').mean()\n",
    "        df = df.resample('H').mean().fillna(value=0.0)\n",
    "        left = left.merge(df, how='left', left_index=True, right_index=True)\n",
    "    data[year] = left.fillna(value=0.0)"
   ]
  },
  {
   "source": [
    "Assemble them as the <u><strong>fire data for 2016 - 2019</strong></u>. And record the max, min of latitude, longitude of each country for further use."
   ],
   "cell_type": "markdown",
   "metadata": {}
  },
  {
   "cell_type": "code",
   "execution_count": 21,
   "metadata": {},
   "outputs": [],
   "source": [
    "# 2016-2019 fire data\n",
    "fire_all = pd.concat(data)\n",
    "fire_all.index = fire_all.index.levels[1]\n",
    "\n",
    "# Find max, min of latitude, longitude of each country\n",
    "records = {}\n",
    "will_drop = []\n",
    "for c in countries:\n",
    "    temporary = fire_all[[c+'_lat', c+'_long']].replace(0.0, np.nan)\n",
    "    records[c] = {'lat':\n",
    "                    {'min':temporary[c+'_lat'].min(),\n",
    "                     'max':temporary[c+'_lat'].max()},\n",
    "                  'long':\n",
    "                    {'min':temporary[c+'_long'].min(),\n",
    "                     'max':temporary[c+'_long'].max()}\n",
    "                  }\n",
    "    will_drop += [c+'_lat', c+'_long']\n",
    "\n",
    "# Drop unused columns\n",
    "fire_all.drop(will_drop, inplace=True, axis=1)"
   ]
  },
  {
   "cell_type": "code",
   "execution_count": 22,
   "metadata": {},
   "outputs": [
    {
     "output_type": "execute_result",
     "data": {
      "text/plain": [
       "                     Cambodia_frp  Myanmar_frp  Thailand_frp  Lao_PDR_frp\n",
       "2016-01-01 00:00:00           0.0        0.000      0.000000          0.0\n",
       "2016-01-01 01:00:00           0.0        0.000      0.000000          0.0\n",
       "2016-01-01 02:00:00           0.0        0.000      0.000000          0.0\n",
       "2016-01-01 03:00:00           0.0        0.000      0.000000          0.0\n",
       "2016-01-01 04:00:00           0.0        0.000      0.000000          0.0\n",
       "...                           ...          ...           ...          ...\n",
       "2019-12-31 19:00:00           0.0        0.612      1.628704          0.0\n",
       "2019-12-31 20:00:00           0.0        0.000      0.000000          0.0\n",
       "2019-12-31 21:00:00           0.0        0.000      0.000000          0.0\n",
       "2019-12-31 22:00:00           0.0        0.000      0.000000          0.0\n",
       "2019-12-31 23:00:00           0.0        0.000      0.000000          0.0\n",
       "\n",
       "[35064 rows x 4 columns]"
      ],
      "text/html": "<div>\n<style scoped>\n    .dataframe tbody tr th:only-of-type {\n        vertical-align: middle;\n    }\n\n    .dataframe tbody tr th {\n        vertical-align: top;\n    }\n\n    .dataframe thead th {\n        text-align: right;\n    }\n</style>\n<table border=\"1\" class=\"dataframe\">\n  <thead>\n    <tr style=\"text-align: right;\">\n      <th></th>\n      <th>Cambodia_frp</th>\n      <th>Myanmar_frp</th>\n      <th>Thailand_frp</th>\n      <th>Lao_PDR_frp</th>\n    </tr>\n  </thead>\n  <tbody>\n    <tr>\n      <th>2016-01-01 00:00:00</th>\n      <td>0.0</td>\n      <td>0.000</td>\n      <td>0.000000</td>\n      <td>0.0</td>\n    </tr>\n    <tr>\n      <th>2016-01-01 01:00:00</th>\n      <td>0.0</td>\n      <td>0.000</td>\n      <td>0.000000</td>\n      <td>0.0</td>\n    </tr>\n    <tr>\n      <th>2016-01-01 02:00:00</th>\n      <td>0.0</td>\n      <td>0.000</td>\n      <td>0.000000</td>\n      <td>0.0</td>\n    </tr>\n    <tr>\n      <th>2016-01-01 03:00:00</th>\n      <td>0.0</td>\n      <td>0.000</td>\n      <td>0.000000</td>\n      <td>0.0</td>\n    </tr>\n    <tr>\n      <th>2016-01-01 04:00:00</th>\n      <td>0.0</td>\n      <td>0.000</td>\n      <td>0.000000</td>\n      <td>0.0</td>\n    </tr>\n    <tr>\n      <th>...</th>\n      <td>...</td>\n      <td>...</td>\n      <td>...</td>\n      <td>...</td>\n    </tr>\n    <tr>\n      <th>2019-12-31 19:00:00</th>\n      <td>0.0</td>\n      <td>0.612</td>\n      <td>1.628704</td>\n      <td>0.0</td>\n    </tr>\n    <tr>\n      <th>2019-12-31 20:00:00</th>\n      <td>0.0</td>\n      <td>0.000</td>\n      <td>0.000000</td>\n      <td>0.0</td>\n    </tr>\n    <tr>\n      <th>2019-12-31 21:00:00</th>\n      <td>0.0</td>\n      <td>0.000</td>\n      <td>0.000000</td>\n      <td>0.0</td>\n    </tr>\n    <tr>\n      <th>2019-12-31 22:00:00</th>\n      <td>0.0</td>\n      <td>0.000</td>\n      <td>0.000000</td>\n      <td>0.0</td>\n    </tr>\n    <tr>\n      <th>2019-12-31 23:00:00</th>\n      <td>0.0</td>\n      <td>0.000</td>\n      <td>0.000000</td>\n      <td>0.0</td>\n    </tr>\n  </tbody>\n</table>\n<p>35064 rows × 4 columns</p>\n</div>"
     },
     "metadata": {},
     "execution_count": 22
    }
   ],
   "source": [
    "# 2016-2019 fire data\n",
    "fire_all"
   ]
  },
  {
   "source": [
    "Next, we'll localize fire data to Thailand local timezone (UTC+7). Then, we integrate fire data to full dataset which we cleaned in `3.fillna.ipynb`."
   ],
   "cell_type": "markdown",
   "metadata": {}
  },
  {
   "cell_type": "code",
   "execution_count": 44,
   "metadata": {},
   "outputs": [
    {
     "output_type": "error",
     "ename": "NameError",
     "evalue": "name 'fire_all' is not defined",
     "traceback": [
      "\u001b[1;31m---------------------------------------------------------------------------\u001b[0m",
      "\u001b[1;31mNameError\u001b[0m                                 Traceback (most recent call last)",
      "\u001b[1;32m<ipython-input-44-6d4f071adc0f>\u001b[0m in \u001b[0;36m<module>\u001b[1;34m\u001b[0m\n\u001b[0;32m      2\u001b[0m \u001b[1;33m\u001b[0m\u001b[0m\n\u001b[0;32m      3\u001b[0m \u001b[1;31m# +7 Hours to localize the time\u001b[0m\u001b[1;33m\u001b[0m\u001b[1;33m\u001b[0m\u001b[1;33m\u001b[0m\u001b[0m\n\u001b[1;32m----> 4\u001b[1;33m \u001b[0mfire_all\u001b[0m\u001b[1;33m.\u001b[0m\u001b[0mindex\u001b[0m \u001b[1;33m=\u001b[0m \u001b[0mfire_all\u001b[0m\u001b[1;33m.\u001b[0m\u001b[0mindex\u001b[0m \u001b[1;33m+\u001b[0m \u001b[0mtimedelta\u001b[0m\u001b[1;33m(\u001b[0m\u001b[0mhours\u001b[0m\u001b[1;33m=\u001b[0m\u001b[1;36m7\u001b[0m\u001b[1;33m)\u001b[0m\u001b[1;33m\u001b[0m\u001b[1;33m\u001b[0m\u001b[0m\n\u001b[0m\u001b[0;32m      5\u001b[0m \u001b[1;33m\u001b[0m\u001b[0m\n\u001b[0;32m      6\u001b[0m \u001b[1;31m# Integrate to full,imputed data\u001b[0m\u001b[1;33m\u001b[0m\u001b[1;33m\u001b[0m\u001b[1;33m\u001b[0m\u001b[0m\n",
      "\u001b[1;31mNameError\u001b[0m: name 'fire_all' is not defined"
     ]
    }
   ],
   "source": [
    "provinces = ['Bangkok','Chanthaburi','Chiang Mai','Kanchanaburi','Khon Kaen','Songkhla']\n",
    "\n",
    "# +7 Hours to localize the time\n",
    "fire_all.index = fire_all.index + timedelta(hours=7)\n",
    "\n",
    "# Integrate to full,imputed data\n",
    "mega = {}\n",
    "for province in provinces:\n",
    "    if province == 'Khon Kaen' : continue\n",
    "    df = pd.read_csv(f\"./data/Train/{province}_imputed.csv\", parse_dates=True, index_col=0)\n",
    "    mega[province] = df.merge(fire_all, left_index=True, right_index=True, how='left')"
   ]
  },
  {
   "source": [
    "This is an example of *preprocessed* data."
   ],
   "cell_type": "markdown",
   "metadata": {}
  },
  {
   "cell_type": "code",
   "execution_count": 10,
   "metadata": {},
   "outputs": [
    {
     "output_type": "execute_result",
     "data": {
      "text/plain": [
       "                     PM2.5  Temp(C)  WindDir  Wind Speed(km/h)  Cambodia_frp  \\\n",
       "2016-03-03 08:00:00  62.90     26.4     65.0              15.0      0.000000   \n",
       "2016-03-03 09:00:00  62.90     26.4     65.0              15.0      0.000000   \n",
       "2016-03-03 10:00:00  55.50     31.4     75.0              13.0      0.000000   \n",
       "2016-03-03 11:00:00  55.50     31.4     75.0              13.0      0.000000   \n",
       "2016-03-03 12:00:00  47.90     31.4     75.0              13.0      8.984035   \n",
       "2016-03-03 13:00:00  43.60     34.1     70.0              12.0      0.000000   \n",
       "2016-03-03 14:00:00  28.60     34.1     70.0              12.0      0.000000   \n",
       "2016-03-03 15:00:00  33.60     34.1     70.0              12.0      0.000000   \n",
       "2016-03-03 16:00:00  34.80     34.6     60.0              12.0      0.000000   \n",
       "2016-03-03 17:00:00  31.30     34.6     60.0              12.0      0.000000   \n",
       "2016-03-03 18:00:00  45.12     34.6     60.0              12.0      0.000000   \n",
       "2016-03-03 19:00:00  42.10     29.1     70.0              11.0      0.000000   \n",
       "2016-03-03 20:00:00  38.60     29.1     70.0              11.0      0.000000   \n",
       "2016-03-03 21:00:00  45.50     29.1     70.0              11.0      0.000000   \n",
       "2016-03-03 22:00:00  49.90     27.3     70.0              15.0      0.000000   \n",
       "2016-03-03 23:00:00  44.10     27.3     70.0              15.0      0.000000   \n",
       "\n",
       "                     Myanmar_frp  Thailand_frp  Lao_PDR_frp  \n",
       "2016-03-03 08:00:00     0.000000      0.000000     0.000000  \n",
       "2016-03-03 09:00:00     0.000000      0.000000     0.000000  \n",
       "2016-03-03 10:00:00     0.000000      0.000000     0.000000  \n",
       "2016-03-03 11:00:00     0.000000      0.000000     0.000000  \n",
       "2016-03-03 12:00:00     9.319250      6.580530     7.991304  \n",
       "2016-03-03 13:00:00     0.000000      0.000000     0.000000  \n",
       "2016-03-03 14:00:00     8.099819      9.423972     0.000000  \n",
       "2016-03-03 15:00:00     0.000000      0.000000     0.000000  \n",
       "2016-03-03 16:00:00     0.000000      0.000000     0.000000  \n",
       "2016-03-03 17:00:00     0.000000      0.000000     0.000000  \n",
       "2016-03-03 18:00:00     0.000000      0.000000     0.000000  \n",
       "2016-03-03 19:00:00     0.000000      0.000000     0.000000  \n",
       "2016-03-03 20:00:00     0.000000      0.000000     0.000000  \n",
       "2016-03-03 21:00:00     0.000000      0.000000     0.000000  \n",
       "2016-03-03 22:00:00     0.000000      0.000000     0.000000  \n",
       "2016-03-03 23:00:00     0.000000      0.000000     0.000000  "
      ],
      "text/html": "<div>\n<style scoped>\n    .dataframe tbody tr th:only-of-type {\n        vertical-align: middle;\n    }\n\n    .dataframe tbody tr th {\n        vertical-align: top;\n    }\n\n    .dataframe thead th {\n        text-align: right;\n    }\n</style>\n<table border=\"1\" class=\"dataframe\">\n  <thead>\n    <tr style=\"text-align: right;\">\n      <th></th>\n      <th>PM2.5</th>\n      <th>Temp(C)</th>\n      <th>WindDir</th>\n      <th>Wind Speed(km/h)</th>\n      <th>Cambodia_frp</th>\n      <th>Myanmar_frp</th>\n      <th>Thailand_frp</th>\n      <th>Lao_PDR_frp</th>\n    </tr>\n  </thead>\n  <tbody>\n    <tr>\n      <th>2016-03-03 08:00:00</th>\n      <td>62.90</td>\n      <td>26.4</td>\n      <td>65.0</td>\n      <td>15.0</td>\n      <td>0.000000</td>\n      <td>0.000000</td>\n      <td>0.000000</td>\n      <td>0.000000</td>\n    </tr>\n    <tr>\n      <th>2016-03-03 09:00:00</th>\n      <td>62.90</td>\n      <td>26.4</td>\n      <td>65.0</td>\n      <td>15.0</td>\n      <td>0.000000</td>\n      <td>0.000000</td>\n      <td>0.000000</td>\n      <td>0.000000</td>\n    </tr>\n    <tr>\n      <th>2016-03-03 10:00:00</th>\n      <td>55.50</td>\n      <td>31.4</td>\n      <td>75.0</td>\n      <td>13.0</td>\n      <td>0.000000</td>\n      <td>0.000000</td>\n      <td>0.000000</td>\n      <td>0.000000</td>\n    </tr>\n    <tr>\n      <th>2016-03-03 11:00:00</th>\n      <td>55.50</td>\n      <td>31.4</td>\n      <td>75.0</td>\n      <td>13.0</td>\n      <td>0.000000</td>\n      <td>0.000000</td>\n      <td>0.000000</td>\n      <td>0.000000</td>\n    </tr>\n    <tr>\n      <th>2016-03-03 12:00:00</th>\n      <td>47.90</td>\n      <td>31.4</td>\n      <td>75.0</td>\n      <td>13.0</td>\n      <td>8.984035</td>\n      <td>9.319250</td>\n      <td>6.580530</td>\n      <td>7.991304</td>\n    </tr>\n    <tr>\n      <th>2016-03-03 13:00:00</th>\n      <td>43.60</td>\n      <td>34.1</td>\n      <td>70.0</td>\n      <td>12.0</td>\n      <td>0.000000</td>\n      <td>0.000000</td>\n      <td>0.000000</td>\n      <td>0.000000</td>\n    </tr>\n    <tr>\n      <th>2016-03-03 14:00:00</th>\n      <td>28.60</td>\n      <td>34.1</td>\n      <td>70.0</td>\n      <td>12.0</td>\n      <td>0.000000</td>\n      <td>8.099819</td>\n      <td>9.423972</td>\n      <td>0.000000</td>\n    </tr>\n    <tr>\n      <th>2016-03-03 15:00:00</th>\n      <td>33.60</td>\n      <td>34.1</td>\n      <td>70.0</td>\n      <td>12.0</td>\n      <td>0.000000</td>\n      <td>0.000000</td>\n      <td>0.000000</td>\n      <td>0.000000</td>\n    </tr>\n    <tr>\n      <th>2016-03-03 16:00:00</th>\n      <td>34.80</td>\n      <td>34.6</td>\n      <td>60.0</td>\n      <td>12.0</td>\n      <td>0.000000</td>\n      <td>0.000000</td>\n      <td>0.000000</td>\n      <td>0.000000</td>\n    </tr>\n    <tr>\n      <th>2016-03-03 17:00:00</th>\n      <td>31.30</td>\n      <td>34.6</td>\n      <td>60.0</td>\n      <td>12.0</td>\n      <td>0.000000</td>\n      <td>0.000000</td>\n      <td>0.000000</td>\n      <td>0.000000</td>\n    </tr>\n    <tr>\n      <th>2016-03-03 18:00:00</th>\n      <td>45.12</td>\n      <td>34.6</td>\n      <td>60.0</td>\n      <td>12.0</td>\n      <td>0.000000</td>\n      <td>0.000000</td>\n      <td>0.000000</td>\n      <td>0.000000</td>\n    </tr>\n    <tr>\n      <th>2016-03-03 19:00:00</th>\n      <td>42.10</td>\n      <td>29.1</td>\n      <td>70.0</td>\n      <td>11.0</td>\n      <td>0.000000</td>\n      <td>0.000000</td>\n      <td>0.000000</td>\n      <td>0.000000</td>\n    </tr>\n    <tr>\n      <th>2016-03-03 20:00:00</th>\n      <td>38.60</td>\n      <td>29.1</td>\n      <td>70.0</td>\n      <td>11.0</td>\n      <td>0.000000</td>\n      <td>0.000000</td>\n      <td>0.000000</td>\n      <td>0.000000</td>\n    </tr>\n    <tr>\n      <th>2016-03-03 21:00:00</th>\n      <td>45.50</td>\n      <td>29.1</td>\n      <td>70.0</td>\n      <td>11.0</td>\n      <td>0.000000</td>\n      <td>0.000000</td>\n      <td>0.000000</td>\n      <td>0.000000</td>\n    </tr>\n    <tr>\n      <th>2016-03-03 22:00:00</th>\n      <td>49.90</td>\n      <td>27.3</td>\n      <td>70.0</td>\n      <td>15.0</td>\n      <td>0.000000</td>\n      <td>0.000000</td>\n      <td>0.000000</td>\n      <td>0.000000</td>\n    </tr>\n    <tr>\n      <th>2016-03-03 23:00:00</th>\n      <td>44.10</td>\n      <td>27.3</td>\n      <td>70.0</td>\n      <td>15.0</td>\n      <td>0.000000</td>\n      <td>0.000000</td>\n      <td>0.000000</td>\n      <td>0.000000</td>\n    </tr>\n  </tbody>\n</table>\n</div>"
     },
     "metadata": {},
     "execution_count": 10
    }
   ],
   "source": [
    "# This is data integrated with localized fire\n",
    "mega['Bangkok'].loc['2016-3-3']"
   ]
  },
  {
   "source": [
    "Lastly, we <u>save</u> it the *preprocessed* dataset ready to be fed to the model."
   ],
   "cell_type": "markdown",
   "metadata": {}
  },
  {
   "cell_type": "code",
   "execution_count": 11,
   "metadata": {},
   "outputs": [],
   "source": [
    "# Save imputed, fire integrated data\n",
    "for province in provinces:\n",
    "    if province == 'Khon Kaen' : continue\n",
    "    path = f'./data/Train/fire_integrated/{province}_fire_integrated.csv'\n",
    "    if not os.path.exists(path):\n",
    "        mega[province].to_csv(path)\n",
    "    else:\n",
    "        print(f\"{province} already\")"
   ]
  },
  {
   "source": [
    "save ข้อมูลไฟทั้งหมด เก็บไว้ใช้ต่อกับ test set"
   ],
   "cell_type": "markdown",
   "metadata": {}
  },
  {
   "cell_type": "code",
   "execution_count": 12,
   "metadata": {},
   "outputs": [
    {
     "output_type": "stream",
     "name": "stdout",
     "text": [
      "already\n"
     ]
    }
   ],
   "source": [
    "import glob\n",
    "\n",
    "# Save 2016-2019 fire data\n",
    "if len(glob.glob(\"./data/fire_2016_to_2019_localize.csv\"))==0:\n",
    "    fire_all.to_csv('./data/fire_2016_to_2019_localize.csv')\n",
    "else:\n",
    "    print('already')"
   ]
  },
  {
   "source": [
    "# Expand Fire data\n",
    "In this project, the model will be evaluated using **test data** which is the data from `2019-03-18 08:00:00` to `2020-03-18 20:00:00`. So, we need to find more fire data since the labeled data we had ends at 2019-12-31.\n",
    "\n",
    "We have several unlabeled fire data. So, We have to choose one. First we import 2016-2019 fire data."
   ],
   "cell_type": "markdown",
   "metadata": {}
  },
  {
   "cell_type": "code",
   "execution_count": 3,
   "metadata": {},
   "outputs": [
    {
     "output_type": "execute_result",
     "data": {
      "text/plain": [
       "                     Cambodia_frp  Myanmar_frp  Thailand_frp  Lao_PDR_frp\n",
       "2020-01-01 02:00:00           0.0        0.612      1.628704          0.0\n",
       "2020-01-01 03:00:00           0.0        0.000      0.000000          0.0\n",
       "2020-01-01 04:00:00           0.0        0.000      0.000000          0.0\n",
       "2020-01-01 05:00:00           0.0        0.000      0.000000          0.0\n",
       "2020-01-01 06:00:00           0.0        0.000      0.000000          0.0"
      ],
      "text/html": "<div>\n<style scoped>\n    .dataframe tbody tr th:only-of-type {\n        vertical-align: middle;\n    }\n\n    .dataframe tbody tr th {\n        vertical-align: top;\n    }\n\n    .dataframe thead th {\n        text-align: right;\n    }\n</style>\n<table border=\"1\" class=\"dataframe\">\n  <thead>\n    <tr style=\"text-align: right;\">\n      <th></th>\n      <th>Cambodia_frp</th>\n      <th>Myanmar_frp</th>\n      <th>Thailand_frp</th>\n      <th>Lao_PDR_frp</th>\n    </tr>\n  </thead>\n  <tbody>\n    <tr>\n      <th>2020-01-01 02:00:00</th>\n      <td>0.0</td>\n      <td>0.612</td>\n      <td>1.628704</td>\n      <td>0.0</td>\n    </tr>\n    <tr>\n      <th>2020-01-01 03:00:00</th>\n      <td>0.0</td>\n      <td>0.000</td>\n      <td>0.000000</td>\n      <td>0.0</td>\n    </tr>\n    <tr>\n      <th>2020-01-01 04:00:00</th>\n      <td>0.0</td>\n      <td>0.000</td>\n      <td>0.000000</td>\n      <td>0.0</td>\n    </tr>\n    <tr>\n      <th>2020-01-01 05:00:00</th>\n      <td>0.0</td>\n      <td>0.000</td>\n      <td>0.000000</td>\n      <td>0.0</td>\n    </tr>\n    <tr>\n      <th>2020-01-01 06:00:00</th>\n      <td>0.0</td>\n      <td>0.000</td>\n      <td>0.000000</td>\n      <td>0.0</td>\n    </tr>\n  </tbody>\n</table>\n</div>"
     },
     "metadata": {},
     "execution_count": 3
    }
   ],
   "source": [
    "localized_2016_2019 = pd.read_csv('./data/fire_2016_to_2019_localize.csv', index_col=0, parse_dates=True)\n",
    "localized_2016_2019.tail()"
   ]
  },
  {
   "source": [
    "## Lat-long info from viirs-snpp data\n",
    "We recorded the latitude-longitude from the labeled dataset. We will use it to identify the country of unlabeled dataset."
   ],
   "cell_type": "markdown",
   "metadata": {}
  },
  {
   "cell_type": "code",
   "execution_count": 23,
   "metadata": {},
   "outputs": [
    {
     "output_type": "execute_result",
     "data": {
      "text/plain": [
       "{'Cambodia': {'lat': {'min': 10.58011, 'max': 14.397147},\n",
       "  'long': {'min': 102.421844, 'max': 107.492813}},\n",
       " 'Myanmar': {'lat': {'min': 10.243567, 'max': 28.307707},\n",
       "  'long': {'min': 92.191887, 'max': 101.07398}},\n",
       " 'Thailand': {'lat': {'min': 5.728347, 'max': 20.3328055},\n",
       "  'long': {'min': 97.46129833333333, 'max': 105.436768}},\n",
       " 'Lao_PDR': {'lat': {'min': 13.922927, 'max': 22.350048},\n",
       "  'long': {'min': 100.198189, 'max': 107.598183}}}"
      ]
     },
     "metadata": {},
     "execution_count": 23
    }
   ],
   "source": [
    "records"
   ]
  },
  {
   "source": [
    "After inspecting the dataset, we see that these 2 dataset `fire_archive_V1_163551.csv`,` fire_nrt_J1V-C2_163550.csv` have the information in date range that we're interested in."
   ],
   "cell_type": "markdown",
   "metadata": {}
  },
  {
   "cell_type": "code",
   "execution_count": 4,
   "metadata": {},
   "outputs": [],
   "source": [
    "fire_files = [ 'fire_archive_V1_163551.csv', 'fire_nrt_J1V-C2_163550.csv']\n",
    "\n",
    "# Read two 2020 fire files\n",
    "data = {}\n",
    "for f in fire_files:\n",
    "    df = pd.read_csv(f'./Fire hotspot/{f}')\n",
    "    df['hour'] = df['acq_time'].apply(str).str[:-2]\n",
    "    df['datetime'] = pd.to_datetime(\n",
    "                                df['acq_date']+'T'+df['hour'].str.zfill(2), \n",
    "                                format='%Y-%m-%dT%H')\n",
    "    \n",
    "    df = df.groupby(by='datetime').mean()\n",
    "    data[f] = df"
   ]
  },
  {
   "source": [
    "## Ambiguity\n",
    "Identifying the country from max,min of latitude,longitude may ambiguous since those values might overlaped. We address this issue by using external API to find the exact location of latitude, longitude. We'll use `geopy` package."
   ],
   "cell_type": "markdown",
   "metadata": {}
  },
  {
   "cell_type": "code",
   "execution_count": 5,
   "metadata": {},
   "outputs": [],
   "source": [
    "import geopy\n",
    "from geopy.geocoders import Nominatim\n",
    "\n",
    "def assign_country(x):\n",
    "    lati, longi = x[0], x[1]\n",
    "\n",
    "    # If lat-long is clear\n",
    "    choice = []\n",
    "    for c in countries:\n",
    "        lat_const = lati<records[c]['lat']['max'] and lati>records[c]['lat']['min']\n",
    "        long_const = longi<records[c]['long']['max'] and longi>records[c]['long']['min']\n",
    "        if lat_const and long_const:\n",
    "            choice.append(c)\n",
    "    if len(choice)==1:\n",
    "        return choice[0]\n",
    "    \n",
    "    # If lat-long is not clear\n",
    "    del choice\n",
    "    geolocator = Nominatim(user_agent=\"app\")\n",
    "    try:\n",
    "        location = geolocator.reverse([lati, longi])\n",
    "        return location.raw['address']['country_code']\n",
    "    except:\n",
    "        return np.nan"
   ]
  },
  {
   "source": [
    "It took so long to find all country code from latitude, longitude. So, we decide to keep the code."
   ],
   "cell_type": "markdown",
   "metadata": {}
  },
  {
   "cell_type": "code",
   "execution_count": 6,
   "metadata": {
    "tags": []
   },
   "outputs": [
    {
     "output_type": "stream",
     "name": "stdout",
     "text": [
      "archive_V1_country_code.csv is already\nnrt_J1V-C2_country_code.csv is already\n"
     ]
    }
   ],
   "source": [
    "# Identify country\n",
    "if not os.path.exists('archive_V1_country_code.csv'):\n",
    "    # Find country code \n",
    "    country_code = data[fire_files[0]].apply(lambda x: assign_country(x), axis=1)\n",
    "    country_code.to_csv('archive_V1_country_code.csv')\n",
    "else: print('archive_V1_country_code.csv is already')\n",
    "\n",
    "if not os.path.exists('nrt_J1V-C2_country_code.csv'):\n",
    "    # Find country code \n",
    "    country_code = data[fire_files[1]].apply(lambda x: assign_country(x), axis=1)\n",
    "    country_code.to_csv('nrt_J1V-C2_country_code.csv')\n",
    "else: print('nrt_J1V-C2_country_code.csv is already')"
   ]
  },
  {
   "source": [
    "Assign country code back to the `data[0], data[1]`"
   ],
   "cell_type": "markdown",
   "metadata": {}
  },
  {
   "cell_type": "code",
   "execution_count": 7,
   "metadata": {},
   "outputs": [],
   "source": [
    "code = {'Thailand':'th', 'Myanmar':'mm', 'Lao_PDR':'la', 'Cambodia':'kh'}\n",
    "focus = {}\n",
    "for f in fire_files:\n",
    "    # Read country code file\n",
    "    if f.split('_')[1] == 'archive':\n",
    "        country_code = pd.read_csv('archive_V1_country_code.csv', parse_dates=True, index_col=0)\n",
    "    elif f.split('_')[1] == 'nrt':\n",
    "        country_code = pd.read_csv('nrt_J1V-C2_country_code.csv', parse_dates=True, index_col=0)\n",
    "    country_code.columns = ['country_code']\n",
    "\n",
    "    # Assign back\n",
    "    data[f]['country_code'] = country_code\n",
    "    data[f].replace(code, inplace=True)\n",
    "\n",
    "    # Filter out out-of-interest countries\n",
    "    mask = data[f]['country_code'].isin(code.values())\n",
    "    focus[f] = data[f][mask]"
   ]
  },
  {
   "source": [
    "Next, we'll append 2020 fire data to localized 2016-2019 data. But first, we have to localize it."
   ],
   "cell_type": "markdown",
   "metadata": {}
  },
  {
   "cell_type": "code",
   "execution_count": 25,
   "metadata": {},
   "outputs": [
    {
     "output_type": "execute_result",
     "data": {
      "text/plain": [
       "country_code         Cambodia_frp  Lao_PDR_frp  Myanmar_frp  Thailand_frp\n",
       "datetime                                                                 \n",
       "2020-01-01 06:00:00           NaN          NaN          NaN      6.869011\n",
       "2020-01-01 19:00:00           NaN          NaN          NaN      1.861488\n",
       "2020-01-02 06:00:00           NaN          NaN          NaN      7.112920\n",
       "2020-01-02 19:00:00           NaN          NaN          NaN      1.312886\n",
       "2020-01-03 06:00:00           NaN          NaN          NaN      6.361829"
      ],
      "text/html": "<div>\n<style scoped>\n    .dataframe tbody tr th:only-of-type {\n        vertical-align: middle;\n    }\n\n    .dataframe tbody tr th {\n        vertical-align: top;\n    }\n\n    .dataframe thead th {\n        text-align: right;\n    }\n</style>\n<table border=\"1\" class=\"dataframe\">\n  <thead>\n    <tr style=\"text-align: right;\">\n      <th>country_code</th>\n      <th>Cambodia_frp</th>\n      <th>Lao_PDR_frp</th>\n      <th>Myanmar_frp</th>\n      <th>Thailand_frp</th>\n    </tr>\n    <tr>\n      <th>datetime</th>\n      <th></th>\n      <th></th>\n      <th></th>\n      <th></th>\n    </tr>\n  </thead>\n  <tbody>\n    <tr>\n      <th>2020-01-01 06:00:00</th>\n      <td>NaN</td>\n      <td>NaN</td>\n      <td>NaN</td>\n      <td>6.869011</td>\n    </tr>\n    <tr>\n      <th>2020-01-01 19:00:00</th>\n      <td>NaN</td>\n      <td>NaN</td>\n      <td>NaN</td>\n      <td>1.861488</td>\n    </tr>\n    <tr>\n      <th>2020-01-02 06:00:00</th>\n      <td>NaN</td>\n      <td>NaN</td>\n      <td>NaN</td>\n      <td>7.112920</td>\n    </tr>\n    <tr>\n      <th>2020-01-02 19:00:00</th>\n      <td>NaN</td>\n      <td>NaN</td>\n      <td>NaN</td>\n      <td>1.312886</td>\n    </tr>\n    <tr>\n      <th>2020-01-03 06:00:00</th>\n      <td>NaN</td>\n      <td>NaN</td>\n      <td>NaN</td>\n      <td>6.361829</td>\n    </tr>\n  </tbody>\n</table>\n</div>"
     },
     "metadata": {},
     "execution_count": 25
    }
   ],
   "source": [
    "# Pivoting to right format\n",
    "selected = focus[fire_files[0]].loc['2020-01-01 00:00:00':,['country_code','frp']].reset_index()\n",
    "selected = pd.pivot(selected, index='datetime', columns = 'country_code', values='frp')\n",
    "selected.rename(columns={'kh':'Cambodia_frp', \n",
    "                        'la':'Lao_PDR_frp', \n",
    "                        'mm':'Myanmar_frp', \n",
    "                        'th':'Thailand_frp'}, inplace=True)\n",
    "selected.head()"
   ]
  },
  {
   "cell_type": "code",
   "execution_count": 29,
   "metadata": {},
   "outputs": [
    {
     "output_type": "execute_result",
     "data": {
      "text/plain": [
       "                     Cambodia_frp  Lao_PDR_frp  Myanmar_frp  Thailand_frp\n",
       "2020-01-01 07:00:00           0.0          0.0          0.0           0.0\n",
       "2020-01-01 08:00:00           0.0          0.0          0.0           0.0\n",
       "2020-01-01 09:00:00           0.0          0.0          0.0           0.0\n",
       "2020-01-01 10:00:00           0.0          0.0          0.0           0.0\n",
       "2020-01-01 11:00:00           0.0          0.0          0.0           0.0\n",
       "...                           ...          ...          ...           ...\n",
       "2020-05-31 09:00:00           0.0          0.0          0.0           0.0\n",
       "2020-05-31 10:00:00           0.0          0.0          0.0           0.0\n",
       "2020-05-31 11:00:00           0.0          0.0          0.0           0.0\n",
       "2020-05-31 12:00:00           0.0          0.0          0.0           0.0\n",
       "2020-05-31 13:00:00           0.0          0.0          0.0           0.0\n",
       "\n",
       "[3631 rows x 4 columns]"
      ],
      "text/html": "<div>\n<style scoped>\n    .dataframe tbody tr th:only-of-type {\n        vertical-align: middle;\n    }\n\n    .dataframe tbody tr th {\n        vertical-align: top;\n    }\n\n    .dataframe thead th {\n        text-align: right;\n    }\n</style>\n<table border=\"1\" class=\"dataframe\">\n  <thead>\n    <tr style=\"text-align: right;\">\n      <th></th>\n      <th>Cambodia_frp</th>\n      <th>Lao_PDR_frp</th>\n      <th>Myanmar_frp</th>\n      <th>Thailand_frp</th>\n    </tr>\n  </thead>\n  <tbody>\n    <tr>\n      <th>2020-01-01 07:00:00</th>\n      <td>0.0</td>\n      <td>0.0</td>\n      <td>0.0</td>\n      <td>0.0</td>\n    </tr>\n    <tr>\n      <th>2020-01-01 08:00:00</th>\n      <td>0.0</td>\n      <td>0.0</td>\n      <td>0.0</td>\n      <td>0.0</td>\n    </tr>\n    <tr>\n      <th>2020-01-01 09:00:00</th>\n      <td>0.0</td>\n      <td>0.0</td>\n      <td>0.0</td>\n      <td>0.0</td>\n    </tr>\n    <tr>\n      <th>2020-01-01 10:00:00</th>\n      <td>0.0</td>\n      <td>0.0</td>\n      <td>0.0</td>\n      <td>0.0</td>\n    </tr>\n    <tr>\n      <th>2020-01-01 11:00:00</th>\n      <td>0.0</td>\n      <td>0.0</td>\n      <td>0.0</td>\n      <td>0.0</td>\n    </tr>\n    <tr>\n      <th>...</th>\n      <td>...</td>\n      <td>...</td>\n      <td>...</td>\n      <td>...</td>\n    </tr>\n    <tr>\n      <th>2020-05-31 09:00:00</th>\n      <td>0.0</td>\n      <td>0.0</td>\n      <td>0.0</td>\n      <td>0.0</td>\n    </tr>\n    <tr>\n      <th>2020-05-31 10:00:00</th>\n      <td>0.0</td>\n      <td>0.0</td>\n      <td>0.0</td>\n      <td>0.0</td>\n    </tr>\n    <tr>\n      <th>2020-05-31 11:00:00</th>\n      <td>0.0</td>\n      <td>0.0</td>\n      <td>0.0</td>\n      <td>0.0</td>\n    </tr>\n    <tr>\n      <th>2020-05-31 12:00:00</th>\n      <td>0.0</td>\n      <td>0.0</td>\n      <td>0.0</td>\n      <td>0.0</td>\n    </tr>\n    <tr>\n      <th>2020-05-31 13:00:00</th>\n      <td>0.0</td>\n      <td>0.0</td>\n      <td>0.0</td>\n      <td>0.0</td>\n    </tr>\n  </tbody>\n</table>\n<p>3631 rows × 4 columns</p>\n</div>"
     },
     "metadata": {},
     "execution_count": 29
    }
   ],
   "source": [
    "# Create full time line\n",
    "extended_timeline = pd.DataFrame(index=pd.date_range('2020-01-01 00:00:00', '2020-05-31 06:00:00', freq='H'))\n",
    "selected = extended_timeline.merge(selected, left_index=True, right_index=True, how='left').fillna(0.0)\n",
    "\n",
    "# Localize \n",
    "selected.index = selected.index + timedelta(hours=7)\n",
    "\n",
    "localized_2020 = selected.copy()\n",
    "localized_2020"
   ]
  },
  {
   "cell_type": "code",
   "execution_count": 31,
   "metadata": {},
   "outputs": [
    {
     "output_type": "execute_result",
     "data": {
      "text/plain": [
       "                     Cambodia_frp  Myanmar_frp  Thailand_frp  Lao_PDR_frp\n",
       "2020-01-01 02:00:00           0.0        0.612      1.628704          0.0\n",
       "2020-01-01 03:00:00           0.0        0.000      0.000000          0.0\n",
       "2020-01-01 04:00:00           0.0        0.000      0.000000          0.0\n",
       "2020-01-01 05:00:00           0.0        0.000      0.000000          0.0\n",
       "2020-01-01 06:00:00           0.0        0.000      0.000000          0.0"
      ],
      "text/html": "<div>\n<style scoped>\n    .dataframe tbody tr th:only-of-type {\n        vertical-align: middle;\n    }\n\n    .dataframe tbody tr th {\n        vertical-align: top;\n    }\n\n    .dataframe thead th {\n        text-align: right;\n    }\n</style>\n<table border=\"1\" class=\"dataframe\">\n  <thead>\n    <tr style=\"text-align: right;\">\n      <th></th>\n      <th>Cambodia_frp</th>\n      <th>Myanmar_frp</th>\n      <th>Thailand_frp</th>\n      <th>Lao_PDR_frp</th>\n    </tr>\n  </thead>\n  <tbody>\n    <tr>\n      <th>2020-01-01 02:00:00</th>\n      <td>0.0</td>\n      <td>0.612</td>\n      <td>1.628704</td>\n      <td>0.0</td>\n    </tr>\n    <tr>\n      <th>2020-01-01 03:00:00</th>\n      <td>0.0</td>\n      <td>0.000</td>\n      <td>0.000000</td>\n      <td>0.0</td>\n    </tr>\n    <tr>\n      <th>2020-01-01 04:00:00</th>\n      <td>0.0</td>\n      <td>0.000</td>\n      <td>0.000000</td>\n      <td>0.0</td>\n    </tr>\n    <tr>\n      <th>2020-01-01 05:00:00</th>\n      <td>0.0</td>\n      <td>0.000</td>\n      <td>0.000000</td>\n      <td>0.0</td>\n    </tr>\n    <tr>\n      <th>2020-01-01 06:00:00</th>\n      <td>0.0</td>\n      <td>0.000</td>\n      <td>0.000000</td>\n      <td>0.0</td>\n    </tr>\n  </tbody>\n</table>\n</div>"
     },
     "metadata": {},
     "execution_count": 31
    }
   ],
   "source": [
    "localized_2016_2019.tail()"
   ]
  },
  {
   "cell_type": "code",
   "execution_count": 40,
   "metadata": {},
   "outputs": [
    {
     "output_type": "execute_result",
     "data": {
      "text/plain": [
       "                     Cambodia_frp  Myanmar_frp  Thailand_frp  Lao_PDR_frp\n",
       "2016-01-01 07:00:00           0.0          0.0           0.0          0.0\n",
       "2016-01-01 08:00:00           0.0          0.0           0.0          0.0\n",
       "2016-01-01 09:00:00           0.0          0.0           0.0          0.0\n",
       "2016-01-01 10:00:00           0.0          0.0           0.0          0.0\n",
       "2016-01-01 11:00:00           0.0          0.0           0.0          0.0\n",
       "...                           ...          ...           ...          ...\n",
       "2020-05-31 09:00:00           0.0          0.0           0.0          0.0\n",
       "2020-05-31 10:00:00           0.0          0.0           0.0          0.0\n",
       "2020-05-31 11:00:00           0.0          0.0           0.0          0.0\n",
       "2020-05-31 12:00:00           0.0          0.0           0.0          0.0\n",
       "2020-05-31 13:00:00           0.0          0.0           0.0          0.0\n",
       "\n",
       "[38695 rows x 4 columns]"
      ],
      "text/html": "<div>\n<style scoped>\n    .dataframe tbody tr th:only-of-type {\n        vertical-align: middle;\n    }\n\n    .dataframe tbody tr th {\n        vertical-align: top;\n    }\n\n    .dataframe thead th {\n        text-align: right;\n    }\n</style>\n<table border=\"1\" class=\"dataframe\">\n  <thead>\n    <tr style=\"text-align: right;\">\n      <th></th>\n      <th>Cambodia_frp</th>\n      <th>Myanmar_frp</th>\n      <th>Thailand_frp</th>\n      <th>Lao_PDR_frp</th>\n    </tr>\n  </thead>\n  <tbody>\n    <tr>\n      <th>2016-01-01 07:00:00</th>\n      <td>0.0</td>\n      <td>0.0</td>\n      <td>0.0</td>\n      <td>0.0</td>\n    </tr>\n    <tr>\n      <th>2016-01-01 08:00:00</th>\n      <td>0.0</td>\n      <td>0.0</td>\n      <td>0.0</td>\n      <td>0.0</td>\n    </tr>\n    <tr>\n      <th>2016-01-01 09:00:00</th>\n      <td>0.0</td>\n      <td>0.0</td>\n      <td>0.0</td>\n      <td>0.0</td>\n    </tr>\n    <tr>\n      <th>2016-01-01 10:00:00</th>\n      <td>0.0</td>\n      <td>0.0</td>\n      <td>0.0</td>\n      <td>0.0</td>\n    </tr>\n    <tr>\n      <th>2016-01-01 11:00:00</th>\n      <td>0.0</td>\n      <td>0.0</td>\n      <td>0.0</td>\n      <td>0.0</td>\n    </tr>\n    <tr>\n      <th>...</th>\n      <td>...</td>\n      <td>...</td>\n      <td>...</td>\n      <td>...</td>\n    </tr>\n    <tr>\n      <th>2020-05-31 09:00:00</th>\n      <td>0.0</td>\n      <td>0.0</td>\n      <td>0.0</td>\n      <td>0.0</td>\n    </tr>\n    <tr>\n      <th>2020-05-31 10:00:00</th>\n      <td>0.0</td>\n      <td>0.0</td>\n      <td>0.0</td>\n      <td>0.0</td>\n    </tr>\n    <tr>\n      <th>2020-05-31 11:00:00</th>\n      <td>0.0</td>\n      <td>0.0</td>\n      <td>0.0</td>\n      <td>0.0</td>\n    </tr>\n    <tr>\n      <th>2020-05-31 12:00:00</th>\n      <td>0.0</td>\n      <td>0.0</td>\n      <td>0.0</td>\n      <td>0.0</td>\n    </tr>\n    <tr>\n      <th>2020-05-31 13:00:00</th>\n      <td>0.0</td>\n      <td>0.0</td>\n      <td>0.0</td>\n      <td>0.0</td>\n    </tr>\n  </tbody>\n</table>\n<p>38695 rows × 4 columns</p>\n</div>"
     },
     "metadata": {},
     "execution_count": 40
    }
   ],
   "source": [
    "localized_2016_2020 = localized_2016_2019.append(localized_2020)\n",
    "localized_2016_2020"
   ]
  },
  {
   "cell_type": "code",
   "execution_count": 43,
   "metadata": {},
   "outputs": [
    {
     "output_type": "stream",
     "name": "stdout",
     "text": [
      "Full fire already\n"
     ]
    }
   ],
   "source": [
    "if not os.path.exists('./data/fire_2016_to_2020_localize.csv'):\n",
    "    localized_2016_2020.to_csv('./data/fire_2016_to_2020_localize.csv')\n",
    "else:\n",
    "    print('Full fire already')"
   ]
  },
  {
   "source": [
    "## Test: fire integrated\n",
    "Once full fire is ready, we integrate it to the `Test set`."
   ],
   "cell_type": "markdown",
   "metadata": {}
  },
  {
   "cell_type": "code",
   "execution_count": 48,
   "metadata": {},
   "outputs": [
    {
     "output_type": "execute_result",
     "data": {
      "text/plain": [
       "                     Cambodia_frp  Myanmar_frp  Thailand_frp  Lao_PDR_frp\n",
       "2016-01-01 07:00:00           0.0          0.0           0.0          0.0\n",
       "2016-01-01 08:00:00           0.0          0.0           0.0          0.0\n",
       "2016-01-01 09:00:00           0.0          0.0           0.0          0.0\n",
       "2016-01-01 10:00:00           0.0          0.0           0.0          0.0\n",
       "2016-01-01 11:00:00           0.0          0.0           0.0          0.0\n",
       "...                           ...          ...           ...          ...\n",
       "2020-05-31 09:00:00           0.0          0.0           0.0          0.0\n",
       "2020-05-31 10:00:00           0.0          0.0           0.0          0.0\n",
       "2020-05-31 11:00:00           0.0          0.0           0.0          0.0\n",
       "2020-05-31 12:00:00           0.0          0.0           0.0          0.0\n",
       "2020-05-31 13:00:00           0.0          0.0           0.0          0.0\n",
       "\n",
       "[38695 rows x 4 columns]"
      ],
      "text/html": "<div>\n<style scoped>\n    .dataframe tbody tr th:only-of-type {\n        vertical-align: middle;\n    }\n\n    .dataframe tbody tr th {\n        vertical-align: top;\n    }\n\n    .dataframe thead th {\n        text-align: right;\n    }\n</style>\n<table border=\"1\" class=\"dataframe\">\n  <thead>\n    <tr style=\"text-align: right;\">\n      <th></th>\n      <th>Cambodia_frp</th>\n      <th>Myanmar_frp</th>\n      <th>Thailand_frp</th>\n      <th>Lao_PDR_frp</th>\n    </tr>\n  </thead>\n  <tbody>\n    <tr>\n      <th>2016-01-01 07:00:00</th>\n      <td>0.0</td>\n      <td>0.0</td>\n      <td>0.0</td>\n      <td>0.0</td>\n    </tr>\n    <tr>\n      <th>2016-01-01 08:00:00</th>\n      <td>0.0</td>\n      <td>0.0</td>\n      <td>0.0</td>\n      <td>0.0</td>\n    </tr>\n    <tr>\n      <th>2016-01-01 09:00:00</th>\n      <td>0.0</td>\n      <td>0.0</td>\n      <td>0.0</td>\n      <td>0.0</td>\n    </tr>\n    <tr>\n      <th>2016-01-01 10:00:00</th>\n      <td>0.0</td>\n      <td>0.0</td>\n      <td>0.0</td>\n      <td>0.0</td>\n    </tr>\n    <tr>\n      <th>2016-01-01 11:00:00</th>\n      <td>0.0</td>\n      <td>0.0</td>\n      <td>0.0</td>\n      <td>0.0</td>\n    </tr>\n    <tr>\n      <th>...</th>\n      <td>...</td>\n      <td>...</td>\n      <td>...</td>\n      <td>...</td>\n    </tr>\n    <tr>\n      <th>2020-05-31 09:00:00</th>\n      <td>0.0</td>\n      <td>0.0</td>\n      <td>0.0</td>\n      <td>0.0</td>\n    </tr>\n    <tr>\n      <th>2020-05-31 10:00:00</th>\n      <td>0.0</td>\n      <td>0.0</td>\n      <td>0.0</td>\n      <td>0.0</td>\n    </tr>\n    <tr>\n      <th>2020-05-31 11:00:00</th>\n      <td>0.0</td>\n      <td>0.0</td>\n      <td>0.0</td>\n      <td>0.0</td>\n    </tr>\n    <tr>\n      <th>2020-05-31 12:00:00</th>\n      <td>0.0</td>\n      <td>0.0</td>\n      <td>0.0</td>\n      <td>0.0</td>\n    </tr>\n    <tr>\n      <th>2020-05-31 13:00:00</th>\n      <td>0.0</td>\n      <td>0.0</td>\n      <td>0.0</td>\n      <td>0.0</td>\n    </tr>\n  </tbody>\n</table>\n<p>38695 rows × 4 columns</p>\n</div>"
     },
     "metadata": {},
     "execution_count": 48
    }
   ],
   "source": [
    "full_fire_localized = pd.read_csv('./data/fire_2016_to_2020_localize.csv', parse_dates=True, index_col=0)\n",
    "full_fire_localized"
   ]
  },
  {
   "cell_type": "code",
   "execution_count": 54,
   "metadata": {},
   "outputs": [],
   "source": [
    "# Integrate to full,imputed Test data\n",
    "mega = {}\n",
    "for province in provinces:\n",
    "    if province == 'Khon Kaen' : continue\n",
    "\n",
    "    # Read imputed data & Integrate the localized fire\n",
    "    df = pd.read_csv(f\"./data/Test/{province}_imputed.csv\", parse_dates=True, index_col=0)\n",
    "    mega[province] = df.merge(full_fire_localized, left_index=True, right_index=True, how='left')\n",
    "\n",
    "    # Save imputed, fire integrated Test data\n",
    "    path = f'./data/Test/fire_integrated/{province}_fire_integrated.csv'\n",
    "    if not os.path.exists(path):\n",
    "        mega[province].to_csv(path)\n",
    "    else:\n",
    "        print(f\"{province} already\")"
   ]
  },
  {
   "cell_type": "code",
   "execution_count": 53,
   "metadata": {},
   "outputs": [
    {
     "output_type": "execute_result",
     "data": {
      "text/plain": [
       "                     PM2.5  Temp(C)  WindDir  Wind Speed(km/h)  Cambodia_frp  \\\n",
       "2019-03-18 08:00:00   32.7     26.1     90.0              42.0      0.000000   \n",
       "2019-03-18 09:00:00   31.7     26.1     90.0              42.0      0.000000   \n",
       "2019-03-18 10:00:00   26.4     29.3     90.0              42.0      0.000000   \n",
       "2019-03-18 11:00:00   24.6     29.3     90.0              42.0      0.000000   \n",
       "2019-03-18 12:00:00   24.2     29.3     90.0              42.0     10.406856   \n",
       "...                    ...      ...      ...               ...           ...   \n",
       "2020-03-18 16:00:00   11.3     29.6    100.0              31.0      0.000000   \n",
       "2020-03-18 17:00:00   11.7     29.6    100.0              31.0      0.000000   \n",
       "2020-03-18 18:00:00   11.7     29.6    100.0              31.0      0.000000   \n",
       "2020-03-18 19:00:00   10.9     26.5    100.0              29.0      0.000000   \n",
       "2020-03-18 20:00:00   12.0     26.5    100.0              29.0      0.000000   \n",
       "\n",
       "                     Myanmar_frp  Thailand_frp  Lao_PDR_frp  \n",
       "2019-03-18 08:00:00       0.0000      0.000000     0.000000  \n",
       "2019-03-18 09:00:00       0.0000      0.000000     0.000000  \n",
       "2019-03-18 10:00:00       0.0000      0.000000     0.000000  \n",
       "2019-03-18 11:00:00       0.0000      0.000000     0.000000  \n",
       "2019-03-18 12:00:00      25.2634      6.844051    26.476113  \n",
       "...                          ...           ...          ...  \n",
       "2020-03-18 16:00:00       0.0000      1.495826     0.000000  \n",
       "2020-03-18 17:00:00       0.0000      0.000000     0.000000  \n",
       "2020-03-18 18:00:00       0.0000      0.000000     0.000000  \n",
       "2020-03-18 19:00:00       0.0000      0.000000     0.000000  \n",
       "2020-03-18 20:00:00       0.0000      0.000000     0.000000  \n",
       "\n",
       "[8797 rows x 8 columns]"
      ],
      "text/html": "<div>\n<style scoped>\n    .dataframe tbody tr th:only-of-type {\n        vertical-align: middle;\n    }\n\n    .dataframe tbody tr th {\n        vertical-align: top;\n    }\n\n    .dataframe thead th {\n        text-align: right;\n    }\n</style>\n<table border=\"1\" class=\"dataframe\">\n  <thead>\n    <tr style=\"text-align: right;\">\n      <th></th>\n      <th>PM2.5</th>\n      <th>Temp(C)</th>\n      <th>WindDir</th>\n      <th>Wind Speed(km/h)</th>\n      <th>Cambodia_frp</th>\n      <th>Myanmar_frp</th>\n      <th>Thailand_frp</th>\n      <th>Lao_PDR_frp</th>\n    </tr>\n  </thead>\n  <tbody>\n    <tr>\n      <th>2019-03-18 08:00:00</th>\n      <td>32.7</td>\n      <td>26.1</td>\n      <td>90.0</td>\n      <td>42.0</td>\n      <td>0.000000</td>\n      <td>0.0000</td>\n      <td>0.000000</td>\n      <td>0.000000</td>\n    </tr>\n    <tr>\n      <th>2019-03-18 09:00:00</th>\n      <td>31.7</td>\n      <td>26.1</td>\n      <td>90.0</td>\n      <td>42.0</td>\n      <td>0.000000</td>\n      <td>0.0000</td>\n      <td>0.000000</td>\n      <td>0.000000</td>\n    </tr>\n    <tr>\n      <th>2019-03-18 10:00:00</th>\n      <td>26.4</td>\n      <td>29.3</td>\n      <td>90.0</td>\n      <td>42.0</td>\n      <td>0.000000</td>\n      <td>0.0000</td>\n      <td>0.000000</td>\n      <td>0.000000</td>\n    </tr>\n    <tr>\n      <th>2019-03-18 11:00:00</th>\n      <td>24.6</td>\n      <td>29.3</td>\n      <td>90.0</td>\n      <td>42.0</td>\n      <td>0.000000</td>\n      <td>0.0000</td>\n      <td>0.000000</td>\n      <td>0.000000</td>\n    </tr>\n    <tr>\n      <th>2019-03-18 12:00:00</th>\n      <td>24.2</td>\n      <td>29.3</td>\n      <td>90.0</td>\n      <td>42.0</td>\n      <td>10.406856</td>\n      <td>25.2634</td>\n      <td>6.844051</td>\n      <td>26.476113</td>\n    </tr>\n    <tr>\n      <th>...</th>\n      <td>...</td>\n      <td>...</td>\n      <td>...</td>\n      <td>...</td>\n      <td>...</td>\n      <td>...</td>\n      <td>...</td>\n      <td>...</td>\n    </tr>\n    <tr>\n      <th>2020-03-18 16:00:00</th>\n      <td>11.3</td>\n      <td>29.6</td>\n      <td>100.0</td>\n      <td>31.0</td>\n      <td>0.000000</td>\n      <td>0.0000</td>\n      <td>1.495826</td>\n      <td>0.000000</td>\n    </tr>\n    <tr>\n      <th>2020-03-18 17:00:00</th>\n      <td>11.7</td>\n      <td>29.6</td>\n      <td>100.0</td>\n      <td>31.0</td>\n      <td>0.000000</td>\n      <td>0.0000</td>\n      <td>0.000000</td>\n      <td>0.000000</td>\n    </tr>\n    <tr>\n      <th>2020-03-18 18:00:00</th>\n      <td>11.7</td>\n      <td>29.6</td>\n      <td>100.0</td>\n      <td>31.0</td>\n      <td>0.000000</td>\n      <td>0.0000</td>\n      <td>0.000000</td>\n      <td>0.000000</td>\n    </tr>\n    <tr>\n      <th>2020-03-18 19:00:00</th>\n      <td>10.9</td>\n      <td>26.5</td>\n      <td>100.0</td>\n      <td>29.0</td>\n      <td>0.000000</td>\n      <td>0.0000</td>\n      <td>0.000000</td>\n      <td>0.000000</td>\n    </tr>\n    <tr>\n      <th>2020-03-18 20:00:00</th>\n      <td>12.0</td>\n      <td>26.5</td>\n      <td>100.0</td>\n      <td>29.0</td>\n      <td>0.000000</td>\n      <td>0.0000</td>\n      <td>0.000000</td>\n      <td>0.000000</td>\n    </tr>\n  </tbody>\n</table>\n<p>8797 rows × 8 columns</p>\n</div>"
     },
     "metadata": {},
     "execution_count": 53
    }
   ],
   "source": [
    "mega[province]"
   ]
  },
  {
   "cell_type": "code",
   "execution_count": 55,
   "metadata": {},
   "outputs": [
    {
     "output_type": "execute_result",
     "data": {
      "text/plain": [
       "                     PM2.5  Temp(C)  WindDir  Wind Speed(km/h)  Cambodia_frp  \\\n",
       "2019-03-18 08:00:00   32.7     26.1     90.0              42.0      0.000000   \n",
       "2019-03-18 09:00:00   31.7     26.1     90.0              42.0      0.000000   \n",
       "2019-03-18 10:00:00   26.4     29.3     90.0              42.0      0.000000   \n",
       "2019-03-18 11:00:00   24.6     29.3     90.0              42.0      0.000000   \n",
       "2019-03-18 12:00:00   24.2     29.3     90.0              42.0     10.406856   \n",
       "...                    ...      ...      ...               ...           ...   \n",
       "2020-03-18 16:00:00   11.3     29.6    100.0              31.0      0.000000   \n",
       "2020-03-18 17:00:00   11.7     29.6    100.0              31.0      0.000000   \n",
       "2020-03-18 18:00:00   11.7     29.6    100.0              31.0      0.000000   \n",
       "2020-03-18 19:00:00   10.9     26.5    100.0              29.0      0.000000   \n",
       "2020-03-18 20:00:00   12.0     26.5    100.0              29.0      0.000000   \n",
       "\n",
       "                     Myanmar_frp  Thailand_frp  Lao_PDR_frp  \n",
       "2019-03-18 08:00:00       0.0000      0.000000     0.000000  \n",
       "2019-03-18 09:00:00       0.0000      0.000000     0.000000  \n",
       "2019-03-18 10:00:00       0.0000      0.000000     0.000000  \n",
       "2019-03-18 11:00:00       0.0000      0.000000     0.000000  \n",
       "2019-03-18 12:00:00      25.2634      6.844051    26.476113  \n",
       "...                          ...           ...          ...  \n",
       "2020-03-18 16:00:00       0.0000      1.495826     0.000000  \n",
       "2020-03-18 17:00:00       0.0000      0.000000     0.000000  \n",
       "2020-03-18 18:00:00       0.0000      0.000000     0.000000  \n",
       "2020-03-18 19:00:00       0.0000      0.000000     0.000000  \n",
       "2020-03-18 20:00:00       0.0000      0.000000     0.000000  \n",
       "\n",
       "[8797 rows x 8 columns]"
      ],
      "text/html": "<div>\n<style scoped>\n    .dataframe tbody tr th:only-of-type {\n        vertical-align: middle;\n    }\n\n    .dataframe tbody tr th {\n        vertical-align: top;\n    }\n\n    .dataframe thead th {\n        text-align: right;\n    }\n</style>\n<table border=\"1\" class=\"dataframe\">\n  <thead>\n    <tr style=\"text-align: right;\">\n      <th></th>\n      <th>PM2.5</th>\n      <th>Temp(C)</th>\n      <th>WindDir</th>\n      <th>Wind Speed(km/h)</th>\n      <th>Cambodia_frp</th>\n      <th>Myanmar_frp</th>\n      <th>Thailand_frp</th>\n      <th>Lao_PDR_frp</th>\n    </tr>\n  </thead>\n  <tbody>\n    <tr>\n      <th>2019-03-18 08:00:00</th>\n      <td>32.7</td>\n      <td>26.1</td>\n      <td>90.0</td>\n      <td>42.0</td>\n      <td>0.000000</td>\n      <td>0.0000</td>\n      <td>0.000000</td>\n      <td>0.000000</td>\n    </tr>\n    <tr>\n      <th>2019-03-18 09:00:00</th>\n      <td>31.7</td>\n      <td>26.1</td>\n      <td>90.0</td>\n      <td>42.0</td>\n      <td>0.000000</td>\n      <td>0.0000</td>\n      <td>0.000000</td>\n      <td>0.000000</td>\n    </tr>\n    <tr>\n      <th>2019-03-18 10:00:00</th>\n      <td>26.4</td>\n      <td>29.3</td>\n      <td>90.0</td>\n      <td>42.0</td>\n      <td>0.000000</td>\n      <td>0.0000</td>\n      <td>0.000000</td>\n      <td>0.000000</td>\n    </tr>\n    <tr>\n      <th>2019-03-18 11:00:00</th>\n      <td>24.6</td>\n      <td>29.3</td>\n      <td>90.0</td>\n      <td>42.0</td>\n      <td>0.000000</td>\n      <td>0.0000</td>\n      <td>0.000000</td>\n      <td>0.000000</td>\n    </tr>\n    <tr>\n      <th>2019-03-18 12:00:00</th>\n      <td>24.2</td>\n      <td>29.3</td>\n      <td>90.0</td>\n      <td>42.0</td>\n      <td>10.406856</td>\n      <td>25.2634</td>\n      <td>6.844051</td>\n      <td>26.476113</td>\n    </tr>\n    <tr>\n      <th>...</th>\n      <td>...</td>\n      <td>...</td>\n      <td>...</td>\n      <td>...</td>\n      <td>...</td>\n      <td>...</td>\n      <td>...</td>\n      <td>...</td>\n    </tr>\n    <tr>\n      <th>2020-03-18 16:00:00</th>\n      <td>11.3</td>\n      <td>29.6</td>\n      <td>100.0</td>\n      <td>31.0</td>\n      <td>0.000000</td>\n      <td>0.0000</td>\n      <td>1.495826</td>\n      <td>0.000000</td>\n    </tr>\n    <tr>\n      <th>2020-03-18 17:00:00</th>\n      <td>11.7</td>\n      <td>29.6</td>\n      <td>100.0</td>\n      <td>31.0</td>\n      <td>0.000000</td>\n      <td>0.0000</td>\n      <td>0.000000</td>\n      <td>0.000000</td>\n    </tr>\n    <tr>\n      <th>2020-03-18 18:00:00</th>\n      <td>11.7</td>\n      <td>29.6</td>\n      <td>100.0</td>\n      <td>31.0</td>\n      <td>0.000000</td>\n      <td>0.0000</td>\n      <td>0.000000</td>\n      <td>0.000000</td>\n    </tr>\n    <tr>\n      <th>2020-03-18 19:00:00</th>\n      <td>10.9</td>\n      <td>26.5</td>\n      <td>100.0</td>\n      <td>29.0</td>\n      <td>0.000000</td>\n      <td>0.0000</td>\n      <td>0.000000</td>\n      <td>0.000000</td>\n    </tr>\n    <tr>\n      <th>2020-03-18 20:00:00</th>\n      <td>12.0</td>\n      <td>26.5</td>\n      <td>100.0</td>\n      <td>29.0</td>\n      <td>0.000000</td>\n      <td>0.0000</td>\n      <td>0.000000</td>\n      <td>0.000000</td>\n    </tr>\n  </tbody>\n</table>\n<p>8797 rows × 8 columns</p>\n</div>"
     },
     "metadata": {},
     "execution_count": 55
    }
   ],
   "source": [
    "mega[province]"
   ]
  },
  {
   "cell_type": "code",
   "execution_count": null,
   "metadata": {},
   "outputs": [],
   "source": []
  }
 ]
}