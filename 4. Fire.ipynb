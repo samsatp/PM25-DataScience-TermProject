{
 "metadata": {
  "language_info": {
   "codemirror_mode": {
    "name": "ipython",
    "version": 3
   },
   "file_extension": ".py",
   "mimetype": "text/x-python",
   "name": "python",
   "nbconvert_exporter": "python",
   "pygments_lexer": "ipython3",
   "version": "3.8.3-final"
  },
  "orig_nbformat": 2,
  "kernelspec": {
   "name": "python383jvsc74a57bd0a9c2c22397b07014c1cd4f0e704763f14b6d6b76ade59c4da849259a43dd80ef",
   "display_name": "Python 3.8.3 32-bit"
  },
  "metadata": {
   "interpreter": {
    "hash": "a9c2c22397b07014c1cd4f0e704763f14b6d6b76ade59c4da849259a43dd80ef"
   }
  }
 },
 "nbformat": 4,
 "nbformat_minor": 2,
 "cells": [
  {
   "cell_type": "code",
   "execution_count": 1,
   "metadata": {},
   "outputs": [],
   "source": [
    "import pandas as pd\n",
    "import numpy as np\n",
    "import os"
   ]
  },
  {
   "source": [
    "# Extract Fire data"
   ],
   "cell_type": "markdown",
   "metadata": {}
  },
  {
   "cell_type": "code",
   "execution_count": 12,
   "metadata": {},
   "outputs": [],
   "source": [
    "years = ['2016','2017','2018','2019']\n",
    "countries = ['Cambodia','Myanmar','Thailand','Lao_PDR']\n",
    "\n",
    "fire = {'2016':{}, '2017':{}, '2018':{}, '2019':{}}\n",
    "data = {}"
   ]
  },
  {
   "cell_type": "code",
   "execution_count": 13,
   "metadata": {},
   "outputs": [],
   "source": [
    "for year in years:\n",
    "    timeline = pd.date_range(start=f'{year}-01-01', end=f'{year}-12-31 23:00:00', freq='H')\n",
    "    left = pd.DataFrame(index=timeline)\n",
    "    for country in countries:\n",
    "        df = pd.read_csv(f'./Fire hotspot/viirs-snpp_{year}_{country}.csv')\n",
    "        df['hour'] = df['acq_time'].apply(str).str[:-2]\n",
    "        df['datetime'] = pd.to_datetime(df['acq_date']+'T'+df['hour'].str.zfill(2), \n",
    "                            format='%Y-%m-%dT%H')   \n",
    "\n",
    "        # Assume : frp represent brightness\n",
    "        df = df[['frp','datetime']]\n",
    "        df.rename(columns={'frp':country+'_frp'}, inplace=True)\n",
    "\n",
    "        # Assume : ไม่มีค่าไฟใน record = ไม่มีไฟ -> frp = 0\n",
    "        df = df.groupby('datetime').mean()\n",
    "        df = df.resample('H').mean().fillna(value=0.0)\n",
    "        left = left.merge(df, how='left', left_index=True, right_index=True)\n",
    "    data[year] = left.fillna(value=0.0)\n",
    "                "
   ]
  },
  {
   "cell_type": "code",
   "execution_count": 14,
   "metadata": {},
   "outputs": [],
   "source": [
    "fire_all = pd.concat(data)\n",
    "fire_all.index = fire_all.index.levels[1]"
   ]
  },
  {
   "cell_type": "code",
   "execution_count": 15,
   "metadata": {},
   "outputs": [
    {
     "output_type": "execute_result",
     "data": {
      "text/plain": [
       "                     Cambodia_frp  Myanmar_frp  Thailand_frp  Lao_PDR_frp\n",
       "2016-01-01 00:00:00           0.0        0.000      0.000000          0.0\n",
       "2016-01-01 01:00:00           0.0        0.000      0.000000          0.0\n",
       "2016-01-01 02:00:00           0.0        0.000      0.000000          0.0\n",
       "2016-01-01 03:00:00           0.0        0.000      0.000000          0.0\n",
       "2016-01-01 04:00:00           0.0        0.000      0.000000          0.0\n",
       "...                           ...          ...           ...          ...\n",
       "2019-12-31 19:00:00           0.0        0.612      1.628704          0.0\n",
       "2019-12-31 20:00:00           0.0        0.000      0.000000          0.0\n",
       "2019-12-31 21:00:00           0.0        0.000      0.000000          0.0\n",
       "2019-12-31 22:00:00           0.0        0.000      0.000000          0.0\n",
       "2019-12-31 23:00:00           0.0        0.000      0.000000          0.0\n",
       "\n",
       "[35064 rows x 4 columns]"
      ],
      "text/html": "<div>\n<style scoped>\n    .dataframe tbody tr th:only-of-type {\n        vertical-align: middle;\n    }\n\n    .dataframe tbody tr th {\n        vertical-align: top;\n    }\n\n    .dataframe thead th {\n        text-align: right;\n    }\n</style>\n<table border=\"1\" class=\"dataframe\">\n  <thead>\n    <tr style=\"text-align: right;\">\n      <th></th>\n      <th>Cambodia_frp</th>\n      <th>Myanmar_frp</th>\n      <th>Thailand_frp</th>\n      <th>Lao_PDR_frp</th>\n    </tr>\n  </thead>\n  <tbody>\n    <tr>\n      <th>2016-01-01 00:00:00</th>\n      <td>0.0</td>\n      <td>0.000</td>\n      <td>0.000000</td>\n      <td>0.0</td>\n    </tr>\n    <tr>\n      <th>2016-01-01 01:00:00</th>\n      <td>0.0</td>\n      <td>0.000</td>\n      <td>0.000000</td>\n      <td>0.0</td>\n    </tr>\n    <tr>\n      <th>2016-01-01 02:00:00</th>\n      <td>0.0</td>\n      <td>0.000</td>\n      <td>0.000000</td>\n      <td>0.0</td>\n    </tr>\n    <tr>\n      <th>2016-01-01 03:00:00</th>\n      <td>0.0</td>\n      <td>0.000</td>\n      <td>0.000000</td>\n      <td>0.0</td>\n    </tr>\n    <tr>\n      <th>2016-01-01 04:00:00</th>\n      <td>0.0</td>\n      <td>0.000</td>\n      <td>0.000000</td>\n      <td>0.0</td>\n    </tr>\n    <tr>\n      <th>...</th>\n      <td>...</td>\n      <td>...</td>\n      <td>...</td>\n      <td>...</td>\n    </tr>\n    <tr>\n      <th>2019-12-31 19:00:00</th>\n      <td>0.0</td>\n      <td>0.612</td>\n      <td>1.628704</td>\n      <td>0.0</td>\n    </tr>\n    <tr>\n      <th>2019-12-31 20:00:00</th>\n      <td>0.0</td>\n      <td>0.000</td>\n      <td>0.000000</td>\n      <td>0.0</td>\n    </tr>\n    <tr>\n      <th>2019-12-31 21:00:00</th>\n      <td>0.0</td>\n      <td>0.000</td>\n      <td>0.000000</td>\n      <td>0.0</td>\n    </tr>\n    <tr>\n      <th>2019-12-31 22:00:00</th>\n      <td>0.0</td>\n      <td>0.000</td>\n      <td>0.000000</td>\n      <td>0.0</td>\n    </tr>\n    <tr>\n      <th>2019-12-31 23:00:00</th>\n      <td>0.0</td>\n      <td>0.000</td>\n      <td>0.000000</td>\n      <td>0.0</td>\n    </tr>\n  </tbody>\n</table>\n<p>35064 rows × 4 columns</p>\n</div>"
     },
     "metadata": {},
     "execution_count": 15
    }
   ],
   "source": [
    "fire_all"
   ]
  },
  {
   "cell_type": "code",
   "execution_count": 16,
   "metadata": {},
   "outputs": [],
   "source": [
    "provinces = ['Bangkok','Chanthaburi','Chiang Mai','Kanchanaburi','Khon Kaen','Songkhla']\n",
    "mega = {}\n",
    "\n",
    "for province in provinces:\n",
    "    if province == 'Khon Kaen' : continue\n",
    "    df = pd.read_csv(f\"./data/Train/{province}_imputed.csv\", parse_dates=True, index_col=0)\n",
    "    mega[province] = df.merge(fire_all, left_index=True, right_index=True, how='left')"
   ]
  },
  {
   "cell_type": "code",
   "execution_count": 17,
   "metadata": {},
   "outputs": [
    {
     "output_type": "execute_result",
     "data": {
      "text/plain": [
       "                     PM2.5  Temp(C)  WindDir  Wind Speed(km/h)  Cambodia_frp  \\\n",
       "2016-03-03 08:00:00  62.90     26.4     65.0              15.0      0.000000   \n",
       "2016-03-03 09:00:00  62.90     26.4     65.0              15.0      0.000000   \n",
       "2016-03-03 10:00:00  55.50     31.4     75.0              13.0      0.000000   \n",
       "2016-03-03 11:00:00  55.50     31.4     75.0              13.0      0.000000   \n",
       "2016-03-03 12:00:00  47.90     31.4     75.0              13.0      0.000000   \n",
       "2016-03-03 13:00:00  43.60     34.1     70.0              12.0      0.000000   \n",
       "2016-03-03 14:00:00  28.60     34.1     70.0              12.0      0.000000   \n",
       "2016-03-03 15:00:00  33.60     34.1     70.0              12.0      0.000000   \n",
       "2016-03-03 16:00:00  34.80     34.6     60.0              12.0      0.000000   \n",
       "2016-03-03 17:00:00  31.30     34.6     60.0              12.0      0.000000   \n",
       "2016-03-03 18:00:00  45.12     34.6     60.0              12.0      1.574234   \n",
       "2016-03-03 19:00:00  42.10     29.1     70.0              11.0      0.000000   \n",
       "2016-03-03 20:00:00  38.60     29.1     70.0              11.0      0.000000   \n",
       "2016-03-03 21:00:00  45.50     29.1     70.0              11.0      0.000000   \n",
       "2016-03-03 22:00:00  49.90     27.3     70.0              15.0      0.000000   \n",
       "2016-03-03 23:00:00  44.10     27.3     70.0              15.0      0.000000   \n",
       "\n",
       "                     Myanmar_frp  Thailand_frp  Lao_PDR_frp  \n",
       "2016-03-03 08:00:00     0.000000      0.000000     0.000000  \n",
       "2016-03-03 09:00:00     0.000000      0.000000     0.000000  \n",
       "2016-03-03 10:00:00     0.000000      0.000000     0.000000  \n",
       "2016-03-03 11:00:00     0.000000      0.000000     0.000000  \n",
       "2016-03-03 12:00:00     0.000000      0.000000     0.000000  \n",
       "2016-03-03 13:00:00     0.000000      0.000000     0.000000  \n",
       "2016-03-03 14:00:00     0.000000      0.000000     0.000000  \n",
       "2016-03-03 15:00:00     0.000000      0.000000     0.000000  \n",
       "2016-03-03 16:00:00     0.000000      0.000000     0.000000  \n",
       "2016-03-03 17:00:00     0.000000      0.000000     0.000000  \n",
       "2016-03-03 18:00:00     1.505772      1.435772     1.274845  \n",
       "2016-03-03 19:00:00     1.238528      4.120000     0.000000  \n",
       "2016-03-03 20:00:00     0.000000      0.000000     0.000000  \n",
       "2016-03-03 21:00:00     0.000000      0.000000     0.000000  \n",
       "2016-03-03 22:00:00     0.000000      0.000000     0.000000  \n",
       "2016-03-03 23:00:00     0.000000      0.000000     0.000000  "
      ],
      "text/html": "<div>\n<style scoped>\n    .dataframe tbody tr th:only-of-type {\n        vertical-align: middle;\n    }\n\n    .dataframe tbody tr th {\n        vertical-align: top;\n    }\n\n    .dataframe thead th {\n        text-align: right;\n    }\n</style>\n<table border=\"1\" class=\"dataframe\">\n  <thead>\n    <tr style=\"text-align: right;\">\n      <th></th>\n      <th>PM2.5</th>\n      <th>Temp(C)</th>\n      <th>WindDir</th>\n      <th>Wind Speed(km/h)</th>\n      <th>Cambodia_frp</th>\n      <th>Myanmar_frp</th>\n      <th>Thailand_frp</th>\n      <th>Lao_PDR_frp</th>\n    </tr>\n  </thead>\n  <tbody>\n    <tr>\n      <th>2016-03-03 08:00:00</th>\n      <td>62.90</td>\n      <td>26.4</td>\n      <td>65.0</td>\n      <td>15.0</td>\n      <td>0.000000</td>\n      <td>0.000000</td>\n      <td>0.000000</td>\n      <td>0.000000</td>\n    </tr>\n    <tr>\n      <th>2016-03-03 09:00:00</th>\n      <td>62.90</td>\n      <td>26.4</td>\n      <td>65.0</td>\n      <td>15.0</td>\n      <td>0.000000</td>\n      <td>0.000000</td>\n      <td>0.000000</td>\n      <td>0.000000</td>\n    </tr>\n    <tr>\n      <th>2016-03-03 10:00:00</th>\n      <td>55.50</td>\n      <td>31.4</td>\n      <td>75.0</td>\n      <td>13.0</td>\n      <td>0.000000</td>\n      <td>0.000000</td>\n      <td>0.000000</td>\n      <td>0.000000</td>\n    </tr>\n    <tr>\n      <th>2016-03-03 11:00:00</th>\n      <td>55.50</td>\n      <td>31.4</td>\n      <td>75.0</td>\n      <td>13.0</td>\n      <td>0.000000</td>\n      <td>0.000000</td>\n      <td>0.000000</td>\n      <td>0.000000</td>\n    </tr>\n    <tr>\n      <th>2016-03-03 12:00:00</th>\n      <td>47.90</td>\n      <td>31.4</td>\n      <td>75.0</td>\n      <td>13.0</td>\n      <td>0.000000</td>\n      <td>0.000000</td>\n      <td>0.000000</td>\n      <td>0.000000</td>\n    </tr>\n    <tr>\n      <th>2016-03-03 13:00:00</th>\n      <td>43.60</td>\n      <td>34.1</td>\n      <td>70.0</td>\n      <td>12.0</td>\n      <td>0.000000</td>\n      <td>0.000000</td>\n      <td>0.000000</td>\n      <td>0.000000</td>\n    </tr>\n    <tr>\n      <th>2016-03-03 14:00:00</th>\n      <td>28.60</td>\n      <td>34.1</td>\n      <td>70.0</td>\n      <td>12.0</td>\n      <td>0.000000</td>\n      <td>0.000000</td>\n      <td>0.000000</td>\n      <td>0.000000</td>\n    </tr>\n    <tr>\n      <th>2016-03-03 15:00:00</th>\n      <td>33.60</td>\n      <td>34.1</td>\n      <td>70.0</td>\n      <td>12.0</td>\n      <td>0.000000</td>\n      <td>0.000000</td>\n      <td>0.000000</td>\n      <td>0.000000</td>\n    </tr>\n    <tr>\n      <th>2016-03-03 16:00:00</th>\n      <td>34.80</td>\n      <td>34.6</td>\n      <td>60.0</td>\n      <td>12.0</td>\n      <td>0.000000</td>\n      <td>0.000000</td>\n      <td>0.000000</td>\n      <td>0.000000</td>\n    </tr>\n    <tr>\n      <th>2016-03-03 17:00:00</th>\n      <td>31.30</td>\n      <td>34.6</td>\n      <td>60.0</td>\n      <td>12.0</td>\n      <td>0.000000</td>\n      <td>0.000000</td>\n      <td>0.000000</td>\n      <td>0.000000</td>\n    </tr>\n    <tr>\n      <th>2016-03-03 18:00:00</th>\n      <td>45.12</td>\n      <td>34.6</td>\n      <td>60.0</td>\n      <td>12.0</td>\n      <td>1.574234</td>\n      <td>1.505772</td>\n      <td>1.435772</td>\n      <td>1.274845</td>\n    </tr>\n    <tr>\n      <th>2016-03-03 19:00:00</th>\n      <td>42.10</td>\n      <td>29.1</td>\n      <td>70.0</td>\n      <td>11.0</td>\n      <td>0.000000</td>\n      <td>1.238528</td>\n      <td>4.120000</td>\n      <td>0.000000</td>\n    </tr>\n    <tr>\n      <th>2016-03-03 20:00:00</th>\n      <td>38.60</td>\n      <td>29.1</td>\n      <td>70.0</td>\n      <td>11.0</td>\n      <td>0.000000</td>\n      <td>0.000000</td>\n      <td>0.000000</td>\n      <td>0.000000</td>\n    </tr>\n    <tr>\n      <th>2016-03-03 21:00:00</th>\n      <td>45.50</td>\n      <td>29.1</td>\n      <td>70.0</td>\n      <td>11.0</td>\n      <td>0.000000</td>\n      <td>0.000000</td>\n      <td>0.000000</td>\n      <td>0.000000</td>\n    </tr>\n    <tr>\n      <th>2016-03-03 22:00:00</th>\n      <td>49.90</td>\n      <td>27.3</td>\n      <td>70.0</td>\n      <td>15.0</td>\n      <td>0.000000</td>\n      <td>0.000000</td>\n      <td>0.000000</td>\n      <td>0.000000</td>\n    </tr>\n    <tr>\n      <th>2016-03-03 23:00:00</th>\n      <td>44.10</td>\n      <td>27.3</td>\n      <td>70.0</td>\n      <td>15.0</td>\n      <td>0.000000</td>\n      <td>0.000000</td>\n      <td>0.000000</td>\n      <td>0.000000</td>\n    </tr>\n  </tbody>\n</table>\n</div>"
     },
     "metadata": {},
     "execution_count": 17
    }
   ],
   "source": [
    "mega['Bangkok'].loc['2016-3-3']"
   ]
  },
  {
   "cell_type": "code",
   "execution_count": 82,
   "metadata": {},
   "outputs": [
    {
     "output_type": "execute_result",
     "data": {
      "text/plain": [
       "                     PM2.5  Temp(C)  WindDir  Wind Speed(km/h)  Cambodia_frp  \\\n",
       "2016-03-03 08:00:00  62.90     26.4     65.0              15.0      8.984035   \n",
       "2016-03-03 09:00:00  62.90     26.4     65.0              15.0      8.984035   \n",
       "2016-03-03 10:00:00  55.50     31.4     75.0              13.0      8.984035   \n",
       "2016-03-03 11:00:00  55.50     31.4     75.0              13.0      8.984035   \n",
       "2016-03-03 12:00:00  47.90     31.4     75.0              13.0      8.984035   \n",
       "2016-03-03 13:00:00  43.60     34.1     70.0              12.0      8.984035   \n",
       "2016-03-03 14:00:00  28.60     34.1     70.0              12.0      8.984035   \n",
       "2016-03-03 15:00:00  33.60     34.1     70.0              12.0      8.984035   \n",
       "2016-03-03 16:00:00  34.80     34.6     60.0              12.0      8.984035   \n",
       "2016-03-03 17:00:00  31.30     34.6     60.0              12.0      8.984035   \n",
       "2016-03-03 18:00:00  45.12     34.6     60.0              12.0      1.574234   \n",
       "2016-03-03 19:00:00  42.10     29.1     70.0              11.0      1.574234   \n",
       "2016-03-03 20:00:00  38.60     29.1     70.0              11.0      1.574234   \n",
       "2016-03-03 21:00:00  45.50     29.1     70.0              11.0      1.574234   \n",
       "2016-03-03 22:00:00  49.90     27.3     70.0              15.0      1.574234   \n",
       "2016-03-03 23:00:00  44.10     27.3     70.0              15.0      1.574234   \n",
       "\n",
       "                     Myanmar_frp  Thailand_frp  Lao_PDR_frp  \n",
       "2016-03-03 08:00:00     8.099819      9.423972     7.991304  \n",
       "2016-03-03 09:00:00     8.099819      9.423972     7.991304  \n",
       "2016-03-03 10:00:00     8.099819      9.423972     7.991304  \n",
       "2016-03-03 11:00:00     8.099819      9.423972     7.991304  \n",
       "2016-03-03 12:00:00     8.099819      9.423972     7.991304  \n",
       "2016-03-03 13:00:00     8.099819      9.423972     7.991304  \n",
       "2016-03-03 14:00:00     8.099819      9.423972     7.991304  \n",
       "2016-03-03 15:00:00     8.099819      9.423972     7.991304  \n",
       "2016-03-03 16:00:00     8.099819      9.423972     7.991304  \n",
       "2016-03-03 17:00:00     8.099819      9.423972     7.991304  \n",
       "2016-03-03 18:00:00     1.505772      1.435772     1.274845  \n",
       "2016-03-03 19:00:00     1.238528      4.120000     1.274845  \n",
       "2016-03-03 20:00:00     1.238528      4.120000     1.274845  \n",
       "2016-03-03 21:00:00     1.238528      4.120000     1.274845  \n",
       "2016-03-03 22:00:00     1.238528      4.120000     1.274845  \n",
       "2016-03-03 23:00:00     1.238528      4.120000     1.274845  "
      ],
      "text/html": "<div>\n<style scoped>\n    .dataframe tbody tr th:only-of-type {\n        vertical-align: middle;\n    }\n\n    .dataframe tbody tr th {\n        vertical-align: top;\n    }\n\n    .dataframe thead th {\n        text-align: right;\n    }\n</style>\n<table border=\"1\" class=\"dataframe\">\n  <thead>\n    <tr style=\"text-align: right;\">\n      <th></th>\n      <th>PM2.5</th>\n      <th>Temp(C)</th>\n      <th>WindDir</th>\n      <th>Wind Speed(km/h)</th>\n      <th>Cambodia_frp</th>\n      <th>Myanmar_frp</th>\n      <th>Thailand_frp</th>\n      <th>Lao_PDR_frp</th>\n    </tr>\n  </thead>\n  <tbody>\n    <tr>\n      <th>2016-03-03 08:00:00</th>\n      <td>62.90</td>\n      <td>26.4</td>\n      <td>65.0</td>\n      <td>15.0</td>\n      <td>8.984035</td>\n      <td>8.099819</td>\n      <td>9.423972</td>\n      <td>7.991304</td>\n    </tr>\n    <tr>\n      <th>2016-03-03 09:00:00</th>\n      <td>62.90</td>\n      <td>26.4</td>\n      <td>65.0</td>\n      <td>15.0</td>\n      <td>8.984035</td>\n      <td>8.099819</td>\n      <td>9.423972</td>\n      <td>7.991304</td>\n    </tr>\n    <tr>\n      <th>2016-03-03 10:00:00</th>\n      <td>55.50</td>\n      <td>31.4</td>\n      <td>75.0</td>\n      <td>13.0</td>\n      <td>8.984035</td>\n      <td>8.099819</td>\n      <td>9.423972</td>\n      <td>7.991304</td>\n    </tr>\n    <tr>\n      <th>2016-03-03 11:00:00</th>\n      <td>55.50</td>\n      <td>31.4</td>\n      <td>75.0</td>\n      <td>13.0</td>\n      <td>8.984035</td>\n      <td>8.099819</td>\n      <td>9.423972</td>\n      <td>7.991304</td>\n    </tr>\n    <tr>\n      <th>2016-03-03 12:00:00</th>\n      <td>47.90</td>\n      <td>31.4</td>\n      <td>75.0</td>\n      <td>13.0</td>\n      <td>8.984035</td>\n      <td>8.099819</td>\n      <td>9.423972</td>\n      <td>7.991304</td>\n    </tr>\n    <tr>\n      <th>2016-03-03 13:00:00</th>\n      <td>43.60</td>\n      <td>34.1</td>\n      <td>70.0</td>\n      <td>12.0</td>\n      <td>8.984035</td>\n      <td>8.099819</td>\n      <td>9.423972</td>\n      <td>7.991304</td>\n    </tr>\n    <tr>\n      <th>2016-03-03 14:00:00</th>\n      <td>28.60</td>\n      <td>34.1</td>\n      <td>70.0</td>\n      <td>12.0</td>\n      <td>8.984035</td>\n      <td>8.099819</td>\n      <td>9.423972</td>\n      <td>7.991304</td>\n    </tr>\n    <tr>\n      <th>2016-03-03 15:00:00</th>\n      <td>33.60</td>\n      <td>34.1</td>\n      <td>70.0</td>\n      <td>12.0</td>\n      <td>8.984035</td>\n      <td>8.099819</td>\n      <td>9.423972</td>\n      <td>7.991304</td>\n    </tr>\n    <tr>\n      <th>2016-03-03 16:00:00</th>\n      <td>34.80</td>\n      <td>34.6</td>\n      <td>60.0</td>\n      <td>12.0</td>\n      <td>8.984035</td>\n      <td>8.099819</td>\n      <td>9.423972</td>\n      <td>7.991304</td>\n    </tr>\n    <tr>\n      <th>2016-03-03 17:00:00</th>\n      <td>31.30</td>\n      <td>34.6</td>\n      <td>60.0</td>\n      <td>12.0</td>\n      <td>8.984035</td>\n      <td>8.099819</td>\n      <td>9.423972</td>\n      <td>7.991304</td>\n    </tr>\n    <tr>\n      <th>2016-03-03 18:00:00</th>\n      <td>45.12</td>\n      <td>34.6</td>\n      <td>60.0</td>\n      <td>12.0</td>\n      <td>1.574234</td>\n      <td>1.505772</td>\n      <td>1.435772</td>\n      <td>1.274845</td>\n    </tr>\n    <tr>\n      <th>2016-03-03 19:00:00</th>\n      <td>42.10</td>\n      <td>29.1</td>\n      <td>70.0</td>\n      <td>11.0</td>\n      <td>1.574234</td>\n      <td>1.238528</td>\n      <td>4.120000</td>\n      <td>1.274845</td>\n    </tr>\n    <tr>\n      <th>2016-03-03 20:00:00</th>\n      <td>38.60</td>\n      <td>29.1</td>\n      <td>70.0</td>\n      <td>11.0</td>\n      <td>1.574234</td>\n      <td>1.238528</td>\n      <td>4.120000</td>\n      <td>1.274845</td>\n    </tr>\n    <tr>\n      <th>2016-03-03 21:00:00</th>\n      <td>45.50</td>\n      <td>29.1</td>\n      <td>70.0</td>\n      <td>11.0</td>\n      <td>1.574234</td>\n      <td>1.238528</td>\n      <td>4.120000</td>\n      <td>1.274845</td>\n    </tr>\n    <tr>\n      <th>2016-03-03 22:00:00</th>\n      <td>49.90</td>\n      <td>27.3</td>\n      <td>70.0</td>\n      <td>15.0</td>\n      <td>1.574234</td>\n      <td>1.238528</td>\n      <td>4.120000</td>\n      <td>1.274845</td>\n    </tr>\n    <tr>\n      <th>2016-03-03 23:00:00</th>\n      <td>44.10</td>\n      <td>27.3</td>\n      <td>70.0</td>\n      <td>15.0</td>\n      <td>1.574234</td>\n      <td>1.238528</td>\n      <td>4.120000</td>\n      <td>1.274845</td>\n    </tr>\n  </tbody>\n</table>\n</div>"
     },
     "metadata": {},
     "execution_count": 82
    }
   ],
   "source": [
    "mega['Bangkok'].loc['2016-3-3']"
   ]
  },
  {
   "source": [
    "## Save extracted data"
   ],
   "cell_type": "markdown",
   "metadata": {}
  },
  {
   "cell_type": "code",
   "execution_count": 18,
   "metadata": {},
   "outputs": [],
   "source": [
    "for province in provinces:\n",
    "    if province == 'Khon Kaen' : continue\n",
    "    path = f'./data/Train/fire_integrated/{province}_fire_integrated.csv'\n",
    "    if not os.path.exists(path):\n",
    "        mega[province].to_csv(path)\n",
    "    else:\n",
    "        print(f\"{province} already\")"
   ]
  },
  {
   "source": [
    "save ข้อมูลไฟทั้งหมด เก็บไว้ใช้ต่อกับ test set"
   ],
   "cell_type": "markdown",
   "metadata": {}
  },
  {
   "cell_type": "code",
   "execution_count": 35,
   "metadata": {},
   "outputs": [
    {
     "output_type": "stream",
     "name": "stdout",
     "text": [
      "already\n"
     ]
    }
   ],
   "source": [
    "import glob\n",
    "\n",
    "if len(glob.glob(\"./data/*.csv\"))==0:\n",
    "    fire_all.to_csv('./data/fire_2016_to_2019.csv')\n",
    "else:\n",
    "    print('already')"
   ]
  },
  {
   "cell_type": "code",
   "execution_count": null,
   "metadata": {},
   "outputs": [],
   "source": []
  }
 ]
}