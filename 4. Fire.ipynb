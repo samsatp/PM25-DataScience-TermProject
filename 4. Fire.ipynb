{
 "metadata": {
  "language_info": {
   "codemirror_mode": {
    "name": "ipython",
    "version": 3
   },
   "file_extension": ".py",
   "mimetype": "text/x-python",
   "name": "python",
   "nbconvert_exporter": "python",
   "pygments_lexer": "ipython3",
   "version": "3.8.3"
  },
  "orig_nbformat": 2,
  "kernelspec": {
   "name": "python383jvsc74a57bd0a9c2c22397b07014c1cd4f0e704763f14b6d6b76ade59c4da849259a43dd80ef",
   "display_name": "Python 3.8.3 32-bit"
  },
  "metadata": {
   "interpreter": {
    "hash": "a9c2c22397b07014c1cd4f0e704763f14b6d6b76ade59c4da849259a43dd80ef"
   }
  }
 },
 "nbformat": 4,
 "nbformat_minor": 2,
 "cells": [
  {
   "cell_type": "code",
   "execution_count": 1,
   "metadata": {},
   "outputs": [],
   "source": [
    "import pandas as pd\n",
    "import numpy as np\n",
    "import os\n",
    "from datetime import timedelta"
   ]
  },
  {
   "source": [
    "# Extract Fire data\n",
    "There are 2 types of fire data\n",
    "- Country labeled dataset\n",
    "- Unlabeled dataset\n",
    "\n",
    "This first part will deal with labeled one."
   ],
   "cell_type": "markdown",
   "metadata": {}
  },
  {
   "cell_type": "code",
   "execution_count": 2,
   "metadata": {},
   "outputs": [],
   "source": [
    "years = ['2016','2017','2018','2019']\n",
    "countries = ['Cambodia','Myanmar','Thailand','Lao_PDR']\n",
    "\n",
    "fire = {'2016':{}, '2017':{}, '2018':{}, '2019':{}}"
   ]
  },
  {
   "source": [
    "Load all the data (all years, all countries) and transform them."
   ],
   "cell_type": "markdown",
   "metadata": {}
  },
  {
   "cell_type": "code",
   "execution_count": 3,
   "metadata": {},
   "outputs": [],
   "source": [
    "data = {}\n",
    "\n",
    "for year in years:\n",
    "    # Create full timeline\n",
    "    timeline = pd.date_range(start=f'{year}-01-01', end=f'{year}-12-31 23:00:00', freq='H')\n",
    "    left = pd.DataFrame(index=timeline)\n",
    "    for country in countries:\n",
    "\n",
    "        # Import data & manually parse dates\n",
    "        df = pd.read_csv(f'./Fire hotspot/viirs-snpp_{year}_{country}.csv')\n",
    "        df['hour'] = df['acq_time'].apply(str).str[:-2]\n",
    "        df['datetime'] = pd.to_datetime(df['acq_date']+'T'+df['hour'].str.zfill(2), \n",
    "                            format='%Y-%m-%dT%H')   \n",
    "\n",
    "        # Assume : frp represent brightness\n",
    "        df = df[['latitude','longitude','frp','datetime']]\n",
    "        df.rename(columns={'frp':country+'_frp'}, inplace=True)\n",
    "        df.rename(columns={'latitude':country+'_lat'}, inplace=True)\n",
    "        df.rename(columns={'longitude':country+'_long'}, inplace=True)\n",
    "\n",
    "        # Assume : ไม่มีค่าไฟใน record = ไม่มีไฟ -> frp = 0\n",
    "        df = df.groupby('datetime').mean()\n",
    "        df = df.resample('H').mean().fillna(value=0.0)\n",
    "        left = left.merge(df, how='left', left_index=True, right_index=True)\n",
    "    data[year] = left.fillna(value=0.0)"
   ]
  },
  {
   "source": [
    "Assemble them as the <u><strong>fire data for 2016 - 2019</strong></u>. And record the max, min of latitude, longitude of each country for further use."
   ],
   "cell_type": "markdown",
   "metadata": {}
  },
  {
   "cell_type": "code",
   "execution_count": 7,
   "metadata": {},
   "outputs": [],
   "source": [
    "fire_all = pd.concat(data)\n",
    "fire_all.index = fire_all.index.levels[1]\n",
    "\n",
    "records = {}\n",
    "will_drop = []\n",
    "for c in countries:\n",
    "    records[c] = {'lat':\n",
    "                    {'min':fire_all[c+'_lat'].min(),\n",
    "                     'max':fire_all[c+'_lat'].max()},\n",
    "                  'long':\n",
    "                    {'min':fire_all[c+'_long'].min(),\n",
    "                     'max':fire_all[c+'_long'].max()}\n",
    "                  }\n",
    "    will_drop += [c+'_lat', c+'_long']\n",
    "\n",
    "fire_all.drop(will_drop, inplace=True, axis=1)"
   ]
  },
  {
   "cell_type": "code",
   "execution_count": 8,
   "metadata": {},
   "outputs": [
    {
     "output_type": "execute_result",
     "data": {
      "text/plain": [
       "                     Cambodia_frp  Myanmar_frp  Thailand_frp  Lao_PDR_frp\n",
       "2016-01-01 00:00:00           0.0        0.000      0.000000          0.0\n",
       "2016-01-01 01:00:00           0.0        0.000      0.000000          0.0\n",
       "2016-01-01 02:00:00           0.0        0.000      0.000000          0.0\n",
       "2016-01-01 03:00:00           0.0        0.000      0.000000          0.0\n",
       "2016-01-01 04:00:00           0.0        0.000      0.000000          0.0\n",
       "...                           ...          ...           ...          ...\n",
       "2019-12-31 19:00:00           0.0        0.612      1.628704          0.0\n",
       "2019-12-31 20:00:00           0.0        0.000      0.000000          0.0\n",
       "2019-12-31 21:00:00           0.0        0.000      0.000000          0.0\n",
       "2019-12-31 22:00:00           0.0        0.000      0.000000          0.0\n",
       "2019-12-31 23:00:00           0.0        0.000      0.000000          0.0\n",
       "\n",
       "[35064 rows x 4 columns]"
      ],
      "text/html": "<div>\n<style scoped>\n    .dataframe tbody tr th:only-of-type {\n        vertical-align: middle;\n    }\n\n    .dataframe tbody tr th {\n        vertical-align: top;\n    }\n\n    .dataframe thead th {\n        text-align: right;\n    }\n</style>\n<table border=\"1\" class=\"dataframe\">\n  <thead>\n    <tr style=\"text-align: right;\">\n      <th></th>\n      <th>Cambodia_frp</th>\n      <th>Myanmar_frp</th>\n      <th>Thailand_frp</th>\n      <th>Lao_PDR_frp</th>\n    </tr>\n  </thead>\n  <tbody>\n    <tr>\n      <th>2016-01-01 00:00:00</th>\n      <td>0.0</td>\n      <td>0.000</td>\n      <td>0.000000</td>\n      <td>0.0</td>\n    </tr>\n    <tr>\n      <th>2016-01-01 01:00:00</th>\n      <td>0.0</td>\n      <td>0.000</td>\n      <td>0.000000</td>\n      <td>0.0</td>\n    </tr>\n    <tr>\n      <th>2016-01-01 02:00:00</th>\n      <td>0.0</td>\n      <td>0.000</td>\n      <td>0.000000</td>\n      <td>0.0</td>\n    </tr>\n    <tr>\n      <th>2016-01-01 03:00:00</th>\n      <td>0.0</td>\n      <td>0.000</td>\n      <td>0.000000</td>\n      <td>0.0</td>\n    </tr>\n    <tr>\n      <th>2016-01-01 04:00:00</th>\n      <td>0.0</td>\n      <td>0.000</td>\n      <td>0.000000</td>\n      <td>0.0</td>\n    </tr>\n    <tr>\n      <th>...</th>\n      <td>...</td>\n      <td>...</td>\n      <td>...</td>\n      <td>...</td>\n    </tr>\n    <tr>\n      <th>2019-12-31 19:00:00</th>\n      <td>0.0</td>\n      <td>0.612</td>\n      <td>1.628704</td>\n      <td>0.0</td>\n    </tr>\n    <tr>\n      <th>2019-12-31 20:00:00</th>\n      <td>0.0</td>\n      <td>0.000</td>\n      <td>0.000000</td>\n      <td>0.0</td>\n    </tr>\n    <tr>\n      <th>2019-12-31 21:00:00</th>\n      <td>0.0</td>\n      <td>0.000</td>\n      <td>0.000000</td>\n      <td>0.0</td>\n    </tr>\n    <tr>\n      <th>2019-12-31 22:00:00</th>\n      <td>0.0</td>\n      <td>0.000</td>\n      <td>0.000000</td>\n      <td>0.0</td>\n    </tr>\n    <tr>\n      <th>2019-12-31 23:00:00</th>\n      <td>0.0</td>\n      <td>0.000</td>\n      <td>0.000000</td>\n      <td>0.0</td>\n    </tr>\n  </tbody>\n</table>\n<p>35064 rows × 4 columns</p>\n</div>"
     },
     "metadata": {},
     "execution_count": 8
    }
   ],
   "source": [
    "fire_all"
   ]
  },
  {
   "source": [
    "Next, we'll localize fire data to Thailand local timezone (UTC+7). Then, we integrate fire data to full dataset which we cleaned in `3.fillna.ipynb`."
   ],
   "cell_type": "markdown",
   "metadata": {}
  },
  {
   "cell_type": "code",
   "execution_count": null,
   "metadata": {},
   "outputs": [],
   "source": [
    "provinces = ['Bangkok','Chanthaburi','Chiang Mai','Kanchanaburi','Khon Kaen','Songkhla']\n",
    "\n",
    "# +7 Hours to localize the time\n",
    "fire_all.index = fire_all.index + timedelta(hours=7)\n",
    "\n",
    "mega = {}\n",
    "for province in provinces:\n",
    "    if province == 'Khon Kaen' : continue\n",
    "    df = pd.read_csv(f\"./data/Train/{province}_imputed.csv\", parse_dates=True, index_col=0)\n",
    "    mega[province] = df.merge(fire_all, left_index=True, right_index=True, how='left')"
   ]
  },
  {
   "source": [
    "This is an example of *preprocessed* data."
   ],
   "cell_type": "markdown",
   "metadata": {}
  },
  {
   "cell_type": "code",
   "execution_count": null,
   "metadata": {},
   "outputs": [],
   "source": [
    "mega['Bangkok'].loc['2016-3-3']"
   ]
  },
  {
   "source": [
    "Lastly, we save it the *preprocessed* dataset ready to be fed to the model."
   ],
   "cell_type": "markdown",
   "metadata": {}
  },
  {
   "cell_type": "code",
   "execution_count": 64,
   "metadata": {},
   "outputs": [],
   "source": [
    "for province in provinces:\n",
    "    if province == 'Khon Kaen' : continue\n",
    "    path = f'./data/Train/fire_integrated/{province}_fire_integrated.csv'\n",
    "    if not os.path.exists(path):\n",
    "        mega[province].to_csv(path)\n",
    "    else:\n",
    "        print(f\"{province} already\")"
   ]
  },
  {
   "source": [
    "save ข้อมูลไฟทั้งหมด เก็บไว้ใช้ต่อกับ test set"
   ],
   "cell_type": "markdown",
   "metadata": {}
  },
  {
   "cell_type": "code",
   "execution_count": 66,
   "metadata": {},
   "outputs": [],
   "source": [
    "import glob\n",
    "\n",
    "if len(glob.glob(\"./data/fire_2016_to_2019_localize.csv\"))==0:\n",
    "    fire_all.to_csv('./data/fire_2016_to_2019_localize.csv')\n",
    "else:\n",
    "    print('already')"
   ]
  },
  {
   "source": [
    "# Expand Fire data\n",
    "In this project, the model will be evaluated using **test data** which is the data from `2019-03-18 08:00:00` to `2020-03-18 20:00:00`. So, we need to find more fire data since the labeled data we had ends at 2019-12-31.\n",
    "\n",
    "We have several unlabeled fire data. So, We have to choose one. First we import 2016-2019 fire data."
   ],
   "cell_type": "markdown",
   "metadata": {}
  },
  {
   "cell_type": "code",
   "execution_count": 6,
   "metadata": {},
   "outputs": [
    {
     "output_type": "execute_result",
     "data": {
      "text/plain": [
       "                     Cambodia_frp  Myanmar_frp  Thailand_frp  Lao_PDR_frp\n",
       "2020-01-01 02:00:00           0.0        0.612      1.628704          0.0\n",
       "2020-01-01 03:00:00           0.0        0.000      0.000000          0.0\n",
       "2020-01-01 04:00:00           0.0        0.000      0.000000          0.0\n",
       "2020-01-01 05:00:00           0.0        0.000      0.000000          0.0\n",
       "2020-01-01 06:00:00           0.0        0.000      0.000000          0.0"
      ],
      "text/html": "<div>\n<style scoped>\n    .dataframe tbody tr th:only-of-type {\n        vertical-align: middle;\n    }\n\n    .dataframe tbody tr th {\n        vertical-align: top;\n    }\n\n    .dataframe thead th {\n        text-align: right;\n    }\n</style>\n<table border=\"1\" class=\"dataframe\">\n  <thead>\n    <tr style=\"text-align: right;\">\n      <th></th>\n      <th>Cambodia_frp</th>\n      <th>Myanmar_frp</th>\n      <th>Thailand_frp</th>\n      <th>Lao_PDR_frp</th>\n    </tr>\n  </thead>\n  <tbody>\n    <tr>\n      <th>2020-01-01 02:00:00</th>\n      <td>0.0</td>\n      <td>0.612</td>\n      <td>1.628704</td>\n      <td>0.0</td>\n    </tr>\n    <tr>\n      <th>2020-01-01 03:00:00</th>\n      <td>0.0</td>\n      <td>0.000</td>\n      <td>0.000000</td>\n      <td>0.0</td>\n    </tr>\n    <tr>\n      <th>2020-01-01 04:00:00</th>\n      <td>0.0</td>\n      <td>0.000</td>\n      <td>0.000000</td>\n      <td>0.0</td>\n    </tr>\n    <tr>\n      <th>2020-01-01 05:00:00</th>\n      <td>0.0</td>\n      <td>0.000</td>\n      <td>0.000000</td>\n      <td>0.0</td>\n    </tr>\n    <tr>\n      <th>2020-01-01 06:00:00</th>\n      <td>0.0</td>\n      <td>0.000</td>\n      <td>0.000000</td>\n      <td>0.0</td>\n    </tr>\n  </tbody>\n</table>\n</div>"
     },
     "metadata": {},
     "execution_count": 6
    }
   ],
   "source": [
    "fire_all = pd.read_csv('./data/fire_2016_to_2019_localize.csv', index_col=0, parse_dates=True)\n",
    "fire_all.tail()"
   ]
  },
  {
   "source": [
    "## Lat-long info from viirs-snpp data\n",
    "We record the latitude-longitude from the labeled dataset to later usage. We will use it to identify the country of unlabeled dataset."
   ],
   "cell_type": "markdown",
   "metadata": {}
  },
  {
   "cell_type": "code",
   "execution_count": 7,
   "metadata": {},
   "outputs": [],
   "source": [
    "from collections import defaultdict\n",
    "\n",
    "lat_long = defaultdict(lambda: list())\n",
    "\n",
    "for y in years:\n",
    "    for c in countries:\n",
    "        df = pd.read_csv(f'./Fire hotspot/viirs-snpp_{y}_{c}.csv')\n",
    "        lat_long[c].append([(df['latitude'].min(), df['latitude'].max()), (df['longitude'].min(),df['longitude'].max())])"
   ]
  },
  {
   "cell_type": "code",
   "execution_count": 8,
   "metadata": {},
   "outputs": [
    {
     "output_type": "stream",
     "name": "stdout",
     "text": [
      "Cambodia : lat min = 10.435731 , lat max = 14.693866 , long min = 102.314522 , long max = 107.609604\nMyanmar : lat min = 10.00162 , lat max = 28.344353 , long min = 92.177818 , long max = 101.160408\nThailand : lat min = 5.695879 , lat max = 20.440176 , long min = 97.352341 , long max = 105.649544\nLao_PDR : lat min = 13.916207 , lat max = 22.483566 , long min = 100.097649 , long max = 107.655373\n"
     ]
    }
   ],
   "source": [
    "records = defaultdict(lambda: dict())\n",
    "for c in countries:\n",
    "    arr = np.array(lat_long[c]).reshape((4,4))\n",
    "    print(f'{c} : lat min = {arr[:,0].min()} , lat max = {arr[:,1].max()} , long min = {arr[:,2].min()} , long max = {arr[:,3].max()}')\n",
    "    records[c]['lat_min'] = arr[:,0].min()\n",
    "    records[c]['lat_max'] = arr[:,1].max()\n",
    "    records[c]['long_min'] = arr[:,2].min()\n",
    "    records[c]['long_max'] = arr[:,3].max()"
   ]
  },
  {
   "source": [
    "After inspecting the dataset, we see that these 2 dataset `fire_archive_V1_163551.csv`,` fire_nrt_J1V-C2_163550.csv` have the information in date range that we're interested in."
   ],
   "cell_type": "markdown",
   "metadata": {}
  },
  {
   "cell_type": "code",
   "execution_count": 9,
   "metadata": {},
   "outputs": [],
   "source": [
    "fire_files = [ 'fire_archive_V1_163551.csv', 'fire_nrt_J1V-C2_163550.csv']\n",
    "\n",
    "data = []\n",
    "for f in fire_files:\n",
    "    df = pd.read_csv(f'./Fire hotspot/{f}')\n",
    "    df['hour'] = df['acq_time'].apply(str).str[:-2]\n",
    "    df['datetime'] = pd.to_datetime(\n",
    "                                df['acq_date']+'T'+df['hour'].str.zfill(2), \n",
    "                                format='%Y-%m-%dT%H')\n",
    "    \n",
    "    df = df.groupby(by='datetime').mean()\n",
    "    data.append(df)"
   ]
  },
  {
   "source": [
    "## Ambiguity\n",
    "Identifying the country from max,min of latitude,longitude may ambiguous since those values might overlaped. We address this issue by using external API to find the exact location of latitude, longitude. We'll use `geopy` package."
   ],
   "cell_type": "markdown",
   "metadata": {}
  },
  {
   "cell_type": "code",
   "execution_count": 10,
   "metadata": {},
   "outputs": [],
   "source": [
    "import geopy\n",
    "from geopy.geocoders import Nominatim\n",
    "\n",
    "def assign_country(x):\n",
    "    lati, longi = x[0], x[1]\n",
    "\n",
    "    # If lat-long is clear\n",
    "    choice = []\n",
    "    for c in countries:\n",
    "        lat_const = lati<records[c]['lat_max'] and lati>records[c]['lat_min']\n",
    "        long_const = longi<records[c]['long_max'] and longi>records[c]['long_min']\n",
    "        if lat_const and long_const:\n",
    "            choice.append(c)\n",
    "    if len(choice)==1:\n",
    "        return choice[0]\n",
    "    \n",
    "    # If lat-long is not clear\n",
    "    del choice\n",
    "    geolocator = Nominatim(user_agent=\"app\")\n",
    "    try:\n",
    "        location = geolocator.reverse([lati, longi])\n",
    "        return location.raw['address']['country_code']\n",
    "    except:\n",
    "        return np.nan"
   ]
  },
  {
   "cell_type": "code",
   "execution_count": 11,
   "metadata": {
    "tags": []
   },
   "outputs": [
    {
     "output_type": "stream",
     "name": "stdout",
     "text": [
      "archive_V1_country_code.csv is already\n"
     ]
    }
   ],
   "source": [
    "if not os.path.exists('archive_V1_country_code.csv'):\n",
    "    country_code = data[0].apply(lambda x: assign_country(x), axis=1)\n",
    "    country_code.to_csv('archive_V1_country_code.csv')\n",
    "else: print('archive_V1_country_code.csv is already')\n",
    "\n",
    "if not os.path.exists('nrt_J1V-C2_country_code.csv'):\n",
    "    country_code = data[1].apply(lambda x: assign_country(x), axis=1)\n",
    "    country_code.to_csv('nrt_J1V-C2_country_code.csv')\n",
    "else: print('nrt_J1V-C2_country_code.csv is already')"
   ]
  },
  {
   "cell_type": "code",
   "execution_count": 81,
   "metadata": {},
   "outputs": [
    {
     "output_type": "execute_result",
     "data": {
      "text/plain": [
       "                      latitude   longitude  bright_ti4      scan     track  \\\n",
       "datetime                                                                     \n",
       "2019-12-01 03:00:00  34.485201  133.531911  327.673333  0.413333  0.606667   \n",
       "2019-12-01 04:00:00 -12.467219  126.595392  346.078962  0.460555  0.481223   \n",
       "2019-12-01 05:00:00  38.605851  116.062874  330.978780  0.415854  0.396585   \n",
       "2019-12-01 06:00:00  13.668623  101.822657  336.834853  0.440730  0.411355   \n",
       "2019-12-01 08:00:00  29.008121   75.353245  334.528711  0.447692  0.419376   \n",
       "...                        ...         ...         ...       ...       ...   \n",
       "2020-05-31 17:00:00  28.132490  119.744363  304.977270  0.466962  0.565154   \n",
       "2020-05-31 18:00:00  34.661149  110.291332  304.787110  0.429032  0.470116   \n",
       "2020-05-31 19:00:00  -6.006604  105.983075  307.395000  0.490000  0.650000   \n",
       "2020-05-31 20:00:00  34.881759   84.182679  309.277091  0.413909  0.447818   \n",
       "2020-05-31 22:00:00  40.384293   72.366490  299.320000  0.580000  0.700000   \n",
       "\n",
       "                        acq_time  version  bright_ti5        frp      type  \\\n",
       "datetime                                                                     \n",
       "2019-12-01 03:00:00   318.000000      1.0  286.786667   4.516667  2.333333   \n",
       "2019-12-01 04:00:00   445.892086      1.0  302.408109  15.996351  0.084275   \n",
       "2019-12-01 05:00:00   500.292683      1.0  280.858049   3.665610  0.780488   \n",
       "2019-12-01 06:00:00   634.485308      1.0  299.306730   8.370957  0.098578   \n",
       "2019-12-01 08:00:00   820.218295      1.0  297.378815   4.955676  0.054054   \n",
       "...                          ...      ...         ...        ...       ...   \n",
       "2020-05-31 17:00:00  1709.440273      1.0  286.161536   1.903925  1.655290   \n",
       "2020-05-31 18:00:00  1848.614194      1.0  286.190632   1.301535  1.607742   \n",
       "2020-05-31 19:00:00  1900.000000      1.0  279.890000   1.390000  2.000000   \n",
       "2020-05-31 20:00:00  2030.068182      1.0  289.368591   1.515500  1.440909   \n",
       "2020-05-31 22:00:00  2209.000000      1.0  286.345000   0.925000  1.000000   \n",
       "\n",
       "                    country_code  \n",
       "datetime                          \n",
       "2019-12-01 03:00:00           jp  \n",
       "2019-12-01 04:00:00          NaN  \n",
       "2019-12-01 05:00:00           cn  \n",
       "2019-12-01 06:00:00           th  \n",
       "2019-12-01 08:00:00           in  \n",
       "...                          ...  \n",
       "2020-05-31 17:00:00           cn  \n",
       "2020-05-31 18:00:00           cn  \n",
       "2020-05-31 19:00:00           id  \n",
       "2020-05-31 20:00:00           cn  \n",
       "2020-05-31 22:00:00           kg  \n",
       "\n",
       "[1709 rows x 11 columns]"
      ],
      "text/html": "<div>\n<style scoped>\n    .dataframe tbody tr th:only-of-type {\n        vertical-align: middle;\n    }\n\n    .dataframe tbody tr th {\n        vertical-align: top;\n    }\n\n    .dataframe thead th {\n        text-align: right;\n    }\n</style>\n<table border=\"1\" class=\"dataframe\">\n  <thead>\n    <tr style=\"text-align: right;\">\n      <th></th>\n      <th>latitude</th>\n      <th>longitude</th>\n      <th>bright_ti4</th>\n      <th>scan</th>\n      <th>track</th>\n      <th>acq_time</th>\n      <th>version</th>\n      <th>bright_ti5</th>\n      <th>frp</th>\n      <th>type</th>\n      <th>country_code</th>\n    </tr>\n    <tr>\n      <th>datetime</th>\n      <th></th>\n      <th></th>\n      <th></th>\n      <th></th>\n      <th></th>\n      <th></th>\n      <th></th>\n      <th></th>\n      <th></th>\n      <th></th>\n      <th></th>\n    </tr>\n  </thead>\n  <tbody>\n    <tr>\n      <th>2019-12-01 03:00:00</th>\n      <td>34.485201</td>\n      <td>133.531911</td>\n      <td>327.673333</td>\n      <td>0.413333</td>\n      <td>0.606667</td>\n      <td>318.000000</td>\n      <td>1.0</td>\n      <td>286.786667</td>\n      <td>4.516667</td>\n      <td>2.333333</td>\n      <td>jp</td>\n    </tr>\n    <tr>\n      <th>2019-12-01 04:00:00</th>\n      <td>-12.467219</td>\n      <td>126.595392</td>\n      <td>346.078962</td>\n      <td>0.460555</td>\n      <td>0.481223</td>\n      <td>445.892086</td>\n      <td>1.0</td>\n      <td>302.408109</td>\n      <td>15.996351</td>\n      <td>0.084275</td>\n      <td>NaN</td>\n    </tr>\n    <tr>\n      <th>2019-12-01 05:00:00</th>\n      <td>38.605851</td>\n      <td>116.062874</td>\n      <td>330.978780</td>\n      <td>0.415854</td>\n      <td>0.396585</td>\n      <td>500.292683</td>\n      <td>1.0</td>\n      <td>280.858049</td>\n      <td>3.665610</td>\n      <td>0.780488</td>\n      <td>cn</td>\n    </tr>\n    <tr>\n      <th>2019-12-01 06:00:00</th>\n      <td>13.668623</td>\n      <td>101.822657</td>\n      <td>336.834853</td>\n      <td>0.440730</td>\n      <td>0.411355</td>\n      <td>634.485308</td>\n      <td>1.0</td>\n      <td>299.306730</td>\n      <td>8.370957</td>\n      <td>0.098578</td>\n      <td>th</td>\n    </tr>\n    <tr>\n      <th>2019-12-01 08:00:00</th>\n      <td>29.008121</td>\n      <td>75.353245</td>\n      <td>334.528711</td>\n      <td>0.447692</td>\n      <td>0.419376</td>\n      <td>820.218295</td>\n      <td>1.0</td>\n      <td>297.378815</td>\n      <td>4.955676</td>\n      <td>0.054054</td>\n      <td>in</td>\n    </tr>\n    <tr>\n      <th>...</th>\n      <td>...</td>\n      <td>...</td>\n      <td>...</td>\n      <td>...</td>\n      <td>...</td>\n      <td>...</td>\n      <td>...</td>\n      <td>...</td>\n      <td>...</td>\n      <td>...</td>\n      <td>...</td>\n    </tr>\n    <tr>\n      <th>2020-05-31 17:00:00</th>\n      <td>28.132490</td>\n      <td>119.744363</td>\n      <td>304.977270</td>\n      <td>0.466962</td>\n      <td>0.565154</td>\n      <td>1709.440273</td>\n      <td>1.0</td>\n      <td>286.161536</td>\n      <td>1.903925</td>\n      <td>1.655290</td>\n      <td>cn</td>\n    </tr>\n    <tr>\n      <th>2020-05-31 18:00:00</th>\n      <td>34.661149</td>\n      <td>110.291332</td>\n      <td>304.787110</td>\n      <td>0.429032</td>\n      <td>0.470116</td>\n      <td>1848.614194</td>\n      <td>1.0</td>\n      <td>286.190632</td>\n      <td>1.301535</td>\n      <td>1.607742</td>\n      <td>cn</td>\n    </tr>\n    <tr>\n      <th>2020-05-31 19:00:00</th>\n      <td>-6.006604</td>\n      <td>105.983075</td>\n      <td>307.395000</td>\n      <td>0.490000</td>\n      <td>0.650000</td>\n      <td>1900.000000</td>\n      <td>1.0</td>\n      <td>279.890000</td>\n      <td>1.390000</td>\n      <td>2.000000</td>\n      <td>id</td>\n    </tr>\n    <tr>\n      <th>2020-05-31 20:00:00</th>\n      <td>34.881759</td>\n      <td>84.182679</td>\n      <td>309.277091</td>\n      <td>0.413909</td>\n      <td>0.447818</td>\n      <td>2030.068182</td>\n      <td>1.0</td>\n      <td>289.368591</td>\n      <td>1.515500</td>\n      <td>1.440909</td>\n      <td>cn</td>\n    </tr>\n    <tr>\n      <th>2020-05-31 22:00:00</th>\n      <td>40.384293</td>\n      <td>72.366490</td>\n      <td>299.320000</td>\n      <td>0.580000</td>\n      <td>0.700000</td>\n      <td>2209.000000</td>\n      <td>1.0</td>\n      <td>286.345000</td>\n      <td>0.925000</td>\n      <td>1.000000</td>\n      <td>kg</td>\n    </tr>\n  </tbody>\n</table>\n<p>1709 rows × 11 columns</p>\n</div>"
     },
     "metadata": {},
     "execution_count": 81
    }
   ],
   "source": [
    "country_code = pd.read_csv('archive_V1_country_code.csv', parse_dates=True, index_col=0)\n",
    "country_code.columns = ['country_code']\n",
    "\n",
    "code = {'Thailand':'th', 'Myanmar':'mm', 'Lao_PDR':'la', 'Cambodia':'kh'}\n",
    "data[0]['country_code'] = country_code\n",
    "data[0].replace(code)"
   ]
  },
  {
   "cell_type": "code",
   "execution_count": 82,
   "metadata": {},
   "outputs": [
    {
     "output_type": "execute_result",
     "data": {
      "text/plain": [
       "in    430\n",
       "cn    264\n",
       "th    132\n",
       "au    128\n",
       "id    101\n",
       "mm     96\n",
       "la     60\n",
       "jp     43\n",
       "kh     28\n",
       "pk     26\n",
       "ph     22\n",
       "ru     20\n",
       "kp     19\n",
       "kr     15\n",
       "kg     12\n",
       "vn     11\n",
       "kz      9\n",
       "tw      6\n",
       "bd      5\n",
       "my      5\n",
       "np      4\n",
       "mn      3\n",
       "lk      3\n",
       "uz      2\n",
       "tl      2\n",
       "tj      1\n",
       "Name: country_code, dtype: int64"
      ]
     },
     "metadata": {},
     "execution_count": 82
    }
   ],
   "source": [
    "data[0].replace(code)['country_code'].value_counts()"
   ]
  },
  {
   "cell_type": "code",
   "execution_count": 26,
   "metadata": {},
   "outputs": [
    {
     "output_type": "execute_result",
     "data": {
      "text/plain": [
       "                     Cambodia_frp  Myanmar_frp  Thailand_frp  Lao_PDR_frp\n",
       "2016-01-01 00:00:00           0.0     0.000000      0.000000     0.000000\n",
       "2016-01-01 01:00:00           0.0     0.000000      0.000000     0.000000\n",
       "2016-01-01 02:00:00           0.0     0.000000      0.000000     0.000000\n",
       "2016-01-01 03:00:00           0.0     0.000000      0.000000     0.000000\n",
       "2016-01-01 04:00:00           0.0     0.000000      0.000000     0.000000\n",
       "...                           ...          ...           ...          ...\n",
       "2020-03-17 06:00:00           NaN    13.759829     13.759829          NaN\n",
       "2020-03-17 18:00:00           NaN     1.482160           NaN          NaN\n",
       "2020-03-17 19:00:00           NaN     1.495826      1.495826          NaN\n",
       "2020-03-18 06:00:00           NaN    19.212768     19.212768    19.212768\n",
       "2020-03-18 18:00:00           NaN          NaN           NaN     1.801900\n",
       "\n",
       "[35243 rows x 4 columns]"
      ],
      "text/html": "<div>\n<style scoped>\n    .dataframe tbody tr th:only-of-type {\n        vertical-align: middle;\n    }\n\n    .dataframe tbody tr th {\n        vertical-align: top;\n    }\n\n    .dataframe thead th {\n        text-align: right;\n    }\n</style>\n<table border=\"1\" class=\"dataframe\">\n  <thead>\n    <tr style=\"text-align: right;\">\n      <th></th>\n      <th>Cambodia_frp</th>\n      <th>Myanmar_frp</th>\n      <th>Thailand_frp</th>\n      <th>Lao_PDR_frp</th>\n    </tr>\n  </thead>\n  <tbody>\n    <tr>\n      <th>2016-01-01 00:00:00</th>\n      <td>0.0</td>\n      <td>0.000000</td>\n      <td>0.000000</td>\n      <td>0.000000</td>\n    </tr>\n    <tr>\n      <th>2016-01-01 01:00:00</th>\n      <td>0.0</td>\n      <td>0.000000</td>\n      <td>0.000000</td>\n      <td>0.000000</td>\n    </tr>\n    <tr>\n      <th>2016-01-01 02:00:00</th>\n      <td>0.0</td>\n      <td>0.000000</td>\n      <td>0.000000</td>\n      <td>0.000000</td>\n    </tr>\n    <tr>\n      <th>2016-01-01 03:00:00</th>\n      <td>0.0</td>\n      <td>0.000000</td>\n      <td>0.000000</td>\n      <td>0.000000</td>\n    </tr>\n    <tr>\n      <th>2016-01-01 04:00:00</th>\n      <td>0.0</td>\n      <td>0.000000</td>\n      <td>0.000000</td>\n      <td>0.000000</td>\n    </tr>\n    <tr>\n      <th>...</th>\n      <td>...</td>\n      <td>...</td>\n      <td>...</td>\n      <td>...</td>\n    </tr>\n    <tr>\n      <th>2020-03-17 06:00:00</th>\n      <td>NaN</td>\n      <td>13.759829</td>\n      <td>13.759829</td>\n      <td>NaN</td>\n    </tr>\n    <tr>\n      <th>2020-03-17 18:00:00</th>\n      <td>NaN</td>\n      <td>1.482160</td>\n      <td>NaN</td>\n      <td>NaN</td>\n    </tr>\n    <tr>\n      <th>2020-03-17 19:00:00</th>\n      <td>NaN</td>\n      <td>1.495826</td>\n      <td>1.495826</td>\n      <td>NaN</td>\n    </tr>\n    <tr>\n      <th>2020-03-18 06:00:00</th>\n      <td>NaN</td>\n      <td>19.212768</td>\n      <td>19.212768</td>\n      <td>19.212768</td>\n    </tr>\n    <tr>\n      <th>2020-03-18 18:00:00</th>\n      <td>NaN</td>\n      <td>NaN</td>\n      <td>NaN</td>\n      <td>1.801900</td>\n    </tr>\n  </tbody>\n</table>\n<p>35243 rows × 4 columns</p>\n</div>"
     },
     "metadata": {},
     "execution_count": 26
    }
   ],
   "source": [
    "ls = [fire_2020_c[c][f'{c}_frp'] for c in countries]\n",
    "fire_2020_all = pd.concat(ls, axis=1)\n",
    "\n",
    "fire_all.append(fire_2020_all)"
   ]
  },
  {
   "cell_type": "code",
   "execution_count": 30,
   "metadata": {},
   "outputs": [],
   "source": [
    "#fire_complete = fire_all.append(fire_2020_all)\n",
    "idx = pd.date_range('2020-01-01','2020-03-18 20:00:00',freq='H')\n",
    "left = pd.DataFrame(index=idx)\n",
    "h = left.merge(fire_all.append(fire_2020_all), left_index=True, right_index=True, how='left')"
   ]
  },
  {
   "cell_type": "code",
   "execution_count": 31,
   "metadata": {},
   "outputs": [
    {
     "output_type": "execute_result",
     "data": {
      "text/plain": [
       "                     Cambodia_frp  Myanmar_frp  Thailand_frp  Lao_PDR_frp\n",
       "2020-03-17 05:00:00           NaN          NaN           NaN          NaN\n",
       "2020-03-17 06:00:00           NaN    13.759829     13.759829          NaN\n",
       "2020-03-17 07:00:00           NaN          NaN           NaN          NaN\n",
       "2020-03-17 08:00:00           NaN          NaN           NaN          NaN\n",
       "2020-03-17 09:00:00           NaN          NaN           NaN          NaN\n",
       "2020-03-17 10:00:00           NaN          NaN           NaN          NaN\n",
       "2020-03-17 11:00:00           NaN          NaN           NaN          NaN\n",
       "2020-03-17 12:00:00           NaN          NaN           NaN          NaN\n",
       "2020-03-17 13:00:00           NaN          NaN           NaN          NaN\n",
       "2020-03-17 14:00:00           NaN          NaN           NaN          NaN\n",
       "2020-03-17 15:00:00           NaN          NaN           NaN          NaN\n",
       "2020-03-17 16:00:00           NaN          NaN           NaN          NaN\n",
       "2020-03-17 17:00:00           NaN          NaN           NaN          NaN\n",
       "2020-03-17 18:00:00           NaN     1.482160           NaN          NaN\n",
       "2020-03-17 19:00:00           NaN     1.495826      1.495826          NaN\n",
       "2020-03-17 20:00:00           NaN          NaN           NaN          NaN\n",
       "2020-03-17 21:00:00           NaN          NaN           NaN          NaN\n",
       "2020-03-17 22:00:00           NaN          NaN           NaN          NaN\n",
       "2020-03-17 23:00:00           NaN          NaN           NaN          NaN\n",
       "2020-03-18 00:00:00           NaN          NaN           NaN          NaN"
      ],
      "text/html": "<div>\n<style scoped>\n    .dataframe tbody tr th:only-of-type {\n        vertical-align: middle;\n    }\n\n    .dataframe tbody tr th {\n        vertical-align: top;\n    }\n\n    .dataframe thead th {\n        text-align: right;\n    }\n</style>\n<table border=\"1\" class=\"dataframe\">\n  <thead>\n    <tr style=\"text-align: right;\">\n      <th></th>\n      <th>Cambodia_frp</th>\n      <th>Myanmar_frp</th>\n      <th>Thailand_frp</th>\n      <th>Lao_PDR_frp</th>\n    </tr>\n  </thead>\n  <tbody>\n    <tr>\n      <th>2020-03-17 05:00:00</th>\n      <td>NaN</td>\n      <td>NaN</td>\n      <td>NaN</td>\n      <td>NaN</td>\n    </tr>\n    <tr>\n      <th>2020-03-17 06:00:00</th>\n      <td>NaN</td>\n      <td>13.759829</td>\n      <td>13.759829</td>\n      <td>NaN</td>\n    </tr>\n    <tr>\n      <th>2020-03-17 07:00:00</th>\n      <td>NaN</td>\n      <td>NaN</td>\n      <td>NaN</td>\n      <td>NaN</td>\n    </tr>\n    <tr>\n      <th>2020-03-17 08:00:00</th>\n      <td>NaN</td>\n      <td>NaN</td>\n      <td>NaN</td>\n      <td>NaN</td>\n    </tr>\n    <tr>\n      <th>2020-03-17 09:00:00</th>\n      <td>NaN</td>\n      <td>NaN</td>\n      <td>NaN</td>\n      <td>NaN</td>\n    </tr>\n    <tr>\n      <th>2020-03-17 10:00:00</th>\n      <td>NaN</td>\n      <td>NaN</td>\n      <td>NaN</td>\n      <td>NaN</td>\n    </tr>\n    <tr>\n      <th>2020-03-17 11:00:00</th>\n      <td>NaN</td>\n      <td>NaN</td>\n      <td>NaN</td>\n      <td>NaN</td>\n    </tr>\n    <tr>\n      <th>2020-03-17 12:00:00</th>\n      <td>NaN</td>\n      <td>NaN</td>\n      <td>NaN</td>\n      <td>NaN</td>\n    </tr>\n    <tr>\n      <th>2020-03-17 13:00:00</th>\n      <td>NaN</td>\n      <td>NaN</td>\n      <td>NaN</td>\n      <td>NaN</td>\n    </tr>\n    <tr>\n      <th>2020-03-17 14:00:00</th>\n      <td>NaN</td>\n      <td>NaN</td>\n      <td>NaN</td>\n      <td>NaN</td>\n    </tr>\n    <tr>\n      <th>2020-03-17 15:00:00</th>\n      <td>NaN</td>\n      <td>NaN</td>\n      <td>NaN</td>\n      <td>NaN</td>\n    </tr>\n    <tr>\n      <th>2020-03-17 16:00:00</th>\n      <td>NaN</td>\n      <td>NaN</td>\n      <td>NaN</td>\n      <td>NaN</td>\n    </tr>\n    <tr>\n      <th>2020-03-17 17:00:00</th>\n      <td>NaN</td>\n      <td>NaN</td>\n      <td>NaN</td>\n      <td>NaN</td>\n    </tr>\n    <tr>\n      <th>2020-03-17 18:00:00</th>\n      <td>NaN</td>\n      <td>1.482160</td>\n      <td>NaN</td>\n      <td>NaN</td>\n    </tr>\n    <tr>\n      <th>2020-03-17 19:00:00</th>\n      <td>NaN</td>\n      <td>1.495826</td>\n      <td>1.495826</td>\n      <td>NaN</td>\n    </tr>\n    <tr>\n      <th>2020-03-17 20:00:00</th>\n      <td>NaN</td>\n      <td>NaN</td>\n      <td>NaN</td>\n      <td>NaN</td>\n    </tr>\n    <tr>\n      <th>2020-03-17 21:00:00</th>\n      <td>NaN</td>\n      <td>NaN</td>\n      <td>NaN</td>\n      <td>NaN</td>\n    </tr>\n    <tr>\n      <th>2020-03-17 22:00:00</th>\n      <td>NaN</td>\n      <td>NaN</td>\n      <td>NaN</td>\n      <td>NaN</td>\n    </tr>\n    <tr>\n      <th>2020-03-17 23:00:00</th>\n      <td>NaN</td>\n      <td>NaN</td>\n      <td>NaN</td>\n      <td>NaN</td>\n    </tr>\n    <tr>\n      <th>2020-03-18 00:00:00</th>\n      <td>NaN</td>\n      <td>NaN</td>\n      <td>NaN</td>\n      <td>NaN</td>\n    </tr>\n  </tbody>\n</table>\n</div>"
     },
     "metadata": {},
     "execution_count": 31
    }
   ],
   "source": [
    "h.tail(20)"
   ]
  },
  {
   "cell_type": "code",
   "execution_count": null,
   "metadata": {},
   "outputs": [],
   "source": []
  }
 ]
}