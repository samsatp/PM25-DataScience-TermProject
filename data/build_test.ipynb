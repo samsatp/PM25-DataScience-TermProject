{
 "metadata": {
  "language_info": {
   "codemirror_mode": {
    "name": "ipython",
    "version": 3
   },
   "file_extension": ".py",
   "mimetype": "text/x-python",
   "name": "python",
   "nbconvert_exporter": "python",
   "pygments_lexer": "ipython3",
   "version": "3.9.1"
  },
  "orig_nbformat": 2,
  "kernelspec": {
   "name": "python391jvsc74a57bd031605234de10b43ea767264d17dfb0196cf2b9da7012776efe0be49341337db4",
   "display_name": "Python 3.9.1 64-bit ('jupyterlab2.26': conda)"
  }
 },
 "nbformat": 4,
 "nbformat_minor": 2,
 "cells": [
  {
   "cell_type": "code",
   "execution_count": 1,
   "metadata": {},
   "outputs": [],
   "source": [
    "import pandas as pd\n",
    "import numpy as np\n",
    "import os\n",
    "import time\n",
    "import datetime\n",
    "\n",
    "provinces = ['Bangkok','Chanthaburi','Kanchanaburi','Songkhla','Chiang Mai','Khon Kaen']\n",
    "left_join = dict(how='left', left_index=True, right_index=True)\n",
    "parse_dates = dict(parse_dates=True, index_col=0)"
   ]
  },
  {
   "cell_type": "code",
   "execution_count": 2,
   "metadata": {},
   "outputs": [
    {
     "output_type": "stream",
     "name": "stdout",
     "text": [
      "Missing = 0\n",
      "Missing = 0\n",
      "Missing = 0\n",
      "Missing = 0\n",
      "Missing = 0\n",
      "Missing = 0\n"
     ]
    }
   ],
   "source": [
    "test_data = {}\n",
    "fire = pd.read_csv(\"fire_2016_to_2020_localize.csv\", **parse_dates)\n",
    "\n",
    "for p in provinces:\n",
    "    ## Read PM data\n",
    "    df = pd.read_csv(f\"../../{p}/Test/{p}.csv\", **parse_dates)\n",
    "    df.rename(columns={\"PM2.5(µg/m3)\":\"PM2.5\"}, inplace=True)\n",
    "\n",
    "    ## Read Temp,Wind data\n",
    "    wind = pd.read_csv(f\"../../{p}/Test/3H_wind_{p}.csv\", **parse_dates)[['WindDir','Wind Speed(km/h)']]\n",
    "    temp = pd.read_csv(f\"../../{p}/Test/3H_temperature_{p}.csv\", **parse_dates)[['Temp(C)']]\n",
    "\n",
    "\n",
    "    # Merge\n",
    "    df = df.merge(wind, **left_join).merge(temp, **left_join).merge(fire, **left_join)\n",
    "\n",
    "    # Wind & Temp fill\n",
    "    df = df.ffill(limit=3).bfill(limit=3)\n",
    "    print(f\"Missing = {len(pd.date_range(df.index[0],df.index[-1],freq='H')) - len(df) }\")\n",
    "\n",
    "    test_data[p] = df"
   ]
  },
  {
   "cell_type": "code",
   "execution_count": 3,
   "metadata": {},
   "outputs": [
    {
     "output_type": "stream",
     "name": "stdout",
     "text": [
      "new test/Bangkok_new_test.csv\nnew test/Chanthaburi_new_test.csv\nnew test/Kanchanaburi_new_test.csv\nnew test/Songkhla_new_test.csv\nnew test/Chiang Mai_new_test.csv\nnew test/Khon Kaen_new_test.csv\n"
     ]
    }
   ],
   "source": [
    "for p in provinces:\n",
    "    path = f\"new test/{p}_new_test.csv\"\n",
    "    if not os.path.exists(path):\n",
    "        test_data[p].to_csv()\n",
    "    else: print(path)"
   ]
  },
  {
   "cell_type": "code",
   "execution_count": null,
   "metadata": {},
   "outputs": [],
   "source": []
  }
 ]
}