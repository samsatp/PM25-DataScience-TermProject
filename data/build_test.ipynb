{
 "metadata": {
  "language_info": {
   "codemirror_mode": {
    "name": "ipython",
    "version": 3
   },
   "file_extension": ".py",
   "mimetype": "text/x-python",
   "name": "python",
   "nbconvert_exporter": "python",
   "pygments_lexer": "ipython3",
   "version": "3.9.1"
  },
  "orig_nbformat": 2,
  "kernelspec": {
   "name": "python391jvsc74a57bd031605234de10b43ea767264d17dfb0196cf2b9da7012776efe0be49341337db4",
   "display_name": "Python 3.9.1 64-bit ('jupyterlab2.26': conda)"
  }
 },
 "nbformat": 4,
 "nbformat_minor": 2,
 "cells": [
  {
   "cell_type": "code",
   "execution_count": 1,
   "metadata": {},
   "outputs": [],
   "source": [
    "import pandas as pd\n",
    "import numpy as np\n",
    "import os\n",
    "import time\n",
    "import datetime\n",
    "\n",
    "provinces = ['Bangkok','Chanthaburi','Kanchanaburi','Songkhla','Chiang Mai','Khon Kaen']\n",
    "left_join = dict(how='left', left_index=True, right_index=True)\n",
    "parse_dates = dict(parse_dates=True, index_col=0)"
   ]
  },
  {
   "cell_type": "code",
   "execution_count": 2,
   "metadata": {},
   "outputs": [
    {
     "output_type": "stream",
     "name": "stdout",
     "text": [
      "Missing = 2044\n",
      "Missing = 2044\n",
      "Missing = 2044\n",
      "Missing = 1941\n",
      "Missing = 2046\n",
      "Missing = 2055\n"
     ]
    }
   ],
   "source": [
    "test_data = {}\n",
    "fire = pd.read_csv(\"fire_2016_to_2020_localize.csv\", **parse_dates)\n",
    "\n",
    "for p in provinces:\n",
    "    ## Read PM data\n",
    "    df = pd.read_csv(f\"../../{p}/Test/{p}.csv\", **parse_dates)\n",
    "    df.rename(columns={\"PM2.5(µg/m3)\":\"PM2.5\"}, inplace=True)\n",
    "\n",
    "    ## Read Temp,Wind data\n",
    "    wind = pd.read_csv(f\"../../{p}/Test/3H_wind_{p}.csv\", **parse_dates)[['WindDir','Wind Speed(km/h)']]\n",
    "    temp = pd.read_csv(f\"../../{p}/Test/3H_temperature_{p}.csv\", **parse_dates)[['Temp(C)']]\n",
    "\n",
    "\n",
    "    # Merge\n",
    "    df = df.merge(wind, **left_join).merge(temp, **left_join).merge(fire, **left_join)\n",
    "\n",
    "    # Wind & Temp fill\n",
    "    df = df.ffill(limit=3).bfill(limit=3)\n",
    "    print(f\"Missing = {len(pd.date_range(df.index[0],df.index[-1],freq='H')) - len(df) }\")\n",
    "\n",
    "    test_data[p] = df"
   ]
  },
  {
   "cell_type": "code",
   "execution_count": 39,
   "metadata": {},
   "outputs": [],
   "source": [
    "for p in provinces:\n",
    "    test_data[p].to_csv(f\"new test/{p}_new_test.csv\")"
   ]
  },
  {
   "cell_type": "code",
   "execution_count": 3,
   "metadata": {},
   "outputs": [
    {
     "output_type": "execute_result",
     "data": {
      "text/plain": [
       "                     PM2.5  WindDir  Wind Speed(km/h)  Temp(C)  Cambodia_frp  \\\n",
       "Time                                                                           \n",
       "2019-03-18 08:00:00   45.6    120.0              14.0     33.4      0.000000   \n",
       "2019-03-18 09:00:00   46.6    120.0              14.0     33.4      0.000000   \n",
       "2019-03-18 10:00:00   47.7    120.0              14.0     33.4      0.000000   \n",
       "2019-03-18 11:00:00   43.7    120.0              14.0     33.4      0.000000   \n",
       "2019-03-18 12:00:00   41.6    120.0              14.0     33.4     10.406856   \n",
       "...                    ...      ...               ...      ...           ...   \n",
       "2020-03-18 18:00:00   24.9    210.0               7.0     33.0      0.000000   \n",
       "2020-03-18 19:00:00   27.0    260.0               6.0     30.4      0.000000   \n",
       "2020-03-18 20:00:00   26.1    260.0               6.0     30.4      0.000000   \n",
       "2020-03-18 21:00:00   25.9    260.0               6.0     30.4      0.000000   \n",
       "2020-03-18 22:00:00   24.7    170.0               8.0     29.1      0.000000   \n",
       "\n",
       "                     Myanmar_frp  Thailand_frp  Lao_PDR_frp  \n",
       "Time                                                         \n",
       "2019-03-18 08:00:00       0.0000      0.000000     0.000000  \n",
       "2019-03-18 09:00:00       0.0000      0.000000     0.000000  \n",
       "2019-03-18 10:00:00       0.0000      0.000000     0.000000  \n",
       "2019-03-18 11:00:00       0.0000      0.000000     0.000000  \n",
       "2019-03-18 12:00:00      25.2634      6.844051    26.476113  \n",
       "...                          ...           ...          ...  \n",
       "2020-03-18 18:00:00       0.0000      0.000000     0.000000  \n",
       "2020-03-18 19:00:00       0.0000      0.000000     0.000000  \n",
       "2020-03-18 20:00:00       0.0000      0.000000     0.000000  \n",
       "2020-03-18 21:00:00       0.0000      0.000000     0.000000  \n",
       "2020-03-18 22:00:00       0.0000      0.000000     0.000000  \n",
       "\n",
       "[6755 rows x 8 columns]"
      ],
      "text/html": "<div>\n<style scoped>\n    .dataframe tbody tr th:only-of-type {\n        vertical-align: middle;\n    }\n\n    .dataframe tbody tr th {\n        vertical-align: top;\n    }\n\n    .dataframe thead th {\n        text-align: right;\n    }\n</style>\n<table border=\"1\" class=\"dataframe\">\n  <thead>\n    <tr style=\"text-align: right;\">\n      <th></th>\n      <th>PM2.5</th>\n      <th>WindDir</th>\n      <th>Wind Speed(km/h)</th>\n      <th>Temp(C)</th>\n      <th>Cambodia_frp</th>\n      <th>Myanmar_frp</th>\n      <th>Thailand_frp</th>\n      <th>Lao_PDR_frp</th>\n    </tr>\n    <tr>\n      <th>Time</th>\n      <th></th>\n      <th></th>\n      <th></th>\n      <th></th>\n      <th></th>\n      <th></th>\n      <th></th>\n      <th></th>\n    </tr>\n  </thead>\n  <tbody>\n    <tr>\n      <th>2019-03-18 08:00:00</th>\n      <td>45.6</td>\n      <td>120.0</td>\n      <td>14.0</td>\n      <td>33.4</td>\n      <td>0.000000</td>\n      <td>0.0000</td>\n      <td>0.000000</td>\n      <td>0.000000</td>\n    </tr>\n    <tr>\n      <th>2019-03-18 09:00:00</th>\n      <td>46.6</td>\n      <td>120.0</td>\n      <td>14.0</td>\n      <td>33.4</td>\n      <td>0.000000</td>\n      <td>0.0000</td>\n      <td>0.000000</td>\n      <td>0.000000</td>\n    </tr>\n    <tr>\n      <th>2019-03-18 10:00:00</th>\n      <td>47.7</td>\n      <td>120.0</td>\n      <td>14.0</td>\n      <td>33.4</td>\n      <td>0.000000</td>\n      <td>0.0000</td>\n      <td>0.000000</td>\n      <td>0.000000</td>\n    </tr>\n    <tr>\n      <th>2019-03-18 11:00:00</th>\n      <td>43.7</td>\n      <td>120.0</td>\n      <td>14.0</td>\n      <td>33.4</td>\n      <td>0.000000</td>\n      <td>0.0000</td>\n      <td>0.000000</td>\n      <td>0.000000</td>\n    </tr>\n    <tr>\n      <th>2019-03-18 12:00:00</th>\n      <td>41.6</td>\n      <td>120.0</td>\n      <td>14.0</td>\n      <td>33.4</td>\n      <td>10.406856</td>\n      <td>25.2634</td>\n      <td>6.844051</td>\n      <td>26.476113</td>\n    </tr>\n    <tr>\n      <th>...</th>\n      <td>...</td>\n      <td>...</td>\n      <td>...</td>\n      <td>...</td>\n      <td>...</td>\n      <td>...</td>\n      <td>...</td>\n      <td>...</td>\n    </tr>\n    <tr>\n      <th>2020-03-18 18:00:00</th>\n      <td>24.9</td>\n      <td>210.0</td>\n      <td>7.0</td>\n      <td>33.0</td>\n      <td>0.000000</td>\n      <td>0.0000</td>\n      <td>0.000000</td>\n      <td>0.000000</td>\n    </tr>\n    <tr>\n      <th>2020-03-18 19:00:00</th>\n      <td>27.0</td>\n      <td>260.0</td>\n      <td>6.0</td>\n      <td>30.4</td>\n      <td>0.000000</td>\n      <td>0.0000</td>\n      <td>0.000000</td>\n      <td>0.000000</td>\n    </tr>\n    <tr>\n      <th>2020-03-18 20:00:00</th>\n      <td>26.1</td>\n      <td>260.0</td>\n      <td>6.0</td>\n      <td>30.4</td>\n      <td>0.000000</td>\n      <td>0.0000</td>\n      <td>0.000000</td>\n      <td>0.000000</td>\n    </tr>\n    <tr>\n      <th>2020-03-18 21:00:00</th>\n      <td>25.9</td>\n      <td>260.0</td>\n      <td>6.0</td>\n      <td>30.4</td>\n      <td>0.000000</td>\n      <td>0.0000</td>\n      <td>0.000000</td>\n      <td>0.000000</td>\n    </tr>\n    <tr>\n      <th>2020-03-18 22:00:00</th>\n      <td>24.7</td>\n      <td>170.0</td>\n      <td>8.0</td>\n      <td>29.1</td>\n      <td>0.000000</td>\n      <td>0.0000</td>\n      <td>0.000000</td>\n      <td>0.000000</td>\n    </tr>\n  </tbody>\n</table>\n<p>6755 rows × 8 columns</p>\n</div>"
     },
     "metadata": {},
     "execution_count": 3
    }
   ],
   "source": [
    "test_data['Bangkok']"
   ]
  },
  {
   "cell_type": "code",
   "execution_count": 9,
   "metadata": {},
   "outputs": [],
   "source": [
    "idx= pd.date_range('2019-03-18 08:00:00','2020-03-15 22:00:00', freq='H')"
   ]
  },
  {
   "cell_type": "code",
   "execution_count": 10,
   "metadata": {},
   "outputs": [
    {
     "output_type": "execute_result",
     "data": {
      "text/plain": [
       "DatetimeIndex(['2019-03-18 12:00:00', '2019-03-18 18:00:00',\n",
       "               '2019-03-19 00:00:00', '2019-03-19 06:00:00',\n",
       "               '2019-03-19 12:00:00', '2019-03-19 18:00:00',\n",
       "               '2019-03-20 00:00:00', '2019-03-20 06:00:00',\n",
       "               '2019-03-20 12:00:00', '2019-03-20 18:00:00',\n",
       "               ...\n",
       "               '2020-03-13 12:00:00', '2020-03-13 18:00:00',\n",
       "               '2020-03-14 00:00:00', '2020-03-14 06:00:00',\n",
       "               '2020-03-14 12:00:00', '2020-03-14 18:00:00',\n",
       "               '2020-03-15 00:00:00', '2020-03-15 06:00:00',\n",
       "               '2020-03-15 12:00:00', '2020-03-15 18:00:00'],\n",
       "              dtype='datetime64[ns]', length=1454, freq=None)"
      ]
     },
     "metadata": {},
     "execution_count": 10
    }
   ],
   "source": [
    "idx[idx.hour.isin([6,12,18,0])]"
   ]
  },
  {
   "cell_type": "code",
   "execution_count": 13,
   "metadata": {},
   "outputs": [
    {
     "output_type": "execute_result",
     "data": {
      "text/plain": [
       "DatetimeIndex(['2019-03-18 12:00:00', '2019-03-18 18:00:00',\n",
       "               '2019-03-19 00:00:00', '2019-03-19 06:00:00',\n",
       "               '2019-03-19 12:00:00', '2019-03-19 18:00:00',\n",
       "               '2019-03-20 00:00:00', '2019-03-20 06:00:00',\n",
       "               '2019-03-20 12:00:00', '2019-03-20 18:00:00',\n",
       "               ...\n",
       "               '2020-03-13 12:00:00', '2020-03-13 18:00:00',\n",
       "               '2020-03-14 00:00:00', '2020-03-14 06:00:00',\n",
       "               '2020-03-14 12:00:00', '2020-03-14 18:00:00',\n",
       "               '2020-03-15 00:00:00', '2020-03-15 06:00:00',\n",
       "               '2020-03-15 12:00:00', '2020-03-15 18:00:00'],\n",
       "              dtype='datetime64[ns]', name='Time', length=1112, freq=None)"
      ]
     },
     "metadata": {},
     "execution_count": 13
    }
   ],
   "source": [
    "have = test_data['Bangkok'].iloc[:-72].index\n",
    "have[have.hour.isin([6,12,18,0])]"
   ]
  },
  {
   "cell_type": "code",
   "execution_count": 14,
   "metadata": {},
   "outputs": [
    {
     "output_type": "execute_result",
     "data": {
      "text/plain": [
       "342"
      ]
     },
     "metadata": {},
     "execution_count": 14
    }
   ],
   "source": [
    "1454-1112"
   ]
  },
  {
   "cell_type": "code",
   "execution_count": 15,
   "metadata": {},
   "outputs": [
    {
     "output_type": "error",
     "ename": "AttributeError",
     "evalue": "'DatetimeIndex' object has no attribute 'pop'",
     "traceback": [
      "\u001b[1;31m---------------------------------------------------------------------------\u001b[0m",
      "\u001b[1;31mAttributeError\u001b[0m                            Traceback (most recent call last)",
      "\u001b[1;32m<ipython-input-15-0e5379f1f58e>\u001b[0m in \u001b[0;36m<module>\u001b[1;34m\u001b[0m\n\u001b[1;32m----> 1\u001b[1;33m \u001b[0mhave\u001b[0m\u001b[1;33m[\u001b[0m\u001b[0mhave\u001b[0m\u001b[1;33m.\u001b[0m\u001b[0mhour\u001b[0m\u001b[1;33m.\u001b[0m\u001b[0misin\u001b[0m\u001b[1;33m(\u001b[0m\u001b[1;33m[\u001b[0m\u001b[1;36m6\u001b[0m\u001b[1;33m,\u001b[0m\u001b[1;36m12\u001b[0m\u001b[1;33m,\u001b[0m\u001b[1;36m18\u001b[0m\u001b[1;33m,\u001b[0m\u001b[1;36m0\u001b[0m\u001b[1;33m]\u001b[0m\u001b[1;33m)\u001b[0m\u001b[1;33m]\u001b[0m\u001b[1;33m.\u001b[0m\u001b[0mpop\u001b[0m\u001b[1;33m(\u001b[0m\u001b[1;36m0\u001b[0m\u001b[1;33m)\u001b[0m\u001b[1;33m\u001b[0m\u001b[1;33m\u001b[0m\u001b[0m\n\u001b[0m",
      "\u001b[1;31mAttributeError\u001b[0m: 'DatetimeIndex' object has no attribute 'pop'"
     ]
    }
   ],
   "source": [
    "have[have.hour.isin([6,12,18,0])].pop(0)"
   ]
  },
  {
   "cell_type": "code",
   "execution_count": null,
   "metadata": {},
   "outputs": [],
   "source": []
  }
 ]
}