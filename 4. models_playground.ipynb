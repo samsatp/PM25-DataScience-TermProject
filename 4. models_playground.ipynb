{
 "metadata": {
  "language_info": {
   "codemirror_mode": {
    "name": "ipython",
    "version": 3
   },
   "file_extension": ".py",
   "mimetype": "text/x-python",
   "name": "python",
   "nbconvert_exporter": "python",
   "pygments_lexer": "ipython3",
   "version": "3.9.1-final"
  },
  "orig_nbformat": 2,
  "kernelspec": {
   "name": "python391jvsc74a57bd031605234de10b43ea767264d17dfb0196cf2b9da7012776efe0be49341337db4",
   "display_name": "Python 3.9.1 64-bit ('jupyterlab2.26': conda)"
  }
 },
 "nbformat": 4,
 "nbformat_minor": 2,
 "cells": [
  {
   "cell_type": "code",
   "execution_count": 39,
   "metadata": {},
   "outputs": [
    {
     "output_type": "execute_result",
     "data": {
      "text/plain": [
       "'2.5.0-rc1'"
      ]
     },
     "metadata": {},
     "execution_count": 39
    }
   ],
   "source": [
    "import tensorflow as tf\n",
    "from datetime import timedelta\n",
    "tf.__version__"
   ]
  },
  {
   "cell_type": "code",
   "execution_count": 58,
   "metadata": {},
   "outputs": [],
   "source": [
    "import pandas as pd\n",
    "from collections import defaultdict\n",
    "\n",
    "provinces = ['Bangkok','Chanthaburi','Chiang Mai','Kanchanaburi','Songkhla']\n",
    "path = './data/Train/fire_integrated/'\n",
    "data = {}\n",
    "\n",
    "X = {}\n",
    "Y = defaultdict(lambda: list())\n",
    "\n",
    "idx = pd.date_range(start=\"2016-03-04 00:00:00\", end=df.index[-1], freq='6H')\n",
    "\n",
    "for province in provinces:\n",
    "\n",
    "    # Keep original dataset\n",
    "    df = pd.read_csv(path+f'{province}_fire_integrated.csv', index_col=0, parse_dates=True)\n",
    "    data[province] = df\n",
    "\n",
    "    # X to feed\n",
    "    X[province] = df.loc[idx]\n",
    "\n",
    "    PM = df['PM2.5']\n",
    "    for i in X[province].index:\n",
    "        try:\n",
    "            start = i+timedelta(hours=1)\n",
    "            Y[province].append(PM.loc[start : start + timedelta(hours=71)])\n",
    "        except:\n",
    "            print(f\"{province} : Y : end at : {i} = {X[province].index[i]}\")\n",
    "            break\n"
   ]
  },
  {
   "cell_type": "code",
   "execution_count": 59,
   "metadata": {},
   "outputs": [
    {
     "output_type": "execute_result",
     "data": {
      "text/plain": [
       "2016-03-04 01:00:00    43.1\n",
       "2016-03-04 02:00:00    44.8\n",
       "2016-03-04 03:00:00    37.5\n",
       "2016-03-04 04:00:00    39.6\n",
       "2016-03-04 05:00:00    46.0\n",
       "                       ... \n",
       "2016-03-06 20:00:00    26.0\n",
       "2016-03-06 21:00:00    32.4\n",
       "2016-03-06 22:00:00    32.8\n",
       "2016-03-06 23:00:00    24.8\n",
       "2016-03-07 00:00:00    31.3\n",
       "Name: PM2.5, Length: 72, dtype: float64"
      ]
     },
     "metadata": {},
     "execution_count": 59
    }
   ],
   "source": [
    "Y['Bangkok'][0]"
   ]
  },
  {
   "source": [
    "---"
   ],
   "cell_type": "markdown",
   "metadata": {}
  },
  {
   "cell_type": "code",
   "execution_count": 21,
   "metadata": {},
   "outputs": [],
   "source": [
    "from sklearn.preprocessing import MinMaxScaler\n",
    "\n",
    "pm = df['PM2.5']\n",
    "\n",
    "scaler = MinMaxScaler().fit(pm)\n",
    "\n",
    "train_scaled = scaler.transform(pm)"
   ]
  },
  {
   "cell_type": "code",
   "execution_count": 22,
   "metadata": {},
   "outputs": [],
   "source": [
    "from tensorflow.keras.preprocessing.sequence import TimeseriesGenerator\n",
    "\n",
    "# define generator\n",
    "n_input = 2921\n",
    "n_features = 1\n",
    "generator = TimeseriesGenerator(train_scaled, train_scaled, length=n_input, batch_size=100)"
   ]
  },
  {
   "cell_type": "code",
   "execution_count": 23,
   "metadata": {},
   "outputs": [],
   "source": [
    "from tensorflow.keras.models import Sequential\n",
    "from tensorflow.keras.layers import Dense\n",
    "from tensorflow.keras.layers import LSTM\n",
    "import tensorflow as tf\n",
    "\n",
    "# define model\n",
    "model = Sequential([\n",
    "    LSTM(100, activation='relu', input_shape=(n_input, n_features)),\n",
    "    Dense(1)\n",
    "])\n",
    "model.compile(optimizer='adam', loss='mse')"
   ]
  },
  {
   "cell_type": "code",
   "execution_count": null,
   "metadata": {},
   "outputs": [],
   "source": [
    "model.fit(generator,epochs=5, batch_size=100)"
   ]
  },
  {
   "source": [
    "Test"
   ],
   "cell_type": "markdown",
   "metadata": {}
  },
  {
   "cell_type": "code",
   "execution_count": 31,
   "metadata": {},
   "outputs": [
    {
     "output_type": "execute_result",
     "data": {
      "text/plain": [
       "                     Temp  WindDir  Wind Speed      PM2.5\n",
       "2016-03-03 07:00:00  26.4       65          15  62.900000\n",
       "2016-03-03 10:00:00  31.4       75          13  52.966667\n",
       "2016-03-03 13:00:00  34.1       70          12  35.266667\n",
       "2016-03-03 16:00:00  34.6       60          12  33.050000"
      ],
      "text/html": "<div>\n<style scoped>\n    .dataframe tbody tr th:only-of-type {\n        vertical-align: middle;\n    }\n\n    .dataframe tbody tr th {\n        vertical-align: top;\n    }\n\n    .dataframe thead th {\n        text-align: right;\n    }\n</style>\n<table border=\"1\" class=\"dataframe\">\n  <thead>\n    <tr style=\"text-align: right;\">\n      <th></th>\n      <th>Temp</th>\n      <th>WindDir</th>\n      <th>Wind Speed</th>\n      <th>PM2.5</th>\n    </tr>\n  </thead>\n  <tbody>\n    <tr>\n      <th>2016-03-03 07:00:00</th>\n      <td>26.4</td>\n      <td>65</td>\n      <td>15</td>\n      <td>62.900000</td>\n    </tr>\n    <tr>\n      <th>2016-03-03 10:00:00</th>\n      <td>31.4</td>\n      <td>75</td>\n      <td>13</td>\n      <td>52.966667</td>\n    </tr>\n    <tr>\n      <th>2016-03-03 13:00:00</th>\n      <td>34.1</td>\n      <td>70</td>\n      <td>12</td>\n      <td>35.266667</td>\n    </tr>\n    <tr>\n      <th>2016-03-03 16:00:00</th>\n      <td>34.6</td>\n      <td>60</td>\n      <td>12</td>\n      <td>33.050000</td>\n    </tr>\n  </tbody>\n</table>\n</div>"
     },
     "metadata": {},
     "execution_count": 31
    }
   ],
   "source": [
    "df.head(4)"
   ]
  },
  {
   "cell_type": "code",
   "execution_count": 25,
   "metadata": {},
   "outputs": [],
   "source": [
    "x = df.iloc[:,:-1]\n",
    "y = df.iloc[:,-1]"
   ]
  },
  {
   "cell_type": "code",
   "execution_count": 28,
   "metadata": {},
   "outputs": [],
   "source": [
    "\n",
    "# define generator\n",
    "n_input = 2921\n",
    "n_features = 1\n",
    "generator = TimeseriesGenerator(x, y, length=2, batch_size=1)"
   ]
  },
  {
   "cell_type": "code",
   "execution_count": 33,
   "metadata": {},
   "outputs": [],
   "source": [
    "X, Y = generator[1]"
   ]
  },
  {
   "cell_type": "code",
   "execution_count": 34,
   "metadata": {},
   "outputs": [
    {
     "output_type": "execute_result",
     "data": {
      "text/plain": [
       "array([[[31.4, 75. , 13. ],\n",
       "        [34.1, 70. , 12. ]]])"
      ]
     },
     "metadata": {},
     "execution_count": 34
    }
   ],
   "source": [
    "X"
   ]
  },
  {
   "cell_type": "code",
   "execution_count": 35,
   "metadata": {},
   "outputs": [
    {
     "output_type": "execute_result",
     "data": {
      "text/plain": [
       "array([33.05])"
      ]
     },
     "metadata": {},
     "execution_count": 35
    }
   ],
   "source": [
    "Y"
   ]
  },
  {
   "cell_type": "code",
   "execution_count": null,
   "metadata": {},
   "outputs": [],
   "source": []
  }
 ]
}