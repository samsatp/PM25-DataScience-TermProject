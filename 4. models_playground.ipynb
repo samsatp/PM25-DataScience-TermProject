{
 "metadata": {
  "language_info": {
   "codemirror_mode": {
    "name": "ipython",
    "version": 3
   },
   "file_extension": ".py",
   "mimetype": "text/x-python",
   "name": "python",
   "nbconvert_exporter": "python",
   "pygments_lexer": "ipython3",
   "version": "3.9.1-final"
  },
  "orig_nbformat": 2,
  "kernelspec": {
   "name": "python391jvsc74a57bd031605234de10b43ea767264d17dfb0196cf2b9da7012776efe0be49341337db4",
   "display_name": "Python 3.9.1 64-bit ('jupyterlab2.26': conda)"
  }
 },
 "nbformat": 4,
 "nbformat_minor": 2,
 "cells": [
  {
   "cell_type": "code",
   "execution_count": 1,
   "metadata": {},
   "outputs": [
    {
     "output_type": "stream",
     "name": "stdout",
     "text": [
      "INFO:tensorflow:Enabling eager execution\n",
      "INFO:tensorflow:Enabling v2 tensorshape\n",
      "INFO:tensorflow:Enabling resource variables\n",
      "INFO:tensorflow:Enabling tensor equality\n",
      "INFO:tensorflow:Enabling control flow v2\n"
     ]
    },
    {
     "output_type": "execute_result",
     "data": {
      "text/plain": [
       "'2.5.0-rc1'"
      ]
     },
     "metadata": {},
     "execution_count": 1
    }
   ],
   "source": [
    "import tensorflow as tf\n",
    "from datetime import timedelta\n",
    "import numpy as np\n",
    "tf.__version__"
   ]
  },
  {
   "source": [
    "## Preparing X, Y"
   ],
   "cell_type": "markdown",
   "metadata": {}
  },
  {
   "cell_type": "code",
   "execution_count": 18,
   "metadata": {},
   "outputs": [
    {
     "output_type": "stream",
     "name": "stdout",
     "text": [
      "Enter timestep :  2\n"
     ]
    }
   ],
   "source": [
    "print(\"Enter timestep : \",end=' ')\n",
    "timesteps = int(input())\n",
    "print(timesteps)"
   ]
  },
  {
   "cell_type": "code",
   "execution_count": 19,
   "metadata": {},
   "outputs": [],
   "source": [
    "import pandas as pd\n",
    "from collections import defaultdict\n",
    "\n",
    "provinces = ['Bangkok','Chanthaburi','Chiang Mai','Kanchanaburi','Songkhla']\n",
    "path = './data/Train/fire_integrated/'\n",
    "data = {}\n",
    "\n",
    "X = defaultdict(lambda: list())\n",
    "Y = defaultdict(lambda: list())\n",
    "\n",
    "hour_step = timedelta(hours=timesteps-1)\n",
    "\n",
    "predict_at = pd.date_range(start=\"2016-03-04 00:00:00\", end=\"2019-03-17 23:00:00\", freq='6H')\n",
    "\n",
    "for province in provinces:\n",
    "    df = pd.read_csv(path+f'{province}_fire_integrated.csv', index_col=0, parse_dates=True)\n",
    "    data[province] = df\n",
    "\n",
    "    for base in predict_at:\n",
    "        x = df.loc[base-hour_step: base].drop(['PM2.5'], axis=1)\n",
    "        y = df.loc[base+timedelta(hours=1): base+timedelta(hours=72), 'PM2.5']\n",
    "\n",
    "        X[province].append(x)\n",
    "        Y[province].append(y)\n"
   ]
  },
  {
   "cell_type": "code",
   "execution_count": 20,
   "metadata": {},
   "outputs": [
    {
     "output_type": "execute_result",
     "data": {
      "text/plain": [
       "                     Temp(C)  WindDir  Wind Speed(km/h)  Cambodia_frp  \\\n",
       "2016-03-04 11:00:00     30.7    105.0              13.0      8.573155   \n",
       "2016-03-04 12:00:00     30.7    105.0              13.0      8.573155   \n",
       "\n",
       "                     Myanmar_frp  Thailand_frp  Lao_PDR_frp  \n",
       "2016-03-04 11:00:00      7.60015      6.686076    13.388824  \n",
       "2016-03-04 12:00:00      7.60015      6.686076    13.388824  "
      ],
      "text/html": "<div>\n<style scoped>\n    .dataframe tbody tr th:only-of-type {\n        vertical-align: middle;\n    }\n\n    .dataframe tbody tr th {\n        vertical-align: top;\n    }\n\n    .dataframe thead th {\n        text-align: right;\n    }\n</style>\n<table border=\"1\" class=\"dataframe\">\n  <thead>\n    <tr style=\"text-align: right;\">\n      <th></th>\n      <th>Temp(C)</th>\n      <th>WindDir</th>\n      <th>Wind Speed(km/h)</th>\n      <th>Cambodia_frp</th>\n      <th>Myanmar_frp</th>\n      <th>Thailand_frp</th>\n      <th>Lao_PDR_frp</th>\n    </tr>\n  </thead>\n  <tbody>\n    <tr>\n      <th>2016-03-04 11:00:00</th>\n      <td>30.7</td>\n      <td>105.0</td>\n      <td>13.0</td>\n      <td>8.573155</td>\n      <td>7.60015</td>\n      <td>6.686076</td>\n      <td>13.388824</td>\n    </tr>\n    <tr>\n      <th>2016-03-04 12:00:00</th>\n      <td>30.7</td>\n      <td>105.0</td>\n      <td>13.0</td>\n      <td>8.573155</td>\n      <td>7.60015</td>\n      <td>6.686076</td>\n      <td>13.388824</td>\n    </tr>\n  </tbody>\n</table>\n</div>"
     },
     "metadata": {},
     "execution_count": 20
    }
   ],
   "source": [
    "X['Bangkok'][2]"
   ]
  },
  {
   "cell_type": "code",
   "execution_count": 21,
   "metadata": {},
   "outputs": [
    {
     "output_type": "execute_result",
     "data": {
      "text/plain": [
       "2016-03-04 13:00:00    24.4\n",
       "2016-03-04 14:00:00    32.8\n",
       "2016-03-04 15:00:00    32.9\n",
       "2016-03-04 16:00:00    30.7\n",
       "2016-03-04 17:00:00    29.2\n",
       "                       ... \n",
       "2016-03-07 08:00:00    36.8\n",
       "2016-03-07 09:00:00    30.9\n",
       "2016-03-07 10:00:00    29.0\n",
       "2016-03-07 11:00:00    28.6\n",
       "2016-03-07 12:00:00    27.6\n",
       "Name: PM2.5, Length: 72, dtype: float64"
      ]
     },
     "metadata": {},
     "execution_count": 21
    }
   ],
   "source": [
    "Y['Bangkok'][2]"
   ]
  },
  {
   "source": [
    "## Reshaping input"
   ],
   "cell_type": "markdown",
   "metadata": {}
  },
  {
   "cell_type": "code",
   "execution_count": 177,
   "metadata": {},
   "outputs": [],
   "source": [
    "bkk_x = X['Bangkok']\n",
    "bkk_y = Y['Bangkok']\n",
    "\n",
    "n_timesteps = 3\n",
    "n_features = bkk.shape[1]\n",
    "\n",
    "timesteped = []\n",
    "\n",
    "for start in range(0, len(bkk_x.index), n_timesteps):\n",
    "    timesteped.append(list(bkk_x.iloc[start: start+n_timesteps].values))"
   ]
  },
  {
   "cell_type": "code",
   "execution_count": 178,
   "metadata": {},
   "outputs": [
    {
     "output_type": "stream",
     "name": "stdout",
     "text": [
      "[array([27.3       , 70.        , 15.        ,  1.57423398,  1.23852814,\n        4.12      ,  1.27484536]), array([ 25.8       , 115.        ,  11.        ,   9.12968326,\n         1.23852814,   8.49336735,   8.1157485 ]), array([ 30.7       , 105.        ,  13.        ,   8.57315534,\n         7.60014966,   6.68607649,  13.38882353])] predicts \n\n2016-03-04 13:00:00    24.4\n2016-03-04 14:00:00    32.8\n2016-03-04 15:00:00    32.9\n2016-03-04 16:00:00    30.7\n2016-03-04 17:00:00    29.2\n                       ... \n2016-03-07 08:00:00    36.8\n2016-03-07 09:00:00    30.9\n2016-03-07 10:00:00    29.0\n2016-03-07 11:00:00    28.6\n2016-03-07 12:00:00    27.6\nName: PM2.5, Length: 72, dtype: float64\n"
     ]
    }
   ],
   "source": [
    "print(f'{timesteped[0]} predicts \\n\\n{bkk_y[n_timesteps-1]}')"
   ]
  },
  {
   "cell_type": "code",
   "execution_count": 21,
   "metadata": {},
   "outputs": [],
   "source": [
    "from sklearn.preprocessing import MinMaxScaler\n",
    "\n",
    "pm = df['PM2.5']\n",
    "\n",
    "scaler = MinMaxScaler().fit(pm)\n",
    "\n",
    "train_scaled = scaler.transform(pm)"
   ]
  },
  {
   "cell_type": "code",
   "execution_count": 22,
   "metadata": {},
   "outputs": [],
   "source": [
    "from tensorflow.keras.preprocessing.sequence import TimeseriesGenerator\n",
    "\n",
    "# define generator\n",
    "n_input = 2921\n",
    "n_features = 1\n",
    "generator = TimeseriesGenerator(train_scaled, train_scaled, length=n_input, batch_size=100)"
   ]
  },
  {
   "cell_type": "code",
   "execution_count": 23,
   "metadata": {},
   "outputs": [],
   "source": [
    "from tensorflow.keras.models import Sequential\n",
    "from tensorflow.keras.layers import Dense\n",
    "from tensorflow.keras.layers import LSTM\n",
    "import tensorflow as tf\n",
    "\n",
    "# define model\n",
    "model = Sequential([\n",
    "    LSTM(100, activation='relu', input_shape=(n_input, n_features)),\n",
    "    Dense(1)\n",
    "])\n",
    "model.compile(optimizer='adam', loss='mse')"
   ]
  },
  {
   "cell_type": "code",
   "execution_count": null,
   "metadata": {},
   "outputs": [],
   "source": [
    "model.fit(generator,epochs=5, batch_size=100)"
   ]
  },
  {
   "source": [
    "Test"
   ],
   "cell_type": "markdown",
   "metadata": {}
  },
  {
   "cell_type": "code",
   "execution_count": 31,
   "metadata": {},
   "outputs": [
    {
     "output_type": "execute_result",
     "data": {
      "text/plain": [
       "                     Temp  WindDir  Wind Speed      PM2.5\n",
       "2016-03-03 07:00:00  26.4       65          15  62.900000\n",
       "2016-03-03 10:00:00  31.4       75          13  52.966667\n",
       "2016-03-03 13:00:00  34.1       70          12  35.266667\n",
       "2016-03-03 16:00:00  34.6       60          12  33.050000"
      ],
      "text/html": "<div>\n<style scoped>\n    .dataframe tbody tr th:only-of-type {\n        vertical-align: middle;\n    }\n\n    .dataframe tbody tr th {\n        vertical-align: top;\n    }\n\n    .dataframe thead th {\n        text-align: right;\n    }\n</style>\n<table border=\"1\" class=\"dataframe\">\n  <thead>\n    <tr style=\"text-align: right;\">\n      <th></th>\n      <th>Temp</th>\n      <th>WindDir</th>\n      <th>Wind Speed</th>\n      <th>PM2.5</th>\n    </tr>\n  </thead>\n  <tbody>\n    <tr>\n      <th>2016-03-03 07:00:00</th>\n      <td>26.4</td>\n      <td>65</td>\n      <td>15</td>\n      <td>62.900000</td>\n    </tr>\n    <tr>\n      <th>2016-03-03 10:00:00</th>\n      <td>31.4</td>\n      <td>75</td>\n      <td>13</td>\n      <td>52.966667</td>\n    </tr>\n    <tr>\n      <th>2016-03-03 13:00:00</th>\n      <td>34.1</td>\n      <td>70</td>\n      <td>12</td>\n      <td>35.266667</td>\n    </tr>\n    <tr>\n      <th>2016-03-03 16:00:00</th>\n      <td>34.6</td>\n      <td>60</td>\n      <td>12</td>\n      <td>33.050000</td>\n    </tr>\n  </tbody>\n</table>\n</div>"
     },
     "metadata": {},
     "execution_count": 31
    }
   ],
   "source": [
    "df.head(4)"
   ]
  },
  {
   "cell_type": "code",
   "execution_count": 25,
   "metadata": {},
   "outputs": [],
   "source": [
    "x = df.iloc[:,:-1]\n",
    "y = df.iloc[:,-1]"
   ]
  },
  {
   "cell_type": "code",
   "execution_count": 28,
   "metadata": {},
   "outputs": [],
   "source": [
    "\n",
    "# define generator\n",
    "n_input = 2921\n",
    "n_features = 1\n",
    "generator = TimeseriesGenerator(x, y, length=2, batch_size=1)"
   ]
  },
  {
   "cell_type": "code",
   "execution_count": 33,
   "metadata": {},
   "outputs": [],
   "source": [
    "X, Y = generator[1]"
   ]
  },
  {
   "cell_type": "code",
   "execution_count": 34,
   "metadata": {},
   "outputs": [
    {
     "output_type": "execute_result",
     "data": {
      "text/plain": [
       "array([[[31.4, 75. , 13. ],\n",
       "        [34.1, 70. , 12. ]]])"
      ]
     },
     "metadata": {},
     "execution_count": 34
    }
   ],
   "source": [
    "X"
   ]
  },
  {
   "cell_type": "code",
   "execution_count": 35,
   "metadata": {},
   "outputs": [
    {
     "output_type": "execute_result",
     "data": {
      "text/plain": [
       "array([33.05])"
      ]
     },
     "metadata": {},
     "execution_count": 35
    }
   ],
   "source": [
    "Y"
   ]
  },
  {
   "cell_type": "code",
   "execution_count": null,
   "metadata": {},
   "outputs": [],
   "source": []
  }
 ]
}