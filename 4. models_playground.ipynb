{
 "metadata": {
  "language_info": {
   "codemirror_mode": {
    "name": "ipython",
    "version": 3
   },
   "file_extension": ".py",
   "mimetype": "text/x-python",
   "name": "python",
   "nbconvert_exporter": "python",
   "pygments_lexer": "ipython3",
   "version": "3.9.1-final"
  },
  "orig_nbformat": 2,
  "kernelspec": {
   "name": "python391jvsc74a57bd031605234de10b43ea767264d17dfb0196cf2b9da7012776efe0be49341337db4",
   "display_name": "Python 3.9.1 64-bit ('jupyterlab2.26': conda)"
  }
 },
 "nbformat": 4,
 "nbformat_minor": 2,
 "cells": [
  {
   "cell_type": "code",
   "execution_count": 1,
   "metadata": {},
   "outputs": [
    {
     "output_type": "stream",
     "name": "stdout",
     "text": [
      "INFO:tensorflow:Enabling eager execution\n",
      "INFO:tensorflow:Enabling v2 tensorshape\n",
      "INFO:tensorflow:Enabling resource variables\n",
      "INFO:tensorflow:Enabling tensor equality\n",
      "INFO:tensorflow:Enabling control flow v2\n"
     ]
    },
    {
     "output_type": "execute_result",
     "data": {
      "text/plain": [
       "'2.5.0-rc1'"
      ]
     },
     "metadata": {},
     "execution_count": 1
    }
   ],
   "source": [
    "import tensorflow as tf\n",
    "from datetime import timedelta\n",
    "import numpy as np\n",
    "tf.__version__"
   ]
  },
  {
   "source": [
    "## Preparing X, Y"
   ],
   "cell_type": "markdown",
   "metadata": {}
  },
  {
   "cell_type": "code",
   "execution_count": 33,
   "metadata": {},
   "outputs": [
    {
     "output_type": "stream",
     "name": "stdout",
     "text": [
      "Enter timestep :  48\n"
     ]
    }
   ],
   "source": [
    "print(\"Enter timestep : \",end=' ')\n",
    "timesteps = int(input())\n",
    "print(timesteps)"
   ]
  },
  {
   "cell_type": "code",
   "execution_count": 34,
   "metadata": {},
   "outputs": [],
   "source": [
    "import pandas as pd\n",
    "from collections import defaultdict\n",
    "\n",
    "provinces = ['Bangkok','Chanthaburi','Chiang Mai','Kanchanaburi','Songkhla']\n",
    "path = './data/Train/fire_integrated/'\n",
    "data = {}\n",
    "\n",
    "X = defaultdict(lambda: list())\n",
    "Y = defaultdict(lambda: list())\n",
    "\n",
    "hour_step = timedelta(hours=timesteps-1)\n",
    "\n",
    "predict_at = pd.date_range(start=\"2016-03-04 00:00:00\", end=\"2019-03-17 23:00:00\", freq='6H')\n",
    "\n",
    "for province in provinces:\n",
    "    df = pd.read_csv(path+f'{province}_fire_integrated.csv', index_col=0, parse_dates=True)\n",
    "    data[province] = df\n",
    "\n",
    "    df = df.fillna(value=0.0)  # Quick fix : frp has some Null\n",
    "\n",
    "    for base in predict_at:\n",
    "\n",
    "        if base-hour_step not in df.index : continue\n",
    "        x = df.loc[base-hour_step: base].drop(['PM2.5'], axis=1)\n",
    "\n",
    "        till = base+timedelta(hours=72)\n",
    "        if till not in df.index: break\n",
    "        y = df.loc[base+timedelta(hours=1): till, ['PM2.5']]\n",
    "\n",
    "        X[province].append(x)\n",
    "        Y[province].append(y)\n"
   ]
  },
  {
   "cell_type": "code",
   "execution_count": 35,
   "metadata": {},
   "outputs": [],
   "source": [
    "from sklearn.preprocessing import MinMaxScaler\n",
    "\n",
    "x_scalers, y_scalers = {}, {}\n",
    "\n",
    "X_scaled = defaultdict(lambda: list())\n",
    "Y_scaled = defaultdict(lambda: list())\n",
    "\n",
    "for province in provinces:\n",
    "    x = data[province].drop(['PM2.5'], axis=1)\n",
    "    y = data[province][['PM2.5']]\n",
    "\n",
    "    x_scaler = MinMaxScaler().fit(x)\n",
    "    y_scaler = MinMaxScaler().fit(y)\n",
    "\n",
    "    for e in X[province]:\n",
    "        X_scaled[province].append(x_scaler.transform(e))\n",
    "        x_scalers[province] = x_scaler\n",
    "    for e in Y[province]:\n",
    "        Y_scaled[province].append(y_scaler.transform(e))\n",
    "        y_scalers[province] = y_scaler\n"
   ]
  },
  {
   "cell_type": "code",
   "execution_count": 36,
   "metadata": {},
   "outputs": [
    {
     "output_type": "execute_result",
     "data": {
      "text/plain": [
       "                     Temp(C)  WindDir  Wind Speed(km/h)  Cambodia_frp  \\\n",
       "2016-03-03 13:00:00     34.1     70.0              12.0      8.984035   \n",
       "2016-03-03 14:00:00     34.1     70.0              12.0      8.984035   \n",
       "2016-03-03 15:00:00     34.1     70.0              12.0      8.984035   \n",
       "2016-03-03 16:00:00     34.6     60.0              12.0      8.984035   \n",
       "2016-03-03 17:00:00     34.6     60.0              12.0      8.984035   \n",
       "2016-03-03 18:00:00     34.6     60.0              12.0      1.574234   \n",
       "2016-03-03 19:00:00     29.1     70.0              11.0      1.574234   \n",
       "2016-03-03 20:00:00     29.1     70.0              11.0      1.574234   \n",
       "2016-03-03 21:00:00     29.1     70.0              11.0      1.574234   \n",
       "2016-03-03 22:00:00     27.3     70.0              15.0      1.574234   \n",
       "2016-03-03 23:00:00     27.3     70.0              15.0      1.574234   \n",
       "2016-03-04 00:00:00     27.3     70.0              15.0      1.574234   \n",
       "2016-03-04 01:00:00     26.5     95.0              13.0      1.574234   \n",
       "2016-03-04 02:00:00     26.5     95.0              13.0      1.574234   \n",
       "2016-03-04 03:00:00     26.5     95.0              13.0      1.574234   \n",
       "2016-03-04 04:00:00     25.8    115.0              11.0      1.574234   \n",
       "2016-03-04 05:00:00     25.8    115.0              11.0      9.129683   \n",
       "2016-03-04 06:00:00     25.8    115.0              11.0      9.129683   \n",
       "2016-03-04 07:00:00     26.1     95.0              12.0      8.573155   \n",
       "2016-03-04 08:00:00     26.1     95.0              12.0      8.573155   \n",
       "2016-03-04 09:00:00     26.1     95.0              12.0      8.573155   \n",
       "2016-03-04 10:00:00     30.7    105.0              13.0      8.573155   \n",
       "2016-03-04 11:00:00     30.7    105.0              13.0      8.573155   \n",
       "2016-03-04 12:00:00     30.7    105.0              13.0      8.573155   \n",
       "2016-03-04 13:00:00     32.9    115.0              10.0      8.573155   \n",
       "2016-03-04 14:00:00     32.9    115.0              10.0      8.573155   \n",
       "2016-03-04 15:00:00     32.9    115.0              10.0      8.573155   \n",
       "2016-03-04 16:00:00     33.2     90.0               7.0      8.573155   \n",
       "2016-03-04 17:00:00     33.2     90.0               7.0      1.456522   \n",
       "2016-03-04 18:00:00     33.2     90.0               7.0      1.741349   \n",
       "2016-03-04 19:00:00     28.3     75.0              13.0      1.741349   \n",
       "2016-03-04 20:00:00     28.3     75.0              13.0      1.741349   \n",
       "2016-03-04 21:00:00     28.3     75.0              13.0      1.741349   \n",
       "2016-03-04 22:00:00     27.6     90.0              14.0      1.741349   \n",
       "2016-03-04 23:00:00     27.6     90.0              14.0      1.741349   \n",
       "2016-03-05 00:00:00     27.6     90.0              14.0      1.741349   \n",
       "2016-03-05 01:00:00     26.9    110.0              13.0      1.741349   \n",
       "2016-03-05 02:00:00     26.9    110.0              13.0      1.741349   \n",
       "2016-03-05 03:00:00     26.9    110.0              13.0      1.741349   \n",
       "2016-03-05 04:00:00     26.3    130.0              10.0      1.741349   \n",
       "2016-03-05 05:00:00     26.3    130.0              10.0      1.741349   \n",
       "2016-03-05 06:00:00     26.3    130.0              10.0      9.533301   \n",
       "2016-03-05 07:00:00     26.6    145.0              17.0      9.533301   \n",
       "2016-03-05 08:00:00     26.6    145.0              17.0      9.533301   \n",
       "2016-03-05 09:00:00     26.6    145.0              17.0      9.533301   \n",
       "2016-03-05 10:00:00     31.4    140.0              16.0      9.533301   \n",
       "2016-03-05 11:00:00     31.4    140.0              16.0      9.533301   \n",
       "2016-03-05 12:00:00     31.4    140.0              16.0      9.533301   \n",
       "\n",
       "                     Myanmar_frp  Thailand_frp  Lao_PDR_frp  \n",
       "2016-03-03 13:00:00     8.099819      9.423972     7.991304  \n",
       "2016-03-03 14:00:00     8.099819      9.423972     7.991304  \n",
       "2016-03-03 15:00:00     8.099819      9.423972     7.991304  \n",
       "2016-03-03 16:00:00     8.099819      9.423972     7.991304  \n",
       "2016-03-03 17:00:00     8.099819      9.423972     7.991304  \n",
       "2016-03-03 18:00:00     1.505772      1.435772     1.274845  \n",
       "2016-03-03 19:00:00     1.238528      4.120000     1.274845  \n",
       "2016-03-03 20:00:00     1.238528      4.120000     1.274845  \n",
       "2016-03-03 21:00:00     1.238528      4.120000     1.274845  \n",
       "2016-03-03 22:00:00     1.238528      4.120000     1.274845  \n",
       "2016-03-03 23:00:00     1.238528      4.120000     1.274845  \n",
       "2016-03-04 00:00:00     1.238528      4.120000     1.274845  \n",
       "2016-03-04 01:00:00     1.238528      4.120000     1.274845  \n",
       "2016-03-04 02:00:00     1.238528      4.120000     1.274845  \n",
       "2016-03-04 03:00:00     1.238528      4.120000     1.274845  \n",
       "2016-03-04 04:00:00     1.238528      4.120000     1.274845  \n",
       "2016-03-04 05:00:00     1.238528      8.493367     8.115749  \n",
       "2016-03-04 06:00:00     1.238528      8.493367     8.115749  \n",
       "2016-03-04 07:00:00     7.600150      6.686076    13.388824  \n",
       "2016-03-04 08:00:00     7.600150      6.686076    13.388824  \n",
       "2016-03-04 09:00:00     7.600150      6.686076    13.388824  \n",
       "2016-03-04 10:00:00     7.600150      6.686076    13.388824  \n",
       "2016-03-04 11:00:00     7.600150      6.686076    13.388824  \n",
       "2016-03-04 12:00:00     7.600150      6.686076    13.388824  \n",
       "2016-03-04 13:00:00     7.600150      6.686076    13.388824  \n",
       "2016-03-04 14:00:00     7.600150      6.686076    13.388824  \n",
       "2016-03-04 15:00:00     7.600150      6.686076    13.388824  \n",
       "2016-03-04 16:00:00     7.600150      6.686076    13.388824  \n",
       "2016-03-04 17:00:00     7.600150      1.744818     1.860417  \n",
       "2016-03-04 18:00:00     7.600150      2.057500     1.860417  \n",
       "2016-03-04 19:00:00     1.170642      1.391235     1.860417  \n",
       "2016-03-04 20:00:00     1.170642      1.391235     1.860417  \n",
       "2016-03-04 21:00:00     1.170642      1.391235     1.860417  \n",
       "2016-03-04 22:00:00     1.170642      1.391235     1.860417  \n",
       "2016-03-04 23:00:00     1.170642      1.391235     1.860417  \n",
       "2016-03-05 00:00:00     1.170642      1.391235     1.860417  \n",
       "2016-03-05 01:00:00     1.170642      1.391235     1.860417  \n",
       "2016-03-05 02:00:00     1.170642      1.391235     1.860417  \n",
       "2016-03-05 03:00:00     1.170642      1.391235     1.860417  \n",
       "2016-03-05 04:00:00     1.170642      1.391235     1.860417  \n",
       "2016-03-05 05:00:00     1.170642      1.391235     1.860417  \n",
       "2016-03-05 06:00:00     5.771434      5.792667    18.787079  \n",
       "2016-03-05 07:00:00     5.771434      5.792667    18.787079  \n",
       "2016-03-05 08:00:00     5.771434      5.792667    18.787079  \n",
       "2016-03-05 09:00:00     5.771434      5.792667    18.787079  \n",
       "2016-03-05 10:00:00     5.771434      5.792667    18.787079  \n",
       "2016-03-05 11:00:00     5.771434      5.792667    18.787079  \n",
       "2016-03-05 12:00:00     5.771434      5.792667    18.787079  "
      ],
      "text/html": "<div>\n<style scoped>\n    .dataframe tbody tr th:only-of-type {\n        vertical-align: middle;\n    }\n\n    .dataframe tbody tr th {\n        vertical-align: top;\n    }\n\n    .dataframe thead th {\n        text-align: right;\n    }\n</style>\n<table border=\"1\" class=\"dataframe\">\n  <thead>\n    <tr style=\"text-align: right;\">\n      <th></th>\n      <th>Temp(C)</th>\n      <th>WindDir</th>\n      <th>Wind Speed(km/h)</th>\n      <th>Cambodia_frp</th>\n      <th>Myanmar_frp</th>\n      <th>Thailand_frp</th>\n      <th>Lao_PDR_frp</th>\n    </tr>\n  </thead>\n  <tbody>\n    <tr>\n      <th>2016-03-03 13:00:00</th>\n      <td>34.1</td>\n      <td>70.0</td>\n      <td>12.0</td>\n      <td>8.984035</td>\n      <td>8.099819</td>\n      <td>9.423972</td>\n      <td>7.991304</td>\n    </tr>\n    <tr>\n      <th>2016-03-03 14:00:00</th>\n      <td>34.1</td>\n      <td>70.0</td>\n      <td>12.0</td>\n      <td>8.984035</td>\n      <td>8.099819</td>\n      <td>9.423972</td>\n      <td>7.991304</td>\n    </tr>\n    <tr>\n      <th>2016-03-03 15:00:00</th>\n      <td>34.1</td>\n      <td>70.0</td>\n      <td>12.0</td>\n      <td>8.984035</td>\n      <td>8.099819</td>\n      <td>9.423972</td>\n      <td>7.991304</td>\n    </tr>\n    <tr>\n      <th>2016-03-03 16:00:00</th>\n      <td>34.6</td>\n      <td>60.0</td>\n      <td>12.0</td>\n      <td>8.984035</td>\n      <td>8.099819</td>\n      <td>9.423972</td>\n      <td>7.991304</td>\n    </tr>\n    <tr>\n      <th>2016-03-03 17:00:00</th>\n      <td>34.6</td>\n      <td>60.0</td>\n      <td>12.0</td>\n      <td>8.984035</td>\n      <td>8.099819</td>\n      <td>9.423972</td>\n      <td>7.991304</td>\n    </tr>\n    <tr>\n      <th>2016-03-03 18:00:00</th>\n      <td>34.6</td>\n      <td>60.0</td>\n      <td>12.0</td>\n      <td>1.574234</td>\n      <td>1.505772</td>\n      <td>1.435772</td>\n      <td>1.274845</td>\n    </tr>\n    <tr>\n      <th>2016-03-03 19:00:00</th>\n      <td>29.1</td>\n      <td>70.0</td>\n      <td>11.0</td>\n      <td>1.574234</td>\n      <td>1.238528</td>\n      <td>4.120000</td>\n      <td>1.274845</td>\n    </tr>\n    <tr>\n      <th>2016-03-03 20:00:00</th>\n      <td>29.1</td>\n      <td>70.0</td>\n      <td>11.0</td>\n      <td>1.574234</td>\n      <td>1.238528</td>\n      <td>4.120000</td>\n      <td>1.274845</td>\n    </tr>\n    <tr>\n      <th>2016-03-03 21:00:00</th>\n      <td>29.1</td>\n      <td>70.0</td>\n      <td>11.0</td>\n      <td>1.574234</td>\n      <td>1.238528</td>\n      <td>4.120000</td>\n      <td>1.274845</td>\n    </tr>\n    <tr>\n      <th>2016-03-03 22:00:00</th>\n      <td>27.3</td>\n      <td>70.0</td>\n      <td>15.0</td>\n      <td>1.574234</td>\n      <td>1.238528</td>\n      <td>4.120000</td>\n      <td>1.274845</td>\n    </tr>\n    <tr>\n      <th>2016-03-03 23:00:00</th>\n      <td>27.3</td>\n      <td>70.0</td>\n      <td>15.0</td>\n      <td>1.574234</td>\n      <td>1.238528</td>\n      <td>4.120000</td>\n      <td>1.274845</td>\n    </tr>\n    <tr>\n      <th>2016-03-04 00:00:00</th>\n      <td>27.3</td>\n      <td>70.0</td>\n      <td>15.0</td>\n      <td>1.574234</td>\n      <td>1.238528</td>\n      <td>4.120000</td>\n      <td>1.274845</td>\n    </tr>\n    <tr>\n      <th>2016-03-04 01:00:00</th>\n      <td>26.5</td>\n      <td>95.0</td>\n      <td>13.0</td>\n      <td>1.574234</td>\n      <td>1.238528</td>\n      <td>4.120000</td>\n      <td>1.274845</td>\n    </tr>\n    <tr>\n      <th>2016-03-04 02:00:00</th>\n      <td>26.5</td>\n      <td>95.0</td>\n      <td>13.0</td>\n      <td>1.574234</td>\n      <td>1.238528</td>\n      <td>4.120000</td>\n      <td>1.274845</td>\n    </tr>\n    <tr>\n      <th>2016-03-04 03:00:00</th>\n      <td>26.5</td>\n      <td>95.0</td>\n      <td>13.0</td>\n      <td>1.574234</td>\n      <td>1.238528</td>\n      <td>4.120000</td>\n      <td>1.274845</td>\n    </tr>\n    <tr>\n      <th>2016-03-04 04:00:00</th>\n      <td>25.8</td>\n      <td>115.0</td>\n      <td>11.0</td>\n      <td>1.574234</td>\n      <td>1.238528</td>\n      <td>4.120000</td>\n      <td>1.274845</td>\n    </tr>\n    <tr>\n      <th>2016-03-04 05:00:00</th>\n      <td>25.8</td>\n      <td>115.0</td>\n      <td>11.0</td>\n      <td>9.129683</td>\n      <td>1.238528</td>\n      <td>8.493367</td>\n      <td>8.115749</td>\n    </tr>\n    <tr>\n      <th>2016-03-04 06:00:00</th>\n      <td>25.8</td>\n      <td>115.0</td>\n      <td>11.0</td>\n      <td>9.129683</td>\n      <td>1.238528</td>\n      <td>8.493367</td>\n      <td>8.115749</td>\n    </tr>\n    <tr>\n      <th>2016-03-04 07:00:00</th>\n      <td>26.1</td>\n      <td>95.0</td>\n      <td>12.0</td>\n      <td>8.573155</td>\n      <td>7.600150</td>\n      <td>6.686076</td>\n      <td>13.388824</td>\n    </tr>\n    <tr>\n      <th>2016-03-04 08:00:00</th>\n      <td>26.1</td>\n      <td>95.0</td>\n      <td>12.0</td>\n      <td>8.573155</td>\n      <td>7.600150</td>\n      <td>6.686076</td>\n      <td>13.388824</td>\n    </tr>\n    <tr>\n      <th>2016-03-04 09:00:00</th>\n      <td>26.1</td>\n      <td>95.0</td>\n      <td>12.0</td>\n      <td>8.573155</td>\n      <td>7.600150</td>\n      <td>6.686076</td>\n      <td>13.388824</td>\n    </tr>\n    <tr>\n      <th>2016-03-04 10:00:00</th>\n      <td>30.7</td>\n      <td>105.0</td>\n      <td>13.0</td>\n      <td>8.573155</td>\n      <td>7.600150</td>\n      <td>6.686076</td>\n      <td>13.388824</td>\n    </tr>\n    <tr>\n      <th>2016-03-04 11:00:00</th>\n      <td>30.7</td>\n      <td>105.0</td>\n      <td>13.0</td>\n      <td>8.573155</td>\n      <td>7.600150</td>\n      <td>6.686076</td>\n      <td>13.388824</td>\n    </tr>\n    <tr>\n      <th>2016-03-04 12:00:00</th>\n      <td>30.7</td>\n      <td>105.0</td>\n      <td>13.0</td>\n      <td>8.573155</td>\n      <td>7.600150</td>\n      <td>6.686076</td>\n      <td>13.388824</td>\n    </tr>\n    <tr>\n      <th>2016-03-04 13:00:00</th>\n      <td>32.9</td>\n      <td>115.0</td>\n      <td>10.0</td>\n      <td>8.573155</td>\n      <td>7.600150</td>\n      <td>6.686076</td>\n      <td>13.388824</td>\n    </tr>\n    <tr>\n      <th>2016-03-04 14:00:00</th>\n      <td>32.9</td>\n      <td>115.0</td>\n      <td>10.0</td>\n      <td>8.573155</td>\n      <td>7.600150</td>\n      <td>6.686076</td>\n      <td>13.388824</td>\n    </tr>\n    <tr>\n      <th>2016-03-04 15:00:00</th>\n      <td>32.9</td>\n      <td>115.0</td>\n      <td>10.0</td>\n      <td>8.573155</td>\n      <td>7.600150</td>\n      <td>6.686076</td>\n      <td>13.388824</td>\n    </tr>\n    <tr>\n      <th>2016-03-04 16:00:00</th>\n      <td>33.2</td>\n      <td>90.0</td>\n      <td>7.0</td>\n      <td>8.573155</td>\n      <td>7.600150</td>\n      <td>6.686076</td>\n      <td>13.388824</td>\n    </tr>\n    <tr>\n      <th>2016-03-04 17:00:00</th>\n      <td>33.2</td>\n      <td>90.0</td>\n      <td>7.0</td>\n      <td>1.456522</td>\n      <td>7.600150</td>\n      <td>1.744818</td>\n      <td>1.860417</td>\n    </tr>\n    <tr>\n      <th>2016-03-04 18:00:00</th>\n      <td>33.2</td>\n      <td>90.0</td>\n      <td>7.0</td>\n      <td>1.741349</td>\n      <td>7.600150</td>\n      <td>2.057500</td>\n      <td>1.860417</td>\n    </tr>\n    <tr>\n      <th>2016-03-04 19:00:00</th>\n      <td>28.3</td>\n      <td>75.0</td>\n      <td>13.0</td>\n      <td>1.741349</td>\n      <td>1.170642</td>\n      <td>1.391235</td>\n      <td>1.860417</td>\n    </tr>\n    <tr>\n      <th>2016-03-04 20:00:00</th>\n      <td>28.3</td>\n      <td>75.0</td>\n      <td>13.0</td>\n      <td>1.741349</td>\n      <td>1.170642</td>\n      <td>1.391235</td>\n      <td>1.860417</td>\n    </tr>\n    <tr>\n      <th>2016-03-04 21:00:00</th>\n      <td>28.3</td>\n      <td>75.0</td>\n      <td>13.0</td>\n      <td>1.741349</td>\n      <td>1.170642</td>\n      <td>1.391235</td>\n      <td>1.860417</td>\n    </tr>\n    <tr>\n      <th>2016-03-04 22:00:00</th>\n      <td>27.6</td>\n      <td>90.0</td>\n      <td>14.0</td>\n      <td>1.741349</td>\n      <td>1.170642</td>\n      <td>1.391235</td>\n      <td>1.860417</td>\n    </tr>\n    <tr>\n      <th>2016-03-04 23:00:00</th>\n      <td>27.6</td>\n      <td>90.0</td>\n      <td>14.0</td>\n      <td>1.741349</td>\n      <td>1.170642</td>\n      <td>1.391235</td>\n      <td>1.860417</td>\n    </tr>\n    <tr>\n      <th>2016-03-05 00:00:00</th>\n      <td>27.6</td>\n      <td>90.0</td>\n      <td>14.0</td>\n      <td>1.741349</td>\n      <td>1.170642</td>\n      <td>1.391235</td>\n      <td>1.860417</td>\n    </tr>\n    <tr>\n      <th>2016-03-05 01:00:00</th>\n      <td>26.9</td>\n      <td>110.0</td>\n      <td>13.0</td>\n      <td>1.741349</td>\n      <td>1.170642</td>\n      <td>1.391235</td>\n      <td>1.860417</td>\n    </tr>\n    <tr>\n      <th>2016-03-05 02:00:00</th>\n      <td>26.9</td>\n      <td>110.0</td>\n      <td>13.0</td>\n      <td>1.741349</td>\n      <td>1.170642</td>\n      <td>1.391235</td>\n      <td>1.860417</td>\n    </tr>\n    <tr>\n      <th>2016-03-05 03:00:00</th>\n      <td>26.9</td>\n      <td>110.0</td>\n      <td>13.0</td>\n      <td>1.741349</td>\n      <td>1.170642</td>\n      <td>1.391235</td>\n      <td>1.860417</td>\n    </tr>\n    <tr>\n      <th>2016-03-05 04:00:00</th>\n      <td>26.3</td>\n      <td>130.0</td>\n      <td>10.0</td>\n      <td>1.741349</td>\n      <td>1.170642</td>\n      <td>1.391235</td>\n      <td>1.860417</td>\n    </tr>\n    <tr>\n      <th>2016-03-05 05:00:00</th>\n      <td>26.3</td>\n      <td>130.0</td>\n      <td>10.0</td>\n      <td>1.741349</td>\n      <td>1.170642</td>\n      <td>1.391235</td>\n      <td>1.860417</td>\n    </tr>\n    <tr>\n      <th>2016-03-05 06:00:00</th>\n      <td>26.3</td>\n      <td>130.0</td>\n      <td>10.0</td>\n      <td>9.533301</td>\n      <td>5.771434</td>\n      <td>5.792667</td>\n      <td>18.787079</td>\n    </tr>\n    <tr>\n      <th>2016-03-05 07:00:00</th>\n      <td>26.6</td>\n      <td>145.0</td>\n      <td>17.0</td>\n      <td>9.533301</td>\n      <td>5.771434</td>\n      <td>5.792667</td>\n      <td>18.787079</td>\n    </tr>\n    <tr>\n      <th>2016-03-05 08:00:00</th>\n      <td>26.6</td>\n      <td>145.0</td>\n      <td>17.0</td>\n      <td>9.533301</td>\n      <td>5.771434</td>\n      <td>5.792667</td>\n      <td>18.787079</td>\n    </tr>\n    <tr>\n      <th>2016-03-05 09:00:00</th>\n      <td>26.6</td>\n      <td>145.0</td>\n      <td>17.0</td>\n      <td>9.533301</td>\n      <td>5.771434</td>\n      <td>5.792667</td>\n      <td>18.787079</td>\n    </tr>\n    <tr>\n      <th>2016-03-05 10:00:00</th>\n      <td>31.4</td>\n      <td>140.0</td>\n      <td>16.0</td>\n      <td>9.533301</td>\n      <td>5.771434</td>\n      <td>5.792667</td>\n      <td>18.787079</td>\n    </tr>\n    <tr>\n      <th>2016-03-05 11:00:00</th>\n      <td>31.4</td>\n      <td>140.0</td>\n      <td>16.0</td>\n      <td>9.533301</td>\n      <td>5.771434</td>\n      <td>5.792667</td>\n      <td>18.787079</td>\n    </tr>\n    <tr>\n      <th>2016-03-05 12:00:00</th>\n      <td>31.4</td>\n      <td>140.0</td>\n      <td>16.0</td>\n      <td>9.533301</td>\n      <td>5.771434</td>\n      <td>5.792667</td>\n      <td>18.787079</td>\n    </tr>\n  </tbody>\n</table>\n</div>"
     },
     "metadata": {},
     "execution_count": 36
    }
   ],
   "source": [
    "X['Bangkok'][0]"
   ]
  },
  {
   "cell_type": "code",
   "execution_count": 37,
   "metadata": {},
   "outputs": [
    {
     "output_type": "execute_result",
     "data": {
      "text/plain": [
       "                     PM2.5\n",
       "2016-03-05 13:00:00   33.3\n",
       "2016-03-05 14:00:00   33.3\n",
       "2016-03-05 15:00:00   33.3\n",
       "2016-03-05 16:00:00   33.3\n",
       "2016-03-05 17:00:00   33.8\n",
       "...                    ...\n",
       "2016-03-08 08:00:00   28.8\n",
       "2016-03-08 09:00:00   23.4\n",
       "2016-03-08 10:00:00   23.0\n",
       "2016-03-08 11:00:00   26.0\n",
       "2016-03-08 12:00:00   24.8\n",
       "\n",
       "[72 rows x 1 columns]"
      ],
      "text/html": "<div>\n<style scoped>\n    .dataframe tbody tr th:only-of-type {\n        vertical-align: middle;\n    }\n\n    .dataframe tbody tr th {\n        vertical-align: top;\n    }\n\n    .dataframe thead th {\n        text-align: right;\n    }\n</style>\n<table border=\"1\" class=\"dataframe\">\n  <thead>\n    <tr style=\"text-align: right;\">\n      <th></th>\n      <th>PM2.5</th>\n    </tr>\n  </thead>\n  <tbody>\n    <tr>\n      <th>2016-03-05 13:00:00</th>\n      <td>33.3</td>\n    </tr>\n    <tr>\n      <th>2016-03-05 14:00:00</th>\n      <td>33.3</td>\n    </tr>\n    <tr>\n      <th>2016-03-05 15:00:00</th>\n      <td>33.3</td>\n    </tr>\n    <tr>\n      <th>2016-03-05 16:00:00</th>\n      <td>33.3</td>\n    </tr>\n    <tr>\n      <th>2016-03-05 17:00:00</th>\n      <td>33.8</td>\n    </tr>\n    <tr>\n      <th>...</th>\n      <td>...</td>\n    </tr>\n    <tr>\n      <th>2016-03-08 08:00:00</th>\n      <td>28.8</td>\n    </tr>\n    <tr>\n      <th>2016-03-08 09:00:00</th>\n      <td>23.4</td>\n    </tr>\n    <tr>\n      <th>2016-03-08 10:00:00</th>\n      <td>23.0</td>\n    </tr>\n    <tr>\n      <th>2016-03-08 11:00:00</th>\n      <td>26.0</td>\n    </tr>\n    <tr>\n      <th>2016-03-08 12:00:00</th>\n      <td>24.8</td>\n    </tr>\n  </tbody>\n</table>\n<p>72 rows × 1 columns</p>\n</div>"
     },
     "metadata": {},
     "execution_count": 37
    }
   ],
   "source": [
    "Y['Bangkok'][0]"
   ]
  },
  {
   "source": [
    "## Reshaping input"
   ],
   "cell_type": "markdown",
   "metadata": {}
  },
  {
   "cell_type": "code",
   "execution_count": 38,
   "metadata": {},
   "outputs": [
    {
     "output_type": "stream",
     "name": "stdout",
     "text": [
      "X : (4418, 48, 7)\nY : (4418, 72, 1)\n"
     ]
    }
   ],
   "source": [
    "bkk_x = np.array(X_scaled['Bangkok'])\n",
    "bkk_y = np.array(Y_scaled['Bangkok'])\n",
    "print(f'X : {bkk_x.shape}')\n",
    "print(f'Y : {bkk_y.shape}')"
   ]
  },
  {
   "cell_type": "code",
   "execution_count": 39,
   "metadata": {},
   "outputs": [
    {
     "output_type": "execute_result",
     "data": {
      "text/plain": [
       "False"
      ]
     },
     "metadata": {},
     "execution_count": 39
    }
   ],
   "source": [
    "np.isnan(bkk_x).any()"
   ]
  },
  {
   "cell_type": "code",
   "execution_count": 40,
   "metadata": {},
   "outputs": [],
   "source": [
    "n_features = len(data[province].columns)-1\n",
    "x_train = bkk_x.reshape((bkk_x.shape[0], timesteps, n_features))\n",
    "y_train = bkk_y.reshape((bkk_y.shape[0], 72))"
   ]
  },
  {
   "cell_type": "code",
   "execution_count": 41,
   "metadata": {},
   "outputs": [
    {
     "output_type": "stream",
     "name": "stdout",
     "text": [
      "x : (4418, 48, 7)\ny : (4418, 72)\n"
     ]
    }
   ],
   "source": [
    "print(f'x : {x_train.shape}')\n",
    "print(f'y : {y_train.shape}')"
   ]
  },
  {
   "source": [
    "## Building Model"
   ],
   "cell_type": "markdown",
   "metadata": {}
  },
  {
   "cell_type": "code",
   "execution_count": 42,
   "metadata": {},
   "outputs": [
    {
     "output_type": "stream",
     "name": "stdout",
     "text": [
      "timesteps : 48\n"
     ]
    }
   ],
   "source": [
    "print(f\"timesteps : {timesteps}\")"
   ]
  },
  {
   "cell_type": "code",
   "execution_count": 43,
   "metadata": {},
   "outputs": [],
   "source": [
    "from tensorflow.keras.models import Sequential\n",
    "from tensorflow.keras.layers import Dense\n",
    "from tensorflow.keras.layers import LSTM\n",
    "import tensorflow as tf\n",
    "\n",
    "# define model\n",
    "model = Sequential([\n",
    "    LSTM(200, activation='relu', input_shape=(timesteps, n_features)),\n",
    "    Dense(142, activation='relu'),\n",
    "    Dense(72, activation='linear')\n",
    "])\n",
    "model.compile(optimizer='adam', loss='mse')"
   ]
  },
  {
   "cell_type": "code",
   "execution_count": 44,
   "metadata": {},
   "outputs": [
    {
     "output_type": "stream",
     "name": "stdout",
     "text": [
      "Epoch 1/30\n",
      "45/45 [==============================] - 9s 151ms/step - loss: 0.0342\n",
      "Epoch 2/30\n",
      "45/45 [==============================] - 7s 157ms/step - loss: 0.0129\n",
      "Epoch 3/30\n",
      "45/45 [==============================] - 7s 159ms/step - loss: 0.0122\n",
      "Epoch 4/30\n",
      "45/45 [==============================] - 8s 172ms/step - loss: 0.0122\n",
      "Epoch 5/30\n",
      "45/45 [==============================] - 7s 166ms/step - loss: 0.0118\n",
      "Epoch 6/30\n",
      "45/45 [==============================] - 8s 177ms/step - loss: 0.0112\n",
      "Epoch 7/30\n",
      "45/45 [==============================] - 8s 177ms/step - loss: 0.0105\n",
      "Epoch 8/30\n",
      "45/45 [==============================] - 7s 165ms/step - loss: 0.0102\n",
      "Epoch 9/30\n",
      "45/45 [==============================] - 7s 161ms/step - loss: 0.0099\n",
      "Epoch 10/30\n",
      "45/45 [==============================] - 7s 165ms/step - loss: 0.0100\n",
      "Epoch 11/30\n",
      "45/45 [==============================] - 7s 163ms/step - loss: 0.0098\n",
      "Epoch 12/30\n",
      "45/45 [==============================] - 7s 164ms/step - loss: 0.0101\n",
      "Epoch 13/30\n",
      "45/45 [==============================] - 8s 182ms/step - loss: 0.0111\n",
      "Epoch 14/30\n",
      "45/45 [==============================] - 8s 175ms/step - loss: 0.0094\n",
      "Epoch 15/30\n",
      "45/45 [==============================] - 8s 182ms/step - loss: 0.0094\n",
      "Epoch 16/30\n",
      "45/45 [==============================] - 8s 181ms/step - loss: 0.0095\n",
      "Epoch 17/30\n",
      "45/45 [==============================] - 8s 170ms/step - loss: 0.0091\n",
      "Epoch 18/30\n",
      "45/45 [==============================] - 8s 183ms/step - loss: 0.0091\n",
      "Epoch 19/30\n",
      "45/45 [==============================] - 8s 178ms/step - loss: 0.0089\n",
      "Epoch 20/30\n",
      "45/45 [==============================] - 7s 160ms/step - loss: 0.0086\n",
      "Epoch 21/30\n",
      "45/45 [==============================] - 8s 178ms/step - loss: 0.0087\n",
      "Epoch 22/30\n",
      "45/45 [==============================] - 8s 178ms/step - loss: 0.0084\n",
      "Epoch 23/30\n",
      "45/45 [==============================] - 8s 179ms/step - loss: 0.0080\n",
      "Epoch 24/30\n",
      "45/45 [==============================] - 8s 171ms/step - loss: 0.0083\n",
      "Epoch 25/30\n",
      "45/45 [==============================] - 7s 163ms/step - loss: 0.0087\n",
      "Epoch 26/30\n",
      "45/45 [==============================] - 8s 173ms/step - loss: 0.0079\n",
      "Epoch 27/30\n",
      "45/45 [==============================] - 8s 179ms/step - loss: 0.0076\n",
      "Epoch 28/30\n",
      "45/45 [==============================] - 8s 170ms/step - loss: 0.0079\n",
      "Epoch 29/30\n",
      "45/45 [==============================] - 7s 164ms/step - loss: 0.0085\n",
      "Epoch 30/30\n",
      "45/45 [==============================] - 9s 192ms/step - loss: 0.0080\n"
     ]
    }
   ],
   "source": [
    "history = model.fit(x_train, y_train, epochs=30, batch_size=32)"
   ]
  },
  {
   "cell_type": "code",
   "execution_count": 45,
   "metadata": {},
   "outputs": [
    {
     "output_type": "stream",
     "name": "stdout",
     "text": [
      "139/139 [==============================] - 5s 30ms/step - loss: 0.0077\n"
     ]
    },
    {
     "output_type": "execute_result",
     "data": {
      "text/plain": [
       "0.007719425018876791"
      ]
     },
     "metadata": {},
     "execution_count": 45
    }
   ],
   "source": [
    "model.evaluate(x_train, y_train)"
   ]
  },
  {
   "cell_type": "code",
   "execution_count": 46,
   "metadata": {},
   "outputs": [
    {
     "output_type": "execute_result",
     "data": {
      "text/plain": [
       "8.796530322924252"
      ]
     },
     "metadata": {},
     "execution_count": 46
    }
   ],
   "source": [
    "from sklearn.metrics import mean_squared_error as mse\n",
    "pred = model(x_train)\n",
    "rmse = []\n",
    "for i in range(len(pred)):\n",
    "    p = y_scalers['Bangkok'].inverse_transform(pred[i].numpy().reshape((-1,1)))\n",
    "    y_t = y_scalers['Bangkok'].inverse_transform(y_train[i].reshape((-1,1)))\n",
    "    rmse.append(np.sqrt(mse(p, y_t)))\n",
    "np.mean(rmse)"
   ]
  },
  {
   "cell_type": "code",
   "execution_count": 53,
   "metadata": {},
   "outputs": [
    {
     "output_type": "display_data",
     "data": {
      "text/plain": "<Figure size 432x288 with 1 Axes>",
      "image/svg+xml": "<?xml version=\"1.0\" encoding=\"utf-8\" standalone=\"no\"?>\r\n<!DOCTYPE svg PUBLIC \"-//W3C//DTD SVG 1.1//EN\"\r\n  \"http://www.w3.org/Graphics/SVG/1.1/DTD/svg11.dtd\">\r\n<svg height=\"270.91375pt\" version=\"1.1\" viewBox=\"0 0 386.525 270.91375\" width=\"386.525pt\" xmlns=\"http://www.w3.org/2000/svg\" xmlns:xlink=\"http://www.w3.org/1999/xlink\">\r\n <metadata>\r\n  <rdf:RDF xmlns:cc=\"http://creativecommons.org/ns#\" xmlns:dc=\"http://purl.org/dc/elements/1.1/\" xmlns:rdf=\"http://www.w3.org/1999/02/22-rdf-syntax-ns#\">\r\n   <cc:Work>\r\n    <dc:type rdf:resource=\"http://purl.org/dc/dcmitype/StillImage\"/>\r\n    <dc:date>2021-04-19T14:14:03.905751</dc:date>\r\n    <dc:format>image/svg+xml</dc:format>\r\n    <dc:creator>\r\n     <cc:Agent>\r\n      <dc:title>Matplotlib v3.4.1, https://matplotlib.org/</dc:title>\r\n     </cc:Agent>\r\n    </dc:creator>\r\n   </cc:Work>\r\n  </rdf:RDF>\r\n </metadata>\r\n <defs>\r\n  <style type=\"text/css\">*{stroke-linecap:butt;stroke-linejoin:round;}</style>\r\n </defs>\r\n <g id=\"figure_1\">\r\n  <g id=\"patch_1\">\r\n   <path d=\"M -0 270.91375 \r\nL 386.525 270.91375 \r\nL 386.525 0 \r\nL -0 0 \r\nz\r\n\" style=\"fill:none;\"/>\r\n  </g>\r\n  <g id=\"axes_1\">\r\n   <g id=\"patch_2\">\r\n    <path d=\"M 26.925 224.64 \r\nL 361.725 224.64 \r\nL 361.725 7.2 \r\nL 26.925 7.2 \r\nz\r\n\" style=\"fill:#ffffff;\"/>\r\n   </g>\r\n   <g id=\"matplotlib.axis_1\">\r\n    <g id=\"xtick_1\">\r\n     <g id=\"line2d_1\">\r\n      <defs>\r\n       <path d=\"M 0 0 \r\nL 0 3.5 \r\n\" id=\"mb7c9d88b9a\" style=\"stroke:#000000;stroke-width:0.8;\"/>\r\n      </defs>\r\n      <g>\r\n       <use style=\"stroke:#000000;stroke-width:0.8;\" x=\"26.925\" xlink:href=\"#mb7c9d88b9a\" y=\"224.64\"/>\r\n      </g>\r\n     </g>\r\n    </g>\r\n    <g id=\"xtick_2\">\r\n     <g id=\"line2d_2\">\r\n      <g>\r\n       <use style=\"stroke:#000000;stroke-width:0.8;\" x=\"135.381338\" xlink:href=\"#mb7c9d88b9a\" y=\"224.64\"/>\r\n      </g>\r\n     </g>\r\n     <g id=\"text_1\">\r\n      <!-- 00:00 -->\r\n      <g transform=\"translate(120.971963 239.238438)scale(0.1 -0.1)\">\r\n       <defs>\r\n        <path d=\"M 2034 4250 \r\nQ 1547 4250 1301 3770 \r\nQ 1056 3291 1056 2328 \r\nQ 1056 1369 1301 889 \r\nQ 1547 409 2034 409 \r\nQ 2525 409 2770 889 \r\nQ 3016 1369 3016 2328 \r\nQ 3016 3291 2770 3770 \r\nQ 2525 4250 2034 4250 \r\nz\r\nM 2034 4750 \r\nQ 2819 4750 3233 4129 \r\nQ 3647 3509 3647 2328 \r\nQ 3647 1150 3233 529 \r\nQ 2819 -91 2034 -91 \r\nQ 1250 -91 836 529 \r\nQ 422 1150 422 2328 \r\nQ 422 3509 836 4129 \r\nQ 1250 4750 2034 4750 \r\nz\r\n\" id=\"DejaVuSans-30\" transform=\"scale(0.015625)\"/>\r\n        <path d=\"M 750 794 \r\nL 1409 794 \r\nL 1409 0 \r\nL 750 0 \r\nL 750 794 \r\nz\r\nM 750 3309 \r\nL 1409 3309 \r\nL 1409 2516 \r\nL 750 2516 \r\nL 750 3309 \r\nz\r\n\" id=\"DejaVuSans-3a\" transform=\"scale(0.015625)\"/>\r\n       </defs>\r\n       <use xlink:href=\"#DejaVuSans-30\"/>\r\n       <use x=\"63.623047\" xlink:href=\"#DejaVuSans-30\"/>\r\n       <use x=\"127.246094\" xlink:href=\"#DejaVuSans-3a\"/>\r\n       <use x=\"160.9375\" xlink:href=\"#DejaVuSans-30\"/>\r\n       <use x=\"224.560547\" xlink:href=\"#DejaVuSans-30\"/>\r\n      </g>\r\n      <!-- 29-Mar -->\r\n      <g transform=\"translate(117.781338 250.43625)scale(0.1 -0.1)\">\r\n       <defs>\r\n        <path d=\"M 1228 531 \r\nL 3431 531 \r\nL 3431 0 \r\nL 469 0 \r\nL 469 531 \r\nQ 828 903 1448 1529 \r\nQ 2069 2156 2228 2338 \r\nQ 2531 2678 2651 2914 \r\nQ 2772 3150 2772 3378 \r\nQ 2772 3750 2511 3984 \r\nQ 2250 4219 1831 4219 \r\nQ 1534 4219 1204 4116 \r\nQ 875 4013 500 3803 \r\nL 500 4441 \r\nQ 881 4594 1212 4672 \r\nQ 1544 4750 1819 4750 \r\nQ 2544 4750 2975 4387 \r\nQ 3406 4025 3406 3419 \r\nQ 3406 3131 3298 2873 \r\nQ 3191 2616 2906 2266 \r\nQ 2828 2175 2409 1742 \r\nQ 1991 1309 1228 531 \r\nz\r\n\" id=\"DejaVuSans-32\" transform=\"scale(0.015625)\"/>\r\n        <path d=\"M 703 97 \r\nL 703 672 \r\nQ 941 559 1184 500 \r\nQ 1428 441 1663 441 \r\nQ 2288 441 2617 861 \r\nQ 2947 1281 2994 2138 \r\nQ 2813 1869 2534 1725 \r\nQ 2256 1581 1919 1581 \r\nQ 1219 1581 811 2004 \r\nQ 403 2428 403 3163 \r\nQ 403 3881 828 4315 \r\nQ 1253 4750 1959 4750 \r\nQ 2769 4750 3195 4129 \r\nQ 3622 3509 3622 2328 \r\nQ 3622 1225 3098 567 \r\nQ 2575 -91 1691 -91 \r\nQ 1453 -91 1209 -44 \r\nQ 966 3 703 97 \r\nz\r\nM 1959 2075 \r\nQ 2384 2075 2632 2365 \r\nQ 2881 2656 2881 3163 \r\nQ 2881 3666 2632 3958 \r\nQ 2384 4250 1959 4250 \r\nQ 1534 4250 1286 3958 \r\nQ 1038 3666 1038 3163 \r\nQ 1038 2656 1286 2365 \r\nQ 1534 2075 1959 2075 \r\nz\r\n\" id=\"DejaVuSans-39\" transform=\"scale(0.015625)\"/>\r\n        <path d=\"M 313 2009 \r\nL 1997 2009 \r\nL 1997 1497 \r\nL 313 1497 \r\nL 313 2009 \r\nz\r\n\" id=\"DejaVuSans-2d\" transform=\"scale(0.015625)\"/>\r\n        <path d=\"M 628 4666 \r\nL 1569 4666 \r\nL 2759 1491 \r\nL 3956 4666 \r\nL 4897 4666 \r\nL 4897 0 \r\nL 4281 0 \r\nL 4281 4097 \r\nL 3078 897 \r\nL 2444 897 \r\nL 1241 4097 \r\nL 1241 0 \r\nL 628 0 \r\nL 628 4666 \r\nz\r\n\" id=\"DejaVuSans-4d\" transform=\"scale(0.015625)\"/>\r\n        <path d=\"M 2194 1759 \r\nQ 1497 1759 1228 1600 \r\nQ 959 1441 959 1056 \r\nQ 959 750 1161 570 \r\nQ 1363 391 1709 391 \r\nQ 2188 391 2477 730 \r\nQ 2766 1069 2766 1631 \r\nL 2766 1759 \r\nL 2194 1759 \r\nz\r\nM 3341 1997 \r\nL 3341 0 \r\nL 2766 0 \r\nL 2766 531 \r\nQ 2569 213 2275 61 \r\nQ 1981 -91 1556 -91 \r\nQ 1019 -91 701 211 \r\nQ 384 513 384 1019 \r\nQ 384 1609 779 1909 \r\nQ 1175 2209 1959 2209 \r\nL 2766 2209 \r\nL 2766 2266 \r\nQ 2766 2663 2505 2880 \r\nQ 2244 3097 1772 3097 \r\nQ 1472 3097 1187 3025 \r\nQ 903 2953 641 2809 \r\nL 641 3341 \r\nQ 956 3463 1253 3523 \r\nQ 1550 3584 1831 3584 \r\nQ 2591 3584 2966 3190 \r\nQ 3341 2797 3341 1997 \r\nz\r\n\" id=\"DejaVuSans-61\" transform=\"scale(0.015625)\"/>\r\n        <path d=\"M 2631 2963 \r\nQ 2534 3019 2420 3045 \r\nQ 2306 3072 2169 3072 \r\nQ 1681 3072 1420 2755 \r\nQ 1159 2438 1159 1844 \r\nL 1159 0 \r\nL 581 0 \r\nL 581 3500 \r\nL 1159 3500 \r\nL 1159 2956 \r\nQ 1341 3275 1631 3429 \r\nQ 1922 3584 2338 3584 \r\nQ 2397 3584 2469 3576 \r\nQ 2541 3569 2628 3553 \r\nL 2631 2963 \r\nz\r\n\" id=\"DejaVuSans-72\" transform=\"scale(0.015625)\"/>\r\n       </defs>\r\n       <use xlink:href=\"#DejaVuSans-32\"/>\r\n       <use x=\"63.623047\" xlink:href=\"#DejaVuSans-39\"/>\r\n       <use x=\"127.246094\" xlink:href=\"#DejaVuSans-2d\"/>\r\n       <use x=\"163.330078\" xlink:href=\"#DejaVuSans-4d\"/>\r\n       <use x=\"249.609375\" xlink:href=\"#DejaVuSans-61\"/>\r\n       <use x=\"310.888672\" xlink:href=\"#DejaVuSans-72\"/>\r\n      </g>\r\n      <!-- 2016 -->\r\n      <g transform=\"translate(122.656338 261.634062)scale(0.1 -0.1)\">\r\n       <defs>\r\n        <path d=\"M 794 531 \r\nL 1825 531 \r\nL 1825 4091 \r\nL 703 3866 \r\nL 703 4441 \r\nL 1819 4666 \r\nL 2450 4666 \r\nL 2450 531 \r\nL 3481 531 \r\nL 3481 0 \r\nL 794 0 \r\nL 794 531 \r\nz\r\n\" id=\"DejaVuSans-31\" transform=\"scale(0.015625)\"/>\r\n        <path d=\"M 2113 2584 \r\nQ 1688 2584 1439 2293 \r\nQ 1191 2003 1191 1497 \r\nQ 1191 994 1439 701 \r\nQ 1688 409 2113 409 \r\nQ 2538 409 2786 701 \r\nQ 3034 994 3034 1497 \r\nQ 3034 2003 2786 2293 \r\nQ 2538 2584 2113 2584 \r\nz\r\nM 3366 4563 \r\nL 3366 3988 \r\nQ 3128 4100 2886 4159 \r\nQ 2644 4219 2406 4219 \r\nQ 1781 4219 1451 3797 \r\nQ 1122 3375 1075 2522 \r\nQ 1259 2794 1537 2939 \r\nQ 1816 3084 2150 3084 \r\nQ 2853 3084 3261 2657 \r\nQ 3669 2231 3669 1497 \r\nQ 3669 778 3244 343 \r\nQ 2819 -91 2113 -91 \r\nQ 1303 -91 875 529 \r\nQ 447 1150 447 2328 \r\nQ 447 3434 972 4092 \r\nQ 1497 4750 2381 4750 \r\nQ 2619 4750 2861 4703 \r\nQ 3103 4656 3366 4563 \r\nz\r\n\" id=\"DejaVuSans-36\" transform=\"scale(0.015625)\"/>\r\n       </defs>\r\n       <use xlink:href=\"#DejaVuSans-32\"/>\r\n       <use x=\"63.623047\" xlink:href=\"#DejaVuSans-30\"/>\r\n       <use x=\"127.246094\" xlink:href=\"#DejaVuSans-31\"/>\r\n       <use x=\"190.869141\" xlink:href=\"#DejaVuSans-36\"/>\r\n      </g>\r\n     </g>\r\n    </g>\r\n    <g id=\"xtick_3\">\r\n     <g id=\"line2d_3\">\r\n      <g>\r\n       <use style=\"stroke:#000000;stroke-width:0.8;\" x=\"248.553169\" xlink:href=\"#mb7c9d88b9a\" y=\"224.64\"/>\r\n      </g>\r\n     </g>\r\n     <g id=\"text_2\">\r\n      <!-- 00:00 -->\r\n      <g transform=\"translate(234.143794 239.238438)scale(0.1 -0.1)\">\r\n       <use xlink:href=\"#DejaVuSans-30\"/>\r\n       <use x=\"63.623047\" xlink:href=\"#DejaVuSans-30\"/>\r\n       <use x=\"127.246094\" xlink:href=\"#DejaVuSans-3a\"/>\r\n       <use x=\"160.9375\" xlink:href=\"#DejaVuSans-30\"/>\r\n       <use x=\"224.560547\" xlink:href=\"#DejaVuSans-30\"/>\r\n      </g>\r\n      <!-- 30-Mar -->\r\n      <g transform=\"translate(230.953169 250.43625)scale(0.1 -0.1)\">\r\n       <defs>\r\n        <path d=\"M 2597 2516 \r\nQ 3050 2419 3304 2112 \r\nQ 3559 1806 3559 1356 \r\nQ 3559 666 3084 287 \r\nQ 2609 -91 1734 -91 \r\nQ 1441 -91 1130 -33 \r\nQ 819 25 488 141 \r\nL 488 750 \r\nQ 750 597 1062 519 \r\nQ 1375 441 1716 441 \r\nQ 2309 441 2620 675 \r\nQ 2931 909 2931 1356 \r\nQ 2931 1769 2642 2001 \r\nQ 2353 2234 1838 2234 \r\nL 1294 2234 \r\nL 1294 2753 \r\nL 1863 2753 \r\nQ 2328 2753 2575 2939 \r\nQ 2822 3125 2822 3475 \r\nQ 2822 3834 2567 4026 \r\nQ 2313 4219 1838 4219 \r\nQ 1578 4219 1281 4162 \r\nQ 984 4106 628 3988 \r\nL 628 4550 \r\nQ 988 4650 1302 4700 \r\nQ 1616 4750 1894 4750 \r\nQ 2613 4750 3031 4423 \r\nQ 3450 4097 3450 3541 \r\nQ 3450 3153 3228 2886 \r\nQ 3006 2619 2597 2516 \r\nz\r\n\" id=\"DejaVuSans-33\" transform=\"scale(0.015625)\"/>\r\n       </defs>\r\n       <use xlink:href=\"#DejaVuSans-33\"/>\r\n       <use x=\"63.623047\" xlink:href=\"#DejaVuSans-30\"/>\r\n       <use x=\"127.246094\" xlink:href=\"#DejaVuSans-2d\"/>\r\n       <use x=\"163.330078\" xlink:href=\"#DejaVuSans-4d\"/>\r\n       <use x=\"249.609375\" xlink:href=\"#DejaVuSans-61\"/>\r\n       <use x=\"310.888672\" xlink:href=\"#DejaVuSans-72\"/>\r\n      </g>\r\n     </g>\r\n    </g>\r\n    <g id=\"xtick_4\">\r\n     <g id=\"line2d_4\">\r\n      <g>\r\n       <use style=\"stroke:#000000;stroke-width:0.8;\" x=\"361.725\" xlink:href=\"#mb7c9d88b9a\" y=\"224.64\"/>\r\n      </g>\r\n     </g>\r\n     <g id=\"text_3\">\r\n      <!-- 00:00 -->\r\n      <g transform=\"translate(347.315625 239.238438)scale(0.1 -0.1)\">\r\n       <use xlink:href=\"#DejaVuSans-30\"/>\r\n       <use x=\"63.623047\" xlink:href=\"#DejaVuSans-30\"/>\r\n       <use x=\"127.246094\" xlink:href=\"#DejaVuSans-3a\"/>\r\n       <use x=\"160.9375\" xlink:href=\"#DejaVuSans-30\"/>\r\n       <use x=\"224.560547\" xlink:href=\"#DejaVuSans-30\"/>\r\n      </g>\r\n      <!-- 31-Mar -->\r\n      <g transform=\"translate(344.125 250.43625)scale(0.1 -0.1)\">\r\n       <use xlink:href=\"#DejaVuSans-33\"/>\r\n       <use x=\"63.623047\" xlink:href=\"#DejaVuSans-31\"/>\r\n       <use x=\"127.246094\" xlink:href=\"#DejaVuSans-2d\"/>\r\n       <use x=\"163.330078\" xlink:href=\"#DejaVuSans-4d\"/>\r\n       <use x=\"249.609375\" xlink:href=\"#DejaVuSans-61\"/>\r\n       <use x=\"310.888672\" xlink:href=\"#DejaVuSans-72\"/>\r\n      </g>\r\n     </g>\r\n    </g>\r\n    <g id=\"xtick_5\">\r\n     <g id=\"line2d_5\">\r\n      <defs>\r\n       <path d=\"M 0 0 \r\nL 0 2 \r\n\" id=\"me19f999981\" style=\"stroke:#000000;stroke-width:0.6;\"/>\r\n      </defs>\r\n      <g>\r\n       <use style=\"stroke:#000000;stroke-width:0.6;\" x=\"78.795423\" xlink:href=\"#me19f999981\" y=\"224.64\"/>\r\n      </g>\r\n     </g>\r\n     <g id=\"text_4\">\r\n      <!-- 12:00 -->\r\n      <g transform=\"translate(64.386048 237.638438)scale(0.1 -0.1)\">\r\n       <use xlink:href=\"#DejaVuSans-31\"/>\r\n       <use x=\"63.623047\" xlink:href=\"#DejaVuSans-32\"/>\r\n       <use x=\"127.246094\" xlink:href=\"#DejaVuSans-3a\"/>\r\n       <use x=\"160.9375\" xlink:href=\"#DejaVuSans-30\"/>\r\n       <use x=\"224.560547\" xlink:href=\"#DejaVuSans-30\"/>\r\n      </g>\r\n     </g>\r\n    </g>\r\n    <g id=\"xtick_6\">\r\n     <g id=\"line2d_6\">\r\n      <g>\r\n       <use style=\"stroke:#000000;stroke-width:0.6;\" x=\"191.967254\" xlink:href=\"#me19f999981\" y=\"224.64\"/>\r\n      </g>\r\n     </g>\r\n     <g id=\"text_5\">\r\n      <!-- 12:00 -->\r\n      <g transform=\"translate(177.557879 237.638438)scale(0.1 -0.1)\">\r\n       <use xlink:href=\"#DejaVuSans-31\"/>\r\n       <use x=\"63.623047\" xlink:href=\"#DejaVuSans-32\"/>\r\n       <use x=\"127.246094\" xlink:href=\"#DejaVuSans-3a\"/>\r\n       <use x=\"160.9375\" xlink:href=\"#DejaVuSans-30\"/>\r\n       <use x=\"224.560547\" xlink:href=\"#DejaVuSans-30\"/>\r\n      </g>\r\n     </g>\r\n    </g>\r\n    <g id=\"xtick_7\">\r\n     <g id=\"line2d_7\">\r\n      <g>\r\n       <use style=\"stroke:#000000;stroke-width:0.6;\" x=\"305.139085\" xlink:href=\"#me19f999981\" y=\"224.64\"/>\r\n      </g>\r\n     </g>\r\n     <g id=\"text_6\">\r\n      <!-- 12:00 -->\r\n      <g transform=\"translate(290.72971 237.638438)scale(0.1 -0.1)\">\r\n       <use xlink:href=\"#DejaVuSans-31\"/>\r\n       <use x=\"63.623047\" xlink:href=\"#DejaVuSans-32\"/>\r\n       <use x=\"127.246094\" xlink:href=\"#DejaVuSans-3a\"/>\r\n       <use x=\"160.9375\" xlink:href=\"#DejaVuSans-30\"/>\r\n       <use x=\"224.560547\" xlink:href=\"#DejaVuSans-30\"/>\r\n      </g>\r\n     </g>\r\n    </g>\r\n   </g>\r\n   <g id=\"matplotlib.axis_2\">\r\n    <g id=\"ytick_1\">\r\n     <g id=\"line2d_8\">\r\n      <defs>\r\n       <path d=\"M 0 0 \r\nL -3.5 0 \r\n\" id=\"ma8d073d21d\" style=\"stroke:#000000;stroke-width:0.8;\"/>\r\n      </defs>\r\n      <g>\r\n       <use style=\"stroke:#000000;stroke-width:0.8;\" x=\"26.925\" xlink:href=\"#ma8d073d21d\" y=\"219.139351\"/>\r\n      </g>\r\n     </g>\r\n     <g id=\"text_7\">\r\n      <!-- 30 -->\r\n      <g transform=\"translate(7.2 222.93857)scale(0.1 -0.1)\">\r\n       <use xlink:href=\"#DejaVuSans-33\"/>\r\n       <use x=\"63.623047\" xlink:href=\"#DejaVuSans-30\"/>\r\n      </g>\r\n     </g>\r\n    </g>\r\n    <g id=\"ytick_2\">\r\n     <g id=\"line2d_9\">\r\n      <g>\r\n       <use style=\"stroke:#000000;stroke-width:0.8;\" x=\"26.925\" xlink:href=\"#ma8d073d21d\" y=\"175.309478\"/>\r\n      </g>\r\n     </g>\r\n     <g id=\"text_8\">\r\n      <!-- 40 -->\r\n      <g transform=\"translate(7.2 179.108697)scale(0.1 -0.1)\">\r\n       <defs>\r\n        <path d=\"M 2419 4116 \r\nL 825 1625 \r\nL 2419 1625 \r\nL 2419 4116 \r\nz\r\nM 2253 4666 \r\nL 3047 4666 \r\nL 3047 1625 \r\nL 3713 1625 \r\nL 3713 1100 \r\nL 3047 1100 \r\nL 3047 0 \r\nL 2419 0 \r\nL 2419 1100 \r\nL 313 1100 \r\nL 313 1709 \r\nL 2253 4666 \r\nz\r\n\" id=\"DejaVuSans-34\" transform=\"scale(0.015625)\"/>\r\n       </defs>\r\n       <use xlink:href=\"#DejaVuSans-34\"/>\r\n       <use x=\"63.623047\" xlink:href=\"#DejaVuSans-30\"/>\r\n      </g>\r\n     </g>\r\n    </g>\r\n    <g id=\"ytick_3\">\r\n     <g id=\"line2d_10\">\r\n      <g>\r\n       <use style=\"stroke:#000000;stroke-width:0.8;\" x=\"26.925\" xlink:href=\"#ma8d073d21d\" y=\"131.479605\"/>\r\n      </g>\r\n     </g>\r\n     <g id=\"text_9\">\r\n      <!-- 50 -->\r\n      <g transform=\"translate(7.2 135.278824)scale(0.1 -0.1)\">\r\n       <defs>\r\n        <path d=\"M 691 4666 \r\nL 3169 4666 \r\nL 3169 4134 \r\nL 1269 4134 \r\nL 1269 2991 \r\nQ 1406 3038 1543 3061 \r\nQ 1681 3084 1819 3084 \r\nQ 2600 3084 3056 2656 \r\nQ 3513 2228 3513 1497 \r\nQ 3513 744 3044 326 \r\nQ 2575 -91 1722 -91 \r\nQ 1428 -91 1123 -41 \r\nQ 819 9 494 109 \r\nL 494 744 \r\nQ 775 591 1075 516 \r\nQ 1375 441 1709 441 \r\nQ 2250 441 2565 725 \r\nQ 2881 1009 2881 1497 \r\nQ 2881 1984 2565 2268 \r\nQ 2250 2553 1709 2553 \r\nQ 1456 2553 1204 2497 \r\nQ 953 2441 691 2322 \r\nL 691 4666 \r\nz\r\n\" id=\"DejaVuSans-35\" transform=\"scale(0.015625)\"/>\r\n       </defs>\r\n       <use xlink:href=\"#DejaVuSans-35\"/>\r\n       <use x=\"63.623047\" xlink:href=\"#DejaVuSans-30\"/>\r\n      </g>\r\n     </g>\r\n    </g>\r\n    <g id=\"ytick_4\">\r\n     <g id=\"line2d_11\">\r\n      <g>\r\n       <use style=\"stroke:#000000;stroke-width:0.8;\" x=\"26.925\" xlink:href=\"#ma8d073d21d\" y=\"87.649732\"/>\r\n      </g>\r\n     </g>\r\n     <g id=\"text_10\">\r\n      <!-- 60 -->\r\n      <g transform=\"translate(7.2 91.448951)scale(0.1 -0.1)\">\r\n       <use xlink:href=\"#DejaVuSans-36\"/>\r\n       <use x=\"63.623047\" xlink:href=\"#DejaVuSans-30\"/>\r\n      </g>\r\n     </g>\r\n    </g>\r\n    <g id=\"ytick_5\">\r\n     <g id=\"line2d_12\">\r\n      <g>\r\n       <use style=\"stroke:#000000;stroke-width:0.8;\" x=\"26.925\" xlink:href=\"#ma8d073d21d\" y=\"43.819859\"/>\r\n      </g>\r\n     </g>\r\n     <g id=\"text_11\">\r\n      <!-- 70 -->\r\n      <g transform=\"translate(7.2 47.619078)scale(0.1 -0.1)\">\r\n       <defs>\r\n        <path d=\"M 525 4666 \r\nL 3525 4666 \r\nL 3525 4397 \r\nL 1831 0 \r\nL 1172 0 \r\nL 2766 4134 \r\nL 525 4134 \r\nL 525 4666 \r\nz\r\n\" id=\"DejaVuSans-37\" transform=\"scale(0.015625)\"/>\r\n       </defs>\r\n       <use xlink:href=\"#DejaVuSans-37\"/>\r\n       <use x=\"63.623047\" xlink:href=\"#DejaVuSans-30\"/>\r\n      </g>\r\n     </g>\r\n    </g>\r\n   </g>\r\n   <g id=\"line2d_13\">\r\n    <path clip-path=\"url(#p199fa159eb)\" d=\"M 26.925 183.637154 \r\nL 31.640493 100.360395 \r\nL 36.355986 147.258359 \r\nL 41.071479 99.483798 \r\nL 45.786972 48.202846 \r\nL 50.502465 49.956041 \r\nL 55.217958 22.78152 \r\nL 59.933451 17.083636 \r\nL 64.648944 40.313469 \r\nL 69.364437 23.219819 \r\nL 74.07993 35.492183 \r\nL 78.795423 78.445459 \r\nL 83.510915 129.72641 \r\nL 88.226408 127.973215 \r\nL 92.941901 141.560476 \r\nL 97.657394 181.883959 \r\nL 102.372887 100.360395 \r\nL 107.08838 177.500972 \r\nL 111.803873 117.454046 \r\nL 116.519366 101.236993 \r\nL 121.234859 67.48799 \r\nL 125.950352 110.879565 \r\nL 130.665845 137.615787 \r\nL 135.381338 141.560476 \r\nL 140.096831 136.300891 \r\nL 144.812324 126.658319 \r\nL 149.527817 128.411514 \r\nL 154.24331 147.696658 \r\nL 158.958803 146.381762 \r\nL 163.674296 125.781721 \r\nL 168.389789 134.985995 \r\nL 173.105282 142.437073 \r\nL 177.820775 125.781721 \r\nL 182.536268 148.134957 \r\nL 187.251761 164.790308 \r\nL 191.967254 170.488192 \r\nL 196.682746 159.530724 \r\nL 201.398239 152.517944 \r\nL 206.113732 143.751969 \r\nL 210.829225 146.381762 \r\nL 215.544718 184.075453 \r\nL 220.260211 168.296698 \r\nL 224.975704 186.705245 \r\nL 229.691197 124.466825 \r\nL 234.40669 160.84562 \r\nL 239.122183 174.871179 \r\nL 243.837676 194.594622 \r\nL 248.553169 187.143544 \r\nL 253.268662 179.254166 \r\nL 257.984155 162.598815 \r\nL 262.699648 148.134957 \r\nL 267.415141 114.824253 \r\nL 272.130634 114.385954 \r\nL 276.846127 127.534916 \r\nL 281.56162 139.368982 \r\nL 286.277113 151.641347 \r\nL 290.992606 147.696658 \r\nL 295.708099 149.888152 \r\nL 300.423592 191.526531 \r\nL 305.139085 188.896739 \r\nL 309.854577 165.666906 \r\nL 314.57007 181.007361 \r\nL 319.285563 173.994582 \r\nL 324.001056 214.318065 \r\nL 328.716549 199.854207 \r\nL 333.432042 181.007361 \r\nL 338.147535 188.896739 \r\nL 342.863028 160.407321 \r\nL 347.578521 157.777529 \r\nL 352.294014 125.781721 \r\nL 357.009507 162.598815 \r\nL 361.725 214.756364 \r\n\" style=\"fill:none;stroke:#1f77b4;stroke-linecap:square;stroke-width:1.5;\"/>\r\n   </g>\r\n   <g id=\"line2d_14\">\r\n    <path clip-path=\"url(#p199fa159eb)\" d=\"M 26.925 140.923666 \r\nL 31.640493 132.04368 \r\nL 36.355986 138.552067 \r\nL 41.071479 151.973729 \r\nL 45.786972 153.634637 \r\nL 50.502465 153.302181 \r\nL 55.217958 156.215718 \r\nL 59.933451 150.607991 \r\nL 64.648944 152.611237 \r\nL 69.364437 162.458512 \r\nL 74.07993 160.3922 \r\nL 78.795423 160.46769 \r\nL 83.510915 154.822644 \r\nL 88.226408 159.852552 \r\nL 92.941901 151.911247 \r\nL 97.657394 144.800245 \r\nL 102.372887 141.915333 \r\nL 107.08838 147.175874 \r\nL 111.803873 137.359914 \r\nL 116.519366 144.244681 \r\nL 121.234859 132.238465 \r\nL 125.950352 133.152334 \r\nL 130.665845 133.139677 \r\nL 135.381338 139.898845 \r\nL 140.096831 137.455485 \r\nL 144.812324 136.315079 \r\nL 149.527817 139.338147 \r\nL 154.24331 150.584701 \r\nL 158.958803 156.285824 \r\nL 163.674296 160.991119 \r\nL 168.389789 161.510067 \r\nL 173.105282 157.826451 \r\nL 177.820775 160.50969 \r\nL 182.536268 161.93602 \r\nL 187.251761 169.715795 \r\nL 191.967254 168.364286 \r\nL 196.682746 170.872084 \r\nL 201.398239 165.212961 \r\nL 206.113732 155.116427 \r\nL 210.829225 151.350784 \r\nL 215.544718 149.205136 \r\nL 220.260211 153.73733 \r\nL 224.975704 146.803441 \r\nL 229.691197 146.036906 \r\nL 234.40669 141.881208 \r\nL 239.122183 145.592395 \r\nL 243.837676 146.883612 \r\nL 248.553169 149.440032 \r\nL 253.268662 155.133983 \r\nL 257.984155 149.568557 \r\nL 262.699648 153.665352 \r\nL 267.415141 162.703741 \r\nL 272.130634 171.568898 \r\nL 276.846127 175.357179 \r\nL 281.56162 185.460702 \r\nL 286.277113 177.529044 \r\nL 290.992606 181.179371 \r\nL 295.708099 185.713204 \r\nL 300.423592 189.14181 \r\nL 305.139085 182.034554 \r\nL 309.854577 185.323851 \r\nL 314.57007 173.337448 \r\nL 319.285563 170.776748 \r\nL 324.001056 167.493688 \r\nL 328.716549 168.341547 \r\nL 333.432042 167.838466 \r\nL 338.147535 158.392064 \r\nL 342.863028 158.95542 \r\nL 347.578521 157.033616 \r\nL 352.294014 157.464585 \r\nL 357.009507 156.60151 \r\nL 361.725 159.953289 \r\n\" style=\"fill:none;stroke:#ff7f0e;stroke-linecap:square;stroke-width:1.5;\"/>\r\n   </g>\r\n   <g id=\"patch_3\">\r\n    <path d=\"M 26.925 224.64 \r\nL 26.925 7.2 \r\n\" style=\"fill:none;stroke:#000000;stroke-linecap:square;stroke-linejoin:miter;stroke-width:0.8;\"/>\r\n   </g>\r\n   <g id=\"patch_4\">\r\n    <path d=\"M 361.725 224.64 \r\nL 361.725 7.2 \r\n\" style=\"fill:none;stroke:#000000;stroke-linecap:square;stroke-linejoin:miter;stroke-width:0.8;\"/>\r\n   </g>\r\n   <g id=\"patch_5\">\r\n    <path d=\"M 26.925 224.64 \r\nL 361.725 224.64 \r\n\" style=\"fill:none;stroke:#000000;stroke-linecap:square;stroke-linejoin:miter;stroke-width:0.8;\"/>\r\n   </g>\r\n   <g id=\"patch_6\">\r\n    <path d=\"M 26.925 7.2 \r\nL 361.725 7.2 \r\n\" style=\"fill:none;stroke:#000000;stroke-linecap:square;stroke-linejoin:miter;stroke-width:0.8;\"/>\r\n   </g>\r\n   <g id=\"legend_1\">\r\n    <g id=\"patch_7\">\r\n     <path d=\"M 292.164063 44.55625 \r\nL 354.725 44.55625 \r\nQ 356.725 44.55625 356.725 42.55625 \r\nL 356.725 14.2 \r\nQ 356.725 12.2 354.725 12.2 \r\nL 292.164063 12.2 \r\nQ 290.164063 12.2 290.164063 14.2 \r\nL 290.164063 42.55625 \r\nQ 290.164063 44.55625 292.164063 44.55625 \r\nz\r\n\" style=\"fill:#ffffff;opacity:0.8;stroke:#cccccc;stroke-linejoin:miter;\"/>\r\n    </g>\r\n    <g id=\"line2d_15\">\r\n     <path d=\"M 294.164063 20.298437 \r\nL 314.164063 20.298437 \r\n\" style=\"fill:none;stroke:#1f77b4;stroke-linecap:square;stroke-width:1.5;\"/>\r\n    </g>\r\n    <g id=\"line2d_16\"/>\r\n    <g id=\"text_12\">\r\n     <!-- PM2.5 -->\r\n     <g transform=\"translate(322.164063 23.798437)scale(0.1 -0.1)\">\r\n      <defs>\r\n       <path d=\"M 1259 4147 \r\nL 1259 2394 \r\nL 2053 2394 \r\nQ 2494 2394 2734 2622 \r\nQ 2975 2850 2975 3272 \r\nQ 2975 3691 2734 3919 \r\nQ 2494 4147 2053 4147 \r\nL 1259 4147 \r\nz\r\nM 628 4666 \r\nL 2053 4666 \r\nQ 2838 4666 3239 4311 \r\nQ 3641 3956 3641 3272 \r\nQ 3641 2581 3239 2228 \r\nQ 2838 1875 2053 1875 \r\nL 1259 1875 \r\nL 1259 0 \r\nL 628 0 \r\nL 628 4666 \r\nz\r\n\" id=\"DejaVuSans-50\" transform=\"scale(0.015625)\"/>\r\n       <path d=\"M 684 794 \r\nL 1344 794 \r\nL 1344 0 \r\nL 684 0 \r\nL 684 794 \r\nz\r\n\" id=\"DejaVuSans-2e\" transform=\"scale(0.015625)\"/>\r\n      </defs>\r\n      <use xlink:href=\"#DejaVuSans-50\"/>\r\n      <use x=\"60.302734\" xlink:href=\"#DejaVuSans-4d\"/>\r\n      <use x=\"146.582031\" xlink:href=\"#DejaVuSans-32\"/>\r\n      <use x=\"210.205078\" xlink:href=\"#DejaVuSans-2e\"/>\r\n      <use x=\"241.992188\" xlink:href=\"#DejaVuSans-35\"/>\r\n     </g>\r\n    </g>\r\n    <g id=\"line2d_17\">\r\n     <path d=\"M 294.164063 34.976562 \r\nL 314.164063 34.976562 \r\n\" style=\"fill:none;stroke:#ff7f0e;stroke-linecap:square;stroke-width:1.5;\"/>\r\n    </g>\r\n    <g id=\"line2d_18\"/>\r\n    <g id=\"text_13\">\r\n     <!-- pred -->\r\n     <g transform=\"translate(322.164063 38.476562)scale(0.1 -0.1)\">\r\n      <defs>\r\n       <path d=\"M 1159 525 \r\nL 1159 -1331 \r\nL 581 -1331 \r\nL 581 3500 \r\nL 1159 3500 \r\nL 1159 2969 \r\nQ 1341 3281 1617 3432 \r\nQ 1894 3584 2278 3584 \r\nQ 2916 3584 3314 3078 \r\nQ 3713 2572 3713 1747 \r\nQ 3713 922 3314 415 \r\nQ 2916 -91 2278 -91 \r\nQ 1894 -91 1617 61 \r\nQ 1341 213 1159 525 \r\nz\r\nM 3116 1747 \r\nQ 3116 2381 2855 2742 \r\nQ 2594 3103 2138 3103 \r\nQ 1681 3103 1420 2742 \r\nQ 1159 2381 1159 1747 \r\nQ 1159 1113 1420 752 \r\nQ 1681 391 2138 391 \r\nQ 2594 391 2855 752 \r\nQ 3116 1113 3116 1747 \r\nz\r\n\" id=\"DejaVuSans-70\" transform=\"scale(0.015625)\"/>\r\n       <path d=\"M 3597 1894 \r\nL 3597 1613 \r\nL 953 1613 \r\nQ 991 1019 1311 708 \r\nQ 1631 397 2203 397 \r\nQ 2534 397 2845 478 \r\nQ 3156 559 3463 722 \r\nL 3463 178 \r\nQ 3153 47 2828 -22 \r\nQ 2503 -91 2169 -91 \r\nQ 1331 -91 842 396 \r\nQ 353 884 353 1716 \r\nQ 353 2575 817 3079 \r\nQ 1281 3584 2069 3584 \r\nQ 2775 3584 3186 3129 \r\nQ 3597 2675 3597 1894 \r\nz\r\nM 3022 2063 \r\nQ 3016 2534 2758 2815 \r\nQ 2500 3097 2075 3097 \r\nQ 1594 3097 1305 2825 \r\nQ 1016 2553 972 2059 \r\nL 3022 2063 \r\nz\r\n\" id=\"DejaVuSans-65\" transform=\"scale(0.015625)\"/>\r\n       <path d=\"M 2906 2969 \r\nL 2906 4863 \r\nL 3481 4863 \r\nL 3481 0 \r\nL 2906 0 \r\nL 2906 525 \r\nQ 2725 213 2448 61 \r\nQ 2172 -91 1784 -91 \r\nQ 1150 -91 751 415 \r\nQ 353 922 353 1747 \r\nQ 353 2572 751 3078 \r\nQ 1150 3584 1784 3584 \r\nQ 2172 3584 2448 3432 \r\nQ 2725 3281 2906 2969 \r\nz\r\nM 947 1747 \r\nQ 947 1113 1208 752 \r\nQ 1469 391 1925 391 \r\nQ 2381 391 2643 752 \r\nQ 2906 1113 2906 1747 \r\nQ 2906 2381 2643 2742 \r\nQ 2381 3103 1925 3103 \r\nQ 1469 3103 1208 2742 \r\nQ 947 2381 947 1747 \r\nz\r\n\" id=\"DejaVuSans-64\" transform=\"scale(0.015625)\"/>\r\n      </defs>\r\n      <use xlink:href=\"#DejaVuSans-70\"/>\r\n      <use x=\"63.476562\" xlink:href=\"#DejaVuSans-72\"/>\r\n      <use x=\"102.339844\" xlink:href=\"#DejaVuSans-65\"/>\r\n      <use x=\"163.863281\" xlink:href=\"#DejaVuSans-64\"/>\r\n     </g>\r\n    </g>\r\n   </g>\r\n  </g>\r\n </g>\r\n <defs>\r\n  <clipPath id=\"p199fa159eb\">\r\n   <rect height=\"217.44\" width=\"334.8\" x=\"26.925\" y=\"7.2\"/>\r\n  </clipPath>\r\n </defs>\r\n</svg>\r\n",
      "image/png": "[encoded data removed]"
     },
     "metadata": {
      "needs_background": "light"
     }
    }
   ],
   "source": [
    "i = 90\n",
    "h = y_scalers['Bangkok'].inverse_transform(pred[i].numpy().reshape((-1,1)))\n",
    "k = Y['Bangkok'][i]\n",
    "k['pred'] = h\n",
    "k.plot();"
   ]
  },
  {
   "cell_type": "code",
   "execution_count": null,
   "metadata": {},
   "outputs": [],
   "source": []
  }
 ]
}