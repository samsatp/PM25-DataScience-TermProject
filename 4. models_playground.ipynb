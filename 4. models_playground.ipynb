{
 "metadata": {
  "language_info": {
   "codemirror_mode": {
    "name": "ipython",
    "version": 3
   },
   "file_extension": ".py",
   "mimetype": "text/x-python",
   "name": "python",
   "nbconvert_exporter": "python",
   "pygments_lexer": "ipython3",
   "version": "3.9.1-final"
  },
  "orig_nbformat": 2,
  "kernelspec": {
   "name": "python391jvsc74a57bd031605234de10b43ea767264d17dfb0196cf2b9da7012776efe0be49341337db4",
   "display_name": "Python 3.9.1 64-bit ('jupyterlab2.26': conda)"
  }
 },
 "nbformat": 4,
 "nbformat_minor": 2,
 "cells": [
  {
   "cell_type": "code",
   "execution_count": 1,
   "metadata": {},
   "outputs": [
    {
     "output_type": "stream",
     "name": "stdout",
     "text": [
      "INFO:tensorflow:Enabling eager execution\n",
      "INFO:tensorflow:Enabling v2 tensorshape\n",
      "INFO:tensorflow:Enabling resource variables\n",
      "INFO:tensorflow:Enabling tensor equality\n",
      "INFO:tensorflow:Enabling control flow v2\n"
     ]
    },
    {
     "output_type": "execute_result",
     "data": {
      "text/plain": [
       "'2.5.0-rc1'"
      ]
     },
     "metadata": {},
     "execution_count": 1
    }
   ],
   "source": [
    "import tensorflow as tf\n",
    "tf.__version__"
   ]
  },
  {
   "cell_type": "code",
   "execution_count": 4,
   "metadata": {},
   "outputs": [
    {
     "output_type": "execute_result",
     "data": {
      "text/plain": [
       "                     PM2.5  Temp(C)  WindDir  Wind Speed(km/h)\n",
       "2016-03-03 08:00:00   62.9     26.4     65.0              15.0\n",
       "2016-03-03 09:00:00   62.9     26.4     65.0              15.0\n",
       "2016-03-03 10:00:00   55.5     31.4     75.0              13.0\n",
       "2016-03-03 11:00:00   55.5     31.4     75.0              13.0\n",
       "2016-03-03 12:00:00   47.9     31.4     75.0              13.0\n",
       "...                    ...      ...      ...               ...\n",
       "2019-03-17 19:00:00   42.2     31.3     70.0              17.0\n",
       "2019-03-17 20:00:00   41.2     31.3     70.0              17.0\n",
       "2019-03-17 21:00:00   37.7     31.3     70.0              17.0\n",
       "2019-03-17 22:00:00   39.0     30.2     85.0              19.0\n",
       "2019-03-17 23:00:00   38.9      NaN      NaN               NaN\n",
       "\n",
       "[26632 rows x 4 columns]"
      ],
      "text/html": "<div>\n<style scoped>\n    .dataframe tbody tr th:only-of-type {\n        vertical-align: middle;\n    }\n\n    .dataframe tbody tr th {\n        vertical-align: top;\n    }\n\n    .dataframe thead th {\n        text-align: right;\n    }\n</style>\n<table border=\"1\" class=\"dataframe\">\n  <thead>\n    <tr style=\"text-align: right;\">\n      <th></th>\n      <th>PM2.5</th>\n      <th>Temp(C)</th>\n      <th>WindDir</th>\n      <th>Wind Speed(km/h)</th>\n    </tr>\n  </thead>\n  <tbody>\n    <tr>\n      <th>2016-03-03 08:00:00</th>\n      <td>62.9</td>\n      <td>26.4</td>\n      <td>65.0</td>\n      <td>15.0</td>\n    </tr>\n    <tr>\n      <th>2016-03-03 09:00:00</th>\n      <td>62.9</td>\n      <td>26.4</td>\n      <td>65.0</td>\n      <td>15.0</td>\n    </tr>\n    <tr>\n      <th>2016-03-03 10:00:00</th>\n      <td>55.5</td>\n      <td>31.4</td>\n      <td>75.0</td>\n      <td>13.0</td>\n    </tr>\n    <tr>\n      <th>2016-03-03 11:00:00</th>\n      <td>55.5</td>\n      <td>31.4</td>\n      <td>75.0</td>\n      <td>13.0</td>\n    </tr>\n    <tr>\n      <th>2016-03-03 12:00:00</th>\n      <td>47.9</td>\n      <td>31.4</td>\n      <td>75.0</td>\n      <td>13.0</td>\n    </tr>\n    <tr>\n      <th>...</th>\n      <td>...</td>\n      <td>...</td>\n      <td>...</td>\n      <td>...</td>\n    </tr>\n    <tr>\n      <th>2019-03-17 19:00:00</th>\n      <td>42.2</td>\n      <td>31.3</td>\n      <td>70.0</td>\n      <td>17.0</td>\n    </tr>\n    <tr>\n      <th>2019-03-17 20:00:00</th>\n      <td>41.2</td>\n      <td>31.3</td>\n      <td>70.0</td>\n      <td>17.0</td>\n    </tr>\n    <tr>\n      <th>2019-03-17 21:00:00</th>\n      <td>37.7</td>\n      <td>31.3</td>\n      <td>70.0</td>\n      <td>17.0</td>\n    </tr>\n    <tr>\n      <th>2019-03-17 22:00:00</th>\n      <td>39.0</td>\n      <td>30.2</td>\n      <td>85.0</td>\n      <td>19.0</td>\n    </tr>\n    <tr>\n      <th>2019-03-17 23:00:00</th>\n      <td>38.9</td>\n      <td>NaN</td>\n      <td>NaN</td>\n      <td>NaN</td>\n    </tr>\n  </tbody>\n</table>\n<p>26632 rows × 4 columns</p>\n</div>"
     },
     "metadata": {},
     "execution_count": 4
    }
   ],
   "source": [
    "import pandas as pd\n",
    "pd.read_csv('./data/Train/Bangkok_imputed.csv', index_col=0)"
   ]
  },
  {
   "cell_type": "code",
   "execution_count": 20,
   "metadata": {},
   "outputs": [
    {
     "output_type": "stream",
     "name": "stdout",
     "text": [
      "(8878, 4)\nTemp          0\nWindDir       0\nWind Speed    0\nPM2.5         0\ndtype: int64\n"
     ]
    },
    {
     "output_type": "execute_result",
     "data": {
      "text/plain": [
       "                     Temp  WindDir  Wind Speed      PM2.5\n",
       "2016-03-03 07:00:00  26.4       65          15  62.900000\n",
       "2016-03-03 10:00:00  31.4       75          13  52.966667\n",
       "2016-03-03 13:00:00  34.1       70          12  35.266667\n",
       "2016-03-03 16:00:00  34.6       60          12  33.050000\n",
       "2016-03-03 19:00:00  29.1       70          11  42.066667"
      ],
      "text/html": "<div>\n<style scoped>\n    .dataframe tbody tr th:only-of-type {\n        vertical-align: middle;\n    }\n\n    .dataframe tbody tr th {\n        vertical-align: top;\n    }\n\n    .dataframe thead th {\n        text-align: right;\n    }\n</style>\n<table border=\"1\" class=\"dataframe\">\n  <thead>\n    <tr style=\"text-align: right;\">\n      <th></th>\n      <th>Temp</th>\n      <th>WindDir</th>\n      <th>Wind Speed</th>\n      <th>PM2.5</th>\n    </tr>\n  </thead>\n  <tbody>\n    <tr>\n      <th>2016-03-03 07:00:00</th>\n      <td>26.4</td>\n      <td>65</td>\n      <td>15</td>\n      <td>62.900000</td>\n    </tr>\n    <tr>\n      <th>2016-03-03 10:00:00</th>\n      <td>31.4</td>\n      <td>75</td>\n      <td>13</td>\n      <td>52.966667</td>\n    </tr>\n    <tr>\n      <th>2016-03-03 13:00:00</th>\n      <td>34.1</td>\n      <td>70</td>\n      <td>12</td>\n      <td>35.266667</td>\n    </tr>\n    <tr>\n      <th>2016-03-03 16:00:00</th>\n      <td>34.6</td>\n      <td>60</td>\n      <td>12</td>\n      <td>33.050000</td>\n    </tr>\n    <tr>\n      <th>2016-03-03 19:00:00</th>\n      <td>29.1</td>\n      <td>70</td>\n      <td>11</td>\n      <td>42.066667</td>\n    </tr>\n  </tbody>\n</table>\n</div>"
     },
     "metadata": {},
     "execution_count": 20
    }
   ],
   "source": [
    "import pandas as pd\n",
    "\n",
    "provinces = ['Bangkok','Chanthaburi','Chiang Mai','Kanchanaburi','Khon Kaen','Songkhla']\n",
    "\n",
    "df = pd.read_csv('./data/Train/Bangkok_imputed.csv')\n",
    "print(df.shape)\n",
    "print(df.isnull().sum())\n",
    "df.head()"
   ]
  },
  {
   "cell_type": "code",
   "execution_count": 21,
   "metadata": {},
   "outputs": [],
   "source": [
    "from sklearn.preprocessing import MinMaxScaler\n",
    "\n",
    "pm = df['PM2.5']\n",
    "\n",
    "scaler = MinMaxScaler().fit(pm)\n",
    "\n",
    "train_scaled = scaler.transform(pm)"
   ]
  },
  {
   "cell_type": "code",
   "execution_count": 22,
   "metadata": {},
   "outputs": [],
   "source": [
    "from tensorflow.keras.preprocessing.sequence import TimeseriesGenerator\n",
    "\n",
    "# define generator\n",
    "n_input = 2921\n",
    "n_features = 1\n",
    "generator = TimeseriesGenerator(train_scaled, train_scaled, length=n_input, batch_size=100)"
   ]
  },
  {
   "cell_type": "code",
   "execution_count": 23,
   "metadata": {},
   "outputs": [],
   "source": [
    "from tensorflow.keras.models import Sequential\n",
    "from tensorflow.keras.layers import Dense\n",
    "from tensorflow.keras.layers import LSTM\n",
    "import tensorflow as tf\n",
    "\n",
    "# define model\n",
    "model = Sequential([\n",
    "    LSTM(100, activation='relu', input_shape=(n_input, n_features)),\n",
    "    Dense(1)\n",
    "])\n",
    "model.compile(optimizer='adam', loss='mse')"
   ]
  },
  {
   "cell_type": "code",
   "execution_count": null,
   "metadata": {},
   "outputs": [],
   "source": [
    "model.fit(generator,epochs=5, batch_size=100)"
   ]
  },
  {
   "source": [
    "Test"
   ],
   "cell_type": "markdown",
   "metadata": {}
  },
  {
   "cell_type": "code",
   "execution_count": 31,
   "metadata": {},
   "outputs": [
    {
     "output_type": "execute_result",
     "data": {
      "text/plain": [
       "                     Temp  WindDir  Wind Speed      PM2.5\n",
       "2016-03-03 07:00:00  26.4       65          15  62.900000\n",
       "2016-03-03 10:00:00  31.4       75          13  52.966667\n",
       "2016-03-03 13:00:00  34.1       70          12  35.266667\n",
       "2016-03-03 16:00:00  34.6       60          12  33.050000"
      ],
      "text/html": "<div>\n<style scoped>\n    .dataframe tbody tr th:only-of-type {\n        vertical-align: middle;\n    }\n\n    .dataframe tbody tr th {\n        vertical-align: top;\n    }\n\n    .dataframe thead th {\n        text-align: right;\n    }\n</style>\n<table border=\"1\" class=\"dataframe\">\n  <thead>\n    <tr style=\"text-align: right;\">\n      <th></th>\n      <th>Temp</th>\n      <th>WindDir</th>\n      <th>Wind Speed</th>\n      <th>PM2.5</th>\n    </tr>\n  </thead>\n  <tbody>\n    <tr>\n      <th>2016-03-03 07:00:00</th>\n      <td>26.4</td>\n      <td>65</td>\n      <td>15</td>\n      <td>62.900000</td>\n    </tr>\n    <tr>\n      <th>2016-03-03 10:00:00</th>\n      <td>31.4</td>\n      <td>75</td>\n      <td>13</td>\n      <td>52.966667</td>\n    </tr>\n    <tr>\n      <th>2016-03-03 13:00:00</th>\n      <td>34.1</td>\n      <td>70</td>\n      <td>12</td>\n      <td>35.266667</td>\n    </tr>\n    <tr>\n      <th>2016-03-03 16:00:00</th>\n      <td>34.6</td>\n      <td>60</td>\n      <td>12</td>\n      <td>33.050000</td>\n    </tr>\n  </tbody>\n</table>\n</div>"
     },
     "metadata": {},
     "execution_count": 31
    }
   ],
   "source": [
    "df.head(4)"
   ]
  },
  {
   "cell_type": "code",
   "execution_count": 25,
   "metadata": {},
   "outputs": [],
   "source": [
    "x = df.iloc[:,:-1]\n",
    "y = df.iloc[:,-1]"
   ]
  },
  {
   "cell_type": "code",
   "execution_count": 28,
   "metadata": {},
   "outputs": [],
   "source": [
    "\n",
    "# define generator\n",
    "n_input = 2921\n",
    "n_features = 1\n",
    "generator = TimeseriesGenerator(x, y, length=2, batch_size=1)"
   ]
  },
  {
   "cell_type": "code",
   "execution_count": 33,
   "metadata": {},
   "outputs": [],
   "source": [
    "X, Y = generator[1]"
   ]
  },
  {
   "cell_type": "code",
   "execution_count": 34,
   "metadata": {},
   "outputs": [
    {
     "output_type": "execute_result",
     "data": {
      "text/plain": [
       "array([[[31.4, 75. , 13. ],\n",
       "        [34.1, 70. , 12. ]]])"
      ]
     },
     "metadata": {},
     "execution_count": 34
    }
   ],
   "source": [
    "X"
   ]
  },
  {
   "cell_type": "code",
   "execution_count": 35,
   "metadata": {},
   "outputs": [
    {
     "output_type": "execute_result",
     "data": {
      "text/plain": [
       "array([33.05])"
      ]
     },
     "metadata": {},
     "execution_count": 35
    }
   ],
   "source": [
    "Y"
   ]
  },
  {
   "cell_type": "code",
   "execution_count": null,
   "metadata": {},
   "outputs": [],
   "source": []
  }
 ]
}