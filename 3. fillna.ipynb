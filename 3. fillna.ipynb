{
 "metadata": {
  "language_info": {
   "codemirror_mode": {
    "name": "ipython",
    "version": 3
   },
   "file_extension": ".py",
   "mimetype": "text/x-python",
   "name": "python",
   "nbconvert_exporter": "python",
   "pygments_lexer": "ipython3",
   "version": "3.9.1-final"
  },
  "orig_nbformat": 2,
  "kernelspec": {
   "name": "python391jvsc74a57bd031605234de10b43ea767264d17dfb0196cf2b9da7012776efe0be49341337db4",
   "display_name": "Python 3.9.1 64-bit ('jupyterlab2.26': conda)"
  },
  "metadata": {
   "interpreter": {
    "hash": "a9c2c22397b07014c1cd4f0e704763f14b6d6b76ade59c4da849259a43dd80ef"
   }
  }
 },
 "nbformat": 4,
 "nbformat_minor": 2,
 "cells": [
  {
   "cell_type": "code",
   "execution_count": 1,
   "metadata": {},
   "outputs": [],
   "source": [
    "import pandas as pd\n",
    "import os\n",
    "\n",
    "# IMPORT ALL .CSV\n",
    "provinces = ['Bangkok','Chanthaburi','Chiang Mai','Kanchanaburi','Khon Kaen','Songkhla']\n",
    "data = dict()\n",
    "subset = 'Train'\n",
    "\n",
    "for province in provinces:\n",
    "    data[province] = pd.read_csv(f'full-data/{subset}/{province}_full.csv', \n",
    "                        index_col=0, parse_dates=True)\n"
   ]
  },
  {
   "cell_type": "code",
   "execution_count": 6,
   "metadata": {},
   "outputs": [
    {
     "output_type": "execute_result",
     "data": {
      "text/plain": [
       "                     PM2.5  Temp(C)  WindDir  Wind Speed(km/h)\n",
       "2016-03-03 08:00:00   62.9     26.4     65.0              15.0\n",
       "2016-03-03 09:00:00   62.9     26.4     65.0              15.0\n",
       "2016-03-03 10:00:00   55.5     31.4     75.0              13.0\n",
       "2016-03-03 11:00:00   55.5     31.4     75.0              13.0\n",
       "2016-03-03 12:00:00   47.9     31.4     75.0              13.0"
      ],
      "text/html": "<div>\n<style scoped>\n    .dataframe tbody tr th:only-of-type {\n        vertical-align: middle;\n    }\n\n    .dataframe tbody tr th {\n        vertical-align: top;\n    }\n\n    .dataframe thead th {\n        text-align: right;\n    }\n</style>\n<table border=\"1\" class=\"dataframe\">\n  <thead>\n    <tr style=\"text-align: right;\">\n      <th></th>\n      <th>PM2.5</th>\n      <th>Temp(C)</th>\n      <th>WindDir</th>\n      <th>Wind Speed(km/h)</th>\n    </tr>\n  </thead>\n  <tbody>\n    <tr>\n      <th>2016-03-03 08:00:00</th>\n      <td>62.9</td>\n      <td>26.4</td>\n      <td>65.0</td>\n      <td>15.0</td>\n    </tr>\n    <tr>\n      <th>2016-03-03 09:00:00</th>\n      <td>62.9</td>\n      <td>26.4</td>\n      <td>65.0</td>\n      <td>15.0</td>\n    </tr>\n    <tr>\n      <th>2016-03-03 10:00:00</th>\n      <td>55.5</td>\n      <td>31.4</td>\n      <td>75.0</td>\n      <td>13.0</td>\n    </tr>\n    <tr>\n      <th>2016-03-03 11:00:00</th>\n      <td>55.5</td>\n      <td>31.4</td>\n      <td>75.0</td>\n      <td>13.0</td>\n    </tr>\n    <tr>\n      <th>2016-03-03 12:00:00</th>\n      <td>47.9</td>\n      <td>31.4</td>\n      <td>75.0</td>\n      <td>13.0</td>\n    </tr>\n  </tbody>\n</table>\n</div>"
     },
     "metadata": {},
     "execution_count": 6
    }
   ],
   "source": [
    "data['Bangkok'].head()"
   ]
  },
  {
   "cell_type": "code",
   "execution_count": 10,
   "metadata": {},
   "outputs": [
    {
     "output_type": "stream",
     "name": "stdout",
     "text": [
      "Bangkok has 2449 missing values\nChanthaburi has 2481 missing values\nChiang Mai has 2482 missing values\nKanchanaburi has 2456 missing values\nKhon Kaen has 11702 missing values\nSongkhla has 1811 missing values\n"
     ]
    }
   ],
   "source": [
    "def check_missing(data):\n",
    "    missing = dict()\n",
    "    for province in provinces:\n",
    "        null_idx = data[province]['PM2.5'].isnull()\n",
    "        missing[province] = data[province].loc[null_idx].index\n",
    "\n",
    "        print(f'{province} has {len(missing[province])} missing values')\n",
    "    return missing\n",
    "\n",
    "missing = check_missing(data)"
   ]
  },
  {
   "cell_type": "code",
   "execution_count": 13,
   "metadata": {
    "tags": []
   },
   "outputs": [],
   "source": [
    "def impute_DayAvg(data, method):\n",
    "    for province in provinces:\n",
    "\n",
    "        if method == 'day':\n",
    "            avg = data[province]['PM2.5'].resample('D').mean()\n",
    "            \n",
    "            for e in missing[province]:\n",
    "                day = e.strftime(\"%Y-%m-%d\")\n",
    "                data[province].at[e,'PM2.5'] = avg.loc[day]\n",
    "\n",
    "        elif method == 'week':\n",
    "            avg = data[province]['PM2.5'].resample('W').mean()\n",
    "            avg.index = avg.index.strftime('%Y-%U')\n",
    "\n",
    "            for e in missing[province]:\n",
    "                yr_week = e.strftime(\"%Y-%U\")\n",
    "                data[province].at[e,'PM2.5'] = avg.loc[yr_week]\n",
    "    return data"
   ]
  },
  {
   "cell_type": "code",
   "execution_count": 15,
   "metadata": {},
   "outputs": [
    {
     "output_type": "stream",
     "name": "stdout",
     "text": [
      "Bangkok has 960 missing values\nChanthaburi has 960 missing values\nChiang Mai has 960 missing values\nKanchanaburi has 960 missing values\nKhon Kaen has 7656 missing values\nSongkhla has 528 missing values\n"
     ]
    }
   ],
   "source": [
    "data = impute_DayAvg(data, method='day')\n",
    "missing = check_missing(data)"
   ]
  },
  {
   "source": [
    "## Fill with Avg. in that week"
   ],
   "cell_type": "markdown",
   "metadata": {}
  },
  {
   "cell_type": "code",
   "execution_count": 16,
   "metadata": {},
   "outputs": [
    {
     "output_type": "stream",
     "name": "stdout",
     "text": [
      "Bangkok has 24 missing values\nChanthaburi has 24 missing values\nChiang Mai has 24 missing values\nKanchanaburi has 24 missing values\nKhon Kaen has 5664 missing values\nSongkhla has 0 missing values\n"
     ]
    }
   ],
   "source": [
    "data = impute_DayAvg(data, method='week')\n",
    "missing = check_missing(data)"
   ]
  },
  {
   "source": [
    "## Forward fill"
   ],
   "cell_type": "markdown",
   "metadata": {}
  },
  {
   "cell_type": "code",
   "execution_count": 17,
   "metadata": {},
   "outputs": [],
   "source": [
    "for province in provinces:\n",
    "    if province == \"Khon Kaen\": continue\n",
    "    data[province]['PM2.5'].fillna(method='ffill', inplace=True)"
   ]
  },
  {
   "cell_type": "code",
   "execution_count": 19,
   "metadata": {},
   "outputs": [
    {
     "output_type": "stream",
     "name": "stdout",
     "text": [
      "Bangkok has 0 missing values\nChanthaburi has 0 missing values\nChiang Mai has 0 missing values\nKanchanaburi has 0 missing values\nKhon Kaen has 5664 missing values\nSongkhla has 0 missing values\n"
     ]
    }
   ],
   "source": [
    "missing = check_missing(data)"
   ]
  },
  {
   "source": [
    "---"
   ],
   "cell_type": "markdown",
   "metadata": {}
  },
  {
   "source": [
    "## save the imputed files"
   ],
   "cell_type": "markdown",
   "metadata": {}
  },
  {
   "cell_type": "code",
   "execution_count": 20,
   "metadata": {},
   "outputs": [
    {
     "output_type": "stream",
     "name": "stdout",
     "text": [
      "subset : Train\n"
     ]
    }
   ],
   "source": [
    "print(f'subset : {subset}')\n",
    "for province in provinces:\n",
    "    if province == \"Khon Kaen\": continue\n",
    "    data[province].to_csv(f'.\\data\\{subset}\\{province}_imputed.csv')"
   ]
  },
  {
   "cell_type": "code",
   "execution_count": null,
   "metadata": {},
   "outputs": [],
   "source": []
  }
 ]
}