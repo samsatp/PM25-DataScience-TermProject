{
 "metadata": {
  "language_info": {
   "codemirror_mode": {
    "name": "ipython",
    "version": 3
   },
   "file_extension": ".py",
   "mimetype": "text/x-python",
   "name": "python",
   "nbconvert_exporter": "python",
   "pygments_lexer": "ipython3",
   "version": "3.9.1"
  },
  "orig_nbformat": 2,
  "kernelspec": {
   "name": "python391jvsc74a57bd031605234de10b43ea767264d17dfb0196cf2b9da7012776efe0be49341337db4",
   "display_name": "Python 3.9.1 64-bit ('jupyterlab2.26': conda)"
  },
  "metadata": {
   "interpreter": {
    "hash": "a9c2c22397b07014c1cd4f0e704763f14b6d6b76ade59c4da849259a43dd80ef"
   }
  }
 },
 "nbformat": 4,
 "nbformat_minor": 2,
 "cells": [
  {
   "cell_type": "code",
   "execution_count": 1,
   "metadata": {},
   "outputs": [],
   "source": [
    "from collections import defaultdict\n",
    "from util_handle_missing import *\n",
    "import pandas as pd\n",
    "import os\n",
    "\n",
    "provinces = ['Bangkok','Chanthaburi','Chiang Mai','Kanchanaburi','Khon Kaen','Songkhla']"
   ]
  },
  {
   "cell_type": "code",
   "execution_count": 2,
   "metadata": {},
   "outputs": [
    {
     "output_type": "stream",
     "name": "stdout",
     "text": [
      "Train : Bangkok : (26632, 4)\n",
      "Train : Chanthaburi : (26632, 4)\n",
      "Train : Chiang Mai : (26632, 4)\n",
      "Train : Kanchanaburi : (26632, 4)\n",
      "Train : Khon Kaen : (26632, 4)\n",
      "Train : Songkhla : (26632, 4)\n",
      "Test : Bangkok : (8797, 4)\n",
      "Test : Chanthaburi : (8797, 4)\n",
      "Test : Chiang Mai : (8797, 4)\n",
      "Test : Kanchanaburi : (8797, 4)\n",
      "Test : Khon Kaen : (8797, 4)\n",
      "Test : Songkhla : (8797, 4)\n"
     ]
    }
   ],
   "source": [
    "data = defaultdict(lambda: {})\n",
    "\n",
    "for subset in ['Train','Test']:\n",
    "    for p in provinces:\n",
    "        df = pd.read_csv(f'full-data/{subset}/{p}_full.csv', \n",
    "                            index_col=0, parse_dates=True)\n",
    "        data[subset][p] = df\n",
    "        print(f\"{subset} : {p} : {df.shape}\")"
   ]
  },
  {
   "cell_type": "code",
   "execution_count": 3,
   "metadata": {},
   "outputs": [
    {
     "output_type": "stream",
     "name": "stdout",
     "text": [
      "Train\n\tBangkok : \nPM2.5               2449\nWindDir                2\nWind Speed(km/h)       2\nTemp(C)                2\ndtype: int64\n\tChanthaburi : \nPM2.5               2481\nWindDir                2\nWind Speed(km/h)       2\nTemp(C)                2\ndtype: int64\n\tChiang Mai : \nPM2.5               2482\nWindDir                2\nWind Speed(km/h)       2\nTemp(C)                2\ndtype: int64\n\tKanchanaburi : \nPM2.5               2456\nWindDir                2\nWind Speed(km/h)       2\nTemp(C)                2\ndtype: int64\n\tKhon Kaen : \nPM2.5               11702\nWindDir                 2\nWind Speed(km/h)        2\nTemp(C)                 2\ndtype: int64\n\tSongkhla : \nPM2.5               1811\nWindDir               16\nWind Speed(km/h)      16\nTemp(C)                2\ndtype: int64\n------------------------------\nTest\n\tBangkok : \nPM2.5(µg/m3)        0\nWindDir             2\nWind Speed(km/h)    2\nTemp(C)             2\ndtype: int64\n\tChanthaburi : \nPM2.5(µg/m3)        0\nWindDir             2\nWind Speed(km/h)    2\nTemp(C)             2\ndtype: int64\n\tChiang Mai : \nPM2.5(µg/m3)        0\nWindDir             2\nWind Speed(km/h)    2\nTemp(C)             2\ndtype: int64\n\tKanchanaburi : \nPM2.5(µg/m3)        0\nWindDir             2\nWind Speed(km/h)    2\nTemp(C)             2\ndtype: int64\n\tKhon Kaen : \nPM2.5(µg/m3)        0\nWindDir             2\nWind Speed(km/h)    2\nTemp(C)             2\ndtype: int64\n\tSongkhla : \nPM2.5(µg/m3)        0\nWindDir             4\nWind Speed(km/h)    4\nTemp(C)             2\ndtype: int64\n------------------------------\n"
     ]
    }
   ],
   "source": [
    "for subset in ['Train','Test']:\n",
    "    print(subset)\n",
    "    for p in provinces:\n",
    "        print(f\"\\t{p} : \\n{data[subset][p].isnull().sum()}\")\n",
    "    print(\"-\"*30)"
   ]
  },
  {
   "source": [
    "# ===========================================================\n",
    "# Nan = zero\n",
    "ตอนหลังเขาแก้กลับอีกแล้ว ก็ไม่ต้องรันส่วนนี้ <br>\n",
    "เปลี่ยนอีกและ 555"
   ],
   "cell_type": "markdown",
   "metadata": {}
  },
  {
   "cell_type": "code",
   "execution_count": 4,
   "metadata": {},
   "outputs": [
    {
     "output_type": "error",
     "ename": "Exception",
     "evalue": "Skip this block",
     "traceback": [
      "\u001b[1;31m---------------------------------------------------------------------------\u001b[0m",
      "\u001b[1;31mException\u001b[0m                                 Traceback (most recent call last)",
      "\u001b[1;32m<ipython-input-4-41aa2c341629>\u001b[0m in \u001b[0;36m<module>\u001b[1;34m\u001b[0m\n\u001b[1;32m----> 1\u001b[1;33m \u001b[1;32mraise\u001b[0m \u001b[0mException\u001b[0m\u001b[1;33m(\u001b[0m\u001b[1;34m\"Skip this block\"\u001b[0m\u001b[1;33m)\u001b[0m\u001b[1;33m\u001b[0m\u001b[1;33m\u001b[0m\u001b[0m\n\u001b[0m\u001b[0;32m      2\u001b[0m \u001b[1;33m\u001b[0m\u001b[0m\n\u001b[0;32m      3\u001b[0m \u001b[1;32mfor\u001b[0m \u001b[0msubset\u001b[0m \u001b[1;32min\u001b[0m \u001b[1;33m[\u001b[0m\u001b[1;34m'Train'\u001b[0m\u001b[1;33m,\u001b[0m\u001b[1;34m'Test'\u001b[0m\u001b[1;33m]\u001b[0m\u001b[1;33m:\u001b[0m\u001b[1;33m\u001b[0m\u001b[1;33m\u001b[0m\u001b[0m\n\u001b[0;32m      4\u001b[0m     \u001b[1;32mfor\u001b[0m \u001b[0mp\u001b[0m \u001b[1;32min\u001b[0m \u001b[0mprovinces\u001b[0m\u001b[1;33m:\u001b[0m\u001b[1;33m\u001b[0m\u001b[1;33m\u001b[0m\u001b[0m\n\u001b[0;32m      5\u001b[0m         \u001b[0mdata\u001b[0m\u001b[1;33m[\u001b[0m\u001b[0msubset\u001b[0m\u001b[1;33m]\u001b[0m\u001b[1;33m[\u001b[0m\u001b[0mp\u001b[0m\u001b[1;33m]\u001b[0m\u001b[1;33m.\u001b[0m\u001b[0mfillna\u001b[0m\u001b[1;33m(\u001b[0m\u001b[0mvalue\u001b[0m\u001b[1;33m=\u001b[0m\u001b[1;36m0.0\u001b[0m\u001b[1;33m,\u001b[0m \u001b[0minplace\u001b[0m\u001b[1;33m=\u001b[0m\u001b[1;32mTrue\u001b[0m\u001b[1;33m)\u001b[0m\u001b[1;33m\u001b[0m\u001b[1;33m\u001b[0m\u001b[0m\n",
      "\u001b[1;31mException\u001b[0m: Skip this block"
     ]
    }
   ],
   "source": [
    "raise Exception(\"Skip this block\")\n",
    "\n",
    "for subset in ['Train','Test']:\n",
    "    for p in provinces:\n",
    "        data[subset][p].fillna(value=0.0, inplace=True)\n",
    "        path = f\"./data/{subset}/imputed_byzero/{p}_0imputed.csv\"\n",
    "        if not os.path.exists(path):\n",
    "            data[subset][p].to_csv(path)\n",
    "        else: print(path)"
   ]
  },
  {
   "source": [
    "# ==========================================================="
   ],
   "cell_type": "markdown",
   "metadata": {}
  },
  {
   "cell_type": "code",
   "execution_count": 5,
   "metadata": {},
   "outputs": [
    {
     "output_type": "stream",
     "name": "stdout",
     "text": [
      "Train : Bangkok : day_impute->week_impute -> remains 24\n",
      "Train : Chanthaburi : day_impute->week_impute -> remains 24\n",
      "Train : Chiang Mai : day_impute->week_impute -> remains 24\n",
      "Train : Kanchanaburi : day_impute->week_impute -> remains 24\n",
      "Train : Khon Kaen : day_impute->week_impute -> remains 5664\n",
      "Train : Songkhla : day_impute->week_impute -> remains 0\n"
     ]
    }
   ],
   "source": [
    "# Rename PM2.5 in Test set\n",
    "for p in provinces:\n",
    "    data['Test'][p].rename(columns={\"PM2.5(µg/m3)\":\"PM2.5\"}, inplace=True)\n",
    "\n",
    "# Datetime that PM2.5 is missing\n",
    "data_week_imputed = {\"Train\":{}}\n",
    "for subset in ['Train','Test']:   # Since Test has no null-values\n",
    "    for p in provinces:\n",
    "        if subset == 'Test':\n",
    "            data[subset][p] = data[subset][p].ffill().bfill()\n",
    "            continue\n",
    "        \n",
    "        a = get_date_pm_missing(data[subset][p])\n",
    "        day_imputed = impute_Avg_by(data[subset][p], 'day', a)\n",
    "\n",
    "        a = get_date_pm_missing(day_imputed)\n",
    "        week_imputed = impute_Avg_by(day_imputed, 'week', a)\n",
    "\n",
    "        data_week_imputed[subset][p] = week_imputed\n",
    "\n",
    "        print(f\"{subset} : {p} : day_impute->week_impute -> remains {week_imputed['PM2.5'].isnull().sum()}\")"
   ]
  },
  {
   "cell_type": "code",
   "execution_count": 6,
   "metadata": {},
   "outputs": [],
   "source": [
    "# All provinces except Khon Kaen -> ffill\n",
    "data_train_not_null = {}\n",
    "for p in provinces:\n",
    "    if p == 'Khon Kaen' : \n",
    "        # Deal with Khon Kaen separately later\n",
    "        data_train_not_null[p] = data[\"Train\"][p]\n",
    "        continue\n",
    "    data_train_not_null[p] = data_week_imputed[\"Train\"][p].ffill().bfill()\n",
    "\n",
    "# Assign back to data\n",
    "data['Train'] = data_train_not_null"
   ]
  },
  {
   "cell_type": "code",
   "execution_count": 7,
   "metadata": {},
   "outputs": [
    {
     "output_type": "stream",
     "name": "stdout",
     "text": [
      "Missing after day imputed :  480\nMissing after week imputed :  0\n"
     ]
    }
   ],
   "source": [
    "# After investigating Khon Kaen data, we'll keep only data after 2017, Nov.\n",
    "khon_kaen = data['Train']['Khon Kaen'].loc[\"2017, 11\":]\n",
    "\n",
    "a = get_date_pm_missing(khon_kaen)\n",
    "day_imputed = impute_Avg_by(khon_kaen, 'day', a)\n",
    "print(\"Missing after day imputed : \", day_imputed.isnull().sum()[0])\n",
    "\n",
    "a = get_date_pm_missing(day_imputed)\n",
    "week_imputed = impute_Avg_by(day_imputed, 'week', a)\n",
    "print(\"Missing after week imputed : \", week_imputed.isnull().sum()[0])\n",
    "\n",
    "data_week_imputed[\"Train\"][\"Khon Kaen\"] = week_imputed"
   ]
  },
  {
   "cell_type": "code",
   "execution_count": 8,
   "metadata": {},
   "outputs": [],
   "source": [
    "data['Train']['Khon Kaen'] = data_week_imputed[\"Train\"][\"Khon Kaen\"]"
   ]
  },
  {
   "cell_type": "code",
   "execution_count": 9,
   "metadata": {},
   "outputs": [
    {
     "output_type": "stream",
     "name": "stdout",
     "text": [
      "Train\nBangkok\nPM2.5               0\nWindDir             0\nWind Speed(km/h)    0\nTemp(C)             0\ndtype: int64\nChanthaburi\nPM2.5               0\nWindDir             0\nWind Speed(km/h)    0\nTemp(C)             0\ndtype: int64\nChiang Mai\nPM2.5               0\nWindDir             0\nWind Speed(km/h)    0\nTemp(C)             0\ndtype: int64\nKanchanaburi\nPM2.5               0\nWindDir             0\nWind Speed(km/h)    0\nTemp(C)             0\ndtype: int64\nKhon Kaen\nPM2.5               0\nWindDir             0\nWind Speed(km/h)    0\nTemp(C)             0\ndtype: int64\nSongkhla\nPM2.5               0\nWindDir             0\nWind Speed(km/h)    0\nTemp(C)             0\ndtype: int64\nTest\nBangkok\nPM2.5               0\nWindDir             0\nWind Speed(km/h)    0\nTemp(C)             0\ndtype: int64\nChanthaburi\nPM2.5               0\nWindDir             0\nWind Speed(km/h)    0\nTemp(C)             0\ndtype: int64\nChiang Mai\nPM2.5               0\nWindDir             0\nWind Speed(km/h)    0\nTemp(C)             0\ndtype: int64\nKanchanaburi\nPM2.5               0\nWindDir             0\nWind Speed(km/h)    0\nTemp(C)             0\ndtype: int64\nKhon Kaen\nPM2.5               0\nWindDir             0\nWind Speed(km/h)    0\nTemp(C)             0\ndtype: int64\nSongkhla\nPM2.5               0\nWindDir             0\nWind Speed(km/h)    0\nTemp(C)             0\ndtype: int64\n"
     ]
    }
   ],
   "source": [
    "# Last re-check\n",
    "for subset in ['Train','Test']:\n",
    "    print(subset)\n",
    "    for p in provinces:\n",
    "        print(p)\n",
    "        print(f\"{data[subset][p].isnull().sum()}\")"
   ]
  },
  {
   "cell_type": "code",
   "execution_count": 10,
   "metadata": {},
   "outputs": [],
   "source": [
    "# Ok forget to ffill the Khon Kaen\n",
    "data['Train']['Khon Kaen'].ffill(inplace=True)"
   ]
  },
  {
   "cell_type": "code",
   "execution_count": 11,
   "metadata": {},
   "outputs": [
    {
     "output_type": "stream",
     "name": "stdout",
     "text": [
      "./data/Train/imputed/Bangkok_imputed.csv\n./data/Train/imputed/Chanthaburi_imputed.csv\n./data/Train/imputed/Chiang Mai_imputed.csv\n./data/Train/imputed/Kanchanaburi_imputed.csv\n./data/Train/imputed/Khon Kaen_imputed.csv\n./data/Train/imputed/Songkhla_imputed.csv\n./data/Test/imputed/Bangkok_imputed.csv\n./data/Test/imputed/Chanthaburi_imputed.csv\n./data/Test/imputed/Chiang Mai_imputed.csv\n./data/Test/imputed/Kanchanaburi_imputed.csv\n./data/Test/imputed/Khon Kaen_imputed.csv\n./data/Test/imputed/Songkhla_imputed.csv\n"
     ]
    }
   ],
   "source": [
    "for subset in ['Train', 'Test']:\n",
    "    for p in provinces:\n",
    "        path = f\"./data/{subset}/imputed/{p}_imputed.csv\"\n",
    "        if not os.path.exists(path):\n",
    "            data[subset][p].to_csv(path)\n",
    "        else: print(path)"
   ]
  },
  {
   "source": [
    "# xxxxxxxxxxxxxxxxxxxxxxxxxxxxxxxxxxxxxxxxxxxxxxxxxxxxxxxxxxx"
   ],
   "cell_type": "markdown",
   "metadata": {}
  },
  {
   "cell_type": "code",
   "execution_count": 12,
   "metadata": {},
   "outputs": [
    {
     "output_type": "error",
     "ename": "Exception",
     "evalue": "Don't run below, it's deprecated",
     "traceback": [
      "\u001b[1;31m---------------------------------------------------------------------------\u001b[0m",
      "\u001b[1;31mException\u001b[0m                                 Traceback (most recent call last)",
      "\u001b[1;32m<ipython-input-12-1bfc1e8ec871>\u001b[0m in \u001b[0;36m<module>\u001b[1;34m\u001b[0m\n\u001b[1;32m----> 1\u001b[1;33m \u001b[1;32mraise\u001b[0m \u001b[0mException\u001b[0m\u001b[1;33m(\u001b[0m\u001b[1;34m\"Don't run below, it's deprecated\"\u001b[0m\u001b[1;33m)\u001b[0m\u001b[1;33m\u001b[0m\u001b[1;33m\u001b[0m\u001b[0m\n\u001b[0m",
      "\u001b[1;31mException\u001b[0m: Don't run below, it's deprecated"
     ]
    }
   ],
   "source": [
    "raise Exception(\"Don't run below, it's deprecated. You can run next notebook\")"
   ]
  },
  {
   "cell_type": "code",
   "execution_count": 6,
   "metadata": {},
   "outputs": [
    {
     "output_type": "stream",
     "name": "stdout",
     "text": [
      "Bangkok has 0 missing values\nChanthaburi has 0 missing values\nChiang Mai has 0 missing values\nKanchanaburi has 0 missing values\nKhon Kaen has 0 missing values\nSongkhla has 0 missing values\n"
     ]
    }
   ],
   "source": [
    "def check_missing(data):\n",
    "    missing = dict()\n",
    "    for province in provinces:\n",
    "        null_idx = data[province]['PM2.5'].isnull()\n",
    "        missing[province] = data[province].loc[null_idx].index\n",
    "\n",
    "        print(f'{province} has {len(missing[province])} missing values')\n",
    "    return missing\n",
    "\n",
    "missing = check_missing(data)"
   ]
  },
  {
   "cell_type": "code",
   "execution_count": 6,
   "metadata": {
    "tags": []
   },
   "outputs": [],
   "source": [
    "def impute_DayAvg(data, method):\n",
    "    for province in provinces:\n",
    "\n",
    "        if method == 'day':\n",
    "            avg = data[province]['PM2.5'].resample('D').mean()\n",
    "            \n",
    "            for e in missing[province]:\n",
    "                day = e.strftime(\"%Y-%m-%d\")\n",
    "                data[province].at[e,'PM2.5'] = avg.loc[day]\n",
    "\n",
    "        elif method == 'week':\n",
    "            avg = data[province]['PM2.5'].resample('W').mean()\n",
    "            avg.index = avg.index.strftime('%Y-%U')\n",
    "\n",
    "            for e in missing[province]:\n",
    "                yr_week = e.strftime(\"%Y-%U\")\n",
    "                data[province].at[e,'PM2.5'] = avg.loc[yr_week]\n",
    "    return data"
   ]
  },
  {
   "source": [
    "## Fill with Avg. in that day"
   ],
   "cell_type": "markdown",
   "metadata": {}
  },
  {
   "cell_type": "code",
   "execution_count": 7,
   "metadata": {},
   "outputs": [
    {
     "output_type": "stream",
     "name": "stdout",
     "text": [
      "Bangkok has 960 missing values\nChanthaburi has 960 missing values\nChiang Mai has 960 missing values\nKanchanaburi has 960 missing values\nKhon Kaen has 7656 missing values\nSongkhla has 528 missing values\n"
     ]
    }
   ],
   "source": [
    "data = impute_DayAvg(data, method='day')\n",
    "missing = check_missing(data)"
   ]
  },
  {
   "source": [
    "## Fill with Avg. in that week"
   ],
   "cell_type": "markdown",
   "metadata": {}
  },
  {
   "cell_type": "code",
   "execution_count": 8,
   "metadata": {},
   "outputs": [
    {
     "output_type": "stream",
     "name": "stdout",
     "text": [
      "Bangkok has 24 missing values\nChanthaburi has 24 missing values\nChiang Mai has 24 missing values\nKanchanaburi has 24 missing values\nKhon Kaen has 5664 missing values\nSongkhla has 0 missing values\n"
     ]
    }
   ],
   "source": [
    "data = impute_DayAvg(data, method='week')\n",
    "missing = check_missing(data)"
   ]
  },
  {
   "source": [
    "## Forward fill"
   ],
   "cell_type": "markdown",
   "metadata": {}
  },
  {
   "cell_type": "code",
   "execution_count": 9,
   "metadata": {},
   "outputs": [],
   "source": [
    "for province in provinces:\n",
    "    if province == \"Khon Kaen\": continue\n",
    "    data[province]['PM2.5'].fillna(method='ffill', inplace=True)"
   ]
  },
  {
   "cell_type": "code",
   "execution_count": 10,
   "metadata": {},
   "outputs": [
    {
     "output_type": "stream",
     "name": "stdout",
     "text": [
      "Bangkok has 0 missing values\nChanthaburi has 0 missing values\nChiang Mai has 0 missing values\nKanchanaburi has 0 missing values\nKhon Kaen has 5664 missing values\nSongkhla has 0 missing values\n"
     ]
    }
   ],
   "source": [
    "missing = check_missing(data)"
   ]
  },
  {
   "cell_type": "code",
   "execution_count": 11,
   "metadata": {},
   "outputs": [
    {
     "output_type": "execute_result",
     "data": {
      "text/plain": [
       "                     PM2.5  Temp(C)  WindDir  Wind Speed(km/h)\n",
       "2019-03-17 19:00:00   42.2     31.3     70.0              17.0\n",
       "2019-03-17 20:00:00   41.2     31.3     70.0              17.0\n",
       "2019-03-17 21:00:00   37.7     31.3     70.0              17.0\n",
       "2019-03-17 22:00:00   39.0     30.2     85.0              19.0\n",
       "2019-03-17 23:00:00   38.9      NaN      NaN               NaN"
      ],
      "text/html": "<div>\n<style scoped>\n    .dataframe tbody tr th:only-of-type {\n        vertical-align: middle;\n    }\n\n    .dataframe tbody tr th {\n        vertical-align: top;\n    }\n\n    .dataframe thead th {\n        text-align: right;\n    }\n</style>\n<table border=\"1\" class=\"dataframe\">\n  <thead>\n    <tr style=\"text-align: right;\">\n      <th></th>\n      <th>PM2.5</th>\n      <th>Temp(C)</th>\n      <th>WindDir</th>\n      <th>Wind Speed(km/h)</th>\n    </tr>\n  </thead>\n  <tbody>\n    <tr>\n      <th>2019-03-17 19:00:00</th>\n      <td>42.2</td>\n      <td>31.3</td>\n      <td>70.0</td>\n      <td>17.0</td>\n    </tr>\n    <tr>\n      <th>2019-03-17 20:00:00</th>\n      <td>41.2</td>\n      <td>31.3</td>\n      <td>70.0</td>\n      <td>17.0</td>\n    </tr>\n    <tr>\n      <th>2019-03-17 21:00:00</th>\n      <td>37.7</td>\n      <td>31.3</td>\n      <td>70.0</td>\n      <td>17.0</td>\n    </tr>\n    <tr>\n      <th>2019-03-17 22:00:00</th>\n      <td>39.0</td>\n      <td>30.2</td>\n      <td>85.0</td>\n      <td>19.0</td>\n    </tr>\n    <tr>\n      <th>2019-03-17 23:00:00</th>\n      <td>38.9</td>\n      <td>NaN</td>\n      <td>NaN</td>\n      <td>NaN</td>\n    </tr>\n  </tbody>\n</table>\n</div>"
     },
     "metadata": {},
     "execution_count": 11
    }
   ],
   "source": [
    "data['Bangkok'].tail()"
   ]
  },
  {
   "source": [
    "---"
   ],
   "cell_type": "markdown",
   "metadata": {}
  },
  {
   "source": [
    "## save the imputed files"
   ],
   "cell_type": "markdown",
   "metadata": {}
  },
  {
   "cell_type": "code",
   "execution_count": 7,
   "metadata": {},
   "outputs": [
    {
     "output_type": "stream",
     "name": "stdout",
     "text": [
      "subset : Test\n"
     ]
    }
   ],
   "source": [
    "print(f'subset : {subset}')\n",
    "for province in provinces:\n",
    "    if province == \"Khon Kaen\": continue\n",
    "    data[province].fillna(method='ffill').to_csv(f'.\\data\\{subset}\\{province}_imputed.csv')\n"
   ]
  },
  {
   "source": [
    "# Null value in others"
   ],
   "cell_type": "markdown",
   "metadata": {}
  },
  {
   "cell_type": "code",
   "execution_count": 12,
   "metadata": {},
   "outputs": [
    {
     "output_type": "stream",
     "name": "stdout",
     "text": [
      "Bangkok\n PM2.5               0\nTemp(C)             1\nWindDir             1\nWind Speed(km/h)    1\ndtype: int64\nChanthaburi\n PM2.5               0\nTemp(C)             1\nWindDir             1\nWind Speed(km/h)    1\ndtype: int64\nChiang Mai\n PM2.5               0\nTemp(C)             1\nWindDir             1\nWind Speed(km/h)    1\ndtype: int64\nKanchanaburi\n PM2.5               0\nTemp(C)             1\nWindDir             1\nWind Speed(km/h)    1\ndtype: int64\nKhon Kaen\n PM2.5               5664\nTemp(C)                1\nWindDir                1\nWind Speed(km/h)       1\ndtype: int64\nSongkhla\n PM2.5               0\nTemp(C)             1\nWindDir             1\nWind Speed(km/h)    1\ndtype: int64\n"
     ]
    }
   ],
   "source": [
    "for province in provinces:\n",
    "    print(f\"{province}\\n\", data[province].isnull().sum())"
   ]
  },
  {
   "cell_type": "code",
   "execution_count": null,
   "metadata": {},
   "outputs": [],
   "source": []
  }
 ]
}