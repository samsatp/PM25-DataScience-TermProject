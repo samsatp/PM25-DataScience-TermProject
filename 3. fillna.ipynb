{
 "metadata": {
  "language_info": {
   "codemirror_mode": {
    "name": "ipython",
    "version": 3
   },
   "file_extension": ".py",
   "mimetype": "text/x-python",
   "name": "python",
   "nbconvert_exporter": "python",
   "pygments_lexer": "ipython3",
   "version": "3.9.1-final"
  },
  "orig_nbformat": 2,
  "kernelspec": {
   "name": "python391jvsc74a57bd031605234de10b43ea767264d17dfb0196cf2b9da7012776efe0be49341337db4",
   "display_name": "Python 3.9.1 64-bit ('jupyterlab2.26': conda)"
  },
  "metadata": {
   "interpreter": {
    "hash": "a9c2c22397b07014c1cd4f0e704763f14b6d6b76ade59c4da849259a43dd80ef"
   }
  }
 },
 "nbformat": 4,
 "nbformat_minor": 2,
 "cells": [
  {
   "cell_type": "code",
   "execution_count": 4,
   "metadata": {},
   "outputs": [],
   "source": [
    "import pandas as pd\n",
    "import os\n",
    "\n",
    "# IMPORT ALL .CSV\n",
    "provinces = ['Bangkok','Chanthaburi','Chiang Mai','Kanchanaburi','Khon Kaen','Songkhla']\n",
    "data = dict()\n",
    "subset = 'Test'\n",
    "\n",
    "for province in provinces:\n",
    "    data[province] = pd.read_csv(f'full-data/{subset}/{province}_full.csv', \n",
    "                        index_col=0, parse_dates=True)"
   ]
  },
  {
   "cell_type": "code",
   "execution_count": 5,
   "metadata": {},
   "outputs": [
    {
     "output_type": "execute_result",
     "data": {
      "text/plain": [
       "                     PM2.5  Temp(C)  WindDir  Wind Speed(km/h)\n",
       "2020-03-18 16:00:00   23.9     33.0    210.0               7.0\n",
       "2020-03-18 17:00:00   24.4     33.0    210.0               7.0\n",
       "2020-03-18 18:00:00   24.9     33.0    210.0               7.0\n",
       "2020-03-18 19:00:00   27.0     30.4    260.0               6.0\n",
       "2020-03-18 20:00:00   26.1     30.4    260.0               6.0"
      ],
      "text/html": "<div>\n<style scoped>\n    .dataframe tbody tr th:only-of-type {\n        vertical-align: middle;\n    }\n\n    .dataframe tbody tr th {\n        vertical-align: top;\n    }\n\n    .dataframe thead th {\n        text-align: right;\n    }\n</style>\n<table border=\"1\" class=\"dataframe\">\n  <thead>\n    <tr style=\"text-align: right;\">\n      <th></th>\n      <th>PM2.5</th>\n      <th>Temp(C)</th>\n      <th>WindDir</th>\n      <th>Wind Speed(km/h)</th>\n    </tr>\n  </thead>\n  <tbody>\n    <tr>\n      <th>2020-03-18 16:00:00</th>\n      <td>23.9</td>\n      <td>33.0</td>\n      <td>210.0</td>\n      <td>7.0</td>\n    </tr>\n    <tr>\n      <th>2020-03-18 17:00:00</th>\n      <td>24.4</td>\n      <td>33.0</td>\n      <td>210.0</td>\n      <td>7.0</td>\n    </tr>\n    <tr>\n      <th>2020-03-18 18:00:00</th>\n      <td>24.9</td>\n      <td>33.0</td>\n      <td>210.0</td>\n      <td>7.0</td>\n    </tr>\n    <tr>\n      <th>2020-03-18 19:00:00</th>\n      <td>27.0</td>\n      <td>30.4</td>\n      <td>260.0</td>\n      <td>6.0</td>\n    </tr>\n    <tr>\n      <th>2020-03-18 20:00:00</th>\n      <td>26.1</td>\n      <td>30.4</td>\n      <td>260.0</td>\n      <td>6.0</td>\n    </tr>\n  </tbody>\n</table>\n</div>"
     },
     "metadata": {},
     "execution_count": 5
    }
   ],
   "source": [
    "data['Bangkok'].tail()"
   ]
  },
  {
   "cell_type": "code",
   "execution_count": 6,
   "metadata": {},
   "outputs": [
    {
     "output_type": "stream",
     "name": "stdout",
     "text": [
      "Bangkok has 0 missing values\nChanthaburi has 0 missing values\nChiang Mai has 0 missing values\nKanchanaburi has 0 missing values\nKhon Kaen has 0 missing values\nSongkhla has 0 missing values\n"
     ]
    }
   ],
   "source": [
    "def check_missing(data):\n",
    "    missing = dict()\n",
    "    for province in provinces:\n",
    "        null_idx = data[province]['PM2.5'].isnull()\n",
    "        missing[province] = data[province].loc[null_idx].index\n",
    "\n",
    "        print(f'{province} has {len(missing[province])} missing values')\n",
    "    return missing\n",
    "\n",
    "missing = check_missing(data)"
   ]
  },
  {
   "cell_type": "code",
   "execution_count": 6,
   "metadata": {
    "tags": []
   },
   "outputs": [],
   "source": [
    "def impute_DayAvg(data, method):\n",
    "    for province in provinces:\n",
    "\n",
    "        if method == 'day':\n",
    "            avg = data[province]['PM2.5'].resample('D').mean()\n",
    "            \n",
    "            for e in missing[province]:\n",
    "                day = e.strftime(\"%Y-%m-%d\")\n",
    "                data[province].at[e,'PM2.5'] = avg.loc[day]\n",
    "\n",
    "        elif method == 'week':\n",
    "            avg = data[province]['PM2.5'].resample('W').mean()\n",
    "            avg.index = avg.index.strftime('%Y-%U')\n",
    "\n",
    "            for e in missing[province]:\n",
    "                yr_week = e.strftime(\"%Y-%U\")\n",
    "                data[province].at[e,'PM2.5'] = avg.loc[yr_week]\n",
    "    return data"
   ]
  },
  {
   "source": [
    "## Fill with Avg. in that day"
   ],
   "cell_type": "markdown",
   "metadata": {}
  },
  {
   "cell_type": "code",
   "execution_count": 7,
   "metadata": {},
   "outputs": [
    {
     "output_type": "stream",
     "name": "stdout",
     "text": [
      "Bangkok has 960 missing values\nChanthaburi has 960 missing values\nChiang Mai has 960 missing values\nKanchanaburi has 960 missing values\nKhon Kaen has 7656 missing values\nSongkhla has 528 missing values\n"
     ]
    }
   ],
   "source": [
    "data = impute_DayAvg(data, method='day')\n",
    "missing = check_missing(data)"
   ]
  },
  {
   "source": [
    "## Fill with Avg. in that week"
   ],
   "cell_type": "markdown",
   "metadata": {}
  },
  {
   "cell_type": "code",
   "execution_count": 8,
   "metadata": {},
   "outputs": [
    {
     "output_type": "stream",
     "name": "stdout",
     "text": [
      "Bangkok has 24 missing values\nChanthaburi has 24 missing values\nChiang Mai has 24 missing values\nKanchanaburi has 24 missing values\nKhon Kaen has 5664 missing values\nSongkhla has 0 missing values\n"
     ]
    }
   ],
   "source": [
    "data = impute_DayAvg(data, method='week')\n",
    "missing = check_missing(data)"
   ]
  },
  {
   "source": [
    "## Forward fill"
   ],
   "cell_type": "markdown",
   "metadata": {}
  },
  {
   "cell_type": "code",
   "execution_count": 9,
   "metadata": {},
   "outputs": [],
   "source": [
    "for province in provinces:\n",
    "    if province == \"Khon Kaen\": continue\n",
    "    data[province]['PM2.5'].fillna(method='ffill', inplace=True)"
   ]
  },
  {
   "cell_type": "code",
   "execution_count": 10,
   "metadata": {},
   "outputs": [
    {
     "output_type": "stream",
     "name": "stdout",
     "text": [
      "Bangkok has 0 missing values\nChanthaburi has 0 missing values\nChiang Mai has 0 missing values\nKanchanaburi has 0 missing values\nKhon Kaen has 5664 missing values\nSongkhla has 0 missing values\n"
     ]
    }
   ],
   "source": [
    "missing = check_missing(data)"
   ]
  },
  {
   "cell_type": "code",
   "execution_count": 11,
   "metadata": {},
   "outputs": [
    {
     "output_type": "execute_result",
     "data": {
      "text/plain": [
       "                     PM2.5  Temp(C)  WindDir  Wind Speed(km/h)\n",
       "2019-03-17 19:00:00   42.2     31.3     70.0              17.0\n",
       "2019-03-17 20:00:00   41.2     31.3     70.0              17.0\n",
       "2019-03-17 21:00:00   37.7     31.3     70.0              17.0\n",
       "2019-03-17 22:00:00   39.0     30.2     85.0              19.0\n",
       "2019-03-17 23:00:00   38.9      NaN      NaN               NaN"
      ],
      "text/html": "<div>\n<style scoped>\n    .dataframe tbody tr th:only-of-type {\n        vertical-align: middle;\n    }\n\n    .dataframe tbody tr th {\n        vertical-align: top;\n    }\n\n    .dataframe thead th {\n        text-align: right;\n    }\n</style>\n<table border=\"1\" class=\"dataframe\">\n  <thead>\n    <tr style=\"text-align: right;\">\n      <th></th>\n      <th>PM2.5</th>\n      <th>Temp(C)</th>\n      <th>WindDir</th>\n      <th>Wind Speed(km/h)</th>\n    </tr>\n  </thead>\n  <tbody>\n    <tr>\n      <th>2019-03-17 19:00:00</th>\n      <td>42.2</td>\n      <td>31.3</td>\n      <td>70.0</td>\n      <td>17.0</td>\n    </tr>\n    <tr>\n      <th>2019-03-17 20:00:00</th>\n      <td>41.2</td>\n      <td>31.3</td>\n      <td>70.0</td>\n      <td>17.0</td>\n    </tr>\n    <tr>\n      <th>2019-03-17 21:00:00</th>\n      <td>37.7</td>\n      <td>31.3</td>\n      <td>70.0</td>\n      <td>17.0</td>\n    </tr>\n    <tr>\n      <th>2019-03-17 22:00:00</th>\n      <td>39.0</td>\n      <td>30.2</td>\n      <td>85.0</td>\n      <td>19.0</td>\n    </tr>\n    <tr>\n      <th>2019-03-17 23:00:00</th>\n      <td>38.9</td>\n      <td>NaN</td>\n      <td>NaN</td>\n      <td>NaN</td>\n    </tr>\n  </tbody>\n</table>\n</div>"
     },
     "metadata": {},
     "execution_count": 11
    }
   ],
   "source": [
    "data['Bangkok'].tail()"
   ]
  },
  {
   "source": [
    "---"
   ],
   "cell_type": "markdown",
   "metadata": {}
  },
  {
   "source": [
    "## save the imputed files"
   ],
   "cell_type": "markdown",
   "metadata": {}
  },
  {
   "cell_type": "code",
   "execution_count": 7,
   "metadata": {},
   "outputs": [
    {
     "output_type": "stream",
     "name": "stdout",
     "text": [
      "subset : Test\n"
     ]
    }
   ],
   "source": [
    "print(f'subset : {subset}')\n",
    "for province in provinces:\n",
    "    if province == \"Khon Kaen\": continue\n",
    "    data[province].fillna(method='ffill').to_csv(f'.\\data\\{subset}\\{province}_imputed.csv')\n"
   ]
  },
  {
   "source": [
    "# Null value in others"
   ],
   "cell_type": "markdown",
   "metadata": {}
  },
  {
   "cell_type": "code",
   "execution_count": 12,
   "metadata": {},
   "outputs": [
    {
     "output_type": "stream",
     "name": "stdout",
     "text": [
      "Bangkok\n PM2.5               0\nTemp(C)             1\nWindDir             1\nWind Speed(km/h)    1\ndtype: int64\nChanthaburi\n PM2.5               0\nTemp(C)             1\nWindDir             1\nWind Speed(km/h)    1\ndtype: int64\nChiang Mai\n PM2.5               0\nTemp(C)             1\nWindDir             1\nWind Speed(km/h)    1\ndtype: int64\nKanchanaburi\n PM2.5               0\nTemp(C)             1\nWindDir             1\nWind Speed(km/h)    1\ndtype: int64\nKhon Kaen\n PM2.5               5664\nTemp(C)                1\nWindDir                1\nWind Speed(km/h)       1\ndtype: int64\nSongkhla\n PM2.5               0\nTemp(C)             1\nWindDir             1\nWind Speed(km/h)    1\ndtype: int64\n"
     ]
    }
   ],
   "source": [
    "for province in provinces:\n",
    "    print(f\"{province}\\n\", data[province].isnull().sum())"
   ]
  },
  {
   "cell_type": "code",
   "execution_count": null,
   "metadata": {},
   "outputs": [],
   "source": []
  }
 ]
}