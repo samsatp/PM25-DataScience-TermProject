{
 "metadata": {
  "language_info": {
   "codemirror_mode": {
    "name": "ipython",
    "version": 3
   },
   "file_extension": ".py",
   "mimetype": "text/x-python",
   "name": "python",
   "nbconvert_exporter": "python",
   "pygments_lexer": "ipython3",
   "version": "3.9.1-final"
  },
  "orig_nbformat": 2,
  "kernelspec": {
   "name": "python391jvsc74a57bd031605234de10b43ea767264d17dfb0196cf2b9da7012776efe0be49341337db4",
   "display_name": "Python 3.9.1 64-bit ('jupyterlab2.26': conda)"
  },
  "metadata": {
   "interpreter": {
    "hash": "a9c2c22397b07014c1cd4f0e704763f14b6d6b76ade59c4da849259a43dd80ef"
   }
  }
 },
 "nbformat": 4,
 "nbformat_minor": 2,
 "cells": [
  {
   "cell_type": "code",
   "execution_count": 12,
   "metadata": {},
   "outputs": [],
   "source": [
    "import pandas as pd\n",
    "import os\n",
    "\n",
    "# IMPORT ALL .CSV\n",
    "provinces = ['Bangkok','Chanthaburi','Chiang Mai','Kanchanaburi','Khon Kaen','Songkhla']\n",
    "data = dict()\n",
    "subset = 'Test'\n",
    "\n",
    "for province in provinces:\n",
    "    df =  pd.read_csv(f'extracted/{subset}/{province}_full.csv', index_col='Datetime', parse_dates=['Datetime'])\n",
    "    idx = pd.MultiIndex.from_product([[province],['Temp','WindDir','Wind Speed','PM2.5']])\n",
    "    df.columns = idx\n",
    "    data[province] = df\n"
   ]
  },
  {
   "cell_type": "code",
   "execution_count": 13,
   "metadata": {},
   "outputs": [
    {
     "output_type": "stream",
     "name": "stdout",
     "text": [
      "Bangkok has 2 missing values\nChanthaburi has 2 missing values\nChiang Mai has 2 missing values\nKanchanaburi has 2 missing values\nKhon Kaen has 2 missing values\nSongkhla has 2 missing values\n"
     ]
    }
   ],
   "source": [
    "def check_missing():\n",
    "    missing = dict()\n",
    "    for province in provinces:\n",
    "        null_idx = data[province][(province,'PM2.5')].isnull()\n",
    "        missing[province] = data[province].loc[null_idx].index\n",
    "\n",
    "        print(f'{province} has {len(missing[province])} missing values')\n",
    "    return missing\n",
    "\n",
    "missing = check_missing()"
   ]
  },
  {
   "cell_type": "code",
   "execution_count": 14,
   "metadata": {
    "tags": []
   },
   "outputs": [],
   "source": [
    "for province in provinces:\n",
    "\n",
    "    avg_day = data[province][(province,'PM2.5')].resample('D').mean()\n",
    "\n",
    "    for e in missing[province]:\n",
    "        day = e.strftime(\"%Y-%m-%d\")\n",
    "        data[province].at[e,(province,'PM2.5')] = avg_day.loc[day]"
   ]
  },
  {
   "cell_type": "code",
   "execution_count": 15,
   "metadata": {},
   "outputs": [
    {
     "output_type": "stream",
     "name": "stdout",
     "text": [
      "Bangkok has 0 missing values\nChanthaburi has 0 missing values\nChiang Mai has 0 missing values\nKanchanaburi has 0 missing values\nKhon Kaen has 0 missing values\nSongkhla has 0 missing values\n"
     ]
    }
   ],
   "source": [
    "missing = check_missing()"
   ]
  },
  {
   "source": [
    "## Fill with Avg. in that week"
   ],
   "cell_type": "markdown",
   "metadata": {}
  },
  {
   "cell_type": "code",
   "execution_count": 5,
   "metadata": {},
   "outputs": [],
   "source": [
    "for province in provinces:\n",
    "\n",
    "    avg_week = data[province][(province,'PM2.5')].resample('W').mean()\n",
    "    avg_week.index = avg_week.index.strftime('%Y-%U')\n",
    "\n",
    "    for e in missing[province]:\n",
    "        yr_week = e.strftime(\"%Y-%U\")\n",
    "        data[province].at[e,(province,'PM2.5')] = avg_week.loc[yr_week]"
   ]
  },
  {
   "cell_type": "code",
   "execution_count": 6,
   "metadata": {},
   "outputs": [
    {
     "output_type": "stream",
     "name": "stdout",
     "text": [
      "Bangkok has 8 missing values\nChanthaburi has 8 missing values\nChiang Mai has 8 missing values\nKanchanaburi has 8 missing values\nKhon Kaen has 1888 missing values\nSongkhla has 0 missing values\n"
     ]
    }
   ],
   "source": [
    "missing = check_missing()"
   ]
  },
  {
   "source": [
    "## Forward fill"
   ],
   "cell_type": "markdown",
   "metadata": {}
  },
  {
   "cell_type": "code",
   "execution_count": 7,
   "metadata": {},
   "outputs": [],
   "source": [
    "for province in provinces:\n",
    "    data[province][(province,'PM2.5')].fillna(method='ffill', inplace=True)"
   ]
  },
  {
   "cell_type": "code",
   "execution_count": 16,
   "metadata": {},
   "outputs": [
    {
     "output_type": "stream",
     "name": "stdout",
     "text": [
      "Bangkok has 0 missing values\nChanthaburi has 0 missing values\nChiang Mai has 0 missing values\nKanchanaburi has 0 missing values\nKhon Kaen has 0 missing values\nSongkhla has 0 missing values\n"
     ]
    }
   ],
   "source": [
    "missing = check_missing()"
   ]
  },
  {
   "source": [
    "---"
   ],
   "cell_type": "markdown",
   "metadata": {}
  },
  {
   "cell_type": "code",
   "execution_count": 17,
   "metadata": {},
   "outputs": [],
   "source": [
    "for province in provinces:\n",
    "    fin_cleaned = data[province].fillna(method='ffill')\n",
    "    fin_cleaned.to_csv(f'.\\data\\{subset}\\{province}_imputed.csv')"
   ]
  },
  {
   "cell_type": "code",
   "execution_count": 19,
   "metadata": {},
   "outputs": [
    {
     "output_type": "stream",
     "name": "stdout",
     "text": [
      " Volume in drive C is Acer\n Volume Serial Number is 2699-C39F\n\n Directory of c:\\Users\\samsa\\Downloads\\2110446-data-science-and-data-engineering-2021\\DS_kaggle_edited\\data\\Test\n\n17-Apr-21  21:07    <DIR>          .\n17-Apr-21  21:07    <DIR>          ..\n17-Apr-21  21:07           131,753 Bangkok_imputed.csv\n17-Apr-21  21:07           131,713 Chanthaburi_imputed.csv\n17-Apr-21  21:07           132,481 Chiang Mai_imputed.csv\n17-Apr-21  21:07           131,656 Kanchanaburi_imputed.csv\n17-Apr-21  21:07           132,499 Khon Kaen_imputed.csv\n17-Apr-21  21:07           143,698 Songkhla_imputed.csv\n               6 File(s)        803,800 bytes\n               2 Dir(s)  54,891,479,040 bytes free\n"
     ]
    }
   ],
   "source": [
    "!ls .\\data\\Test"
   ]
  },
  {
   "cell_type": "code",
   "execution_count": null,
   "metadata": {},
   "outputs": [],
   "source": []
  }
 ]
}