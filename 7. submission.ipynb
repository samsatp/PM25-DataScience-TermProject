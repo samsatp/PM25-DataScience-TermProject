{
 "metadata": {
  "language_info": {
   "codemirror_mode": {
    "name": "ipython",
    "version": 3
   },
   "file_extension": ".py",
   "mimetype": "text/x-python",
   "name": "python",
   "nbconvert_exporter": "python",
   "pygments_lexer": "ipython3",
   "version": "3.9.1"
  },
  "orig_nbformat": 2,
  "kernelspec": {
   "name": "python391jvsc74a57bd031605234de10b43ea767264d17dfb0196cf2b9da7012776efe0be49341337db4",
   "display_name": "Python 3.9.1 64-bit"
  }
 },
 "nbformat": 4,
 "nbformat_minor": 2,
 "cells": [
  {
   "cell_type": "code",
   "execution_count": 1,
   "metadata": {},
   "outputs": [
    {
     "output_type": "stream",
     "name": "stdout",
     "text": [
      "INFO:tensorflow:Enabling eager execution\n",
      "INFO:tensorflow:Enabling v2 tensorshape\n",
      "INFO:tensorflow:Enabling resource variables\n",
      "INFO:tensorflow:Enabling tensor equality\n",
      "INFO:tensorflow:Enabling control flow v2\n"
     ]
    },
    {
     "output_type": "execute_result",
     "data": {
      "text/plain": [
       "'2.5.0-rc1'"
      ]
     },
     "metadata": {},
     "execution_count": 1
    }
   ],
   "source": [
    "from util_input_output_model import *\n",
    "from collections import defaultdict\n",
    "from datetime import timedelta\n",
    "import tensorflow as tf\n",
    "import numpy as np\n",
    "import pandas as pd\n",
    "import time\n",
    "provinces = ['Bangkok','Chanthaburi','Chiang Mai','Kanchanaburi','Songkhla','Khon Kaen']\n",
    "\n",
    "features = ['PM2.5','WindDir','Wind Speed(km/h)','Temp(C)',\n",
    "            'Cambodia_frp','Myanmar_frp','Thailand_frp','Lao_PDR_frp']\n",
    "tf.__version__"
   ]
  },
  {
   "source": [
    "# 1) Preparing data"
   ],
   "cell_type": "markdown",
   "metadata": {}
  },
  {
   "cell_type": "code",
   "execution_count": 2,
   "metadata": {},
   "outputs": [
    {
     "output_type": "stream",
     "name": "stdout",
     "text": [
      "timesteps = 720\n"
     ]
    }
   ],
   "source": [
    "timesteps = 720\n",
    "print(f'timesteps = {timesteps}')"
   ]
  },
  {
   "cell_type": "code",
   "execution_count": 3,
   "metadata": {},
   "outputs": [],
   "source": [
    "# Takes 5-10 min\n",
    "feature_used = ['PM2.5','WindDir','Wind Speed(km/h)','Temp(C)']\n",
    "Train_data, X_train, Y_train = prepare_train_data(timesteps, feature_used = feature_used)\n",
    "Test_data, X_test, Y_test = prepare_new_test(Train_data, timesteps, feature_used = feature_used)"
   ]
  },
  {
   "source": [
    "# 2) Standardize the data\n"
   ],
   "cell_type": "markdown",
   "metadata": {}
  },
  {
   "cell_type": "code",
   "execution_count": 4,
   "metadata": {},
   "outputs": [],
   "source": [
    "# Scale train set\n",
    "x_train_scalers, y_train_scalers, X_train_scaled, Y_train_scaled = scale_data(X_train, Y_train,Train_data)"
   ]
  },
  {
   "cell_type": "code",
   "execution_count": 18,
   "metadata": {},
   "outputs": [
    {
     "output_type": "stream",
     "name": "stdout",
     "text": [
      "Bangkok\n",
      "Chanthaburi\n",
      "Chiang Mai\n",
      "Kanchanaburi\n",
      "Songkhla\n",
      "Khon Kaen\n"
     ]
    }
   ],
   "source": [
    "# Scale test set\n",
    "X_test_scaled = defaultdict(lambda: [])\n",
    "Y_test_scaled = defaultdict(lambda: [])\n",
    "\n",
    "for p in provinces:\n",
    "    print(p)\n",
    "    for e in X_test[p]:\n",
    "        X_test_scaled[p].append(x_train_scalers[p].transform(e))\n",
    "    for e in Y_test[p]:\n",
    "        Y_test_scaled[p].append(y_train_scalers[p].transform(e))"
   ]
  },
  {
   "source": [
    "# 3) Reshaping"
   ],
   "cell_type": "markdown",
   "metadata": {}
  },
  {
   "cell_type": "code",
   "execution_count": 6,
   "metadata": {},
   "outputs": [
    {
     "output_type": "stream",
     "name": "stdout",
     "text": [
      "Bangkok\n",
      "X Train: (4306, 720, 4)\n",
      "Y Train: (4306, 72)\n",
      "X Test: (1112, 720, 4)\n",
      "Y Test: (1112, 72)\n",
      "\n",
      "Chanthaburi\n",
      "X Train: (4306, 720, 4)\n",
      "Y Train: (4306, 72)\n",
      "X Test: (1112, 720, 4)\n",
      "Y Test: (1112, 72)\n",
      "\n",
      "Chiang Mai\n",
      "X Train: (4306, 720, 4)\n",
      "Y Train: (4306, 72)\n",
      "X Test: (1112, 720, 4)\n",
      "Y Test: (1112, 72)\n",
      "\n",
      "Kanchanaburi\n",
      "X Train: (4306, 720, 4)\n",
      "Y Train: (4306, 72)\n",
      "X Test: (1112, 720, 4)\n",
      "Y Test: (1112, 72)\n",
      "\n",
      "Songkhla\n",
      "X Train: (4306, 720, 4)\n",
      "Y Train: (4306, 72)\n",
      "X Test: (1127, 720, 4)\n",
      "Y Test: (1127, 72)\n",
      "\n",
      "Khon Kaen\n",
      "X Train: (1876, 720, 4)\n",
      "Y Train: (1876, 72)\n",
      "X Test: (1110, 720, 4)\n",
      "Y Test: (1110, 72)\n",
      "\n"
     ]
    }
   ],
   "source": [
    "x_, y_ = {}, {}\n",
    "\n",
    "for p in provinces:\n",
    "    x_[p] = {\"Train\": np.array(X_train_scaled[p]),\n",
    "             \"Test\": np.array(X_test_scaled[p])}\n",
    "    \n",
    "    y_[p] = {\"Train\": np.array(Y_train_scaled[p]).squeeze(axis=2),\n",
    "             \"Test\": np.array(Y_test_scaled[p]).squeeze(axis=2)}\n",
    "\n",
    "    print(p)\n",
    "    print(f'X Train: {x_[p][\"Train\"].shape}')\n",
    "    print(f'Y Train: {y_[p][\"Train\"].shape}')\n",
    "    print(f'X Test: {x_[p][\"Test\"].shape}')\n",
    "    print(f'Y Test: {y_[p][\"Test\"].shape}\\n')"
   ]
  },
  {
   "source": [
    "# 4) Load the model\n",
    "\n",
    "These models below have *720* timesteps as an input, each timestep contains 4 features(PM2.5, Wind direction, Wind Speed, Temp) and give RMSE = **10.56**\n",
    "\n",
    "    - Bangkok : Models\\Bangkok_run_2021_05_07-20_31_15_chckpoint.h5\n",
    "    - Chanthaburi : Models\\Chanthaburi_run_2021_05_08-12_58_02_chckpoint.h5\n",
    "    - Songkhla : Models\\Songkhla_run_2021_05_08-19_56_09_chckpoint.h5\n",
    "    - Kanchanaburi : Models\\Kanchanaburi_run_2021_05_08-15_58_45_chckpoint.h5\n",
    "    - Khon Kaen : Models\\Khon Kaen_run_2021_05_07-23_38_36_chckpoint.h5\n",
    "    - Chiang Mai : Models\\Chiang Mai_run_2021_05_08-07_41_04_chckpoint.h5\n",
    "        \n",
    "These models below have *360* timesteps as an input, each timestep contains all features(PM2.5, Wind direction, Wind Speed, Temp, fire from 4 countries) and give RMSE = **10.96**\n",
    "\n",
    "    - Bangkok : Models\\Bangkok_run_2021_04_30-14_43_39.h5\n",
    "    - Chanthaburi : Models\\Chanthaburi_run_2021_04_26-10_42_58_final_26Apr1155.h5\n",
    "    - Songkhla : Models\\Songkhla_run_2021_04_25-22_41_22.h5\n",
    "    - Kanchanaburi : Models\\Kanchanaburi_run_2021_04_30-16_22_11.h5\n",
    "    - Khon Kaen : Models\\Khon Kaen_run_2021_04_27-16_20_46_kind_of_final.h5\n",
    "    - Chiang Mai : Models\\Chiang Mai_run_2021_04_30-15_37_01.h5"
   ],
   "cell_type": "markdown",
   "metadata": {}
  },
  {
   "source": [
    "# 5) Submission"
   ],
   "cell_type": "markdown",
   "metadata": {}
  },
  {
   "cell_type": "code",
   "execution_count": 7,
   "metadata": {},
   "outputs": [
    {
     "output_type": "stream",
     "name": "stdout",
     "text": [
      "Chanthaburi done\n",
      "Chiang Mai done\n",
      "Kanchanaburi done\n",
      "Bangkok done\n",
      "Khon Kaen done\n",
      "Songkhla done\n"
     ]
    }
   ],
   "source": [
    "models = {'Bangkok':'Models\\Bangkok_run_2021_05_07-20_31_15_chckpoint.h5',\n",
    "'Chanthaburi':'Models\\Chanthaburi_run_2021_05_08-12_58_02_chckpoint.h5',\n",
    "'Songkhla':'Models\\Songkhla_run_2021_05_08-19_56_09_chckpoint.h5',\n",
    "'Kanchanaburi':'Models\\Kanchanaburi_run_2021_05_08-15_58_45_chckpoint.h5',\n",
    "'Khon Kaen':'Models\\Khon Kaen_run_2021_05_07-23_38_36_chckpoint.h5',\n",
    "'Chiang Mai':'Models\\Chiang Mai_run_2021_05_08-07_41_04_chckpoint.h5'}\n",
    "grand = []\n",
    "for province in [\"Chanthaburi\",\"Chiang Mai\",\"Kanchanaburi\",\"Bangkok\",\"Khon Kaen\",\"Songkhla\"]:\n",
    "\n",
    "    # Load the trained model\n",
    "    model = tf.keras.models.load_model(models[province])\n",
    "\n",
    "    # Load Test data\n",
    "    x_eval = x_[province]['Test']\n",
    "\n",
    "    # Predict Test data\n",
    "    pred = model(x_eval)\n",
    "\n",
    "    # Store predictions in array\n",
    "    prediction_1D = []\n",
    "    for e in pred:\n",
    "        prediction_1D.append(y_train_scalers[province].inverse_transform(e.numpy().reshape((-1,1))))\n",
    "\n",
    "    prediction_1D = np.array(prediction_1D).reshape((-1,1))\n",
    "    province_prediction = pd.DataFrame({'Predicted':prediction_1D.ravel()})\n",
    "\n",
    "    grand.append(province_prediction)\n",
    "    print(f\"{province} done\")"
   ]
  },
  {
   "cell_type": "code",
   "execution_count": 8,
   "metadata": {},
   "outputs": [
    {
     "output_type": "execute_result",
     "data": {
      "text/plain": [
       "        Predicted\n",
       "0       29.006260\n",
       "1       29.083462\n",
       "2       28.830957\n",
       "3       29.209991\n",
       "4       28.931713\n",
       "...           ...\n",
       "481315  12.511642\n",
       "481316  12.568989\n",
       "481317  12.041894\n",
       "481318  11.637535\n",
       "481319  11.344315\n",
       "\n",
       "[481320 rows x 1 columns]"
      ],
      "text/html": "<div>\n<style scoped>\n    .dataframe tbody tr th:only-of-type {\n        vertical-align: middle;\n    }\n\n    .dataframe tbody tr th {\n        vertical-align: top;\n    }\n\n    .dataframe thead th {\n        text-align: right;\n    }\n</style>\n<table border=\"1\" class=\"dataframe\">\n  <thead>\n    <tr style=\"text-align: right;\">\n      <th></th>\n      <th>Predicted</th>\n    </tr>\n  </thead>\n  <tbody>\n    <tr>\n      <th>0</th>\n      <td>29.006260</td>\n    </tr>\n    <tr>\n      <th>1</th>\n      <td>29.083462</td>\n    </tr>\n    <tr>\n      <th>2</th>\n      <td>28.830957</td>\n    </tr>\n    <tr>\n      <th>3</th>\n      <td>29.209991</td>\n    </tr>\n    <tr>\n      <th>4</th>\n      <td>28.931713</td>\n    </tr>\n    <tr>\n      <th>...</th>\n      <td>...</td>\n    </tr>\n    <tr>\n      <th>481315</th>\n      <td>12.511642</td>\n    </tr>\n    <tr>\n      <th>481316</th>\n      <td>12.568989</td>\n    </tr>\n    <tr>\n      <th>481317</th>\n      <td>12.041894</td>\n    </tr>\n    <tr>\n      <th>481318</th>\n      <td>11.637535</td>\n    </tr>\n    <tr>\n      <th>481319</th>\n      <td>11.344315</td>\n    </tr>\n  </tbody>\n</table>\n<p>481320 rows × 1 columns</p>\n</div>"
     },
     "metadata": {},
     "execution_count": 8
    }
   ],
   "source": [
    "# This is what the prediction look like\n",
    "pd.concat(grand, ignore_index=True)"
   ]
  },
  {
   "cell_type": "code",
   "execution_count": 9,
   "metadata": {},
   "outputs": [],
   "source": [
    "# Save the result\n",
    "submit = pd.concat(grand, ignore_index=True).rename_axis('Id') #.to_csv(\"./predictions/sub3.csv\")"
   ]
  },
  {
   "source": [
    "## 5.1) make_submission\n",
    "ในส่วนนี้คัดลอกมาจากไฟล์ `make_submission.ipynb` ที่พี่ TA ให้ใหม่หลังจากแก้ submission ใน Kaggle"
   ],
   "cell_type": "markdown",
   "metadata": {}
  },
  {
   "cell_type": "code",
   "execution_count": 10,
   "metadata": {},
   "outputs": [],
   "source": [
    "miss_index = pd.read_csv('./predictions/missing_index.csv')\n",
    "prediction_index = pd.read_csv('./predictions/output_index.csv')"
   ]
  },
  {
   "cell_type": "code",
   "execution_count": 11,
   "metadata": {},
   "outputs": [
    {
     "output_type": "execute_result",
     "data": {
      "text/plain": [
       "        Predicted                   datetime index\n",
       "Id                                                \n",
       "0       29.006260  Chanthaburi 2019-03-18 13:00:00\n",
       "1       29.083462  Chanthaburi 2019-03-18 14:00:00\n",
       "2       28.830957  Chanthaburi 2019-03-18 15:00:00\n",
       "3       29.209991  Chanthaburi 2019-03-18 16:00:00\n",
       "4       28.931713  Chanthaburi 2019-03-18 17:00:00\n",
       "...           ...                              ...\n",
       "481315  12.511642     Songkhla 2020-03-18 14:00:00\n",
       "481316  12.568989     Songkhla 2020-03-18 15:00:00\n",
       "481317  12.041894     Songkhla 2020-03-18 16:00:00\n",
       "481318  11.637535     Songkhla 2020-03-18 17:00:00\n",
       "481319  11.344315     Songkhla 2020-03-18 18:00:00\n",
       "\n",
       "[481320 rows x 2 columns]"
      ],
      "text/html": "<div>\n<style scoped>\n    .dataframe tbody tr th:only-of-type {\n        vertical-align: middle;\n    }\n\n    .dataframe tbody tr th {\n        vertical-align: top;\n    }\n\n    .dataframe thead th {\n        text-align: right;\n    }\n</style>\n<table border=\"1\" class=\"dataframe\">\n  <thead>\n    <tr style=\"text-align: right;\">\n      <th></th>\n      <th>Predicted</th>\n      <th>datetime index</th>\n    </tr>\n    <tr>\n      <th>Id</th>\n      <th></th>\n      <th></th>\n    </tr>\n  </thead>\n  <tbody>\n    <tr>\n      <th>0</th>\n      <td>29.006260</td>\n      <td>Chanthaburi 2019-03-18 13:00:00</td>\n    </tr>\n    <tr>\n      <th>1</th>\n      <td>29.083462</td>\n      <td>Chanthaburi 2019-03-18 14:00:00</td>\n    </tr>\n    <tr>\n      <th>2</th>\n      <td>28.830957</td>\n      <td>Chanthaburi 2019-03-18 15:00:00</td>\n    </tr>\n    <tr>\n      <th>3</th>\n      <td>29.209991</td>\n      <td>Chanthaburi 2019-03-18 16:00:00</td>\n    </tr>\n    <tr>\n      <th>4</th>\n      <td>28.931713</td>\n      <td>Chanthaburi 2019-03-18 17:00:00</td>\n    </tr>\n    <tr>\n      <th>...</th>\n      <td>...</td>\n      <td>...</td>\n    </tr>\n    <tr>\n      <th>481315</th>\n      <td>12.511642</td>\n      <td>Songkhla 2020-03-18 14:00:00</td>\n    </tr>\n    <tr>\n      <th>481316</th>\n      <td>12.568989</td>\n      <td>Songkhla 2020-03-18 15:00:00</td>\n    </tr>\n    <tr>\n      <th>481317</th>\n      <td>12.041894</td>\n      <td>Songkhla 2020-03-18 16:00:00</td>\n    </tr>\n    <tr>\n      <th>481318</th>\n      <td>11.637535</td>\n      <td>Songkhla 2020-03-18 17:00:00</td>\n    </tr>\n    <tr>\n      <th>481319</th>\n      <td>11.344315</td>\n      <td>Songkhla 2020-03-18 18:00:00</td>\n    </tr>\n  </tbody>\n</table>\n<p>481320 rows × 2 columns</p>\n</div>"
     },
     "metadata": {},
     "execution_count": 11
    }
   ],
   "source": [
    "submit['datetime index'] = prediction_index['predicted timestamp']\n",
    "submit[['Predicted','datetime index']]"
   ]
  },
  {
   "cell_type": "code",
   "execution_count": 12,
   "metadata": {},
   "outputs": [],
   "source": [
    "cond = submit['datetime index'].isin(miss_index['Missing date'])\n",
    "submit.drop(submit[cond].index, inplace = True)"
   ]
  },
  {
   "cell_type": "code",
   "execution_count": 13,
   "metadata": {},
   "outputs": [
    {
     "output_type": "execute_result",
     "data": {
      "text/plain": [
       "        Predicted                   datetime index\n",
       "0       29.006260  Chanthaburi 2019-03-18 13:00:00\n",
       "1       29.083462  Chanthaburi 2019-03-18 14:00:00\n",
       "2       28.830957  Chanthaburi 2019-03-18 15:00:00\n",
       "3       29.209991  Chanthaburi 2019-03-18 16:00:00\n",
       "4       28.931713  Chanthaburi 2019-03-18 17:00:00\n",
       "...           ...                              ...\n",
       "448549  12.511642     Songkhla 2020-03-18 14:00:00\n",
       "448550  12.568989     Songkhla 2020-03-18 15:00:00\n",
       "448551  12.041894     Songkhla 2020-03-18 16:00:00\n",
       "448552  11.637535     Songkhla 2020-03-18 17:00:00\n",
       "448553  11.344315     Songkhla 2020-03-18 18:00:00\n",
       "\n",
       "[448554 rows x 2 columns]"
      ],
      "text/html": "<div>\n<style scoped>\n    .dataframe tbody tr th:only-of-type {\n        vertical-align: middle;\n    }\n\n    .dataframe tbody tr th {\n        vertical-align: top;\n    }\n\n    .dataframe thead th {\n        text-align: right;\n    }\n</style>\n<table border=\"1\" class=\"dataframe\">\n  <thead>\n    <tr style=\"text-align: right;\">\n      <th></th>\n      <th>Predicted</th>\n      <th>datetime index</th>\n    </tr>\n  </thead>\n  <tbody>\n    <tr>\n      <th>0</th>\n      <td>29.006260</td>\n      <td>Chanthaburi 2019-03-18 13:00:00</td>\n    </tr>\n    <tr>\n      <th>1</th>\n      <td>29.083462</td>\n      <td>Chanthaburi 2019-03-18 14:00:00</td>\n    </tr>\n    <tr>\n      <th>2</th>\n      <td>28.830957</td>\n      <td>Chanthaburi 2019-03-18 15:00:00</td>\n    </tr>\n    <tr>\n      <th>3</th>\n      <td>29.209991</td>\n      <td>Chanthaburi 2019-03-18 16:00:00</td>\n    </tr>\n    <tr>\n      <th>4</th>\n      <td>28.931713</td>\n      <td>Chanthaburi 2019-03-18 17:00:00</td>\n    </tr>\n    <tr>\n      <th>...</th>\n      <td>...</td>\n      <td>...</td>\n    </tr>\n    <tr>\n      <th>448549</th>\n      <td>12.511642</td>\n      <td>Songkhla 2020-03-18 14:00:00</td>\n    </tr>\n    <tr>\n      <th>448550</th>\n      <td>12.568989</td>\n      <td>Songkhla 2020-03-18 15:00:00</td>\n    </tr>\n    <tr>\n      <th>448551</th>\n      <td>12.041894</td>\n      <td>Songkhla 2020-03-18 16:00:00</td>\n    </tr>\n    <tr>\n      <th>448552</th>\n      <td>11.637535</td>\n      <td>Songkhla 2020-03-18 17:00:00</td>\n    </tr>\n    <tr>\n      <th>448553</th>\n      <td>11.344315</td>\n      <td>Songkhla 2020-03-18 18:00:00</td>\n    </tr>\n  </tbody>\n</table>\n<p>448554 rows × 2 columns</p>\n</div>"
     },
     "metadata": {},
     "execution_count": 13
    }
   ],
   "source": [
    "submit.reset_index(inplace=True)\n",
    "submit.drop(columns={'Id'},inplace=True)\n",
    "submit"
   ]
  },
  {
   "cell_type": "code",
   "execution_count": 14,
   "metadata": {},
   "outputs": [],
   "source": [
    "submit['id'] = submit.index\n",
    "submit = submit[['Predicted','id']]"
   ]
  },
  {
   "cell_type": "code",
   "execution_count": 15,
   "metadata": {},
   "outputs": [
    {
     "output_type": "execute_result",
     "data": {
      "text/plain": [
       "        Predicted\n",
       "id               \n",
       "0       29.006260\n",
       "1       29.083462\n",
       "2       28.830957\n",
       "3       29.209991\n",
       "4       28.931713\n",
       "...           ...\n",
       "448549  12.511642\n",
       "448550  12.568989\n",
       "448551  12.041894\n",
       "448552  11.637535\n",
       "448553  11.344315\n",
       "\n",
       "[448554 rows x 1 columns]"
      ],
      "text/html": "<div>\n<style scoped>\n    .dataframe tbody tr th:only-of-type {\n        vertical-align: middle;\n    }\n\n    .dataframe tbody tr th {\n        vertical-align: top;\n    }\n\n    .dataframe thead th {\n        text-align: right;\n    }\n</style>\n<table border=\"1\" class=\"dataframe\">\n  <thead>\n    <tr style=\"text-align: right;\">\n      <th></th>\n      <th>Predicted</th>\n    </tr>\n    <tr>\n      <th>id</th>\n      <th></th>\n    </tr>\n  </thead>\n  <tbody>\n    <tr>\n      <th>0</th>\n      <td>29.006260</td>\n    </tr>\n    <tr>\n      <th>1</th>\n      <td>29.083462</td>\n    </tr>\n    <tr>\n      <th>2</th>\n      <td>28.830957</td>\n    </tr>\n    <tr>\n      <th>3</th>\n      <td>29.209991</td>\n    </tr>\n    <tr>\n      <th>4</th>\n      <td>28.931713</td>\n    </tr>\n    <tr>\n      <th>...</th>\n      <td>...</td>\n    </tr>\n    <tr>\n      <th>448549</th>\n      <td>12.511642</td>\n    </tr>\n    <tr>\n      <th>448550</th>\n      <td>12.568989</td>\n    </tr>\n    <tr>\n      <th>448551</th>\n      <td>12.041894</td>\n    </tr>\n    <tr>\n      <th>448552</th>\n      <td>11.637535</td>\n    </tr>\n    <tr>\n      <th>448553</th>\n      <td>11.344315</td>\n    </tr>\n  </tbody>\n</table>\n<p>448554 rows × 1 columns</p>\n</div>"
     },
     "metadata": {},
     "execution_count": 15
    }
   ],
   "source": [
    "submit.set_index('id',inplace=True)\n",
    "submit"
   ]
  },
  {
   "cell_type": "code",
   "execution_count": 16,
   "metadata": {},
   "outputs": [],
   "source": [
    "import time\n",
    "time_now = time.strftime(\"%Y_%b_%d-%H_%M_%S\")\n",
    "submit.to_csv(f'./predictions/submission_{time_now}.csv')"
   ]
  },
  {
   "cell_type": "code",
   "execution_count": null,
   "metadata": {},
   "outputs": [],
   "source": []
  }
 ]
}