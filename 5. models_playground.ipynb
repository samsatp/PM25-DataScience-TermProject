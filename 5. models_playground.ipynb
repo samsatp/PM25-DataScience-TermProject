{
 "metadata": {
  "language_info": {
   "codemirror_mode": {
    "name": "ipython",
    "version": 3
   },
   "file_extension": ".py",
   "mimetype": "text/x-python",
   "name": "python",
   "nbconvert_exporter": "python",
   "pygments_lexer": "ipython3",
   "version": "3.9.1-final"
  },
  "orig_nbformat": 2,
  "kernelspec": {
   "name": "python391jvsc74a57bd031605234de10b43ea767264d17dfb0196cf2b9da7012776efe0be49341337db4",
   "display_name": "Python 3.9.1 64-bit ('jupyterlab2.26': conda)"
  }
 },
 "nbformat": 4,
 "nbformat_minor": 2,
 "cells": [
  {
   "cell_type": "code",
   "execution_count": 1,
   "metadata": {},
   "outputs": [
    {
     "output_type": "stream",
     "name": "stdout",
     "text": [
      "INFO:tensorflow:Enabling eager execution\n",
      "INFO:tensorflow:Enabling v2 tensorshape\n",
      "INFO:tensorflow:Enabling resource variables\n",
      "INFO:tensorflow:Enabling tensor equality\n",
      "INFO:tensorflow:Enabling control flow v2\n"
     ]
    },
    {
     "output_type": "execute_result",
     "data": {
      "text/plain": [
       "'2.5.0-rc1'"
      ]
     },
     "metadata": {},
     "execution_count": 1
    }
   ],
   "source": [
    "from util_input_output_model import *\n",
    "from collections import defaultdict\n",
    "from datetime import timedelta\n",
    "import tensorflow as tf\n",
    "import numpy as np\n",
    "import pandas as pd\n",
    "import time\n",
    "provinces = ['Bangkok','Chanthaburi','Chiang Mai','Kanchanaburi','Songkhla','Khon Kaen']\n",
    "\n",
    "features = ['PM2.5','WindDir','Wind Speed(km/h)','Temp(C)',\n",
    "            'Cambodia_frp','Myanmar_frp','Thailand_frp','Lao_PDR_frp']\n",
    "tf.__version__"
   ]
  },
  {
   "source": [
    "## Preparing data\n",
    "We'll preparing `X, Y` of `Train, Test` set."
   ],
   "cell_type": "markdown",
   "metadata": {}
  },
  {
   "cell_type": "code",
   "execution_count": 2,
   "metadata": {},
   "outputs": [
    {
     "output_type": "stream",
     "name": "stdout",
     "text": [
      "timesteps = 360\n"
     ]
    }
   ],
   "source": [
    "timesteps = 360\n",
    "print(f'timesteps = {timesteps}')"
   ]
  },
  {
   "cell_type": "code",
   "execution_count": 3,
   "metadata": {},
   "outputs": [],
   "source": [
    "feature_used = features\n",
    "Train_data, X_train, Y_train = prepare_train_data(timesteps, feature_used = feature_used)"
   ]
  },
  {
   "cell_type": "code",
   "execution_count": 4,
   "metadata": {},
   "outputs": [
    {
     "output_type": "stream",
     "name": "stdout",
     "text": [
      "dif : 355\n2019-03-18 08:00:00\nbase = 2019-03-18 12:00:00\ndif : 349\n2019-03-18 08:00:00\nbase = 2019-03-18 18:00:00\ndif : 343\n2019-03-18 08:00:00\nbase = 2019-03-19 00:00:00\ndif : 337\n2019-03-18 08:00:00\nbase = 2019-03-19 06:00:00\n"
     ]
    }
   ],
   "source": [
    "Test_data, X_test, Y_test = prepare_test_data(Train_data, timesteps, feature_used = feature_used)"
   ]
  },
  {
   "source": [
    "## Standardize the data\n",
    "Next, we need to scale the data."
   ],
   "cell_type": "markdown",
   "metadata": {}
  },
  {
   "cell_type": "code",
   "execution_count": 5,
   "metadata": {},
   "outputs": [],
   "source": [
    "# Scale train set\n",
    "x_train_scalers, y_train_scalers, X_train_scaled, Y_train_scaled = scale_data(X_train, Y_train, Train_data)\n",
    "\n",
    "# Scale test set\n",
    "X_test_scaled = defaultdict(lambda: [])\n",
    "Y_test_scaled = defaultdict(lambda: [])\n",
    "\n",
    "for p in provinces:\n",
    "    for e in X_test[p]:\n",
    "        X_test_scaled[p].append(x_train_scalers[p].transform(e))\n",
    "    for e in Y_test[p]:\n",
    "        Y_test_scaled[p].append(y_train_scalers[p].transform(e))"
   ]
  },
  {
   "source": [
    "## Shaping\n",
    "Make sure that the data is in the right shape. The `X` shape should be `(#datapoints, #timesteps, #features)`. The `Y` shape should be `(#datapoints, 72)` since each forecast we have to predict next 72 hours."
   ],
   "cell_type": "markdown",
   "metadata": {}
  },
  {
   "cell_type": "code",
   "execution_count": 9,
   "metadata": {},
   "outputs": [
    {
     "output_type": "stream",
     "name": "stdout",
     "text": [
      "Bangkok\n",
      "X Train: (4366, 360, 8)\n",
      "Y Train: (4366, 72)\n",
      "X Test: (1454, 360, 8)\n",
      "Y Test: (1454, 72)\n",
      "\n",
      "Chanthaburi\n",
      "X Train: (4366, 360, 8)\n",
      "Y Train: (4366, 72)\n",
      "X Test: (1454, 360, 8)\n",
      "Y Test: (1454, 72)\n",
      "\n",
      "Chiang Mai\n",
      "X Train: (4366, 360, 8)\n",
      "Y Train: (4366, 72)\n",
      "X Test: (1454, 360, 8)\n",
      "Y Test: (1454, 72)\n",
      "\n",
      "Kanchanaburi\n",
      "X Train: (4366, 360, 8)\n",
      "Y Train: (4366, 72)\n",
      "X Test: (1454, 360, 8)\n",
      "Y Test: (1454, 72)\n",
      "\n",
      "Songkhla\n",
      "X Train: (4366, 360, 8)\n",
      "Y Train: (4366, 72)\n",
      "X Test: (1454, 360, 8)\n",
      "Y Test: (1454, 72)\n",
      "\n",
      "Khon Kaen\n",
      "X Train: (1936, 360, 8)\n",
      "Y Train: (1936, 72)\n",
      "X Test: (1454, 360, 8)\n",
      "Y Test: (1454, 72)\n",
      "\n"
     ]
    }
   ],
   "source": [
    "x_, y_ = {}, {}\n",
    "\n",
    "for p in provinces:\n",
    "    x_[p] = {\"Train\": np.array(X_train_scaled[p]),\n",
    "             \"Test\": np.array(X_test_scaled[p])}\n",
    "    \n",
    "    y_[p] = {\"Train\": np.array(Y_train_scaled[p]).squeeze(axis=2),\n",
    "             \"Test\": np.array(Y_test_scaled[p]).squeeze(axis=2)}\n",
    "\n",
    "    print(p)\n",
    "    print(f'X Train: {x_[p][\"Train\"].shape}')\n",
    "    print(f'Y Train: {y_[p][\"Train\"].shape}')\n",
    "    print(f'X Test: {x_[p][\"Test\"].shape}')\n",
    "    print(f'Y Test: {y_[p][\"Test\"].shape}\\n')"
   ]
  },
  {
   "source": [
    "## Building Model"
   ],
   "cell_type": "markdown",
   "metadata": {}
  },
  {
   "cell_type": "code",
   "execution_count": 10,
   "metadata": {},
   "outputs": [
    {
     "output_type": "stream",
     "name": "stdout",
     "text": [
      "timesteps : 360\n"
     ]
    }
   ],
   "source": [
    "print(f\"timesteps : {timesteps}\")"
   ]
  },
  {
   "cell_type": "code",
   "execution_count": 28,
   "metadata": {},
   "outputs": [],
   "source": [
    "from tensorflow.keras.models import Sequential\n",
    "from tensorflow.keras.layers import Dense\n",
    "from tensorflow.keras.layers import LSTM, GRU\n",
    "from tensorflow.keras.layers import Dropout\n",
    "import tensorflow as tf\n",
    "\n",
    "n_features = len(feature_used)\n",
    "\n",
    "# define model\n",
    "model = Sequential([\n",
    "    LSTM(100, activation='relu', input_shape=(timesteps, n_features), return_sequences=True),\n",
    "    Dropout(rate=0.2),\n",
    "    LSTM(50, activation='relu'),\n",
    "    Dropout(rate=0.2),\n",
    "    Dense(72, activation='linear')\n",
    "])"
   ]
  },
  {
   "cell_type": "code",
   "execution_count": 27,
   "metadata": {},
   "outputs": [],
   "source": [
    "province = 'Chanthaburi'\n",
    "x_feed, y_feed = x_[province]['Train'], y_[province]['Train']\n",
    "x_eval, y_eval = x_[province]['Test'], y_[province]['Test']"
   ]
  },
  {
   "cell_type": "code",
   "execution_count": 29,
   "metadata": {},
   "outputs": [
    {
     "output_type": "stream",
     "name": "stdout",
     "text": [
      "False\n"
     ]
    }
   ],
   "source": [
    "# Last check for null values\n",
    "check = [np.isnan(x_feed).any(), np.isnan(y_feed).any(), \n",
    "         np.isnan(x_eval).any(), np.isnan(y_eval).any()]\n",
    "print(any(check))"
   ]
  },
  {
   "cell_type": "code",
   "execution_count": 30,
   "metadata": {},
   "outputs": [
    {
     "output_type": "stream",
     "name": "stdout",
     "text": [
      "Epoch 1/50\n",
      "137/137 [==============================] - 101s 718ms/step - loss: 0.0545 - val_loss: 0.0338\n",
      "Epoch 2/50\n",
      "137/137 [==============================] - 139s 1s/step - loss: 0.0324 - val_loss: 0.0285\n",
      "Epoch 3/50\n",
      "137/137 [==============================] - 128s 931ms/step - loss: 0.0242 - val_loss: 0.0274\n",
      "Epoch 4/50\n",
      "137/137 [==============================] - 87s 636ms/step - loss: 0.0193 - val_loss: 0.0275\n",
      "Epoch 5/50\n",
      "137/137 [==============================] - 84s 617ms/step - loss: 0.0174 - val_loss: 0.0276\n",
      "Epoch 6/50\n",
      "137/137 [==============================] - 83s 608ms/step - loss: 0.0171 - val_loss: 0.0274\n",
      "Epoch 7/50\n",
      "137/137 [==============================] - 81s 595ms/step - loss: 0.0156 - val_loss: 0.0271\n",
      "Epoch 8/50\n",
      "137/137 [==============================] - 80s 586ms/step - loss: 0.0151 - val_loss: 0.0265\n",
      "Epoch 9/50\n",
      "137/137 [==============================] - 85s 622ms/step - loss: 0.0154 - val_loss: 0.0257\n",
      "Epoch 10/50\n",
      "137/137 [==============================] - 84s 616ms/step - loss: 0.0140 - val_loss: 0.0247\n",
      "Epoch 11/50\n",
      "137/137 [==============================] - 82s 597ms/step - loss: 0.0134 - val_loss: 0.0238\n",
      "Epoch 12/50\n",
      "137/137 [==============================] - 83s 606ms/step - loss: 0.0137 - val_loss: 0.0227\n",
      "Epoch 13/50\n",
      "137/137 [==============================] - 81s 595ms/step - loss: 0.0123 - val_loss: 0.0220\n",
      "Epoch 14/50\n",
      "137/137 [==============================] - 81s 591ms/step - loss: 0.0117 - val_loss: 0.0215\n",
      "Epoch 15/50\n",
      "137/137 [==============================] - 81s 591ms/step - loss: 0.0117 - val_loss: 0.0211\n",
      "Epoch 16/50\n",
      "137/137 [==============================] - 83s 605ms/step - loss: 0.0110 - val_loss: 0.0209\n",
      "Epoch 17/50\n",
      "137/137 [==============================] - 81s 595ms/step - loss: 0.0109 - val_loss: 0.0206\n",
      "Epoch 18/50\n",
      "137/137 [==============================] - 145s 1s/step - loss: 0.0107 - val_loss: 0.0203\n",
      "Epoch 19/50\n",
      "137/137 [==============================] - 93s 669ms/step - loss: 0.0107 - val_loss: 0.0201\n",
      "Epoch 20/50\n",
      "137/137 [==============================] - 82s 597ms/step - loss: 0.0104 - val_loss: 0.0199\n",
      "Epoch 21/50\n",
      "137/137 [==============================] - 89s 652ms/step - loss: 0.0102 - val_loss: 0.0197\n",
      "Epoch 22/50\n",
      "137/137 [==============================] - 82s 596ms/step - loss: 0.0102 - val_loss: 0.0195\n",
      "Epoch 23/50\n",
      "137/137 [==============================] - 80s 586ms/step - loss: 0.0099 - val_loss: 0.0193\n",
      "Epoch 24/50\n",
      "137/137 [==============================] - 83s 608ms/step - loss: 0.0096 - val_loss: 0.0192\n",
      "Epoch 25/50\n",
      "137/137 [==============================] - 90s 657ms/step - loss: 0.0100 - val_loss: 0.0190\n",
      "Epoch 26/50\n",
      "137/137 [==============================] - 94s 686ms/step - loss: 0.0098 - val_loss: 0.0189\n",
      "Epoch 27/50\n",
      "137/137 [==============================] - 91s 666ms/step - loss: 0.0097 - val_loss: 0.0188\n",
      "Epoch 28/50\n",
      "137/137 [==============================] - 91s 664ms/step - loss: 0.0095 - val_loss: 0.0187\n",
      "Epoch 29/50\n",
      "137/137 [==============================] - 83s 603ms/step - loss: 0.0096 - val_loss: 0.0186\n",
      "Epoch 30/50\n",
      "137/137 [==============================] - 80s 587ms/step - loss: 0.0094 - val_loss: 0.0186\n",
      "Epoch 31/50\n",
      "137/137 [==============================] - 81s 589ms/step - loss: 0.0097 - val_loss: 0.0184\n",
      "Epoch 32/50\n",
      "137/137 [==============================] - 81s 594ms/step - loss: 0.0093 - val_loss: 0.0184\n",
      "Epoch 33/50\n",
      "137/137 [==============================] - 88s 641ms/step - loss: 0.0092 - val_loss: 0.0183\n",
      "Epoch 34/50\n",
      "137/137 [==============================] - 94s 689ms/step - loss: 0.0095 - val_loss: 0.0183\n",
      "Epoch 35/50\n",
      "137/137 [==============================] - 96s 706ms/step - loss: 0.0094 - val_loss: 0.0181\n",
      "Epoch 36/50\n",
      "137/137 [==============================] - 94s 688ms/step - loss: 0.0093 - val_loss: 0.0181\n",
      "Epoch 37/50\n",
      "137/137 [==============================] - 92s 671ms/step - loss: 0.0089 - val_loss: 0.0180\n",
      "Epoch 38/50\n",
      "137/137 [==============================] - 88s 647ms/step - loss: 0.0094 - val_loss: 0.0180\n",
      "Epoch 39/50\n",
      "137/137 [==============================] - 83s 603ms/step - loss: 0.0090 - val_loss: 0.0179\n",
      "Epoch 40/50\n",
      "137/137 [==============================] - 86s 627ms/step - loss: 0.0088 - val_loss: 0.0179\n",
      "Epoch 41/50\n",
      "137/137 [==============================] - 88s 643ms/step - loss: 0.0088 - val_loss: 0.0179\n",
      "Epoch 42/50\n",
      "137/137 [==============================] - 86s 631ms/step - loss: 0.0091 - val_loss: 0.0178\n",
      "Epoch 43/50\n",
      "137/137 [==============================] - 98s 717ms/step - loss: 0.0090 - val_loss: 0.0177\n",
      "Epoch 44/50\n",
      "137/137 [==============================] - 96s 704ms/step - loss: 0.0090 - val_loss: 0.0177\n",
      "Epoch 45/50\n",
      "137/137 [==============================] - 92s 673ms/step - loss: 0.0090 - val_loss: 0.0177\n",
      "Epoch 46/50\n",
      "137/137 [==============================] - 97s 707ms/step - loss: 0.0087 - val_loss: 0.0176\n",
      "Epoch 47/50\n",
      "137/137 [==============================] - 92s 670ms/step - loss: 0.0087 - val_loss: 0.0176\n",
      "Epoch 48/50\n",
      "137/137 [==============================] - 83s 608ms/step - loss: 0.0088 - val_loss: 0.0176\n",
      "Epoch 49/50\n",
      "137/137 [==============================] - 86s 628ms/step - loss: 0.0091 - val_loss: 0.0175\n",
      "Epoch 50/50\n",
      "137/137 [==============================] - 91s 664ms/step - loss: 0.0091 - val_loss: 0.0175\n"
     ]
    }
   ],
   "source": [
    "model.compile(optimizer=tf.keras.optimizers.SGD(learning_rate=0.009, momentum=0.9,clipvalue=1.0), loss='mse')\n",
    "\n",
    "# TensorBoard\n",
    "run_id = time.strftime(\"run_%Y_%m_%d-%H_%M_%S\")\n",
    "run_log_dir = \"./my_logs/\"+run_id\n",
    "tensorboard_cb = tf.keras.callbacks.TensorBoard(run_log_dir)\n",
    "\n",
    "# Early stopping\n",
    "early_stop = tf.keras.callbacks.EarlyStopping(monitor='val_loss', min_delta=0.0001, \n",
    "                        patience=10, restore_best_weights=True)\n",
    "# Nan stopping\n",
    "nan_stop = tf.keras.callbacks.TerminateOnNaN()\n",
    "\n",
    "history = model.fit(x_feed, y_feed, validation_data=(x_eval, y_eval), \n",
    "                    epochs=100, batch_size=32,\n",
    "                    callbacks=[tensorboard_cb, early_stop, nan_stop])\n",
    "\n",
    "# tensorboard --logdir=.\\my_logs --port=6006"
   ]
  },
  {
   "cell_type": "code",
   "execution_count": 39,
   "metadata": {},
   "outputs": [
    {
     "output_type": "stream",
     "name": "stdout",
     "text": [
      "Epoch 1/100\n",
      "137/137 [==============================] - 88s 640ms/step - loss: 0.0088 - val_loss: 0.0174\n",
      "Epoch 2/100\n",
      "137/137 [==============================] - 102s 744ms/step - loss: 0.0087 - val_loss: 0.0174\n",
      "Epoch 3/100\n",
      "137/137 [==============================] - 92s 674ms/step - loss: 0.0088 - val_loss: 0.0174\n",
      "Epoch 4/100\n",
      "137/137 [==============================] - 85s 618ms/step - loss: 0.0088 - val_loss: 0.0174\n",
      "Epoch 5/100\n",
      "137/137 [==============================] - 85s 619ms/step - loss: 0.0087 - val_loss: 0.0174\n",
      "Epoch 6/100\n",
      "137/137 [==============================] - 88s 645ms/step - loss: 0.0088 - val_loss: 0.0175\n",
      "Epoch 7/100\n",
      "137/137 [==============================] - 84s 617ms/step - loss: 0.0087 - val_loss: 0.0173\n",
      "Epoch 8/100\n",
      "137/137 [==============================] - 84s 616ms/step - loss: 0.0087 - val_loss: 0.0173\n",
      "Epoch 9/100\n",
      "137/137 [==============================] - 85s 621ms/step - loss: 0.0086 - val_loss: 0.0173\n",
      "Epoch 10/100\n",
      "137/137 [==============================] - 88s 645ms/step - loss: 0.0087 - val_loss: 0.0172\n",
      "Epoch 11/100\n",
      "137/137 [==============================] - 95s 692ms/step - loss: 0.0087 - val_loss: 0.0172\n",
      "Epoch 12/100\n",
      "137/137 [==============================] - 97s 708ms/step - loss: 0.0086 - val_loss: 0.0172\n",
      "Epoch 13/100\n",
      "137/137 [==============================] - 96s 702ms/step - loss: 0.0086 - val_loss: 0.0172\n",
      "Epoch 14/100\n",
      "137/137 [==============================] - 94s 685ms/step - loss: 0.0086 - val_loss: 0.0172\n",
      "Epoch 15/100\n",
      "137/137 [==============================] - 100s 728ms/step - loss: 0.0086 - val_loss: 0.0171\n",
      "Epoch 16/100\n",
      "137/137 [==============================] - 88s 645ms/step - loss: 0.0086 - val_loss: 0.0171\n",
      "Epoch 17/100\n",
      "137/137 [==============================] - 95s 692ms/step - loss: 0.0085 - val_loss: 0.0171\n",
      "Epoch 18/100\n",
      "137/137 [==============================] - 95s 696ms/step - loss: 0.0085 - val_loss: 0.0171\n",
      "Epoch 19/100\n",
      "137/137 [==============================] - 97s 708ms/step - loss: 0.0085 - val_loss: 0.0171\n",
      "Epoch 20/100\n",
      "137/137 [==============================] - 83s 605ms/step - loss: 0.0086 - val_loss: 0.0171\n",
      "Epoch 21/100\n",
      "137/137 [==============================] - 84s 611ms/step - loss: 0.0086 - val_loss: 0.0170\n",
      "Epoch 22/100\n",
      "137/137 [==============================] - 98s 718ms/step - loss: 0.0086 - val_loss: 0.0172\n",
      "Epoch 23/100\n",
      "137/137 [==============================] - 90s 657ms/step - loss: 0.0085 - val_loss: 0.0170\n",
      "Epoch 24/100\n",
      "137/137 [==============================] - 91s 665ms/step - loss: 0.0085 - val_loss: 0.0171\n",
      "Epoch 25/100\n",
      "137/137 [==============================] - 94s 689ms/step - loss: 0.0085 - val_loss: 0.0170\n",
      "Epoch 26/100\n",
      "137/137 [==============================] - 92s 672ms/step - loss: 0.0086 - val_loss: 0.0172\n",
      "Epoch 27/100\n",
      "137/137 [==============================] - 95s 692ms/step - loss: 0.0085 - val_loss: 0.0170\n",
      "Epoch 28/100\n",
      "137/137 [==============================] - 98s 713ms/step - loss: 0.0084 - val_loss: 0.0170\n",
      "Epoch 29/100\n",
      "137/137 [==============================] - 86s 631ms/step - loss: 0.0085 - val_loss: 0.0170\n",
      "Epoch 30/100\n",
      "137/137 [==============================] - 85s 619ms/step - loss: 0.0084 - val_loss: 0.0170\n",
      "Epoch 31/100\n",
      "137/137 [==============================] - 88s 643ms/step - loss: 0.0084 - val_loss: 0.0169\n",
      "Epoch 32/100\n",
      "137/137 [==============================] - 80s 582ms/step - loss: 0.0084 - val_loss: 0.0169\n",
      "Epoch 33/100\n",
      "137/137 [==============================] - 82s 601ms/step - loss: 0.0084 - val_loss: 0.0169\n",
      "Epoch 34/100\n",
      "137/137 [==============================] - 82s 596ms/step - loss: 0.0085 - val_loss: 0.0169\n",
      "Epoch 35/100\n",
      "137/137 [==============================] - 82s 599ms/step - loss: 0.0084 - val_loss: 0.0168\n",
      "Epoch 36/100\n",
      "137/137 [==============================] - 83s 609ms/step - loss: 0.0084 - val_loss: 0.0168\n",
      "Epoch 37/100\n",
      "137/137 [==============================] - 83s 607ms/step - loss: 0.0085 - val_loss: 0.0168\n",
      "Epoch 38/100\n",
      "137/137 [==============================] - 82s 596ms/step - loss: 0.0083 - val_loss: 0.0169\n",
      "Epoch 39/100\n",
      "137/137 [==============================] - 81s 594ms/step - loss: 0.0084 - val_loss: 0.0168\n",
      "Epoch 40/100\n",
      "137/137 [==============================] - 81s 595ms/step - loss: 0.0084 - val_loss: 0.0168\n",
      "Epoch 41/100\n",
      "137/137 [==============================] - 83s 604ms/step - loss: 0.0085 - val_loss: 0.0168\n",
      "Epoch 42/100\n",
      "137/137 [==============================] - 83s 605ms/step - loss: 0.0083 - val_loss: 0.0169\n",
      "Epoch 43/100\n",
      "137/137 [==============================] - 82s 602ms/step - loss: 0.0084 - val_loss: 0.0167\n",
      "Epoch 44/100\n",
      "137/137 [==============================] - 82s 601ms/step - loss: 0.0083 - val_loss: 0.0168\n",
      "Epoch 45/100\n",
      "137/137 [==============================] - 83s 603ms/step - loss: 0.0084 - val_loss: 0.0168\n"
     ]
    }
   ],
   "source": [
    "# TensorBoard\n",
    "run_id = time.strftime(\"run_%Y_%m_%d-%H_%M_%S\")\n",
    "run_log_dir = \"./my_logs/\"+run_id\n",
    "tensorboard_cb = tf.keras.callbacks.TensorBoard(run_log_dir)\n",
    "\n",
    "# Early stopping\n",
    "early_stop = tf.keras.callbacks.EarlyStopping(monitor='val_loss', min_delta=0.0001, \n",
    "                        patience=10, restore_best_weights=True)\n",
    "# Nan stopping\n",
    "nan_stop = tf.keras.callbacks.TerminateOnNaN()\n",
    "\n",
    "history = model.fit(x_feed, y_feed, validation_data=(x_eval, y_eval), \n",
    "                    epochs=100, batch_size=32,\n",
    "                    callbacks=[tensorboard_cb, early_stop, nan_stop])"
   ]
  },
  {
   "cell_type": "code",
   "execution_count": 43,
   "metadata": {},
   "outputs": [],
   "source": [
    "model.save(f\"./Models/{province}_{run_id}_final_26Apr1155.h5\")"
   ]
  },
  {
   "source": [
    "## Evaluate on test data"
   ],
   "cell_type": "markdown",
   "metadata": {}
  },
  {
   "cell_type": "code",
   "execution_count": 40,
   "metadata": {},
   "outputs": [
    {
     "output_type": "stream",
     "name": "stdout",
     "text": [
      "46/46 [==============================] - 5s 115ms/step - loss: 0.0168\n"
     ]
    },
    {
     "output_type": "execute_result",
     "data": {
      "text/plain": [
       "0.016834234818816185"
      ]
     },
     "metadata": {},
     "execution_count": 40
    }
   ],
   "source": [
    "model.evaluate(x_eval, y_eval)"
   ]
  },
  {
   "cell_type": "code",
   "execution_count": 41,
   "metadata": {},
   "outputs": [
    {
     "output_type": "stream",
     "name": "stdout",
     "text": [
      "province : Chanthaburi\n"
     ]
    },
    {
     "output_type": "execute_result",
     "data": {
      "text/plain": [
       "8.899358272532076"
      ]
     },
     "metadata": {},
     "execution_count": 41
    }
   ],
   "source": [
    "from sklearn.metrics import mean_squared_error as mse\n",
    "pred = model(x_eval)\n",
    "rmse = []\n",
    "print('province :', province)\n",
    "\n",
    "for i in range(len(pred)):\n",
    "    p = y_train_scalers[province].inverse_transform(pred[i].numpy().reshape((-1,1)))\n",
    "    y_t = Y_test[province][i].values\n",
    "    rmse.append(np.sqrt(mse(p, y_t)))\n",
    "np.mean(rmse)"
   ]
  },
  {
   "cell_type": "code",
   "execution_count": 42,
   "metadata": {},
   "outputs": [
    {
     "output_type": "stream",
     "name": "stdout",
     "text": [
      "province = Chanthaburi\n"
     ]
    },
    {
     "output_type": "display_data",
     "data": {
      "text/plain": "<Figure size 432x288 with 1 Axes>",
      "image/svg+xml": "<?xml version=\"1.0\" encoding=\"utf-8\" standalone=\"no\"?>\r\n<!DOCTYPE svg PUBLIC \"-//W3C//DTD SVG 1.1//EN\"\r\n  \"http://www.w3.org/Graphics/SVG/1.1/DTD/svg11.dtd\">\r\n<svg height=\"270.91375pt\" version=\"1.1\" viewBox=\"0 0 368.925 270.91375\" width=\"368.925pt\" xmlns=\"http://www.w3.org/2000/svg\" xmlns:xlink=\"http://www.w3.org/1999/xlink\">\r\n <metadata>\r\n  <rdf:RDF xmlns:cc=\"http://creativecommons.org/ns#\" xmlns:dc=\"http://purl.org/dc/elements/1.1/\" xmlns:rdf=\"http://www.w3.org/1999/02/22-rdf-syntax-ns#\">\r\n   <cc:Work>\r\n    <dc:type rdf:resource=\"http://purl.org/dc/dcmitype/StillImage\"/>\r\n    <dc:date>2021-04-26T11:50:50.899961</dc:date>\r\n    <dc:format>image/svg+xml</dc:format>\r\n    <dc:creator>\r\n     <cc:Agent>\r\n      <dc:title>Matplotlib v3.4.1, https://matplotlib.org/</dc:title>\r\n     </cc:Agent>\r\n    </dc:creator>\r\n   </cc:Work>\r\n  </rdf:RDF>\r\n </metadata>\r\n <defs>\r\n  <style type=\"text/css\">*{stroke-linecap:butt;stroke-linejoin:round;}</style>\r\n </defs>\r\n <g id=\"figure_1\">\r\n  <g id=\"patch_1\">\r\n   <path d=\"M -0 270.91375 \r\nL 368.925 270.91375 \r\nL 368.925 0 \r\nL -0 0 \r\nz\r\n\" style=\"fill:none;\"/>\r\n  </g>\r\n  <g id=\"axes_1\">\r\n   <g id=\"patch_2\">\r\n    <path d=\"M 26.925 224.64 \r\nL 361.725 224.64 \r\nL 361.725 7.2 \r\nL 26.925 7.2 \r\nz\r\n\" style=\"fill:#ffffff;\"/>\r\n   </g>\r\n   <g id=\"matplotlib.axis_1\">\r\n    <g id=\"xtick_1\">\r\n     <g id=\"line2d_1\">\r\n      <defs>\r\n       <path d=\"M 0 0 \r\nL 0 3.5 \r\n\" id=\"m2a0eac2712\" style=\"stroke:#000000;stroke-width:0.8;\"/>\r\n      </defs>\r\n      <g>\r\n       <use style=\"stroke:#000000;stroke-width:0.8;\" x=\"26.925\" xlink:href=\"#m2a0eac2712\" y=\"224.64\"/>\r\n      </g>\r\n     </g>\r\n    </g>\r\n    <g id=\"xtick_2\">\r\n     <g id=\"line2d_2\">\r\n      <g>\r\n       <use style=\"stroke:#000000;stroke-width:0.8;\" x=\"107.08838\" xlink:href=\"#m2a0eac2712\" y=\"224.64\"/>\r\n      </g>\r\n     </g>\r\n     <g id=\"text_1\">\r\n      <!-- 00:00 -->\r\n      <g transform=\"translate(92.679005 239.238438)scale(0.1 -0.1)\">\r\n       <defs>\r\n        <path d=\"M 2034 4250 \r\nQ 1547 4250 1301 3770 \r\nQ 1056 3291 1056 2328 \r\nQ 1056 1369 1301 889 \r\nQ 1547 409 2034 409 \r\nQ 2525 409 2770 889 \r\nQ 3016 1369 3016 2328 \r\nQ 3016 3291 2770 3770 \r\nQ 2525 4250 2034 4250 \r\nz\r\nM 2034 4750 \r\nQ 2819 4750 3233 4129 \r\nQ 3647 3509 3647 2328 \r\nQ 3647 1150 3233 529 \r\nQ 2819 -91 2034 -91 \r\nQ 1250 -91 836 529 \r\nQ 422 1150 422 2328 \r\nQ 422 3509 836 4129 \r\nQ 1250 4750 2034 4750 \r\nz\r\n\" id=\"DejaVuSans-30\" transform=\"scale(0.015625)\"/>\r\n        <path d=\"M 750 794 \r\nL 1409 794 \r\nL 1409 0 \r\nL 750 0 \r\nL 750 794 \r\nz\r\nM 750 3309 \r\nL 1409 3309 \r\nL 1409 2516 \r\nL 750 2516 \r\nL 750 3309 \r\nz\r\n\" id=\"DejaVuSans-3a\" transform=\"scale(0.015625)\"/>\r\n       </defs>\r\n       <use xlink:href=\"#DejaVuSans-30\"/>\r\n       <use x=\"63.623047\" xlink:href=\"#DejaVuSans-30\"/>\r\n       <use x=\"127.246094\" xlink:href=\"#DejaVuSans-3a\"/>\r\n       <use x=\"160.9375\" xlink:href=\"#DejaVuSans-30\"/>\r\n       <use x=\"224.560547\" xlink:href=\"#DejaVuSans-30\"/>\r\n      </g>\r\n      <!-- 10-Sep -->\r\n      <g transform=\"translate(89.496974 250.43625)scale(0.1 -0.1)\">\r\n       <defs>\r\n        <path d=\"M 794 531 \r\nL 1825 531 \r\nL 1825 4091 \r\nL 703 3866 \r\nL 703 4441 \r\nL 1819 4666 \r\nL 2450 4666 \r\nL 2450 531 \r\nL 3481 531 \r\nL 3481 0 \r\nL 794 0 \r\nL 794 531 \r\nz\r\n\" id=\"DejaVuSans-31\" transform=\"scale(0.015625)\"/>\r\n        <path d=\"M 313 2009 \r\nL 1997 2009 \r\nL 1997 1497 \r\nL 313 1497 \r\nL 313 2009 \r\nz\r\n\" id=\"DejaVuSans-2d\" transform=\"scale(0.015625)\"/>\r\n        <path d=\"M 3425 4513 \r\nL 3425 3897 \r\nQ 3066 4069 2747 4153 \r\nQ 2428 4238 2131 4238 \r\nQ 1616 4238 1336 4038 \r\nQ 1056 3838 1056 3469 \r\nQ 1056 3159 1242 3001 \r\nQ 1428 2844 1947 2747 \r\nL 2328 2669 \r\nQ 3034 2534 3370 2195 \r\nQ 3706 1856 3706 1288 \r\nQ 3706 609 3251 259 \r\nQ 2797 -91 1919 -91 \r\nQ 1588 -91 1214 -16 \r\nQ 841 59 441 206 \r\nL 441 856 \r\nQ 825 641 1194 531 \r\nQ 1563 422 1919 422 \r\nQ 2459 422 2753 634 \r\nQ 3047 847 3047 1241 \r\nQ 3047 1584 2836 1778 \r\nQ 2625 1972 2144 2069 \r\nL 1759 2144 \r\nQ 1053 2284 737 2584 \r\nQ 422 2884 422 3419 \r\nQ 422 4038 858 4394 \r\nQ 1294 4750 2059 4750 \r\nQ 2388 4750 2728 4690 \r\nQ 3069 4631 3425 4513 \r\nz\r\n\" id=\"DejaVuSans-53\" transform=\"scale(0.015625)\"/>\r\n        <path d=\"M 3597 1894 \r\nL 3597 1613 \r\nL 953 1613 \r\nQ 991 1019 1311 708 \r\nQ 1631 397 2203 397 \r\nQ 2534 397 2845 478 \r\nQ 3156 559 3463 722 \r\nL 3463 178 \r\nQ 3153 47 2828 -22 \r\nQ 2503 -91 2169 -91 \r\nQ 1331 -91 842 396 \r\nQ 353 884 353 1716 \r\nQ 353 2575 817 3079 \r\nQ 1281 3584 2069 3584 \r\nQ 2775 3584 3186 3129 \r\nQ 3597 2675 3597 1894 \r\nz\r\nM 3022 2063 \r\nQ 3016 2534 2758 2815 \r\nQ 2500 3097 2075 3097 \r\nQ 1594 3097 1305 2825 \r\nQ 1016 2553 972 2059 \r\nL 3022 2063 \r\nz\r\n\" id=\"DejaVuSans-65\" transform=\"scale(0.015625)\"/>\r\n        <path d=\"M 1159 525 \r\nL 1159 -1331 \r\nL 581 -1331 \r\nL 581 3500 \r\nL 1159 3500 \r\nL 1159 2969 \r\nQ 1341 3281 1617 3432 \r\nQ 1894 3584 2278 3584 \r\nQ 2916 3584 3314 3078 \r\nQ 3713 2572 3713 1747 \r\nQ 3713 922 3314 415 \r\nQ 2916 -91 2278 -91 \r\nQ 1894 -91 1617 61 \r\nQ 1341 213 1159 525 \r\nz\r\nM 3116 1747 \r\nQ 3116 2381 2855 2742 \r\nQ 2594 3103 2138 3103 \r\nQ 1681 3103 1420 2742 \r\nQ 1159 2381 1159 1747 \r\nQ 1159 1113 1420 752 \r\nQ 1681 391 2138 391 \r\nQ 2594 391 2855 752 \r\nQ 3116 1113 3116 1747 \r\nz\r\n\" id=\"DejaVuSans-70\" transform=\"scale(0.015625)\"/>\r\n       </defs>\r\n       <use xlink:href=\"#DejaVuSans-31\"/>\r\n       <use x=\"63.623047\" xlink:href=\"#DejaVuSans-30\"/>\r\n       <use x=\"127.246094\" xlink:href=\"#DejaVuSans-2d\"/>\r\n       <use x=\"163.330078\" xlink:href=\"#DejaVuSans-53\"/>\r\n       <use x=\"226.806641\" xlink:href=\"#DejaVuSans-65\"/>\r\n       <use x=\"288.330078\" xlink:href=\"#DejaVuSans-70\"/>\r\n      </g>\r\n      <!-- 2019 -->\r\n      <g transform=\"translate(94.36338 261.634063)scale(0.1 -0.1)\">\r\n       <defs>\r\n        <path d=\"M 1228 531 \r\nL 3431 531 \r\nL 3431 0 \r\nL 469 0 \r\nL 469 531 \r\nQ 828 903 1448 1529 \r\nQ 2069 2156 2228 2338 \r\nQ 2531 2678 2651 2914 \r\nQ 2772 3150 2772 3378 \r\nQ 2772 3750 2511 3984 \r\nQ 2250 4219 1831 4219 \r\nQ 1534 4219 1204 4116 \r\nQ 875 4013 500 3803 \r\nL 500 4441 \r\nQ 881 4594 1212 4672 \r\nQ 1544 4750 1819 4750 \r\nQ 2544 4750 2975 4387 \r\nQ 3406 4025 3406 3419 \r\nQ 3406 3131 3298 2873 \r\nQ 3191 2616 2906 2266 \r\nQ 2828 2175 2409 1742 \r\nQ 1991 1309 1228 531 \r\nz\r\n\" id=\"DejaVuSans-32\" transform=\"scale(0.015625)\"/>\r\n        <path d=\"M 703 97 \r\nL 703 672 \r\nQ 941 559 1184 500 \r\nQ 1428 441 1663 441 \r\nQ 2288 441 2617 861 \r\nQ 2947 1281 2994 2138 \r\nQ 2813 1869 2534 1725 \r\nQ 2256 1581 1919 1581 \r\nQ 1219 1581 811 2004 \r\nQ 403 2428 403 3163 \r\nQ 403 3881 828 4315 \r\nQ 1253 4750 1959 4750 \r\nQ 2769 4750 3195 4129 \r\nQ 3622 3509 3622 2328 \r\nQ 3622 1225 3098 567 \r\nQ 2575 -91 1691 -91 \r\nQ 1453 -91 1209 -44 \r\nQ 966 3 703 97 \r\nz\r\nM 1959 2075 \r\nQ 2384 2075 2632 2365 \r\nQ 2881 2656 2881 3163 \r\nQ 2881 3666 2632 3958 \r\nQ 2384 4250 1959 4250 \r\nQ 1534 4250 1286 3958 \r\nQ 1038 3666 1038 3163 \r\nQ 1038 2656 1286 2365 \r\nQ 1534 2075 1959 2075 \r\nz\r\n\" id=\"DejaVuSans-39\" transform=\"scale(0.015625)\"/>\r\n       </defs>\r\n       <use xlink:href=\"#DejaVuSans-32\"/>\r\n       <use x=\"63.623047\" xlink:href=\"#DejaVuSans-30\"/>\r\n       <use x=\"127.246094\" xlink:href=\"#DejaVuSans-31\"/>\r\n       <use x=\"190.869141\" xlink:href=\"#DejaVuSans-39\"/>\r\n      </g>\r\n     </g>\r\n    </g>\r\n    <g id=\"xtick_3\">\r\n     <g id=\"line2d_3\">\r\n      <g>\r\n       <use style=\"stroke:#000000;stroke-width:0.8;\" x=\"220.260211\" xlink:href=\"#m2a0eac2712\" y=\"224.64\"/>\r\n      </g>\r\n     </g>\r\n     <g id=\"text_2\">\r\n      <!-- 00:00 -->\r\n      <g transform=\"translate(205.850836 239.238438)scale(0.1 -0.1)\">\r\n       <use xlink:href=\"#DejaVuSans-30\"/>\r\n       <use x=\"63.623047\" xlink:href=\"#DejaVuSans-30\"/>\r\n       <use x=\"127.246094\" xlink:href=\"#DejaVuSans-3a\"/>\r\n       <use x=\"160.9375\" xlink:href=\"#DejaVuSans-30\"/>\r\n       <use x=\"224.560547\" xlink:href=\"#DejaVuSans-30\"/>\r\n      </g>\r\n      <!-- 11-Sep -->\r\n      <g transform=\"translate(202.668805 250.43625)scale(0.1 -0.1)\">\r\n       <use xlink:href=\"#DejaVuSans-31\"/>\r\n       <use x=\"63.623047\" xlink:href=\"#DejaVuSans-31\"/>\r\n       <use x=\"127.246094\" xlink:href=\"#DejaVuSans-2d\"/>\r\n       <use x=\"163.330078\" xlink:href=\"#DejaVuSans-53\"/>\r\n       <use x=\"226.806641\" xlink:href=\"#DejaVuSans-65\"/>\r\n       <use x=\"288.330078\" xlink:href=\"#DejaVuSans-70\"/>\r\n      </g>\r\n     </g>\r\n    </g>\r\n    <g id=\"xtick_4\">\r\n     <g id=\"line2d_4\">\r\n      <g>\r\n       <use style=\"stroke:#000000;stroke-width:0.8;\" x=\"333.432042\" xlink:href=\"#m2a0eac2712\" y=\"224.64\"/>\r\n      </g>\r\n     </g>\r\n     <g id=\"text_3\">\r\n      <!-- 00:00 -->\r\n      <g transform=\"translate(319.022667 239.238438)scale(0.1 -0.1)\">\r\n       <use xlink:href=\"#DejaVuSans-30\"/>\r\n       <use x=\"63.623047\" xlink:href=\"#DejaVuSans-30\"/>\r\n       <use x=\"127.246094\" xlink:href=\"#DejaVuSans-3a\"/>\r\n       <use x=\"160.9375\" xlink:href=\"#DejaVuSans-30\"/>\r\n       <use x=\"224.560547\" xlink:href=\"#DejaVuSans-30\"/>\r\n      </g>\r\n      <!-- 12-Sep -->\r\n      <g transform=\"translate(315.840636 250.43625)scale(0.1 -0.1)\">\r\n       <use xlink:href=\"#DejaVuSans-31\"/>\r\n       <use x=\"63.623047\" xlink:href=\"#DejaVuSans-32\"/>\r\n       <use x=\"127.246094\" xlink:href=\"#DejaVuSans-2d\"/>\r\n       <use x=\"163.330078\" xlink:href=\"#DejaVuSans-53\"/>\r\n       <use x=\"226.806641\" xlink:href=\"#DejaVuSans-65\"/>\r\n       <use x=\"288.330078\" xlink:href=\"#DejaVuSans-70\"/>\r\n      </g>\r\n     </g>\r\n    </g>\r\n    <g id=\"xtick_5\">\r\n     <g id=\"line2d_5\">\r\n      <g>\r\n       <use style=\"stroke:#000000;stroke-width:0.8;\" x=\"361.725\" xlink:href=\"#m2a0eac2712\" y=\"224.64\"/>\r\n      </g>\r\n     </g>\r\n    </g>\r\n    <g id=\"xtick_6\">\r\n     <g id=\"line2d_6\">\r\n      <defs>\r\n       <path d=\"M 0 0 \r\nL 0 2 \r\n\" id=\"m042e5e37c8\" style=\"stroke:#000000;stroke-width:0.6;\"/>\r\n      </defs>\r\n      <g>\r\n       <use style=\"stroke:#000000;stroke-width:0.6;\" x=\"50.502465\" xlink:href=\"#m042e5e37c8\" y=\"224.64\"/>\r\n      </g>\r\n     </g>\r\n     <g id=\"text_4\">\r\n      <!-- 12:00 -->\r\n      <g transform=\"translate(36.09309 237.638438)scale(0.1 -0.1)\">\r\n       <use xlink:href=\"#DejaVuSans-31\"/>\r\n       <use x=\"63.623047\" xlink:href=\"#DejaVuSans-32\"/>\r\n       <use x=\"127.246094\" xlink:href=\"#DejaVuSans-3a\"/>\r\n       <use x=\"160.9375\" xlink:href=\"#DejaVuSans-30\"/>\r\n       <use x=\"224.560547\" xlink:href=\"#DejaVuSans-30\"/>\r\n      </g>\r\n     </g>\r\n    </g>\r\n    <g id=\"xtick_7\">\r\n     <g id=\"line2d_7\">\r\n      <g>\r\n       <use style=\"stroke:#000000;stroke-width:0.6;\" x=\"163.674296\" xlink:href=\"#m042e5e37c8\" y=\"224.64\"/>\r\n      </g>\r\n     </g>\r\n     <g id=\"text_5\">\r\n      <!-- 12:00 -->\r\n      <g transform=\"translate(149.264921 237.638438)scale(0.1 -0.1)\">\r\n       <use xlink:href=\"#DejaVuSans-31\"/>\r\n       <use x=\"63.623047\" xlink:href=\"#DejaVuSans-32\"/>\r\n       <use x=\"127.246094\" xlink:href=\"#DejaVuSans-3a\"/>\r\n       <use x=\"160.9375\" xlink:href=\"#DejaVuSans-30\"/>\r\n       <use x=\"224.560547\" xlink:href=\"#DejaVuSans-30\"/>\r\n      </g>\r\n     </g>\r\n    </g>\r\n    <g id=\"xtick_8\">\r\n     <g id=\"line2d_8\">\r\n      <g>\r\n       <use style=\"stroke:#000000;stroke-width:0.6;\" x=\"276.846127\" xlink:href=\"#m042e5e37c8\" y=\"224.64\"/>\r\n      </g>\r\n     </g>\r\n     <g id=\"text_6\">\r\n      <!-- 12:00 -->\r\n      <g transform=\"translate(262.436752 237.638438)scale(0.1 -0.1)\">\r\n       <use xlink:href=\"#DejaVuSans-31\"/>\r\n       <use x=\"63.623047\" xlink:href=\"#DejaVuSans-32\"/>\r\n       <use x=\"127.246094\" xlink:href=\"#DejaVuSans-3a\"/>\r\n       <use x=\"160.9375\" xlink:href=\"#DejaVuSans-30\"/>\r\n       <use x=\"224.560547\" xlink:href=\"#DejaVuSans-30\"/>\r\n      </g>\r\n     </g>\r\n    </g>\r\n   </g>\r\n   <g id=\"matplotlib.axis_2\">\r\n    <g id=\"ytick_1\">\r\n     <g id=\"line2d_9\">\r\n      <defs>\r\n       <path d=\"M 0 0 \r\nL -3.5 0 \r\n\" id=\"me554eb6c40\" style=\"stroke:#000000;stroke-width:0.8;\"/>\r\n      </defs>\r\n      <g>\r\n       <use style=\"stroke:#000000;stroke-width:0.8;\" x=\"26.925\" xlink:href=\"#me554eb6c40\" y=\"194.989091\"/>\r\n      </g>\r\n     </g>\r\n     <g id=\"text_7\">\r\n      <!-- 8 -->\r\n      <g transform=\"translate(13.5625 198.78831)scale(0.1 -0.1)\">\r\n       <defs>\r\n        <path d=\"M 2034 2216 \r\nQ 1584 2216 1326 1975 \r\nQ 1069 1734 1069 1313 \r\nQ 1069 891 1326 650 \r\nQ 1584 409 2034 409 \r\nQ 2484 409 2743 651 \r\nQ 3003 894 3003 1313 \r\nQ 3003 1734 2745 1975 \r\nQ 2488 2216 2034 2216 \r\nz\r\nM 1403 2484 \r\nQ 997 2584 770 2862 \r\nQ 544 3141 544 3541 \r\nQ 544 4100 942 4425 \r\nQ 1341 4750 2034 4750 \r\nQ 2731 4750 3128 4425 \r\nQ 3525 4100 3525 3541 \r\nQ 3525 3141 3298 2862 \r\nQ 3072 2584 2669 2484 \r\nQ 3125 2378 3379 2068 \r\nQ 3634 1759 3634 1313 \r\nQ 3634 634 3220 271 \r\nQ 2806 -91 2034 -91 \r\nQ 1263 -91 848 271 \r\nQ 434 634 434 1313 \r\nQ 434 1759 690 2068 \r\nQ 947 2378 1403 2484 \r\nz\r\nM 1172 3481 \r\nQ 1172 3119 1398 2916 \r\nQ 1625 2713 2034 2713 \r\nQ 2441 2713 2670 2916 \r\nQ 2900 3119 2900 3481 \r\nQ 2900 3844 2670 4047 \r\nQ 2441 4250 2034 4250 \r\nQ 1625 4250 1398 4047 \r\nQ 1172 3844 1172 3481 \r\nz\r\n\" id=\"DejaVuSans-38\" transform=\"scale(0.015625)\"/>\r\n       </defs>\r\n       <use xlink:href=\"#DejaVuSans-38\"/>\r\n      </g>\r\n     </g>\r\n    </g>\r\n    <g id=\"ytick_2\">\r\n     <g id=\"line2d_10\">\r\n      <g>\r\n       <use style=\"stroke:#000000;stroke-width:0.8;\" x=\"26.925\" xlink:href=\"#me554eb6c40\" y=\"164.577902\"/>\r\n      </g>\r\n     </g>\r\n     <g id=\"text_8\">\r\n      <!-- 10 -->\r\n      <g transform=\"translate(7.2 168.377121)scale(0.1 -0.1)\">\r\n       <use xlink:href=\"#DejaVuSans-31\"/>\r\n       <use x=\"63.623047\" xlink:href=\"#DejaVuSans-30\"/>\r\n      </g>\r\n     </g>\r\n    </g>\r\n    <g id=\"ytick_3\">\r\n     <g id=\"line2d_11\">\r\n      <g>\r\n       <use style=\"stroke:#000000;stroke-width:0.8;\" x=\"26.925\" xlink:href=\"#me554eb6c40\" y=\"134.166713\"/>\r\n      </g>\r\n     </g>\r\n     <g id=\"text_9\">\r\n      <!-- 12 -->\r\n      <g transform=\"translate(7.2 137.965932)scale(0.1 -0.1)\">\r\n       <use xlink:href=\"#DejaVuSans-31\"/>\r\n       <use x=\"63.623047\" xlink:href=\"#DejaVuSans-32\"/>\r\n      </g>\r\n     </g>\r\n    </g>\r\n    <g id=\"ytick_4\">\r\n     <g id=\"line2d_12\">\r\n      <g>\r\n       <use style=\"stroke:#000000;stroke-width:0.8;\" x=\"26.925\" xlink:href=\"#me554eb6c40\" y=\"103.755524\"/>\r\n      </g>\r\n     </g>\r\n     <g id=\"text_10\">\r\n      <!-- 14 -->\r\n      <g transform=\"translate(7.2 107.554743)scale(0.1 -0.1)\">\r\n       <defs>\r\n        <path d=\"M 2419 4116 \r\nL 825 1625 \r\nL 2419 1625 \r\nL 2419 4116 \r\nz\r\nM 2253 4666 \r\nL 3047 4666 \r\nL 3047 1625 \r\nL 3713 1625 \r\nL 3713 1100 \r\nL 3047 1100 \r\nL 3047 0 \r\nL 2419 0 \r\nL 2419 1100 \r\nL 313 1100 \r\nL 313 1709 \r\nL 2253 4666 \r\nz\r\n\" id=\"DejaVuSans-34\" transform=\"scale(0.015625)\"/>\r\n       </defs>\r\n       <use xlink:href=\"#DejaVuSans-31\"/>\r\n       <use x=\"63.623047\" xlink:href=\"#DejaVuSans-34\"/>\r\n      </g>\r\n     </g>\r\n    </g>\r\n    <g id=\"ytick_5\">\r\n     <g id=\"line2d_13\">\r\n      <g>\r\n       <use style=\"stroke:#000000;stroke-width:0.8;\" x=\"26.925\" xlink:href=\"#me554eb6c40\" y=\"73.344336\"/>\r\n      </g>\r\n     </g>\r\n     <g id=\"text_11\">\r\n      <!-- 16 -->\r\n      <g transform=\"translate(7.2 77.143554)scale(0.1 -0.1)\">\r\n       <defs>\r\n        <path d=\"M 2113 2584 \r\nQ 1688 2584 1439 2293 \r\nQ 1191 2003 1191 1497 \r\nQ 1191 994 1439 701 \r\nQ 1688 409 2113 409 \r\nQ 2538 409 2786 701 \r\nQ 3034 994 3034 1497 \r\nQ 3034 2003 2786 2293 \r\nQ 2538 2584 2113 2584 \r\nz\r\nM 3366 4563 \r\nL 3366 3988 \r\nQ 3128 4100 2886 4159 \r\nQ 2644 4219 2406 4219 \r\nQ 1781 4219 1451 3797 \r\nQ 1122 3375 1075 2522 \r\nQ 1259 2794 1537 2939 \r\nQ 1816 3084 2150 3084 \r\nQ 2853 3084 3261 2657 \r\nQ 3669 2231 3669 1497 \r\nQ 3669 778 3244 343 \r\nQ 2819 -91 2113 -91 \r\nQ 1303 -91 875 529 \r\nQ 447 1150 447 2328 \r\nQ 447 3434 972 4092 \r\nQ 1497 4750 2381 4750 \r\nQ 2619 4750 2861 4703 \r\nQ 3103 4656 3366 4563 \r\nz\r\n\" id=\"DejaVuSans-36\" transform=\"scale(0.015625)\"/>\r\n       </defs>\r\n       <use xlink:href=\"#DejaVuSans-31\"/>\r\n       <use x=\"63.623047\" xlink:href=\"#DejaVuSans-36\"/>\r\n      </g>\r\n     </g>\r\n    </g>\r\n    <g id=\"ytick_6\">\r\n     <g id=\"line2d_14\">\r\n      <g>\r\n       <use style=\"stroke:#000000;stroke-width:0.8;\" x=\"26.925\" xlink:href=\"#me554eb6c40\" y=\"42.933147\"/>\r\n      </g>\r\n     </g>\r\n     <g id=\"text_12\">\r\n      <!-- 18 -->\r\n      <g transform=\"translate(7.2 46.732366)scale(0.1 -0.1)\">\r\n       <use xlink:href=\"#DejaVuSans-31\"/>\r\n       <use x=\"63.623047\" xlink:href=\"#DejaVuSans-38\"/>\r\n      </g>\r\n     </g>\r\n    </g>\r\n    <g id=\"ytick_7\">\r\n     <g id=\"line2d_15\">\r\n      <g>\r\n       <use style=\"stroke:#000000;stroke-width:0.8;\" x=\"26.925\" xlink:href=\"#me554eb6c40\" y=\"12.521958\"/>\r\n      </g>\r\n     </g>\r\n     <g id=\"text_13\">\r\n      <!-- 20 -->\r\n      <g transform=\"translate(7.2 16.321177)scale(0.1 -0.1)\">\r\n       <use xlink:href=\"#DejaVuSans-32\"/>\r\n       <use x=\"63.623047\" xlink:href=\"#DejaVuSans-30\"/>\r\n      </g>\r\n     </g>\r\n    </g>\r\n   </g>\r\n   <g id=\"line2d_16\">\r\n    <path clip-path=\"url(#pc91a3bad27)\" d=\"M 26.925 172.180699 \r\nL 31.640493 147.851748 \r\nL 36.355986 144.810629 \r\nL 41.071479 132.646154 \r\nL 45.786972 106.796643 \r\nL 50.502465 111.358322 \r\nL 55.217958 111.358322 \r\nL 59.933451 97.673287 \r\nL 64.648944 96.152727 \r\nL 69.364437 106.796643 \r\nL 74.07993 100.714406 \r\nL 78.795423 97.673287 \r\nL 83.510915 106.796643 \r\nL 88.226408 47.494825 \r\nL 92.941901 17.083636 \r\nL 97.657394 68.782657 \r\nL 102.372887 102.234965 \r\nL 107.08838 100.714406 \r\nL 111.803873 143.29007 \r\nL 116.519366 97.673287 \r\nL 121.234859 80.947133 \r\nL 125.950352 123.522797 \r\nL 130.665845 158.495664 \r\nL 135.381338 155.454545 \r\nL 140.096831 96.152727 \r\nL 144.812324 93.111608 \r\nL 149.527817 118.961119 \r\nL 154.24331 143.29007 \r\nL 158.958803 146.331189 \r\nL 163.674296 120.481678 \r\nL 168.389789 120.481678 \r\nL 173.105282 109.837762 \r\nL 177.820775 106.796643 \r\nL 182.536268 144.810629 \r\nL 187.251761 106.796643 \r\nL 191.967254 115.92 \r\nL 196.682746 106.796643 \r\nL 201.398239 122.002238 \r\nL 206.113732 112.878881 \r\nL 210.829225 112.878881 \r\nL 215.544718 118.961119 \r\nL 220.260211 132.646154 \r\nL 224.975704 106.796643 \r\nL 229.691197 100.714406 \r\nL 234.40669 128.084476 \r\nL 239.122183 191.947972 \r\nL 243.837676 204.112448 \r\nL 248.553169 214.756364 \r\nL 253.268662 176.742378 \r\nL 257.984155 163.057343 \r\nL 262.699648 167.619021 \r\nL 267.415141 128.084476 \r\nL 272.130634 163.057343 \r\nL 276.846127 160.016224 \r\nL 281.56162 91.591049 \r\nL 286.277113 109.837762 \r\nL 290.992606 164.577902 \r\nL 295.708099 146.331189 \r\nL 300.423592 131.125594 \r\nL 305.139085 114.399441 \r\nL 309.854577 94.632168 \r\nL 314.57007 103.755524 \r\nL 319.285563 94.632168 \r\nL 324.001056 77.906014 \r\nL 328.716549 93.111608 \r\nL 333.432042 97.673287 \r\nL 338.147535 73.344336 \r\nL 342.863028 93.111608 \r\nL 347.578521 96.152727 \r\nL 352.294014 129.605035 \r\nL 357.009507 135.687273 \r\nL 361.725 143.29007 \r\n\" style=\"fill:none;stroke:#1f77b4;stroke-linecap:square;stroke-width:1.5;\"/>\r\n   </g>\r\n   <g id=\"line2d_17\">\r\n    <path clip-path=\"url(#pc91a3bad27)\" d=\"M 26.925 99.227254 \r\nL 31.640493 98.7256 \r\nL 36.355986 94.834149 \r\nL 41.071479 96.221477 \r\nL 45.786972 97.35924 \r\nL 50.502465 109.860596 \r\nL 55.217958 110.211075 \r\nL 59.933451 96.745681 \r\nL 64.648944 91.298615 \r\nL 69.364437 96.201451 \r\nL 74.07993 98.69203 \r\nL 78.795423 108.500399 \r\nL 83.510915 98.485286 \r\nL 88.226408 106.716768 \r\nL 92.941901 92.85262 \r\nL 97.657394 100.837234 \r\nL 102.372887 98.220988 \r\nL 107.08838 102.306102 \r\nL 111.803873 99.917974 \r\nL 116.519366 93.609379 \r\nL 121.234859 87.634021 \r\nL 125.950352 83.814902 \r\nL 130.665845 94.936092 \r\nL 135.381338 104.489922 \r\nL 140.096831 92.489858 \r\nL 144.812324 92.881376 \r\nL 149.527817 87.135557 \r\nL 154.24331 83.450081 \r\nL 158.958803 92.407347 \r\nL 163.674296 102.816297 \r\nL 168.389789 101.101039 \r\nL 173.105282 96.125987 \r\nL 177.820775 89.397075 \r\nL 182.536268 83.477097 \r\nL 187.251761 106.471654 \r\nL 191.967254 88.492926 \r\nL 196.682746 101.825939 \r\nL 201.398239 87.32967 \r\nL 206.113732 80.570668 \r\nL 210.829225 77.374998 \r\nL 215.544718 95.279393 \r\nL 220.260211 103.079334 \r\nL 224.975704 98.041217 \r\nL 229.691197 85.884351 \r\nL 234.40669 74.303923 \r\nL 239.122183 67.953549 \r\nL 243.837676 88.790954 \r\nL 248.553169 94.050853 \r\nL 253.268662 98.940189 \r\nL 257.984155 92.354794 \r\nL 262.699648 74.018989 \r\nL 267.415141 75.492904 \r\nL 272.130634 86.54066 \r\nL 276.846127 105.650017 \r\nL 281.56162 97.186285 \r\nL 286.277113 77.408177 \r\nL 290.992606 76.718616 \r\nL 295.708099 81.419654 \r\nL 300.423592 83.911523 \r\nL 305.139085 83.647413 \r\nL 309.854577 95.892054 \r\nL 314.57007 87.108991 \r\nL 319.285563 78.270548 \r\nL 324.001056 70.629511 \r\nL 328.716549 87.963053 \r\nL 333.432042 96.283963 \r\nL 338.147535 82.87131 \r\nL 342.863028 84.219485 \r\nL 347.578521 82.409273 \r\nL 352.294014 66.719817 \r\nL 357.009507 92.535523 \r\nL 361.725 91.160825 \r\n\" style=\"fill:none;stroke:#ff7f0e;stroke-linecap:square;stroke-width:1.5;\"/>\r\n   </g>\r\n   <g id=\"patch_3\">\r\n    <path d=\"M 26.925 224.64 \r\nL 26.925 7.2 \r\n\" style=\"fill:none;stroke:#000000;stroke-linecap:square;stroke-linejoin:miter;stroke-width:0.8;\"/>\r\n   </g>\r\n   <g id=\"patch_4\">\r\n    <path d=\"M 361.725 224.64 \r\nL 361.725 7.2 \r\n\" style=\"fill:none;stroke:#000000;stroke-linecap:square;stroke-linejoin:miter;stroke-width:0.8;\"/>\r\n   </g>\r\n   <g id=\"patch_5\">\r\n    <path d=\"M 26.925 224.64 \r\nL 361.725 224.64 \r\n\" style=\"fill:none;stroke:#000000;stroke-linecap:square;stroke-linejoin:miter;stroke-width:0.8;\"/>\r\n   </g>\r\n   <g id=\"patch_6\">\r\n    <path d=\"M 26.925 7.2 \r\nL 361.725 7.2 \r\n\" style=\"fill:none;stroke:#000000;stroke-linecap:square;stroke-linejoin:miter;stroke-width:0.8;\"/>\r\n   </g>\r\n   <g id=\"legend_1\">\r\n    <g id=\"patch_7\">\r\n     <path d=\"M 292.164063 44.55625 \r\nL 354.725 44.55625 \r\nQ 356.725 44.55625 356.725 42.55625 \r\nL 356.725 14.2 \r\nQ 356.725 12.2 354.725 12.2 \r\nL 292.164063 12.2 \r\nQ 290.164063 12.2 290.164063 14.2 \r\nL 290.164063 42.55625 \r\nQ 290.164063 44.55625 292.164063 44.55625 \r\nz\r\n\" style=\"fill:#ffffff;opacity:0.8;stroke:#cccccc;stroke-linejoin:miter;\"/>\r\n    </g>\r\n    <g id=\"line2d_18\">\r\n     <path d=\"M 294.164063 20.298438 \r\nL 314.164063 20.298438 \r\n\" style=\"fill:none;stroke:#1f77b4;stroke-linecap:square;stroke-width:1.5;\"/>\r\n    </g>\r\n    <g id=\"line2d_19\"/>\r\n    <g id=\"text_14\">\r\n     <!-- PM2.5 -->\r\n     <g transform=\"translate(322.164063 23.798438)scale(0.1 -0.1)\">\r\n      <defs>\r\n       <path d=\"M 1259 4147 \r\nL 1259 2394 \r\nL 2053 2394 \r\nQ 2494 2394 2734 2622 \r\nQ 2975 2850 2975 3272 \r\nQ 2975 3691 2734 3919 \r\nQ 2494 4147 2053 4147 \r\nL 1259 4147 \r\nz\r\nM 628 4666 \r\nL 2053 4666 \r\nQ 2838 4666 3239 4311 \r\nQ 3641 3956 3641 3272 \r\nQ 3641 2581 3239 2228 \r\nQ 2838 1875 2053 1875 \r\nL 1259 1875 \r\nL 1259 0 \r\nL 628 0 \r\nL 628 4666 \r\nz\r\n\" id=\"DejaVuSans-50\" transform=\"scale(0.015625)\"/>\r\n       <path d=\"M 628 4666 \r\nL 1569 4666 \r\nL 2759 1491 \r\nL 3956 4666 \r\nL 4897 4666 \r\nL 4897 0 \r\nL 4281 0 \r\nL 4281 4097 \r\nL 3078 897 \r\nL 2444 897 \r\nL 1241 4097 \r\nL 1241 0 \r\nL 628 0 \r\nL 628 4666 \r\nz\r\n\" id=\"DejaVuSans-4d\" transform=\"scale(0.015625)\"/>\r\n       <path d=\"M 684 794 \r\nL 1344 794 \r\nL 1344 0 \r\nL 684 0 \r\nL 684 794 \r\nz\r\n\" id=\"DejaVuSans-2e\" transform=\"scale(0.015625)\"/>\r\n       <path d=\"M 691 4666 \r\nL 3169 4666 \r\nL 3169 4134 \r\nL 1269 4134 \r\nL 1269 2991 \r\nQ 1406 3038 1543 3061 \r\nQ 1681 3084 1819 3084 \r\nQ 2600 3084 3056 2656 \r\nQ 3513 2228 3513 1497 \r\nQ 3513 744 3044 326 \r\nQ 2575 -91 1722 -91 \r\nQ 1428 -91 1123 -41 \r\nQ 819 9 494 109 \r\nL 494 744 \r\nQ 775 591 1075 516 \r\nQ 1375 441 1709 441 \r\nQ 2250 441 2565 725 \r\nQ 2881 1009 2881 1497 \r\nQ 2881 1984 2565 2268 \r\nQ 2250 2553 1709 2553 \r\nQ 1456 2553 1204 2497 \r\nQ 953 2441 691 2322 \r\nL 691 4666 \r\nz\r\n\" id=\"DejaVuSans-35\" transform=\"scale(0.015625)\"/>\r\n      </defs>\r\n      <use xlink:href=\"#DejaVuSans-50\"/>\r\n      <use x=\"60.302734\" xlink:href=\"#DejaVuSans-4d\"/>\r\n      <use x=\"146.582031\" xlink:href=\"#DejaVuSans-32\"/>\r\n      <use x=\"210.205078\" xlink:href=\"#DejaVuSans-2e\"/>\r\n      <use x=\"241.992188\" xlink:href=\"#DejaVuSans-35\"/>\r\n     </g>\r\n    </g>\r\n    <g id=\"line2d_20\">\r\n     <path d=\"M 294.164063 34.976563 \r\nL 314.164063 34.976563 \r\n\" style=\"fill:none;stroke:#ff7f0e;stroke-linecap:square;stroke-width:1.5;\"/>\r\n    </g>\r\n    <g id=\"line2d_21\"/>\r\n    <g id=\"text_15\">\r\n     <!-- pred -->\r\n     <g transform=\"translate(322.164063 38.476563)scale(0.1 -0.1)\">\r\n      <defs>\r\n       <path d=\"M 2631 2963 \r\nQ 2534 3019 2420 3045 \r\nQ 2306 3072 2169 3072 \r\nQ 1681 3072 1420 2755 \r\nQ 1159 2438 1159 1844 \r\nL 1159 0 \r\nL 581 0 \r\nL 581 3500 \r\nL 1159 3500 \r\nL 1159 2956 \r\nQ 1341 3275 1631 3429 \r\nQ 1922 3584 2338 3584 \r\nQ 2397 3584 2469 3576 \r\nQ 2541 3569 2628 3553 \r\nL 2631 2963 \r\nz\r\n\" id=\"DejaVuSans-72\" transform=\"scale(0.015625)\"/>\r\n       <path d=\"M 2906 2969 \r\nL 2906 4863 \r\nL 3481 4863 \r\nL 3481 0 \r\nL 2906 0 \r\nL 2906 525 \r\nQ 2725 213 2448 61 \r\nQ 2172 -91 1784 -91 \r\nQ 1150 -91 751 415 \r\nQ 353 922 353 1747 \r\nQ 353 2572 751 3078 \r\nQ 1150 3584 1784 3584 \r\nQ 2172 3584 2448 3432 \r\nQ 2725 3281 2906 2969 \r\nz\r\nM 947 1747 \r\nQ 947 1113 1208 752 \r\nQ 1469 391 1925 391 \r\nQ 2381 391 2643 752 \r\nQ 2906 1113 2906 1747 \r\nQ 2906 2381 2643 2742 \r\nQ 2381 3103 1925 3103 \r\nQ 1469 3103 1208 2742 \r\nQ 947 2381 947 1747 \r\nz\r\n\" id=\"DejaVuSans-64\" transform=\"scale(0.015625)\"/>\r\n      </defs>\r\n      <use xlink:href=\"#DejaVuSans-70\"/>\r\n      <use x=\"63.476562\" xlink:href=\"#DejaVuSans-72\"/>\r\n      <use x=\"102.339844\" xlink:href=\"#DejaVuSans-65\"/>\r\n      <use x=\"163.863281\" xlink:href=\"#DejaVuSans-64\"/>\r\n     </g>\r\n    </g>\r\n   </g>\r\n  </g>\r\n </g>\r\n <defs>\r\n  <clipPath id=\"pc91a3bad27\">\r\n   <rect height=\"217.44\" width=\"334.8\" x=\"26.925\" y=\"7.2\"/>\r\n  </clipPath>\r\n </defs>\r\n</svg>\r\n",
      "image/png": "[encoded data removed]"
     },
     "metadata": {
      "needs_background": "light"
     }
    }
   ],
   "source": [
    "i = 699\n",
    "print('province =',province)\n",
    "h = y_train_scalers[province].inverse_transform(pred[i].numpy().reshape((-1,1)))\n",
    "k = Y_test[province][i].copy()\n",
    "k['pred'] = h\n",
    "k.plot();"
   ]
  },
  {
   "source": [
    "## Evaluate train data"
   ],
   "cell_type": "markdown",
   "metadata": {}
  },
  {
   "cell_type": "code",
   "execution_count": 34,
   "metadata": {},
   "outputs": [
    {
     "output_type": "stream",
     "name": "stdout",
     "text": [
      "province : Chanthaburi\n"
     ]
    },
    {
     "output_type": "execute_result",
     "data": {
      "text/plain": [
       "6.178847768565264"
      ]
     },
     "metadata": {},
     "execution_count": 34
    }
   ],
   "source": [
    "from sklearn.metrics import mean_squared_error as mse\n",
    "pred = model(x_feed)\n",
    "rmse = []\n",
    "print('province :', province)\n",
    "for i in range(len(pred)):\n",
    "    p = y_train_scalers[province].inverse_transform(pred[i].numpy().reshape((-1,1)))\n",
    "    y_t = y_train_scalers[province].inverse_transform(y_feed[i].reshape((-1,1)))\n",
    "    rmse.append(np.sqrt(mse(p, y_t)))\n",
    "np.mean(rmse)"
   ]
  },
  {
   "cell_type": "code",
   "execution_count": 35,
   "metadata": {},
   "outputs": [
    {
     "output_type": "stream",
     "name": "stdout",
     "text": [
      "province = Chanthaburi\n"
     ]
    },
    {
     "output_type": "display_data",
     "data": {
      "text/plain": "<Figure size 432x288 with 1 Axes>",
      "image/svg+xml": "<?xml version=\"1.0\" encoding=\"utf-8\" standalone=\"no\"?>\r\n<!DOCTYPE svg PUBLIC \"-//W3C//DTD SVG 1.1//EN\"\r\n  \"http://www.w3.org/Graphics/SVG/1.1/DTD/svg11.dtd\">\r\n<svg height=\"270.91375pt\" version=\"1.1\" viewBox=\"0 0 385.628906 270.91375\" width=\"385.628906pt\" xmlns=\"http://www.w3.org/2000/svg\" xmlns:xlink=\"http://www.w3.org/1999/xlink\">\r\n <metadata>\r\n  <rdf:RDF xmlns:cc=\"http://creativecommons.org/ns#\" xmlns:dc=\"http://purl.org/dc/elements/1.1/\" xmlns:rdf=\"http://www.w3.org/1999/02/22-rdf-syntax-ns#\">\r\n   <cc:Work>\r\n    <dc:type rdf:resource=\"http://purl.org/dc/dcmitype/StillImage\"/>\r\n    <dc:date>2021-04-26T10:40:09.897709</dc:date>\r\n    <dc:format>image/svg+xml</dc:format>\r\n    <dc:creator>\r\n     <cc:Agent>\r\n      <dc:title>Matplotlib v3.4.1, https://matplotlib.org/</dc:title>\r\n     </cc:Agent>\r\n    </dc:creator>\r\n   </cc:Work>\r\n  </rdf:RDF>\r\n </metadata>\r\n <defs>\r\n  <style type=\"text/css\">*{stroke-linecap:butt;stroke-linejoin:round;}</style>\r\n </defs>\r\n <g id=\"figure_1\">\r\n  <g id=\"patch_1\">\r\n   <path d=\"M -0 270.91375 \r\nL 385.628906 270.91375 \r\nL 385.628906 0 \r\nL -0 0 \r\nz\r\n\" style=\"fill:none;\"/>\r\n  </g>\r\n  <g id=\"axes_1\">\r\n   <g id=\"patch_2\">\r\n    <path d=\"M 26.925 224.64 \r\nL 361.725 224.64 \r\nL 361.725 7.2 \r\nL 26.925 7.2 \r\nz\r\n\" style=\"fill:#ffffff;\"/>\r\n   </g>\r\n   <g id=\"matplotlib.axis_1\">\r\n    <g id=\"xtick_1\">\r\n     <g id=\"line2d_1\">\r\n      <defs>\r\n       <path d=\"M 0 0 \r\nL 0 3.5 \r\n\" id=\"m5593b9adac\" style=\"stroke:#000000;stroke-width:0.8;\"/>\r\n      </defs>\r\n      <g>\r\n       <use style=\"stroke:#000000;stroke-width:0.8;\" x=\"26.925\" xlink:href=\"#m5593b9adac\" y=\"224.64\"/>\r\n      </g>\r\n     </g>\r\n    </g>\r\n    <g id=\"xtick_2\">\r\n     <g id=\"line2d_2\">\r\n      <g>\r\n       <use style=\"stroke:#000000;stroke-width:0.8;\" x=\"135.381338\" xlink:href=\"#m5593b9adac\" y=\"224.64\"/>\r\n      </g>\r\n     </g>\r\n     <g id=\"text_1\">\r\n      <!-- 00:00 -->\r\n      <g transform=\"translate(120.971963 239.238438)scale(0.1 -0.1)\">\r\n       <defs>\r\n        <path d=\"M 2034 4250 \r\nQ 1547 4250 1301 3770 \r\nQ 1056 3291 1056 2328 \r\nQ 1056 1369 1301 889 \r\nQ 1547 409 2034 409 \r\nQ 2525 409 2770 889 \r\nQ 3016 1369 3016 2328 \r\nQ 3016 3291 2770 3770 \r\nQ 2525 4250 2034 4250 \r\nz\r\nM 2034 4750 \r\nQ 2819 4750 3233 4129 \r\nQ 3647 3509 3647 2328 \r\nQ 3647 1150 3233 529 \r\nQ 2819 -91 2034 -91 \r\nQ 1250 -91 836 529 \r\nQ 422 1150 422 2328 \r\nQ 422 3509 836 4129 \r\nQ 1250 4750 2034 4750 \r\nz\r\n\" id=\"DejaVuSans-30\" transform=\"scale(0.015625)\"/>\r\n        <path d=\"M 750 794 \r\nL 1409 794 \r\nL 1409 0 \r\nL 750 0 \r\nL 750 794 \r\nz\r\nM 750 3309 \r\nL 1409 3309 \r\nL 1409 2516 \r\nL 750 2516 \r\nL 750 3309 \r\nz\r\n\" id=\"DejaVuSans-3a\" transform=\"scale(0.015625)\"/>\r\n       </defs>\r\n       <use xlink:href=\"#DejaVuSans-30\"/>\r\n       <use x=\"63.623047\" xlink:href=\"#DejaVuSans-30\"/>\r\n       <use x=\"127.246094\" xlink:href=\"#DejaVuSans-3a\"/>\r\n       <use x=\"160.9375\" xlink:href=\"#DejaVuSans-30\"/>\r\n       <use x=\"224.560547\" xlink:href=\"#DejaVuSans-30\"/>\r\n      </g>\r\n      <!-- 03-Apr -->\r\n      <g transform=\"translate(118.677432 250.43625)scale(0.1 -0.1)\">\r\n       <defs>\r\n        <path d=\"M 2597 2516 \r\nQ 3050 2419 3304 2112 \r\nQ 3559 1806 3559 1356 \r\nQ 3559 666 3084 287 \r\nQ 2609 -91 1734 -91 \r\nQ 1441 -91 1130 -33 \r\nQ 819 25 488 141 \r\nL 488 750 \r\nQ 750 597 1062 519 \r\nQ 1375 441 1716 441 \r\nQ 2309 441 2620 675 \r\nQ 2931 909 2931 1356 \r\nQ 2931 1769 2642 2001 \r\nQ 2353 2234 1838 2234 \r\nL 1294 2234 \r\nL 1294 2753 \r\nL 1863 2753 \r\nQ 2328 2753 2575 2939 \r\nQ 2822 3125 2822 3475 \r\nQ 2822 3834 2567 4026 \r\nQ 2313 4219 1838 4219 \r\nQ 1578 4219 1281 4162 \r\nQ 984 4106 628 3988 \r\nL 628 4550 \r\nQ 988 4650 1302 4700 \r\nQ 1616 4750 1894 4750 \r\nQ 2613 4750 3031 4423 \r\nQ 3450 4097 3450 3541 \r\nQ 3450 3153 3228 2886 \r\nQ 3006 2619 2597 2516 \r\nz\r\n\" id=\"DejaVuSans-33\" transform=\"scale(0.015625)\"/>\r\n        <path d=\"M 313 2009 \r\nL 1997 2009 \r\nL 1997 1497 \r\nL 313 1497 \r\nL 313 2009 \r\nz\r\n\" id=\"DejaVuSans-2d\" transform=\"scale(0.015625)\"/>\r\n        <path d=\"M 2188 4044 \r\nL 1331 1722 \r\nL 3047 1722 \r\nL 2188 4044 \r\nz\r\nM 1831 4666 \r\nL 2547 4666 \r\nL 4325 0 \r\nL 3669 0 \r\nL 3244 1197 \r\nL 1141 1197 \r\nL 716 0 \r\nL 50 0 \r\nL 1831 4666 \r\nz\r\n\" id=\"DejaVuSans-41\" transform=\"scale(0.015625)\"/>\r\n        <path d=\"M 1159 525 \r\nL 1159 -1331 \r\nL 581 -1331 \r\nL 581 3500 \r\nL 1159 3500 \r\nL 1159 2969 \r\nQ 1341 3281 1617 3432 \r\nQ 1894 3584 2278 3584 \r\nQ 2916 3584 3314 3078 \r\nQ 3713 2572 3713 1747 \r\nQ 3713 922 3314 415 \r\nQ 2916 -91 2278 -91 \r\nQ 1894 -91 1617 61 \r\nQ 1341 213 1159 525 \r\nz\r\nM 3116 1747 \r\nQ 3116 2381 2855 2742 \r\nQ 2594 3103 2138 3103 \r\nQ 1681 3103 1420 2742 \r\nQ 1159 2381 1159 1747 \r\nQ 1159 1113 1420 752 \r\nQ 1681 391 2138 391 \r\nQ 2594 391 2855 752 \r\nQ 3116 1113 3116 1747 \r\nz\r\n\" id=\"DejaVuSans-70\" transform=\"scale(0.015625)\"/>\r\n        <path d=\"M 2631 2963 \r\nQ 2534 3019 2420 3045 \r\nQ 2306 3072 2169 3072 \r\nQ 1681 3072 1420 2755 \r\nQ 1159 2438 1159 1844 \r\nL 1159 0 \r\nL 581 0 \r\nL 581 3500 \r\nL 1159 3500 \r\nL 1159 2956 \r\nQ 1341 3275 1631 3429 \r\nQ 1922 3584 2338 3584 \r\nQ 2397 3584 2469 3576 \r\nQ 2541 3569 2628 3553 \r\nL 2631 2963 \r\nz\r\n\" id=\"DejaVuSans-72\" transform=\"scale(0.015625)\"/>\r\n       </defs>\r\n       <use xlink:href=\"#DejaVuSans-30\"/>\r\n       <use x=\"63.623047\" xlink:href=\"#DejaVuSans-33\"/>\r\n       <use x=\"127.246094\" xlink:href=\"#DejaVuSans-2d\"/>\r\n       <use x=\"161.080078\" xlink:href=\"#DejaVuSans-41\"/>\r\n       <use x=\"229.488281\" xlink:href=\"#DejaVuSans-70\"/>\r\n       <use x=\"292.964844\" xlink:href=\"#DejaVuSans-72\"/>\r\n      </g>\r\n      <!-- 2016 -->\r\n      <g transform=\"translate(122.656338 261.634062)scale(0.1 -0.1)\">\r\n       <defs>\r\n        <path d=\"M 1228 531 \r\nL 3431 531 \r\nL 3431 0 \r\nL 469 0 \r\nL 469 531 \r\nQ 828 903 1448 1529 \r\nQ 2069 2156 2228 2338 \r\nQ 2531 2678 2651 2914 \r\nQ 2772 3150 2772 3378 \r\nQ 2772 3750 2511 3984 \r\nQ 2250 4219 1831 4219 \r\nQ 1534 4219 1204 4116 \r\nQ 875 4013 500 3803 \r\nL 500 4441 \r\nQ 881 4594 1212 4672 \r\nQ 1544 4750 1819 4750 \r\nQ 2544 4750 2975 4387 \r\nQ 3406 4025 3406 3419 \r\nQ 3406 3131 3298 2873 \r\nQ 3191 2616 2906 2266 \r\nQ 2828 2175 2409 1742 \r\nQ 1991 1309 1228 531 \r\nz\r\n\" id=\"DejaVuSans-32\" transform=\"scale(0.015625)\"/>\r\n        <path d=\"M 794 531 \r\nL 1825 531 \r\nL 1825 4091 \r\nL 703 3866 \r\nL 703 4441 \r\nL 1819 4666 \r\nL 2450 4666 \r\nL 2450 531 \r\nL 3481 531 \r\nL 3481 0 \r\nL 794 0 \r\nL 794 531 \r\nz\r\n\" id=\"DejaVuSans-31\" transform=\"scale(0.015625)\"/>\r\n        <path d=\"M 2113 2584 \r\nQ 1688 2584 1439 2293 \r\nQ 1191 2003 1191 1497 \r\nQ 1191 994 1439 701 \r\nQ 1688 409 2113 409 \r\nQ 2538 409 2786 701 \r\nQ 3034 994 3034 1497 \r\nQ 3034 2003 2786 2293 \r\nQ 2538 2584 2113 2584 \r\nz\r\nM 3366 4563 \r\nL 3366 3988 \r\nQ 3128 4100 2886 4159 \r\nQ 2644 4219 2406 4219 \r\nQ 1781 4219 1451 3797 \r\nQ 1122 3375 1075 2522 \r\nQ 1259 2794 1537 2939 \r\nQ 1816 3084 2150 3084 \r\nQ 2853 3084 3261 2657 \r\nQ 3669 2231 3669 1497 \r\nQ 3669 778 3244 343 \r\nQ 2819 -91 2113 -91 \r\nQ 1303 -91 875 529 \r\nQ 447 1150 447 2328 \r\nQ 447 3434 972 4092 \r\nQ 1497 4750 2381 4750 \r\nQ 2619 4750 2861 4703 \r\nQ 3103 4656 3366 4563 \r\nz\r\n\" id=\"DejaVuSans-36\" transform=\"scale(0.015625)\"/>\r\n       </defs>\r\n       <use xlink:href=\"#DejaVuSans-32\"/>\r\n       <use x=\"63.623047\" xlink:href=\"#DejaVuSans-30\"/>\r\n       <use x=\"127.246094\" xlink:href=\"#DejaVuSans-31\"/>\r\n       <use x=\"190.869141\" xlink:href=\"#DejaVuSans-36\"/>\r\n      </g>\r\n     </g>\r\n    </g>\r\n    <g id=\"xtick_3\">\r\n     <g id=\"line2d_3\">\r\n      <g>\r\n       <use style=\"stroke:#000000;stroke-width:0.8;\" x=\"248.553169\" xlink:href=\"#m5593b9adac\" y=\"224.64\"/>\r\n      </g>\r\n     </g>\r\n     <g id=\"text_2\">\r\n      <!-- 00:00 -->\r\n      <g transform=\"translate(234.143794 239.238438)scale(0.1 -0.1)\">\r\n       <use xlink:href=\"#DejaVuSans-30\"/>\r\n       <use x=\"63.623047\" xlink:href=\"#DejaVuSans-30\"/>\r\n       <use x=\"127.246094\" xlink:href=\"#DejaVuSans-3a\"/>\r\n       <use x=\"160.9375\" xlink:href=\"#DejaVuSans-30\"/>\r\n       <use x=\"224.560547\" xlink:href=\"#DejaVuSans-30\"/>\r\n      </g>\r\n      <!-- 04-Apr -->\r\n      <g transform=\"translate(231.849263 250.43625)scale(0.1 -0.1)\">\r\n       <defs>\r\n        <path d=\"M 2419 4116 \r\nL 825 1625 \r\nL 2419 1625 \r\nL 2419 4116 \r\nz\r\nM 2253 4666 \r\nL 3047 4666 \r\nL 3047 1625 \r\nL 3713 1625 \r\nL 3713 1100 \r\nL 3047 1100 \r\nL 3047 0 \r\nL 2419 0 \r\nL 2419 1100 \r\nL 313 1100 \r\nL 313 1709 \r\nL 2253 4666 \r\nz\r\n\" id=\"DejaVuSans-34\" transform=\"scale(0.015625)\"/>\r\n       </defs>\r\n       <use xlink:href=\"#DejaVuSans-30\"/>\r\n       <use x=\"63.623047\" xlink:href=\"#DejaVuSans-34\"/>\r\n       <use x=\"127.246094\" xlink:href=\"#DejaVuSans-2d\"/>\r\n       <use x=\"161.080078\" xlink:href=\"#DejaVuSans-41\"/>\r\n       <use x=\"229.488281\" xlink:href=\"#DejaVuSans-70\"/>\r\n       <use x=\"292.964844\" xlink:href=\"#DejaVuSans-72\"/>\r\n      </g>\r\n     </g>\r\n    </g>\r\n    <g id=\"xtick_4\">\r\n     <g id=\"line2d_4\">\r\n      <g>\r\n       <use style=\"stroke:#000000;stroke-width:0.8;\" x=\"361.725\" xlink:href=\"#m5593b9adac\" y=\"224.64\"/>\r\n      </g>\r\n     </g>\r\n     <g id=\"text_3\">\r\n      <!-- 00:00 -->\r\n      <g transform=\"translate(347.315625 239.238438)scale(0.1 -0.1)\">\r\n       <use xlink:href=\"#DejaVuSans-30\"/>\r\n       <use x=\"63.623047\" xlink:href=\"#DejaVuSans-30\"/>\r\n       <use x=\"127.246094\" xlink:href=\"#DejaVuSans-3a\"/>\r\n       <use x=\"160.9375\" xlink:href=\"#DejaVuSans-30\"/>\r\n       <use x=\"224.560547\" xlink:href=\"#DejaVuSans-30\"/>\r\n      </g>\r\n      <!-- 05-Apr -->\r\n      <g transform=\"translate(345.021094 250.43625)scale(0.1 -0.1)\">\r\n       <defs>\r\n        <path d=\"M 691 4666 \r\nL 3169 4666 \r\nL 3169 4134 \r\nL 1269 4134 \r\nL 1269 2991 \r\nQ 1406 3038 1543 3061 \r\nQ 1681 3084 1819 3084 \r\nQ 2600 3084 3056 2656 \r\nQ 3513 2228 3513 1497 \r\nQ 3513 744 3044 326 \r\nQ 2575 -91 1722 -91 \r\nQ 1428 -91 1123 -41 \r\nQ 819 9 494 109 \r\nL 494 744 \r\nQ 775 591 1075 516 \r\nQ 1375 441 1709 441 \r\nQ 2250 441 2565 725 \r\nQ 2881 1009 2881 1497 \r\nQ 2881 1984 2565 2268 \r\nQ 2250 2553 1709 2553 \r\nQ 1456 2553 1204 2497 \r\nQ 953 2441 691 2322 \r\nL 691 4666 \r\nz\r\n\" id=\"DejaVuSans-35\" transform=\"scale(0.015625)\"/>\r\n       </defs>\r\n       <use xlink:href=\"#DejaVuSans-30\"/>\r\n       <use x=\"63.623047\" xlink:href=\"#DejaVuSans-35\"/>\r\n       <use x=\"127.246094\" xlink:href=\"#DejaVuSans-2d\"/>\r\n       <use x=\"161.080078\" xlink:href=\"#DejaVuSans-41\"/>\r\n       <use x=\"229.488281\" xlink:href=\"#DejaVuSans-70\"/>\r\n       <use x=\"292.964844\" xlink:href=\"#DejaVuSans-72\"/>\r\n      </g>\r\n     </g>\r\n    </g>\r\n    <g id=\"xtick_5\">\r\n     <g id=\"line2d_5\">\r\n      <defs>\r\n       <path d=\"M 0 0 \r\nL 0 2 \r\n\" id=\"m0a2f344a2a\" style=\"stroke:#000000;stroke-width:0.6;\"/>\r\n      </defs>\r\n      <g>\r\n       <use style=\"stroke:#000000;stroke-width:0.6;\" x=\"78.795423\" xlink:href=\"#m0a2f344a2a\" y=\"224.64\"/>\r\n      </g>\r\n     </g>\r\n     <g id=\"text_4\">\r\n      <!-- 12:00 -->\r\n      <g transform=\"translate(64.386048 237.638438)scale(0.1 -0.1)\">\r\n       <use xlink:href=\"#DejaVuSans-31\"/>\r\n       <use x=\"63.623047\" xlink:href=\"#DejaVuSans-32\"/>\r\n       <use x=\"127.246094\" xlink:href=\"#DejaVuSans-3a\"/>\r\n       <use x=\"160.9375\" xlink:href=\"#DejaVuSans-30\"/>\r\n       <use x=\"224.560547\" xlink:href=\"#DejaVuSans-30\"/>\r\n      </g>\r\n     </g>\r\n    </g>\r\n    <g id=\"xtick_6\">\r\n     <g id=\"line2d_6\">\r\n      <g>\r\n       <use style=\"stroke:#000000;stroke-width:0.6;\" x=\"191.967254\" xlink:href=\"#m0a2f344a2a\" y=\"224.64\"/>\r\n      </g>\r\n     </g>\r\n     <g id=\"text_5\">\r\n      <!-- 12:00 -->\r\n      <g transform=\"translate(177.557879 237.638438)scale(0.1 -0.1)\">\r\n       <use xlink:href=\"#DejaVuSans-31\"/>\r\n       <use x=\"63.623047\" xlink:href=\"#DejaVuSans-32\"/>\r\n       <use x=\"127.246094\" xlink:href=\"#DejaVuSans-3a\"/>\r\n       <use x=\"160.9375\" xlink:href=\"#DejaVuSans-30\"/>\r\n       <use x=\"224.560547\" xlink:href=\"#DejaVuSans-30\"/>\r\n      </g>\r\n     </g>\r\n    </g>\r\n    <g id=\"xtick_7\">\r\n     <g id=\"line2d_7\">\r\n      <g>\r\n       <use style=\"stroke:#000000;stroke-width:0.6;\" x=\"305.139085\" xlink:href=\"#m0a2f344a2a\" y=\"224.64\"/>\r\n      </g>\r\n     </g>\r\n     <g id=\"text_6\">\r\n      <!-- 12:00 -->\r\n      <g transform=\"translate(290.72971 237.638438)scale(0.1 -0.1)\">\r\n       <use xlink:href=\"#DejaVuSans-31\"/>\r\n       <use x=\"63.623047\" xlink:href=\"#DejaVuSans-32\"/>\r\n       <use x=\"127.246094\" xlink:href=\"#DejaVuSans-3a\"/>\r\n       <use x=\"160.9375\" xlink:href=\"#DejaVuSans-30\"/>\r\n       <use x=\"224.560547\" xlink:href=\"#DejaVuSans-30\"/>\r\n      </g>\r\n     </g>\r\n    </g>\r\n   </g>\r\n   <g id=\"matplotlib.axis_2\">\r\n    <g id=\"ytick_1\">\r\n     <g id=\"line2d_8\">\r\n      <defs>\r\n       <path d=\"M 0 0 \r\nL -3.5 0 \r\n\" id=\"m97fc943a6f\" style=\"stroke:#000000;stroke-width:0.8;\"/>\r\n      </defs>\r\n      <g>\r\n       <use style=\"stroke:#000000;stroke-width:0.8;\" x=\"26.925\" xlink:href=\"#m97fc943a6f\" y=\"211.145903\"/>\r\n      </g>\r\n     </g>\r\n     <g id=\"text_7\">\r\n      <!-- 15 -->\r\n      <g transform=\"translate(7.2 214.945122)scale(0.1 -0.1)\">\r\n       <use xlink:href=\"#DejaVuSans-31\"/>\r\n       <use x=\"63.623047\" xlink:href=\"#DejaVuSans-35\"/>\r\n      </g>\r\n     </g>\r\n    </g>\r\n    <g id=\"ytick_2\">\r\n     <g id=\"line2d_9\">\r\n      <g>\r\n       <use style=\"stroke:#000000;stroke-width:0.8;\" x=\"26.925\" xlink:href=\"#m97fc943a6f\" y=\"166.015143\"/>\r\n      </g>\r\n     </g>\r\n     <g id=\"text_8\">\r\n      <!-- 20 -->\r\n      <g transform=\"translate(7.2 169.814362)scale(0.1 -0.1)\">\r\n       <use xlink:href=\"#DejaVuSans-32\"/>\r\n       <use x=\"63.623047\" xlink:href=\"#DejaVuSans-30\"/>\r\n      </g>\r\n     </g>\r\n    </g>\r\n    <g id=\"ytick_3\">\r\n     <g id=\"line2d_10\">\r\n      <g>\r\n       <use style=\"stroke:#000000;stroke-width:0.8;\" x=\"26.925\" xlink:href=\"#m97fc943a6f\" y=\"120.884384\"/>\r\n      </g>\r\n     </g>\r\n     <g id=\"text_9\">\r\n      <!-- 25 -->\r\n      <g transform=\"translate(7.2 124.683602)scale(0.1 -0.1)\">\r\n       <use xlink:href=\"#DejaVuSans-32\"/>\r\n       <use x=\"63.623047\" xlink:href=\"#DejaVuSans-35\"/>\r\n      </g>\r\n     </g>\r\n    </g>\r\n    <g id=\"ytick_4\">\r\n     <g id=\"line2d_11\">\r\n      <g>\r\n       <use style=\"stroke:#000000;stroke-width:0.8;\" x=\"26.925\" xlink:href=\"#m97fc943a6f\" y=\"75.753624\"/>\r\n      </g>\r\n     </g>\r\n     <g id=\"text_10\">\r\n      <!-- 30 -->\r\n      <g transform=\"translate(7.2 79.552843)scale(0.1 -0.1)\">\r\n       <use xlink:href=\"#DejaVuSans-33\"/>\r\n       <use x=\"63.623047\" xlink:href=\"#DejaVuSans-30\"/>\r\n      </g>\r\n     </g>\r\n    </g>\r\n    <g id=\"ytick_5\">\r\n     <g id=\"line2d_12\">\r\n      <g>\r\n       <use style=\"stroke:#000000;stroke-width:0.8;\" x=\"26.925\" xlink:href=\"#m97fc943a6f\" y=\"30.622864\"/>\r\n      </g>\r\n     </g>\r\n     <g id=\"text_11\">\r\n      <!-- 35 -->\r\n      <g transform=\"translate(7.2 34.422083)scale(0.1 -0.1)\">\r\n       <use xlink:href=\"#DejaVuSans-33\"/>\r\n       <use x=\"63.623047\" xlink:href=\"#DejaVuSans-35\"/>\r\n      </g>\r\n     </g>\r\n    </g>\r\n   </g>\r\n   <g id=\"line2d_13\">\r\n    <path clip-path=\"url(#p22a8d26858)\" d=\"M 26.925 143.449763 \r\nL 31.640493 129.00792 \r\nL 36.355986 94.708543 \r\nL 41.071479 112.760847 \r\nL 45.786972 65.824857 \r\nL 50.502465 83.877161 \r\nL 55.217958 106.44254 \r\nL 59.933451 119.079153 \r\nL 64.648944 156.988991 \r\nL 69.364437 147.962839 \r\nL 74.07993 144.352379 \r\nL 78.795423 117.273923 \r\nL 83.510915 120.884384 \r\nL 88.226408 83.877161 \r\nL 92.941901 100.124234 \r\nL 97.657394 115.468692 \r\nL 102.372887 98.319004 \r\nL 107.08838 85.682391 \r\nL 111.803873 22.499328 \r\nL 116.519366 17.083636 \r\nL 121.234859 79.364085 \r\nL 125.950352 109.150386 \r\nL 130.665845 158.794222 \r\nL 135.381338 160.599452 \r\nL 140.096831 170.528219 \r\nL 144.812324 148.865455 \r\nL 149.527817 46.869938 \r\nL 154.24331 79.364085 \r\nL 158.958803 71.240548 \r\nL 163.674296 55.89609 \r\nL 168.389789 17.986252 \r\nL 173.105282 73.045778 \r\nL 177.820775 79.364085 \r\nL 182.536268 134.423611 \r\nL 187.251761 152.475915 \r\nL 191.967254 126.300075 \r\nL 196.682746 135.326227 \r\nL 201.398239 130.813151 \r\nL 206.113732 137.131457 \r\nL 210.829225 93.805928 \r\nL 215.544718 131.715766 \r\nL 220.260211 88.390237 \r\nL 224.975704 82.974545 \r\nL 229.691197 70.337933 \r\nL 234.40669 79.364085 \r\nL 239.122183 115.468692 \r\nL 243.837676 101.026849 \r\nL 248.553169 143.449763 \r\nL 253.268662 137.131457 \r\nL 257.984155 126.300075 \r\nL 262.699648 142.547148 \r\nL 267.415141 148.865455 \r\nL 272.130634 170.528219 \r\nL 276.846127 187.677908 \r\nL 281.56162 145.254994 \r\nL 286.277113 80.2667 \r\nL 290.992606 102.83208 \r\nL 295.708099 122.689614 \r\nL 300.423592 138.936687 \r\nL 305.139085 172.33345 \r\nL 309.854577 172.33345 \r\nL 314.57007 151.5733 \r\nL 319.285563 146.157609 \r\nL 324.001056 214.756364 \r\nL 328.716549 211.145903 \r\nL 333.432042 141.644533 \r\nL 338.147535 90.195467 \r\nL 342.863028 103.734695 \r\nL 347.578521 118.176538 \r\nL 352.294014 137.131457 \r\nL 357.009507 181.359601 \r\nL 361.725 196.70406 \r\n\" style=\"fill:none;stroke:#1f77b4;stroke-linecap:square;stroke-width:1.5;\"/>\r\n   </g>\r\n   <g id=\"line2d_14\">\r\n    <path clip-path=\"url(#p22a8d26858)\" d=\"M 26.925 73.968323 \r\nL 31.640493 56.827125 \r\nL 36.355986 60.004376 \r\nL 41.071479 54.558054 \r\nL 45.786972 73.877439 \r\nL 50.502465 73.398714 \r\nL 55.217958 69.865797 \r\nL 59.933451 75.099897 \r\nL 64.648944 67.04058 \r\nL 69.364437 63.191887 \r\nL 74.07993 79.184759 \r\nL 78.795423 69.980817 \r\nL 83.510915 79.091293 \r\nL 88.226408 74.636476 \r\nL 92.941901 63.288831 \r\nL 97.657394 57.420286 \r\nL 102.372887 68.758601 \r\nL 107.08838 82.710548 \r\nL 111.803873 81.723416 \r\nL 116.519366 73.697807 \r\nL 121.234859 64.069543 \r\nL 125.950352 70.875465 \r\nL 130.665845 68.815035 \r\nL 135.381338 81.514207 \r\nL 140.096831 85.765186 \r\nL 144.812324 75.081063 \r\nL 149.527817 54.681871 \r\nL 154.24331 69.631642 \r\nL 158.958803 83.965079 \r\nL 163.674296 84.648848 \r\nL 168.389789 78.267455 \r\nL 173.105282 81.380748 \r\nL 177.820775 76.247397 \r\nL 182.536268 81.912 \r\nL 187.251761 69.07238 \r\nL 191.967254 84.549133 \r\nL 196.682746 84.850878 \r\nL 201.398239 89.472398 \r\nL 206.113732 73.61412 \r\nL 210.829225 83.220263 \r\nL 215.544718 75.093992 \r\nL 220.260211 88.164445 \r\nL 224.975704 84.877322 \r\nL 229.691197 79.935842 \r\nL 234.40669 79.890685 \r\nL 239.122183 86.717835 \r\nL 243.837676 92.508477 \r\nL 248.553169 88.705235 \r\nL 253.268662 88.640657 \r\nL 257.984155 82.471745 \r\nL 262.699648 79.901032 \r\nL 267.415141 80.621677 \r\nL 272.130634 78.42283 \r\nL 276.846127 78.75021 \r\nL 281.56162 82.500151 \r\nL 286.277113 89.78857 \r\nL 290.992606 78.94315 \r\nL 295.708099 69.666694 \r\nL 300.423592 82.682331 \r\nL 305.139085 94.372679 \r\nL 309.854577 81.46657 \r\nL 314.57007 88.58758 \r\nL 319.285563 76.379134 \r\nL 324.001056 91.988674 \r\nL 328.716549 85.576051 \r\nL 333.432042 83.939789 \r\nL 338.147535 94.771574 \r\nL 342.863028 92.698077 \r\nL 347.578521 74.5223 \r\nL 352.294014 90.112541 \r\nL 357.009507 78.01147 \r\nL 361.725 91.1846 \r\n\" style=\"fill:none;stroke:#ff7f0e;stroke-linecap:square;stroke-width:1.5;\"/>\r\n   </g>\r\n   <g id=\"patch_3\">\r\n    <path d=\"M 26.925 224.64 \r\nL 26.925 7.2 \r\n\" style=\"fill:none;stroke:#000000;stroke-linecap:square;stroke-linejoin:miter;stroke-width:0.8;\"/>\r\n   </g>\r\n   <g id=\"patch_4\">\r\n    <path d=\"M 361.725 224.64 \r\nL 361.725 7.2 \r\n\" style=\"fill:none;stroke:#000000;stroke-linecap:square;stroke-linejoin:miter;stroke-width:0.8;\"/>\r\n   </g>\r\n   <g id=\"patch_5\">\r\n    <path d=\"M 26.925 224.64 \r\nL 361.725 224.64 \r\n\" style=\"fill:none;stroke:#000000;stroke-linecap:square;stroke-linejoin:miter;stroke-width:0.8;\"/>\r\n   </g>\r\n   <g id=\"patch_6\">\r\n    <path d=\"M 26.925 7.2 \r\nL 361.725 7.2 \r\n\" style=\"fill:none;stroke:#000000;stroke-linecap:square;stroke-linejoin:miter;stroke-width:0.8;\"/>\r\n   </g>\r\n   <g id=\"legend_1\">\r\n    <g id=\"patch_7\">\r\n     <path d=\"M 292.164063 44.55625 \r\nL 354.725 44.55625 \r\nQ 356.725 44.55625 356.725 42.55625 \r\nL 356.725 14.2 \r\nQ 356.725 12.2 354.725 12.2 \r\nL 292.164063 12.2 \r\nQ 290.164063 12.2 290.164063 14.2 \r\nL 290.164063 42.55625 \r\nQ 290.164063 44.55625 292.164063 44.55625 \r\nz\r\n\" style=\"fill:#ffffff;opacity:0.8;stroke:#cccccc;stroke-linejoin:miter;\"/>\r\n    </g>\r\n    <g id=\"line2d_15\">\r\n     <path d=\"M 294.164063 20.298437 \r\nL 314.164063 20.298437 \r\n\" style=\"fill:none;stroke:#1f77b4;stroke-linecap:square;stroke-width:1.5;\"/>\r\n    </g>\r\n    <g id=\"line2d_16\"/>\r\n    <g id=\"text_12\">\r\n     <!-- PM2.5 -->\r\n     <g transform=\"translate(322.164063 23.798437)scale(0.1 -0.1)\">\r\n      <defs>\r\n       <path d=\"M 1259 4147 \r\nL 1259 2394 \r\nL 2053 2394 \r\nQ 2494 2394 2734 2622 \r\nQ 2975 2850 2975 3272 \r\nQ 2975 3691 2734 3919 \r\nQ 2494 4147 2053 4147 \r\nL 1259 4147 \r\nz\r\nM 628 4666 \r\nL 2053 4666 \r\nQ 2838 4666 3239 4311 \r\nQ 3641 3956 3641 3272 \r\nQ 3641 2581 3239 2228 \r\nQ 2838 1875 2053 1875 \r\nL 1259 1875 \r\nL 1259 0 \r\nL 628 0 \r\nL 628 4666 \r\nz\r\n\" id=\"DejaVuSans-50\" transform=\"scale(0.015625)\"/>\r\n       <path d=\"M 628 4666 \r\nL 1569 4666 \r\nL 2759 1491 \r\nL 3956 4666 \r\nL 4897 4666 \r\nL 4897 0 \r\nL 4281 0 \r\nL 4281 4097 \r\nL 3078 897 \r\nL 2444 897 \r\nL 1241 4097 \r\nL 1241 0 \r\nL 628 0 \r\nL 628 4666 \r\nz\r\n\" id=\"DejaVuSans-4d\" transform=\"scale(0.015625)\"/>\r\n       <path d=\"M 684 794 \r\nL 1344 794 \r\nL 1344 0 \r\nL 684 0 \r\nL 684 794 \r\nz\r\n\" id=\"DejaVuSans-2e\" transform=\"scale(0.015625)\"/>\r\n      </defs>\r\n      <use xlink:href=\"#DejaVuSans-50\"/>\r\n      <use x=\"60.302734\" xlink:href=\"#DejaVuSans-4d\"/>\r\n      <use x=\"146.582031\" xlink:href=\"#DejaVuSans-32\"/>\r\n      <use x=\"210.205078\" xlink:href=\"#DejaVuSans-2e\"/>\r\n      <use x=\"241.992188\" xlink:href=\"#DejaVuSans-35\"/>\r\n     </g>\r\n    </g>\r\n    <g id=\"line2d_17\">\r\n     <path d=\"M 294.164063 34.976562 \r\nL 314.164063 34.976562 \r\n\" style=\"fill:none;stroke:#ff7f0e;stroke-linecap:square;stroke-width:1.5;\"/>\r\n    </g>\r\n    <g id=\"line2d_18\"/>\r\n    <g id=\"text_13\">\r\n     <!-- pred -->\r\n     <g transform=\"translate(322.164063 38.476562)scale(0.1 -0.1)\">\r\n      <defs>\r\n       <path d=\"M 3597 1894 \r\nL 3597 1613 \r\nL 953 1613 \r\nQ 991 1019 1311 708 \r\nQ 1631 397 2203 397 \r\nQ 2534 397 2845 478 \r\nQ 3156 559 3463 722 \r\nL 3463 178 \r\nQ 3153 47 2828 -22 \r\nQ 2503 -91 2169 -91 \r\nQ 1331 -91 842 396 \r\nQ 353 884 353 1716 \r\nQ 353 2575 817 3079 \r\nQ 1281 3584 2069 3584 \r\nQ 2775 3584 3186 3129 \r\nQ 3597 2675 3597 1894 \r\nz\r\nM 3022 2063 \r\nQ 3016 2534 2758 2815 \r\nQ 2500 3097 2075 3097 \r\nQ 1594 3097 1305 2825 \r\nQ 1016 2553 972 2059 \r\nL 3022 2063 \r\nz\r\n\" id=\"DejaVuSans-65\" transform=\"scale(0.015625)\"/>\r\n       <path d=\"M 2906 2969 \r\nL 2906 4863 \r\nL 3481 4863 \r\nL 3481 0 \r\nL 2906 0 \r\nL 2906 525 \r\nQ 2725 213 2448 61 \r\nQ 2172 -91 1784 -91 \r\nQ 1150 -91 751 415 \r\nQ 353 922 353 1747 \r\nQ 353 2572 751 3078 \r\nQ 1150 3584 1784 3584 \r\nQ 2172 3584 2448 3432 \r\nQ 2725 3281 2906 2969 \r\nz\r\nM 947 1747 \r\nQ 947 1113 1208 752 \r\nQ 1469 391 1925 391 \r\nQ 2381 391 2643 752 \r\nQ 2906 1113 2906 1747 \r\nQ 2906 2381 2643 2742 \r\nQ 2381 3103 1925 3103 \r\nQ 1469 3103 1208 2742 \r\nQ 947 2381 947 1747 \r\nz\r\n\" id=\"DejaVuSans-64\" transform=\"scale(0.015625)\"/>\r\n      </defs>\r\n      <use xlink:href=\"#DejaVuSans-70\"/>\r\n      <use x=\"63.476562\" xlink:href=\"#DejaVuSans-72\"/>\r\n      <use x=\"102.339844\" xlink:href=\"#DejaVuSans-65\"/>\r\n      <use x=\"163.863281\" xlink:href=\"#DejaVuSans-64\"/>\r\n     </g>\r\n    </g>\r\n   </g>\r\n  </g>\r\n </g>\r\n <defs>\r\n  <clipPath id=\"p22a8d26858\">\r\n   <rect height=\"217.44\" width=\"334.8\" x=\"26.925\" y=\"7.2\"/>\r\n  </clipPath>\r\n </defs>\r\n</svg>\r\n",
      "image/png": "[encoded data removed]"
     },
     "metadata": {
      "needs_background": "light"
     }
    }
   ],
   "source": [
    "i = 58\n",
    "print('province =',province)\n",
    "h = y_train_scalers[province].inverse_transform(pred[i].numpy().reshape((-1,1)))\n",
    "k = Y_train[province][i].copy()\n",
    "k['pred'] = h\n",
    "k.plot();"
   ]
  },
  {
   "source": [
    "## Save the model\n",
    "- **Bangkok** : `./Models/Bangkok_run_2021_04_25-08_23_07.h5` (12.92)\n",
    "    - features\\[:4] (exclude pm)\n",
    "    - 720 timesteps\n",
    "- **Chanthaburi** : `./Models/Chanthaburi_run_2021_04_26-10_42_58_final_26Apr1155.h5` (8.89) \n",
    "    - all features\n",
    "   - 360 timesteps\n",
    "- **Songkhla** : `./Models/Songkhla_run_2021_04_25-22_41_22.h5` (7.96)\n",
    "    - all features\n",
    "    - 360 timesteps "
   ],
   "cell_type": "markdown",
   "metadata": {}
  },
  {
   "source": [
    "# xxxxxxxxxxxxxxxxxxxxxxxxxxxxxxxxxxxxxxxxxxxxx"
   ],
   "cell_type": "markdown",
   "metadata": {}
  }
 ]
}