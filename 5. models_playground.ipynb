{
 "metadata": {
  "language_info": {
   "codemirror_mode": {
    "name": "ipython",
    "version": 3
   },
   "file_extension": ".py",
   "mimetype": "text/x-python",
   "name": "python",
   "nbconvert_exporter": "python",
   "pygments_lexer": "ipython3",
   "version": "3.9.1-final"
  },
  "orig_nbformat": 2,
  "kernelspec": {
   "name": "python391jvsc74a57bd031605234de10b43ea767264d17dfb0196cf2b9da7012776efe0be49341337db4",
   "display_name": "Python 3.9.1 64-bit ('jupyterlab2.26': conda)"
  }
 },
 "nbformat": 4,
 "nbformat_minor": 2,
 "cells": [
  {
   "cell_type": "code",
   "execution_count": 1,
   "metadata": {},
   "outputs": [
    {
     "output_type": "stream",
     "name": "stdout",
     "text": [
      "INFO:tensorflow:Enabling eager execution\n",
      "INFO:tensorflow:Enabling v2 tensorshape\n",
      "INFO:tensorflow:Enabling resource variables\n",
      "INFO:tensorflow:Enabling tensor equality\n",
      "INFO:tensorflow:Enabling control flow v2\n"
     ]
    },
    {
     "output_type": "execute_result",
     "data": {
      "text/plain": [
       "'2.5.0-rc1'"
      ]
     },
     "metadata": {},
     "execution_count": 1
    }
   ],
   "source": [
    "from util_input_output_model import *\n",
    "from collections import defaultdict\n",
    "from datetime import timedelta\n",
    "import tensorflow as tf\n",
    "import numpy as np\n",
    "import pandas as pd\n",
    "import time\n",
    "provinces = ['Bangkok','Chanthaburi','Chiang Mai','Kanchanaburi','Songkhla','Khon Kaen']\n",
    "\n",
    "features = ['PM2.5','WindDir','Wind Speed(km/h)','Temp(C)',\n",
    "            'Cambodia_frp','Myanmar_frp','Thailand_frp','Lao_PDR_frp']\n",
    "tf.__version__"
   ]
  },
  {
   "source": [
    "## Preparing data\n",
    "We'll preparing `X, Y` of `Train, Test` set."
   ],
   "cell_type": "markdown",
   "metadata": {}
  },
  {
   "cell_type": "code",
   "execution_count": 2,
   "metadata": {},
   "outputs": [
    {
     "output_type": "stream",
     "name": "stdout",
     "text": [
      "timesteps = 360\n"
     ]
    }
   ],
   "source": [
    "timesteps = 360\n",
    "print(f'timesteps = {timesteps}')"
   ]
  },
  {
   "cell_type": "code",
   "execution_count": 3,
   "metadata": {},
   "outputs": [],
   "source": [
    "feature_used = features\n",
    "Train_data, X_train, Y_train = prepare_train_data(timesteps, feature_used = feature_used)"
   ]
  },
  {
   "cell_type": "code",
   "execution_count": 4,
   "metadata": {},
   "outputs": [
    {
     "output_type": "stream",
     "name": "stdout",
     "text": [
      "dif : 355\n2019-03-18 08:00:00\nbase = 2019-03-18 12:00:00\ndif : 349\n2019-03-18 08:00:00\nbase = 2019-03-18 18:00:00\ndif : 343\n2019-03-18 08:00:00\nbase = 2019-03-19 00:00:00\ndif : 337\n2019-03-18 08:00:00\nbase = 2019-03-19 06:00:00\n"
     ]
    }
   ],
   "source": [
    "Test_data, X_test, Y_test = prepare_test_data(Train_data, timesteps, feature_used = feature_used)"
   ]
  },
  {
   "source": [
    "## Standardize the data\n",
    "Next, we need to scale the data."
   ],
   "cell_type": "markdown",
   "metadata": {}
  },
  {
   "cell_type": "code",
   "execution_count": 5,
   "metadata": {},
   "outputs": [],
   "source": [
    "# Scale train set\n",
    "x_train_scalers, y_train_scalers, X_train_scaled, Y_train_scaled = scale_data(X_train, Y_train, Train_data)\n",
    "\n",
    "# Scale test set\n",
    "X_test_scaled = defaultdict(lambda: [])\n",
    "Y_test_scaled = defaultdict(lambda: [])\n",
    "\n",
    "for p in provinces:\n",
    "    for e in X_test[p]:\n",
    "        X_test_scaled[p].append(x_train_scalers[p].transform(e))\n",
    "    for e in Y_test[p]:\n",
    "        Y_test_scaled[p].append(y_train_scalers[p].transform(e))"
   ]
  },
  {
   "source": [
    "## Shaping\n",
    "Make sure that the data is in the right shape. The `X` shape should be `(#datapoints, #timesteps, #features)`. The `Y` shape should be `(#datapoints, 72)` since each forecast we have to predict next 72 hours."
   ],
   "cell_type": "markdown",
   "metadata": {}
  },
  {
   "cell_type": "code",
   "execution_count": 9,
   "metadata": {},
   "outputs": [
    {
     "output_type": "stream",
     "name": "stdout",
     "text": [
      "Bangkok\n",
      "X Train: (4366, 360, 8)\n",
      "Y Train: (4366, 72)\n",
      "X Test: (1454, 360, 8)\n",
      "Y Test: (1454, 72)\n",
      "\n",
      "Chanthaburi\n",
      "X Train: (4366, 360, 8)\n",
      "Y Train: (4366, 72)\n",
      "X Test: (1454, 360, 8)\n",
      "Y Test: (1454, 72)\n",
      "\n",
      "Chiang Mai\n",
      "X Train: (4366, 360, 8)\n",
      "Y Train: (4366, 72)\n",
      "X Test: (1454, 360, 8)\n",
      "Y Test: (1454, 72)\n",
      "\n",
      "Kanchanaburi\n",
      "X Train: (4366, 360, 8)\n",
      "Y Train: (4366, 72)\n",
      "X Test: (1454, 360, 8)\n",
      "Y Test: (1454, 72)\n",
      "\n",
      "Songkhla\n",
      "X Train: (4366, 360, 8)\n",
      "Y Train: (4366, 72)\n",
      "X Test: (1454, 360, 8)\n",
      "Y Test: (1454, 72)\n",
      "\n",
      "Khon Kaen\n",
      "X Train: (1936, 360, 8)\n",
      "Y Train: (1936, 72)\n",
      "X Test: (1454, 360, 8)\n",
      "Y Test: (1454, 72)\n",
      "\n"
     ]
    }
   ],
   "source": [
    "x_, y_ = {}, {}\n",
    "\n",
    "for p in provinces:\n",
    "    x_[p] = {\"Train\": np.array(X_train_scaled[p]),\n",
    "             \"Test\": np.array(X_test_scaled[p])}\n",
    "    \n",
    "    y_[p] = {\"Train\": np.array(Y_train_scaled[p]).squeeze(axis=2),\n",
    "             \"Test\": np.array(Y_test_scaled[p]).squeeze(axis=2)}\n",
    "\n",
    "    print(p)\n",
    "    print(f'X Train: {x_[p][\"Train\"].shape}')\n",
    "    print(f'Y Train: {y_[p][\"Train\"].shape}')\n",
    "    print(f'X Test: {x_[p][\"Test\"].shape}')\n",
    "    print(f'Y Test: {y_[p][\"Test\"].shape}\\n')"
   ]
  },
  {
   "source": [
    "## Building Model"
   ],
   "cell_type": "markdown",
   "metadata": {}
  },
  {
   "cell_type": "code",
   "execution_count": 10,
   "metadata": {},
   "outputs": [
    {
     "output_type": "stream",
     "name": "stdout",
     "text": [
      "timesteps : 360\n"
     ]
    }
   ],
   "source": [
    "print(f\"timesteps : {timesteps}\")"
   ]
  },
  {
   "cell_type": "code",
   "execution_count": 116,
   "metadata": {},
   "outputs": [
    {
     "output_type": "stream",
     "name": "stdout",
     "text": [
      "False\n"
     ]
    }
   ],
   "source": [
    "province = 'Kanchanaburi'\n",
    "x_feed, y_feed = x_[province]['Train'], y_[province]['Train']\n",
    "x_eval, y_eval = x_[province]['Test'], y_[province]['Test']\n",
    "\n",
    "# Last check for null values\n",
    "check = [np.isnan(x_feed).any(), np.isnan(y_feed).any(), \n",
    "         np.isnan(x_eval).any(), np.isnan(y_eval).any()]\n",
    "print(any(check))"
   ]
  },
  {
   "cell_type": "code",
   "execution_count": 117,
   "metadata": {},
   "outputs": [],
   "source": [
    "from tensorflow.keras.models import Sequential\n",
    "from tensorflow.keras.layers import Dense\n",
    "from tensorflow.keras.layers import LSTM, GRU\n",
    "from tensorflow.keras.layers import Dropout\n",
    "import tensorflow as tf\n",
    "\n",
    "n_features = len(feature_used)\n",
    "\n",
    "# define model\n",
    "model = Sequential([\n",
    "    LSTM(200, input_shape=(timesteps, n_features), return_sequences=True),\n",
    "    Dropout(rate=0.1),\n",
    "    LSTM(60),\n",
    "    Dropout(rate=0.1),\n",
    "    Dense(72, activation='linear')\n",
    "])"
   ]
  },
  {
   "cell_type": "code",
   "execution_count": 118,
   "metadata": {},
   "outputs": [
    {
     "output_type": "stream",
     "name": "stdout",
     "text": [
      "Epoch 1/100\n",
      "137/137 [==============================] - 335s 2s/step - loss: 0.0319 - val_loss: 0.0235\n",
      "Epoch 2/100\n",
      "137/137 [==============================] - 348s 3s/step - loss: 0.0175 - val_loss: 0.0206\n",
      "Epoch 3/100\n",
      "137/137 [==============================] - 375s 3s/step - loss: 0.0147 - val_loss: 0.0194\n",
      "Epoch 4/100\n",
      "137/137 [==============================] - 368s 3s/step - loss: 0.0134 - val_loss: 0.0183\n",
      "Epoch 5/100\n",
      "137/137 [==============================] - 337s 2s/step - loss: 0.0118 - val_loss: 0.0170\n",
      "Epoch 6/100\n",
      "137/137 [==============================] - 362s 3s/step - loss: 0.0108 - val_loss: 0.0156\n",
      "Epoch 7/100\n",
      "137/137 [==============================] - 399s 3s/step - loss: 0.0099 - val_loss: 0.0144\n",
      "Epoch 8/100\n",
      "137/137 [==============================] - 409s 3s/step - loss: 0.0090 - val_loss: 0.0134\n",
      "Epoch 9/100\n",
      "137/137 [==============================] - 411s 3s/step - loss: 0.0085 - val_loss: 0.0125\n",
      "Epoch 10/100\n",
      "137/137 [==============================] - 409s 3s/step - loss: 0.0081 - val_loss: 0.0117\n",
      "Epoch 11/100\n",
      "137/137 [==============================] - 410s 3s/step - loss: 0.0076 - val_loss: 0.0110\n",
      "Epoch 12/100\n",
      "137/137 [==============================] - 402s 3s/step - loss: 0.0067 - val_loss: 0.0106\n",
      "Epoch 13/100\n",
      "137/137 [==============================] - 405s 3s/step - loss: 0.0067 - val_loss: 0.0103\n",
      "Epoch 14/100\n",
      "137/137 [==============================] - 400s 3s/step - loss: 0.0066 - val_loss: 0.0102\n",
      "Epoch 15/100\n",
      "137/137 [==============================] - 459s 3s/step - loss: 0.0065 - val_loss: 0.0100\n",
      "Epoch 16/100\n",
      "137/137 [==============================] - 416s 3s/step - loss: 0.0063 - val_loss: 0.0099\n",
      "Epoch 17/100\n",
      "137/137 [==============================] - 398s 3s/step - loss: 0.0065 - val_loss: 0.0099\n",
      "Epoch 18/100\n",
      "137/137 [==============================] - 350s 3s/step - loss: 0.0060 - val_loss: 0.0099\n",
      "Epoch 19/100\n",
      "137/137 [==============================] - 396s 3s/step - loss: 0.0059 - val_loss: 0.0099\n",
      "Epoch 20/100\n",
      "137/137 [==============================] - 442s 3s/step - loss: 0.0058 - val_loss: 0.0098\n",
      "Epoch 21/100\n",
      "137/137 [==============================] - 421s 3s/step - loss: 0.0058 - val_loss: 0.0097\n",
      "Epoch 22/100\n",
      "137/137 [==============================] - 429s 3s/step - loss: 0.0058 - val_loss: 0.0097\n",
      "Epoch 23/100\n",
      "137/137 [==============================] - 377s 3s/step - loss: 0.0057 - val_loss: 0.0097\n",
      "Epoch 24/100\n",
      "137/137 [==============================] - 338s 2s/step - loss: 0.0058 - val_loss: 0.0096\n",
      "Epoch 25/100\n",
      "137/137 [==============================] - 334s 2s/step - loss: 0.0057 - val_loss: 0.0096\n",
      "Epoch 26/100\n",
      "137/137 [==============================] - 338s 2s/step - loss: 0.0057 - val_loss: 0.0096\n",
      "Epoch 27/100\n",
      "137/137 [==============================] - 321s 2s/step - loss: 0.0057 - val_loss: 0.0096\n",
      "Epoch 28/100\n",
      "  2/137 [..............................] - ETA: 5:11 - loss: 0.0068"
     ]
    },
    {
     "output_type": "error",
     "ename": "KeyboardInterrupt",
     "evalue": "",
     "traceback": [
      "\u001b[1;31m---------------------------------------------------------------------------\u001b[0m",
      "\u001b[1;31mKeyboardInterrupt\u001b[0m                         Traceback (most recent call last)",
      "\u001b[1;32m<ipython-input-118-86f23ad46431>\u001b[0m in \u001b[0;36m<module>\u001b[1;34m\u001b[0m\n\u001b[0;32m     12\u001b[0m \u001b[0mnan_stop\u001b[0m \u001b[1;33m=\u001b[0m \u001b[0mtf\u001b[0m\u001b[1;33m.\u001b[0m\u001b[0mkeras\u001b[0m\u001b[1;33m.\u001b[0m\u001b[0mcallbacks\u001b[0m\u001b[1;33m.\u001b[0m\u001b[0mTerminateOnNaN\u001b[0m\u001b[1;33m(\u001b[0m\u001b[1;33m)\u001b[0m\u001b[1;33m\u001b[0m\u001b[1;33m\u001b[0m\u001b[0m\n\u001b[0;32m     13\u001b[0m \u001b[1;33m\u001b[0m\u001b[0m\n\u001b[1;32m---> 14\u001b[1;33m history = model.fit(x_feed, y_feed, validation_data=(x_eval, y_eval), \n\u001b[0m\u001b[0;32m     15\u001b[0m                     \u001b[0mepochs\u001b[0m\u001b[1;33m=\u001b[0m\u001b[1;36m100\u001b[0m\u001b[1;33m,\u001b[0m \u001b[0mbatch_size\u001b[0m\u001b[1;33m=\u001b[0m\u001b[1;36m32\u001b[0m\u001b[1;33m,\u001b[0m\u001b[1;33m\u001b[0m\u001b[1;33m\u001b[0m\u001b[0m\n\u001b[0;32m     16\u001b[0m                     callbacks=[tensorboard_cb, early_stop, nan_stop])\n",
      "\u001b[1;32m~\\anaconda3\\envs\\jupyterlab2.26\\lib\\site-packages\\tensorflow\\python\\keras\\engine\\training.py\u001b[0m in \u001b[0;36mfit\u001b[1;34m(self, x, y, batch_size, epochs, verbose, callbacks, validation_split, validation_data, shuffle, class_weight, sample_weight, initial_epoch, steps_per_epoch, validation_steps, validation_batch_size, validation_freq, max_queue_size, workers, use_multiprocessing)\u001b[0m\n\u001b[0;32m   1181\u001b[0m                 _r=1):\n\u001b[0;32m   1182\u001b[0m               \u001b[0mcallbacks\u001b[0m\u001b[1;33m.\u001b[0m\u001b[0mon_train_batch_begin\u001b[0m\u001b[1;33m(\u001b[0m\u001b[0mstep\u001b[0m\u001b[1;33m)\u001b[0m\u001b[1;33m\u001b[0m\u001b[1;33m\u001b[0m\u001b[0m\n\u001b[1;32m-> 1183\u001b[1;33m               \u001b[0mtmp_logs\u001b[0m \u001b[1;33m=\u001b[0m \u001b[0mself\u001b[0m\u001b[1;33m.\u001b[0m\u001b[0mtrain_function\u001b[0m\u001b[1;33m(\u001b[0m\u001b[0miterator\u001b[0m\u001b[1;33m)\u001b[0m\u001b[1;33m\u001b[0m\u001b[1;33m\u001b[0m\u001b[0m\n\u001b[0m\u001b[0;32m   1184\u001b[0m               \u001b[1;32mif\u001b[0m \u001b[0mdata_handler\u001b[0m\u001b[1;33m.\u001b[0m\u001b[0mshould_sync\u001b[0m\u001b[1;33m:\u001b[0m\u001b[1;33m\u001b[0m\u001b[1;33m\u001b[0m\u001b[0m\n\u001b[0;32m   1185\u001b[0m                 \u001b[0mcontext\u001b[0m\u001b[1;33m.\u001b[0m\u001b[0masync_wait\u001b[0m\u001b[1;33m(\u001b[0m\u001b[1;33m)\u001b[0m\u001b[1;33m\u001b[0m\u001b[1;33m\u001b[0m\u001b[0m\n",
      "\u001b[1;32m~\\anaconda3\\envs\\jupyterlab2.26\\lib\\site-packages\\tensorflow\\python\\eager\\def_function.py\u001b[0m in \u001b[0;36m__call__\u001b[1;34m(self, *args, **kwds)\u001b[0m\n\u001b[0;32m    887\u001b[0m \u001b[1;33m\u001b[0m\u001b[0m\n\u001b[0;32m    888\u001b[0m       \u001b[1;32mwith\u001b[0m \u001b[0mOptionalXlaContext\u001b[0m\u001b[1;33m(\u001b[0m\u001b[0mself\u001b[0m\u001b[1;33m.\u001b[0m\u001b[0m_jit_compile\u001b[0m\u001b[1;33m)\u001b[0m\u001b[1;33m:\u001b[0m\u001b[1;33m\u001b[0m\u001b[1;33m\u001b[0m\u001b[0m\n\u001b[1;32m--> 889\u001b[1;33m         \u001b[0mresult\u001b[0m \u001b[1;33m=\u001b[0m \u001b[0mself\u001b[0m\u001b[1;33m.\u001b[0m\u001b[0m_call\u001b[0m\u001b[1;33m(\u001b[0m\u001b[1;33m*\u001b[0m\u001b[0margs\u001b[0m\u001b[1;33m,\u001b[0m \u001b[1;33m**\u001b[0m\u001b[0mkwds\u001b[0m\u001b[1;33m)\u001b[0m\u001b[1;33m\u001b[0m\u001b[1;33m\u001b[0m\u001b[0m\n\u001b[0m\u001b[0;32m    890\u001b[0m \u001b[1;33m\u001b[0m\u001b[0m\n\u001b[0;32m    891\u001b[0m       \u001b[0mnew_tracing_count\u001b[0m \u001b[1;33m=\u001b[0m \u001b[0mself\u001b[0m\u001b[1;33m.\u001b[0m\u001b[0mexperimental_get_tracing_count\u001b[0m\u001b[1;33m(\u001b[0m\u001b[1;33m)\u001b[0m\u001b[1;33m\u001b[0m\u001b[1;33m\u001b[0m\u001b[0m\n",
      "\u001b[1;32m~\\anaconda3\\envs\\jupyterlab2.26\\lib\\site-packages\\tensorflow\\python\\eager\\def_function.py\u001b[0m in \u001b[0;36m_call\u001b[1;34m(self, *args, **kwds)\u001b[0m\n\u001b[0;32m    915\u001b[0m       \u001b[1;31m# In this case we have created variables on the first call, so we run the\u001b[0m\u001b[1;33m\u001b[0m\u001b[1;33m\u001b[0m\u001b[1;33m\u001b[0m\u001b[0m\n\u001b[0;32m    916\u001b[0m       \u001b[1;31m# defunned version which is guaranteed to never create variables.\u001b[0m\u001b[1;33m\u001b[0m\u001b[1;33m\u001b[0m\u001b[1;33m\u001b[0m\u001b[0m\n\u001b[1;32m--> 917\u001b[1;33m       \u001b[1;32mreturn\u001b[0m \u001b[0mself\u001b[0m\u001b[1;33m.\u001b[0m\u001b[0m_stateless_fn\u001b[0m\u001b[1;33m(\u001b[0m\u001b[1;33m*\u001b[0m\u001b[0margs\u001b[0m\u001b[1;33m,\u001b[0m \u001b[1;33m**\u001b[0m\u001b[0mkwds\u001b[0m\u001b[1;33m)\u001b[0m  \u001b[1;31m# pylint: disable=not-callable\u001b[0m\u001b[1;33m\u001b[0m\u001b[1;33m\u001b[0m\u001b[0m\n\u001b[0m\u001b[0;32m    918\u001b[0m     \u001b[1;32melif\u001b[0m \u001b[0mself\u001b[0m\u001b[1;33m.\u001b[0m\u001b[0m_stateful_fn\u001b[0m \u001b[1;32mis\u001b[0m \u001b[1;32mnot\u001b[0m \u001b[1;32mNone\u001b[0m\u001b[1;33m:\u001b[0m\u001b[1;33m\u001b[0m\u001b[1;33m\u001b[0m\u001b[0m\n\u001b[0;32m    919\u001b[0m       \u001b[1;31m# Release the lock early so that multiple threads can perform the call\u001b[0m\u001b[1;33m\u001b[0m\u001b[1;33m\u001b[0m\u001b[1;33m\u001b[0m\u001b[0m\n",
      "\u001b[1;32m~\\anaconda3\\envs\\jupyterlab2.26\\lib\\site-packages\\tensorflow\\python\\eager\\function.py\u001b[0m in \u001b[0;36m__call__\u001b[1;34m(self, *args, **kwargs)\u001b[0m\n\u001b[0;32m   3021\u001b[0m       (graph_function,\n\u001b[0;32m   3022\u001b[0m        filtered_flat_args) = self._maybe_define_function(args, kwargs)\n\u001b[1;32m-> 3023\u001b[1;33m     return graph_function._call_flat(\n\u001b[0m\u001b[0;32m   3024\u001b[0m         filtered_flat_args, captured_inputs=graph_function.captured_inputs)  # pylint: disable=protected-access\n\u001b[0;32m   3025\u001b[0m \u001b[1;33m\u001b[0m\u001b[0m\n",
      "\u001b[1;32m~\\anaconda3\\envs\\jupyterlab2.26\\lib\\site-packages\\tensorflow\\python\\eager\\function.py\u001b[0m in \u001b[0;36m_call_flat\u001b[1;34m(self, args, captured_inputs, cancellation_manager)\u001b[0m\n\u001b[0;32m   1958\u001b[0m         and executing_eagerly):\n\u001b[0;32m   1959\u001b[0m       \u001b[1;31m# No tape is watching; skip to running the function.\u001b[0m\u001b[1;33m\u001b[0m\u001b[1;33m\u001b[0m\u001b[1;33m\u001b[0m\u001b[0m\n\u001b[1;32m-> 1960\u001b[1;33m       return self._build_call_outputs(self._inference_function.call(\n\u001b[0m\u001b[0;32m   1961\u001b[0m           ctx, args, cancellation_manager=cancellation_manager))\n\u001b[0;32m   1962\u001b[0m     forward_backward = self._select_forward_and_backward_functions(\n",
      "\u001b[1;32m~\\anaconda3\\envs\\jupyterlab2.26\\lib\\site-packages\\tensorflow\\python\\eager\\function.py\u001b[0m in \u001b[0;36mcall\u001b[1;34m(self, ctx, args, cancellation_manager)\u001b[0m\n\u001b[0;32m    589\u001b[0m       \u001b[1;32mwith\u001b[0m \u001b[0m_InterpolateFunctionError\u001b[0m\u001b[1;33m(\u001b[0m\u001b[0mself\u001b[0m\u001b[1;33m)\u001b[0m\u001b[1;33m:\u001b[0m\u001b[1;33m\u001b[0m\u001b[1;33m\u001b[0m\u001b[0m\n\u001b[0;32m    590\u001b[0m         \u001b[1;32mif\u001b[0m \u001b[0mcancellation_manager\u001b[0m \u001b[1;32mis\u001b[0m \u001b[1;32mNone\u001b[0m\u001b[1;33m:\u001b[0m\u001b[1;33m\u001b[0m\u001b[1;33m\u001b[0m\u001b[0m\n\u001b[1;32m--> 591\u001b[1;33m           outputs = execute.execute(\n\u001b[0m\u001b[0;32m    592\u001b[0m               \u001b[0mstr\u001b[0m\u001b[1;33m(\u001b[0m\u001b[0mself\u001b[0m\u001b[1;33m.\u001b[0m\u001b[0msignature\u001b[0m\u001b[1;33m.\u001b[0m\u001b[0mname\u001b[0m\u001b[1;33m)\u001b[0m\u001b[1;33m,\u001b[0m\u001b[1;33m\u001b[0m\u001b[1;33m\u001b[0m\u001b[0m\n\u001b[0;32m    593\u001b[0m               \u001b[0mnum_outputs\u001b[0m\u001b[1;33m=\u001b[0m\u001b[0mself\u001b[0m\u001b[1;33m.\u001b[0m\u001b[0m_num_outputs\u001b[0m\u001b[1;33m,\u001b[0m\u001b[1;33m\u001b[0m\u001b[1;33m\u001b[0m\u001b[0m\n",
      "\u001b[1;32m~\\anaconda3\\envs\\jupyterlab2.26\\lib\\site-packages\\tensorflow\\python\\eager\\execute.py\u001b[0m in \u001b[0;36mquick_execute\u001b[1;34m(op_name, num_outputs, inputs, attrs, ctx, name)\u001b[0m\n\u001b[0;32m     57\u001b[0m   \u001b[1;32mtry\u001b[0m\u001b[1;33m:\u001b[0m\u001b[1;33m\u001b[0m\u001b[1;33m\u001b[0m\u001b[0m\n\u001b[0;32m     58\u001b[0m     \u001b[0mctx\u001b[0m\u001b[1;33m.\u001b[0m\u001b[0mensure_initialized\u001b[0m\u001b[1;33m(\u001b[0m\u001b[1;33m)\u001b[0m\u001b[1;33m\u001b[0m\u001b[1;33m\u001b[0m\u001b[0m\n\u001b[1;32m---> 59\u001b[1;33m     tensors = pywrap_tfe.TFE_Py_Execute(ctx._handle, device_name, op_name,\n\u001b[0m\u001b[0;32m     60\u001b[0m                                         inputs, attrs, num_outputs)\n\u001b[0;32m     61\u001b[0m   \u001b[1;32mexcept\u001b[0m \u001b[0mcore\u001b[0m\u001b[1;33m.\u001b[0m\u001b[0m_NotOkStatusException\u001b[0m \u001b[1;32mas\u001b[0m \u001b[0me\u001b[0m\u001b[1;33m:\u001b[0m\u001b[1;33m\u001b[0m\u001b[1;33m\u001b[0m\u001b[0m\n",
      "\u001b[1;31mKeyboardInterrupt\u001b[0m: "
     ]
    }
   ],
   "source": [
    "model.compile(optimizer=tf.keras.optimizers.SGD(learning_rate=0.009, momentum=0.9,clipvalue=1.0), loss='mse')\n",
    "\n",
    "# TensorBoard\n",
    "run_id = time.strftime(\"run_%Y_%m_%d-%H_%M_%S\")\n",
    "run_log_dir = \"./my_logs/\"+run_id\n",
    "tensorboard_cb = tf.keras.callbacks.TensorBoard(run_log_dir)\n",
    "\n",
    "# Early stopping\n",
    "early_stop = tf.keras.callbacks.EarlyStopping(monitor='val_loss', min_delta=0.0001, \n",
    "                        patience=10, restore_best_weights=True)\n",
    "# Nan stopping\n",
    "nan_stop = tf.keras.callbacks.TerminateOnNaN()\n",
    "\n",
    "history = model.fit(x_feed, y_feed, validation_data=(x_eval, y_eval), \n",
    "                    epochs=100, batch_size=32,\n",
    "                    callbacks=[tensorboard_cb, early_stop, nan_stop])\n",
    "\n",
    "# tensorboard --logdir=.\\my_logs --port=6006"
   ]
  },
  {
   "cell_type": "code",
   "execution_count": 122,
   "metadata": {},
   "outputs": [],
   "source": [
    "#model.save(f\"./Models/{province}_{run_id}.h5\")"
   ]
  },
  {
   "source": [
    "## Evaluate on test data"
   ],
   "cell_type": "markdown",
   "metadata": {}
  },
  {
   "cell_type": "code",
   "execution_count": 119,
   "metadata": {},
   "outputs": [
    {
     "output_type": "stream",
     "name": "stdout",
     "text": [
      "46/46 [==============================] - 26s 575ms/step - loss: 0.0097\n"
     ]
    },
    {
     "output_type": "execute_result",
     "data": {
      "text/plain": [
       "0.009666935540735722"
      ]
     },
     "metadata": {},
     "execution_count": 119
    }
   ],
   "source": [
    "model.evaluate(x_eval, y_eval)"
   ]
  },
  {
   "cell_type": "code",
   "execution_count": 120,
   "metadata": {},
   "outputs": [
    {
     "output_type": "stream",
     "name": "stdout",
     "text": [
      "province : Kanchanaburi\n"
     ]
    },
    {
     "output_type": "execute_result",
     "data": {
      "text/plain": [
       "12.275219890665648"
      ]
     },
     "metadata": {},
     "execution_count": 120
    }
   ],
   "source": [
    "from sklearn.metrics import mean_squared_error as mse\n",
    "pred = model(x_eval)\n",
    "rmse = []\n",
    "print('province :', province)\n",
    "\n",
    "for i in range(len(pred)):\n",
    "    p = y_train_scalers[province].inverse_transform(pred[i].numpy().reshape((-1,1)))\n",
    "    y_t = Y_test[province][i].values\n",
    "    rmse.append(np.sqrt(mse(p, y_t)))\n",
    "np.mean(rmse)"
   ]
  },
  {
   "cell_type": "code",
   "execution_count": 130,
   "metadata": {},
   "outputs": [
    {
     "output_type": "stream",
     "name": "stdout",
     "text": [
      "province = Kanchanaburi\n"
     ]
    },
    {
     "output_type": "display_data",
     "data": {
      "text/plain": "<Figure size 432x288 with 1 Axes>",
      "image/svg+xml": "<?xml version=\"1.0\" encoding=\"utf-8\" standalone=\"no\"?>\r\n<!DOCTYPE svg PUBLIC \"-//W3C//DTD SVG 1.1//EN\"\r\n  \"http://www.w3.org/Graphics/SVG/1.1/DTD/svg11.dtd\">\r\n<svg height=\"270.91375pt\" version=\"1.1\" viewBox=\"0 0 378.465625 270.91375\" width=\"378.465625pt\" xmlns=\"http://www.w3.org/2000/svg\" xmlns:xlink=\"http://www.w3.org/1999/xlink\">\r\n <metadata>\r\n  <rdf:RDF xmlns:cc=\"http://creativecommons.org/ns#\" xmlns:dc=\"http://purl.org/dc/elements/1.1/\" xmlns:rdf=\"http://www.w3.org/1999/02/22-rdf-syntax-ns#\">\r\n   <cc:Work>\r\n    <dc:type rdf:resource=\"http://purl.org/dc/dcmitype/StillImage\"/>\r\n    <dc:date>2021-04-27T15:40:09.611281</dc:date>\r\n    <dc:format>image/svg+xml</dc:format>\r\n    <dc:creator>\r\n     <cc:Agent>\r\n      <dc:title>Matplotlib v3.4.1, https://matplotlib.org/</dc:title>\r\n     </cc:Agent>\r\n    </dc:creator>\r\n   </cc:Work>\r\n  </rdf:RDF>\r\n </metadata>\r\n <defs>\r\n  <style type=\"text/css\">*{stroke-linecap:butt;stroke-linejoin:round;}</style>\r\n </defs>\r\n <g id=\"figure_1\">\r\n  <g id=\"patch_1\">\r\n   <path d=\"M 0 270.91375 \r\nL 378.465625 270.91375 \r\nL 378.465625 0 \r\nL 0 0 \r\nz\r\n\" style=\"fill:none;\"/>\r\n  </g>\r\n  <g id=\"axes_1\">\r\n   <g id=\"patch_2\">\r\n    <path d=\"M 36.465625 224.64 \r\nL 371.265625 224.64 \r\nL 371.265625 7.2 \r\nL 36.465625 7.2 \r\nz\r\n\" style=\"fill:#ffffff;\"/>\r\n   </g>\r\n   <g id=\"matplotlib.axis_1\">\r\n    <g id=\"xtick_1\">\r\n     <g id=\"line2d_1\">\r\n      <defs>\r\n       <path d=\"M 0 0 \r\nL 0 3.5 \r\n\" id=\"m708bc4e111\" style=\"stroke:#000000;stroke-width:0.8;\"/>\r\n      </defs>\r\n      <g>\r\n       <use style=\"stroke:#000000;stroke-width:0.8;\" x=\"36.465625\" xlink:href=\"#m708bc4e111\" y=\"224.64\"/>\r\n      </g>\r\n     </g>\r\n    </g>\r\n    <g id=\"xtick_2\">\r\n     <g id=\"line2d_2\">\r\n      <g>\r\n       <use style=\"stroke:#000000;stroke-width:0.8;\" x=\"60.04309\" xlink:href=\"#m708bc4e111\" y=\"224.64\"/>\r\n      </g>\r\n     </g>\r\n     <g id=\"text_1\">\r\n      <!-- 00:00 -->\r\n      <g transform=\"translate(45.633715 239.238438)scale(0.1 -0.1)\">\r\n       <defs>\r\n        <path d=\"M 2034 4250 \r\nQ 1547 4250 1301 3770 \r\nQ 1056 3291 1056 2328 \r\nQ 1056 1369 1301 889 \r\nQ 1547 409 2034 409 \r\nQ 2525 409 2770 889 \r\nQ 3016 1369 3016 2328 \r\nQ 3016 3291 2770 3770 \r\nQ 2525 4250 2034 4250 \r\nz\r\nM 2034 4750 \r\nQ 2819 4750 3233 4129 \r\nQ 3647 3509 3647 2328 \r\nQ 3647 1150 3233 529 \r\nQ 2819 -91 2034 -91 \r\nQ 1250 -91 836 529 \r\nQ 422 1150 422 2328 \r\nQ 422 3509 836 4129 \r\nQ 1250 4750 2034 4750 \r\nz\r\n\" id=\"DejaVuSans-30\" transform=\"scale(0.015625)\"/>\r\n        <path d=\"M 750 794 \r\nL 1409 794 \r\nL 1409 0 \r\nL 750 0 \r\nL 750 794 \r\nz\r\nM 750 3309 \r\nL 1409 3309 \r\nL 1409 2516 \r\nL 750 2516 \r\nL 750 3309 \r\nz\r\n\" id=\"DejaVuSans-3a\" transform=\"scale(0.015625)\"/>\r\n       </defs>\r\n       <use xlink:href=\"#DejaVuSans-30\"/>\r\n       <use x=\"63.623047\" xlink:href=\"#DejaVuSans-30\"/>\r\n       <use x=\"127.246094\" xlink:href=\"#DejaVuSans-3a\"/>\r\n       <use x=\"160.9375\" xlink:href=\"#DejaVuSans-30\"/>\r\n       <use x=\"224.560547\" xlink:href=\"#DejaVuSans-30\"/>\r\n      </g>\r\n      <!-- 19-Jun -->\r\n      <g transform=\"translate(43.782934 250.43625)scale(0.1 -0.1)\">\r\n       <defs>\r\n        <path d=\"M 794 531 \r\nL 1825 531 \r\nL 1825 4091 \r\nL 703 3866 \r\nL 703 4441 \r\nL 1819 4666 \r\nL 2450 4666 \r\nL 2450 531 \r\nL 3481 531 \r\nL 3481 0 \r\nL 794 0 \r\nL 794 531 \r\nz\r\n\" id=\"DejaVuSans-31\" transform=\"scale(0.015625)\"/>\r\n        <path d=\"M 703 97 \r\nL 703 672 \r\nQ 941 559 1184 500 \r\nQ 1428 441 1663 441 \r\nQ 2288 441 2617 861 \r\nQ 2947 1281 2994 2138 \r\nQ 2813 1869 2534 1725 \r\nQ 2256 1581 1919 1581 \r\nQ 1219 1581 811 2004 \r\nQ 403 2428 403 3163 \r\nQ 403 3881 828 4315 \r\nQ 1253 4750 1959 4750 \r\nQ 2769 4750 3195 4129 \r\nQ 3622 3509 3622 2328 \r\nQ 3622 1225 3098 567 \r\nQ 2575 -91 1691 -91 \r\nQ 1453 -91 1209 -44 \r\nQ 966 3 703 97 \r\nz\r\nM 1959 2075 \r\nQ 2384 2075 2632 2365 \r\nQ 2881 2656 2881 3163 \r\nQ 2881 3666 2632 3958 \r\nQ 2384 4250 1959 4250 \r\nQ 1534 4250 1286 3958 \r\nQ 1038 3666 1038 3163 \r\nQ 1038 2656 1286 2365 \r\nQ 1534 2075 1959 2075 \r\nz\r\n\" id=\"DejaVuSans-39\" transform=\"scale(0.015625)\"/>\r\n        <path d=\"M 313 2009 \r\nL 1997 2009 \r\nL 1997 1497 \r\nL 313 1497 \r\nL 313 2009 \r\nz\r\n\" id=\"DejaVuSans-2d\" transform=\"scale(0.015625)\"/>\r\n        <path d=\"M 628 4666 \r\nL 1259 4666 \r\nL 1259 325 \r\nQ 1259 -519 939 -900 \r\nQ 619 -1281 -91 -1281 \r\nL -331 -1281 \r\nL -331 -750 \r\nL -134 -750 \r\nQ 284 -750 456 -515 \r\nQ 628 -281 628 325 \r\nL 628 4666 \r\nz\r\n\" id=\"DejaVuSans-4a\" transform=\"scale(0.015625)\"/>\r\n        <path d=\"M 544 1381 \r\nL 544 3500 \r\nL 1119 3500 \r\nL 1119 1403 \r\nQ 1119 906 1312 657 \r\nQ 1506 409 1894 409 \r\nQ 2359 409 2629 706 \r\nQ 2900 1003 2900 1516 \r\nL 2900 3500 \r\nL 3475 3500 \r\nL 3475 0 \r\nL 2900 0 \r\nL 2900 538 \r\nQ 2691 219 2414 64 \r\nQ 2138 -91 1772 -91 \r\nQ 1169 -91 856 284 \r\nQ 544 659 544 1381 \r\nz\r\nM 1991 3584 \r\nL 1991 3584 \r\nz\r\n\" id=\"DejaVuSans-75\" transform=\"scale(0.015625)\"/>\r\n        <path d=\"M 3513 2113 \r\nL 3513 0 \r\nL 2938 0 \r\nL 2938 2094 \r\nQ 2938 2591 2744 2837 \r\nQ 2550 3084 2163 3084 \r\nQ 1697 3084 1428 2787 \r\nQ 1159 2491 1159 1978 \r\nL 1159 0 \r\nL 581 0 \r\nL 581 3500 \r\nL 1159 3500 \r\nL 1159 2956 \r\nQ 1366 3272 1645 3428 \r\nQ 1925 3584 2291 3584 \r\nQ 2894 3584 3203 3211 \r\nQ 3513 2838 3513 2113 \r\nz\r\n\" id=\"DejaVuSans-6e\" transform=\"scale(0.015625)\"/>\r\n       </defs>\r\n       <use xlink:href=\"#DejaVuSans-31\"/>\r\n       <use x=\"63.623047\" xlink:href=\"#DejaVuSans-39\"/>\r\n       <use x=\"127.246094\" xlink:href=\"#DejaVuSans-2d\"/>\r\n       <use x=\"168.955078\" xlink:href=\"#DejaVuSans-4a\"/>\r\n       <use x=\"198.447266\" xlink:href=\"#DejaVuSans-75\"/>\r\n       <use x=\"261.826172\" xlink:href=\"#DejaVuSans-6e\"/>\r\n      </g>\r\n      <!-- 2019 -->\r\n      <g transform=\"translate(47.31809 261.634062)scale(0.1 -0.1)\">\r\n       <defs>\r\n        <path d=\"M 1228 531 \r\nL 3431 531 \r\nL 3431 0 \r\nL 469 0 \r\nL 469 531 \r\nQ 828 903 1448 1529 \r\nQ 2069 2156 2228 2338 \r\nQ 2531 2678 2651 2914 \r\nQ 2772 3150 2772 3378 \r\nQ 2772 3750 2511 3984 \r\nQ 2250 4219 1831 4219 \r\nQ 1534 4219 1204 4116 \r\nQ 875 4013 500 3803 \r\nL 500 4441 \r\nQ 881 4594 1212 4672 \r\nQ 1544 4750 1819 4750 \r\nQ 2544 4750 2975 4387 \r\nQ 3406 4025 3406 3419 \r\nQ 3406 3131 3298 2873 \r\nQ 3191 2616 2906 2266 \r\nQ 2828 2175 2409 1742 \r\nQ 1991 1309 1228 531 \r\nz\r\n\" id=\"DejaVuSans-32\" transform=\"scale(0.015625)\"/>\r\n       </defs>\r\n       <use xlink:href=\"#DejaVuSans-32\"/>\r\n       <use x=\"63.623047\" xlink:href=\"#DejaVuSans-30\"/>\r\n       <use x=\"127.246094\" xlink:href=\"#DejaVuSans-31\"/>\r\n       <use x=\"190.869141\" xlink:href=\"#DejaVuSans-39\"/>\r\n      </g>\r\n     </g>\r\n    </g>\r\n    <g id=\"xtick_3\">\r\n     <g id=\"line2d_3\">\r\n      <g>\r\n       <use style=\"stroke:#000000;stroke-width:0.8;\" x=\"173.214921\" xlink:href=\"#m708bc4e111\" y=\"224.64\"/>\r\n      </g>\r\n     </g>\r\n     <g id=\"text_2\">\r\n      <!-- 00:00 -->\r\n      <g transform=\"translate(158.805546 239.238438)scale(0.1 -0.1)\">\r\n       <use xlink:href=\"#DejaVuSans-30\"/>\r\n       <use x=\"63.623047\" xlink:href=\"#DejaVuSans-30\"/>\r\n       <use x=\"127.246094\" xlink:href=\"#DejaVuSans-3a\"/>\r\n       <use x=\"160.9375\" xlink:href=\"#DejaVuSans-30\"/>\r\n       <use x=\"224.560547\" xlink:href=\"#DejaVuSans-30\"/>\r\n      </g>\r\n      <!-- 20-Jun -->\r\n      <g transform=\"translate(156.954765 250.43625)scale(0.1 -0.1)\">\r\n       <use xlink:href=\"#DejaVuSans-32\"/>\r\n       <use x=\"63.623047\" xlink:href=\"#DejaVuSans-30\"/>\r\n       <use x=\"127.246094\" xlink:href=\"#DejaVuSans-2d\"/>\r\n       <use x=\"168.955078\" xlink:href=\"#DejaVuSans-4a\"/>\r\n       <use x=\"198.447266\" xlink:href=\"#DejaVuSans-75\"/>\r\n       <use x=\"261.826172\" xlink:href=\"#DejaVuSans-6e\"/>\r\n      </g>\r\n     </g>\r\n    </g>\r\n    <g id=\"xtick_4\">\r\n     <g id=\"line2d_4\">\r\n      <g>\r\n       <use style=\"stroke:#000000;stroke-width:0.8;\" x=\"286.386752\" xlink:href=\"#m708bc4e111\" y=\"224.64\"/>\r\n      </g>\r\n     </g>\r\n     <g id=\"text_3\">\r\n      <!-- 00:00 -->\r\n      <g transform=\"translate(271.977377 239.238438)scale(0.1 -0.1)\">\r\n       <use xlink:href=\"#DejaVuSans-30\"/>\r\n       <use x=\"63.623047\" xlink:href=\"#DejaVuSans-30\"/>\r\n       <use x=\"127.246094\" xlink:href=\"#DejaVuSans-3a\"/>\r\n       <use x=\"160.9375\" xlink:href=\"#DejaVuSans-30\"/>\r\n       <use x=\"224.560547\" xlink:href=\"#DejaVuSans-30\"/>\r\n      </g>\r\n      <!-- 21-Jun -->\r\n      <g transform=\"translate(270.126596 250.43625)scale(0.1 -0.1)\">\r\n       <use xlink:href=\"#DejaVuSans-32\"/>\r\n       <use x=\"63.623047\" xlink:href=\"#DejaVuSans-31\"/>\r\n       <use x=\"127.246094\" xlink:href=\"#DejaVuSans-2d\"/>\r\n       <use x=\"168.955078\" xlink:href=\"#DejaVuSans-4a\"/>\r\n       <use x=\"198.447266\" xlink:href=\"#DejaVuSans-75\"/>\r\n       <use x=\"261.826172\" xlink:href=\"#DejaVuSans-6e\"/>\r\n      </g>\r\n     </g>\r\n    </g>\r\n    <g id=\"xtick_5\">\r\n     <g id=\"line2d_5\">\r\n      <g>\r\n       <use style=\"stroke:#000000;stroke-width:0.8;\" x=\"371.265625\" xlink:href=\"#m708bc4e111\" y=\"224.64\"/>\r\n      </g>\r\n     </g>\r\n    </g>\r\n    <g id=\"xtick_6\">\r\n     <g id=\"line2d_6\">\r\n      <defs>\r\n       <path d=\"M 0 0 \r\nL 0 2 \r\n\" id=\"me64ca551fe\" style=\"stroke:#000000;stroke-width:0.6;\"/>\r\n      </defs>\r\n      <g>\r\n       <use style=\"stroke:#000000;stroke-width:0.6;\" x=\"116.629005\" xlink:href=\"#me64ca551fe\" y=\"224.64\"/>\r\n      </g>\r\n     </g>\r\n     <g id=\"text_4\">\r\n      <!-- 12:00 -->\r\n      <g transform=\"translate(102.21963 237.638438)scale(0.1 -0.1)\">\r\n       <use xlink:href=\"#DejaVuSans-31\"/>\r\n       <use x=\"63.623047\" xlink:href=\"#DejaVuSans-32\"/>\r\n       <use x=\"127.246094\" xlink:href=\"#DejaVuSans-3a\"/>\r\n       <use x=\"160.9375\" xlink:href=\"#DejaVuSans-30\"/>\r\n       <use x=\"224.560547\" xlink:href=\"#DejaVuSans-30\"/>\r\n      </g>\r\n     </g>\r\n    </g>\r\n    <g id=\"xtick_7\">\r\n     <g id=\"line2d_7\">\r\n      <g>\r\n       <use style=\"stroke:#000000;stroke-width:0.6;\" x=\"229.800836\" xlink:href=\"#me64ca551fe\" y=\"224.64\"/>\r\n      </g>\r\n     </g>\r\n     <g id=\"text_5\">\r\n      <!-- 12:00 -->\r\n      <g transform=\"translate(215.391461 237.638438)scale(0.1 -0.1)\">\r\n       <use xlink:href=\"#DejaVuSans-31\"/>\r\n       <use x=\"63.623047\" xlink:href=\"#DejaVuSans-32\"/>\r\n       <use x=\"127.246094\" xlink:href=\"#DejaVuSans-3a\"/>\r\n       <use x=\"160.9375\" xlink:href=\"#DejaVuSans-30\"/>\r\n       <use x=\"224.560547\" xlink:href=\"#DejaVuSans-30\"/>\r\n      </g>\r\n     </g>\r\n    </g>\r\n    <g id=\"xtick_8\">\r\n     <g id=\"line2d_8\">\r\n      <g>\r\n       <use style=\"stroke:#000000;stroke-width:0.6;\" x=\"342.972667\" xlink:href=\"#me64ca551fe\" y=\"224.64\"/>\r\n      </g>\r\n     </g>\r\n     <g id=\"text_6\">\r\n      <!-- 12:00 -->\r\n      <g transform=\"translate(328.563292 237.638438)scale(0.1 -0.1)\">\r\n       <use xlink:href=\"#DejaVuSans-31\"/>\r\n       <use x=\"63.623047\" xlink:href=\"#DejaVuSans-32\"/>\r\n       <use x=\"127.246094\" xlink:href=\"#DejaVuSans-3a\"/>\r\n       <use x=\"160.9375\" xlink:href=\"#DejaVuSans-30\"/>\r\n       <use x=\"224.560547\" xlink:href=\"#DejaVuSans-30\"/>\r\n      </g>\r\n     </g>\r\n    </g>\r\n   </g>\r\n   <g id=\"matplotlib.axis_2\">\r\n    <g id=\"ytick_1\">\r\n     <g id=\"line2d_9\">\r\n      <defs>\r\n       <path d=\"M 0 0 \r\nL -3.5 0 \r\n\" id=\"mafb5094c2c\" style=\"stroke:#000000;stroke-width:0.8;\"/>\r\n      </defs>\r\n      <g>\r\n       <use style=\"stroke:#000000;stroke-width:0.8;\" x=\"36.465625\" xlink:href=\"#mafb5094c2c\" y=\"200.319591\"/>\r\n      </g>\r\n     </g>\r\n     <g id=\"text_7\">\r\n      <!-- 5.0 -->\r\n      <g transform=\"translate(13.5625 204.11881)scale(0.1 -0.1)\">\r\n       <defs>\r\n        <path d=\"M 691 4666 \r\nL 3169 4666 \r\nL 3169 4134 \r\nL 1269 4134 \r\nL 1269 2991 \r\nQ 1406 3038 1543 3061 \r\nQ 1681 3084 1819 3084 \r\nQ 2600 3084 3056 2656 \r\nQ 3513 2228 3513 1497 \r\nQ 3513 744 3044 326 \r\nQ 2575 -91 1722 -91 \r\nQ 1428 -91 1123 -41 \r\nQ 819 9 494 109 \r\nL 494 744 \r\nQ 775 591 1075 516 \r\nQ 1375 441 1709 441 \r\nQ 2250 441 2565 725 \r\nQ 2881 1009 2881 1497 \r\nQ 2881 1984 2565 2268 \r\nQ 2250 2553 1709 2553 \r\nQ 1456 2553 1204 2497 \r\nQ 953 2441 691 2322 \r\nL 691 4666 \r\nz\r\n\" id=\"DejaVuSans-35\" transform=\"scale(0.015625)\"/>\r\n        <path d=\"M 684 794 \r\nL 1344 794 \r\nL 1344 0 \r\nL 684 0 \r\nL 684 794 \r\nz\r\n\" id=\"DejaVuSans-2e\" transform=\"scale(0.015625)\"/>\r\n       </defs>\r\n       <use xlink:href=\"#DejaVuSans-35\"/>\r\n       <use x=\"63.623047\" xlink:href=\"#DejaVuSans-2e\"/>\r\n       <use x=\"95.410156\" xlink:href=\"#DejaVuSans-30\"/>\r\n      </g>\r\n     </g>\r\n    </g>\r\n    <g id=\"ytick_2\">\r\n     <g id=\"line2d_10\">\r\n      <g>\r\n       <use style=\"stroke:#000000;stroke-width:0.8;\" x=\"36.465625\" xlink:href=\"#mafb5094c2c\" y=\"172.556568\"/>\r\n      </g>\r\n     </g>\r\n     <g id=\"text_8\">\r\n      <!-- 7.5 -->\r\n      <g transform=\"translate(13.5625 176.355787)scale(0.1 -0.1)\">\r\n       <defs>\r\n        <path d=\"M 525 4666 \r\nL 3525 4666 \r\nL 3525 4397 \r\nL 1831 0 \r\nL 1172 0 \r\nL 2766 4134 \r\nL 525 4134 \r\nL 525 4666 \r\nz\r\n\" id=\"DejaVuSans-37\" transform=\"scale(0.015625)\"/>\r\n       </defs>\r\n       <use xlink:href=\"#DejaVuSans-37\"/>\r\n       <use x=\"63.623047\" xlink:href=\"#DejaVuSans-2e\"/>\r\n       <use x=\"95.410156\" xlink:href=\"#DejaVuSans-35\"/>\r\n      </g>\r\n     </g>\r\n    </g>\r\n    <g id=\"ytick_3\">\r\n     <g id=\"line2d_11\">\r\n      <g>\r\n       <use style=\"stroke:#000000;stroke-width:0.8;\" x=\"36.465625\" xlink:href=\"#mafb5094c2c\" y=\"144.793544\"/>\r\n      </g>\r\n     </g>\r\n     <g id=\"text_9\">\r\n      <!-- 10.0 -->\r\n      <g transform=\"translate(7.2 148.592763)scale(0.1 -0.1)\">\r\n       <use xlink:href=\"#DejaVuSans-31\"/>\r\n       <use x=\"63.623047\" xlink:href=\"#DejaVuSans-30\"/>\r\n       <use x=\"127.246094\" xlink:href=\"#DejaVuSans-2e\"/>\r\n       <use x=\"159.033203\" xlink:href=\"#DejaVuSans-30\"/>\r\n      </g>\r\n     </g>\r\n    </g>\r\n    <g id=\"ytick_4\">\r\n     <g id=\"line2d_12\">\r\n      <g>\r\n       <use style=\"stroke:#000000;stroke-width:0.8;\" x=\"36.465625\" xlink:href=\"#mafb5094c2c\" y=\"117.030521\"/>\r\n      </g>\r\n     </g>\r\n     <g id=\"text_10\">\r\n      <!-- 12.5 -->\r\n      <g transform=\"translate(7.2 120.82974)scale(0.1 -0.1)\">\r\n       <use xlink:href=\"#DejaVuSans-31\"/>\r\n       <use x=\"63.623047\" xlink:href=\"#DejaVuSans-32\"/>\r\n       <use x=\"127.246094\" xlink:href=\"#DejaVuSans-2e\"/>\r\n       <use x=\"159.033203\" xlink:href=\"#DejaVuSans-35\"/>\r\n      </g>\r\n     </g>\r\n    </g>\r\n    <g id=\"ytick_5\">\r\n     <g id=\"line2d_13\">\r\n      <g>\r\n       <use style=\"stroke:#000000;stroke-width:0.8;\" x=\"36.465625\" xlink:href=\"#mafb5094c2c\" y=\"89.267497\"/>\r\n      </g>\r\n     </g>\r\n     <g id=\"text_11\">\r\n      <!-- 15.0 -->\r\n      <g transform=\"translate(7.2 93.066716)scale(0.1 -0.1)\">\r\n       <use xlink:href=\"#DejaVuSans-31\"/>\r\n       <use x=\"63.623047\" xlink:href=\"#DejaVuSans-35\"/>\r\n       <use x=\"127.246094\" xlink:href=\"#DejaVuSans-2e\"/>\r\n       <use x=\"159.033203\" xlink:href=\"#DejaVuSans-30\"/>\r\n      </g>\r\n     </g>\r\n    </g>\r\n    <g id=\"ytick_6\">\r\n     <g id=\"line2d_14\">\r\n      <g>\r\n       <use style=\"stroke:#000000;stroke-width:0.8;\" x=\"36.465625\" xlink:href=\"#mafb5094c2c\" y=\"61.504474\"/>\r\n      </g>\r\n     </g>\r\n     <g id=\"text_12\">\r\n      <!-- 17.5 -->\r\n      <g transform=\"translate(7.2 65.303693)scale(0.1 -0.1)\">\r\n       <use xlink:href=\"#DejaVuSans-31\"/>\r\n       <use x=\"63.623047\" xlink:href=\"#DejaVuSans-37\"/>\r\n       <use x=\"127.246094\" xlink:href=\"#DejaVuSans-2e\"/>\r\n       <use x=\"159.033203\" xlink:href=\"#DejaVuSans-35\"/>\r\n      </g>\r\n     </g>\r\n    </g>\r\n    <g id=\"ytick_7\">\r\n     <g id=\"line2d_15\">\r\n      <g>\r\n       <use style=\"stroke:#000000;stroke-width:0.8;\" x=\"36.465625\" xlink:href=\"#mafb5094c2c\" y=\"33.74145\"/>\r\n      </g>\r\n     </g>\r\n     <g id=\"text_13\">\r\n      <!-- 20.0 -->\r\n      <g transform=\"translate(7.2 37.540669)scale(0.1 -0.1)\">\r\n       <use xlink:href=\"#DejaVuSans-32\"/>\r\n       <use x=\"63.623047\" xlink:href=\"#DejaVuSans-30\"/>\r\n       <use x=\"127.246094\" xlink:href=\"#DejaVuSans-2e\"/>\r\n       <use x=\"159.033203\" xlink:href=\"#DejaVuSans-30\"/>\r\n      </g>\r\n     </g>\r\n    </g>\r\n   </g>\r\n   <g id=\"line2d_16\">\r\n    <path clip-path=\"url(#p2f146e0ad3)\" d=\"M 36.465625 129.246251 \r\nL 41.181118 105.925312 \r\nL 45.896611 79.272809 \r\nL 50.612104 50.399265 \r\nL 55.327597 71.499162 \r\nL 60.04309 100.372707 \r\nL 64.758583 90.378018 \r\nL 69.474076 67.057079 \r\nL 74.189569 123.693647 \r\nL 78.905062 152.567191 \r\nL 83.620555 155.898754 \r\nL 88.336048 159.230317 \r\nL 93.05154 132.577814 \r\nL 97.767033 128.13573 \r\nL 102.482526 103.70427 \r\nL 107.198019 90.378018 \r\nL 111.913512 49.288744 \r\nL 116.629005 17.083636 \r\nL 121.344498 50.399265 \r\nL 126.059991 88.156977 \r\nL 130.775484 154.788233 \r\nL 135.490977 206.982717 \r\nL 140.20647 124.804168 \r\nL 144.921963 121.472605 \r\nL 149.637456 214.756364 \r\nL 154.352949 175.888131 \r\nL 159.068442 169.225005 \r\nL 163.783935 151.45667 \r\nL 168.499428 132.577814 \r\nL 173.214921 132.577814 \r\nL 177.930414 132.577814 \r\nL 182.645907 132.577814 \r\nL 187.3614 92.59906 \r\nL 192.076893 83.714893 \r\nL 196.792386 101.483228 \r\nL 201.507879 99.262186 \r\nL 206.223371 160.340838 \r\nL 210.938864 171.446047 \r\nL 215.654357 117.030521 \r\nL 220.36985 128.13573 \r\nL 225.085343 125.914688 \r\nL 229.800836 147.014586 \r\nL 234.516329 174.77761 \r\nL 239.231822 179.219694 \r\nL 243.947315 143.683023 \r\nL 248.662808 120.362084 \r\nL 253.378301 114.809479 \r\nL 258.093794 117.030521 \r\nL 262.809287 150.346149 \r\nL 267.52478 142.572503 \r\nL 272.240273 131.467293 \r\nL 276.955766 113.698958 \r\nL 281.671259 117.030521 \r\nL 286.386752 162.561879 \r\nL 291.102245 154.788233 \r\nL 295.817738 121.472605 \r\nL 300.533231 90.378018 \r\nL 305.248724 112.588437 \r\nL 309.964217 150.346149 \r\nL 314.67971 170.335526 \r\nL 319.395202 145.904065 \r\nL 324.110695 91.488539 \r\nL 328.826188 77.051767 \r\nL 333.541681 102.593749 \r\nL 338.257174 130.356772 \r\nL 342.972667 139.24094 \r\nL 347.68816 128.13573 \r\nL 352.403653 118.141042 \r\nL 357.119146 83.714893 \r\nL 361.834639 139.24094 \r\nL 366.550132 150.346149 \r\nL 371.265625 132.577814 \r\n\" style=\"fill:none;stroke:#1f77b4;stroke-linecap:square;stroke-width:1.5;\"/>\r\n   </g>\r\n   <g id=\"line2d_17\">\r\n    <path clip-path=\"url(#p2f146e0ad3)\" d=\"M 36.465625 125.047742 \r\nL 41.181118 108.966414 \r\nL 45.896611 142.959237 \r\nL 50.612104 136.720362 \r\nL 55.327597 130.59754 \r\nL 60.04309 135.899875 \r\nL 64.758583 141.233103 \r\nL 69.474076 127.286024 \r\nL 74.189569 122.363198 \r\nL 78.905062 98.908959 \r\nL 83.620555 146.304368 \r\nL 88.336048 139.444791 \r\nL 93.05154 152.091389 \r\nL 97.767033 132.940183 \r\nL 102.482526 130.670807 \r\nL 107.198019 118.955147 \r\nL 111.913512 131.818771 \r\nL 116.629005 106.281182 \r\nL 121.344498 123.379487 \r\nL 126.059991 134.960867 \r\nL 130.775484 122.953813 \r\nL 135.490977 132.65831 \r\nL 140.20647 120.017749 \r\nL 144.921963 124.59144 \r\nL 149.637456 117.750893 \r\nL 154.352949 101.983306 \r\nL 159.068442 124.823896 \r\nL 163.783935 129.048696 \r\nL 168.499428 129.202124 \r\nL 173.214921 128.872826 \r\nL 177.930414 134.94873 \r\nL 182.645907 125.888637 \r\nL 187.3614 98.009274 \r\nL 192.076893 125.090719 \r\nL 196.792386 137.671856 \r\nL 201.507879 121.991971 \r\nL 206.223371 114.657303 \r\nL 210.938864 96.570521 \r\nL 215.654357 106.819319 \r\nL 220.36985 118.980204 \r\nL 225.085343 135.253119 \r\nL 229.800836 134.882294 \r\nL 234.516329 99.500431 \r\nL 239.231822 131.570227 \r\nL 243.947315 94.115584 \r\nL 248.662808 98.138683 \r\nL 253.378301 111.008534 \r\nL 258.093794 123.414775 \r\nL 262.809287 123.199084 \r\nL 267.52478 105.95181 \r\nL 272.240273 112.039957 \r\nL 276.955766 123.374128 \r\nL 281.671259 129.480237 \r\nL 286.386752 127.916576 \r\nL 291.102245 115.591587 \r\nL 295.817738 114.871638 \r\nL 300.533231 90.061391 \r\nL 305.248724 102.94465 \r\nL 309.964217 95.478 \r\nL 314.67971 129.517485 \r\nL 319.395202 91.312773 \r\nL 324.110695 106.38316 \r\nL 328.826188 111.861873 \r\nL 333.541681 112.811144 \r\nL 338.257174 146.393193 \r\nL 342.972667 115.469444 \r\nL 347.68816 99.112937 \r\nL 352.403653 107.653532 \r\nL 357.119146 101.640769 \r\nL 361.834639 119.821756 \r\nL 366.550132 121.312542 \r\nL 371.265625 128.529219 \r\n\" style=\"fill:none;stroke:#ff7f0e;stroke-linecap:square;stroke-width:1.5;\"/>\r\n   </g>\r\n   <g id=\"patch_3\">\r\n    <path d=\"M 36.465625 224.64 \r\nL 36.465625 7.2 \r\n\" style=\"fill:none;stroke:#000000;stroke-linecap:square;stroke-linejoin:miter;stroke-width:0.8;\"/>\r\n   </g>\r\n   <g id=\"patch_4\">\r\n    <path d=\"M 371.265625 224.64 \r\nL 371.265625 7.2 \r\n\" style=\"fill:none;stroke:#000000;stroke-linecap:square;stroke-linejoin:miter;stroke-width:0.8;\"/>\r\n   </g>\r\n   <g id=\"patch_5\">\r\n    <path d=\"M 36.465625 224.64 \r\nL 371.265625 224.64 \r\n\" style=\"fill:none;stroke:#000000;stroke-linecap:square;stroke-linejoin:miter;stroke-width:0.8;\"/>\r\n   </g>\r\n   <g id=\"patch_6\">\r\n    <path d=\"M 36.465625 7.2 \r\nL 371.265625 7.2 \r\n\" style=\"fill:none;stroke:#000000;stroke-linecap:square;stroke-linejoin:miter;stroke-width:0.8;\"/>\r\n   </g>\r\n   <g id=\"legend_1\">\r\n    <g id=\"patch_7\">\r\n     <path d=\"M 301.704688 44.55625 \r\nL 364.265625 44.55625 \r\nQ 366.265625 44.55625 366.265625 42.55625 \r\nL 366.265625 14.2 \r\nQ 366.265625 12.2 364.265625 12.2 \r\nL 301.704688 12.2 \r\nQ 299.704688 12.2 299.704688 14.2 \r\nL 299.704688 42.55625 \r\nQ 299.704688 44.55625 301.704688 44.55625 \r\nz\r\n\" style=\"fill:#ffffff;opacity:0.8;stroke:#cccccc;stroke-linejoin:miter;\"/>\r\n    </g>\r\n    <g id=\"line2d_18\">\r\n     <path d=\"M 303.704688 20.298437 \r\nL 323.704688 20.298437 \r\n\" style=\"fill:none;stroke:#1f77b4;stroke-linecap:square;stroke-width:1.5;\"/>\r\n    </g>\r\n    <g id=\"line2d_19\"/>\r\n    <g id=\"text_14\">\r\n     <!-- PM2.5 -->\r\n     <g transform=\"translate(331.704688 23.798437)scale(0.1 -0.1)\">\r\n      <defs>\r\n       <path d=\"M 1259 4147 \r\nL 1259 2394 \r\nL 2053 2394 \r\nQ 2494 2394 2734 2622 \r\nQ 2975 2850 2975 3272 \r\nQ 2975 3691 2734 3919 \r\nQ 2494 4147 2053 4147 \r\nL 1259 4147 \r\nz\r\nM 628 4666 \r\nL 2053 4666 \r\nQ 2838 4666 3239 4311 \r\nQ 3641 3956 3641 3272 \r\nQ 3641 2581 3239 2228 \r\nQ 2838 1875 2053 1875 \r\nL 1259 1875 \r\nL 1259 0 \r\nL 628 0 \r\nL 628 4666 \r\nz\r\n\" id=\"DejaVuSans-50\" transform=\"scale(0.015625)\"/>\r\n       <path d=\"M 628 4666 \r\nL 1569 4666 \r\nL 2759 1491 \r\nL 3956 4666 \r\nL 4897 4666 \r\nL 4897 0 \r\nL 4281 0 \r\nL 4281 4097 \r\nL 3078 897 \r\nL 2444 897 \r\nL 1241 4097 \r\nL 1241 0 \r\nL 628 0 \r\nL 628 4666 \r\nz\r\n\" id=\"DejaVuSans-4d\" transform=\"scale(0.015625)\"/>\r\n      </defs>\r\n      <use xlink:href=\"#DejaVuSans-50\"/>\r\n      <use x=\"60.302734\" xlink:href=\"#DejaVuSans-4d\"/>\r\n      <use x=\"146.582031\" xlink:href=\"#DejaVuSans-32\"/>\r\n      <use x=\"210.205078\" xlink:href=\"#DejaVuSans-2e\"/>\r\n      <use x=\"241.992188\" xlink:href=\"#DejaVuSans-35\"/>\r\n     </g>\r\n    </g>\r\n    <g id=\"line2d_20\">\r\n     <path d=\"M 303.704688 34.976562 \r\nL 323.704688 34.976562 \r\n\" style=\"fill:none;stroke:#ff7f0e;stroke-linecap:square;stroke-width:1.5;\"/>\r\n    </g>\r\n    <g id=\"line2d_21\"/>\r\n    <g id=\"text_15\">\r\n     <!-- pred -->\r\n     <g transform=\"translate(331.704688 38.476562)scale(0.1 -0.1)\">\r\n      <defs>\r\n       <path d=\"M 1159 525 \r\nL 1159 -1331 \r\nL 581 -1331 \r\nL 581 3500 \r\nL 1159 3500 \r\nL 1159 2969 \r\nQ 1341 3281 1617 3432 \r\nQ 1894 3584 2278 3584 \r\nQ 2916 3584 3314 3078 \r\nQ 3713 2572 3713 1747 \r\nQ 3713 922 3314 415 \r\nQ 2916 -91 2278 -91 \r\nQ 1894 -91 1617 61 \r\nQ 1341 213 1159 525 \r\nz\r\nM 3116 1747 \r\nQ 3116 2381 2855 2742 \r\nQ 2594 3103 2138 3103 \r\nQ 1681 3103 1420 2742 \r\nQ 1159 2381 1159 1747 \r\nQ 1159 1113 1420 752 \r\nQ 1681 391 2138 391 \r\nQ 2594 391 2855 752 \r\nQ 3116 1113 3116 1747 \r\nz\r\n\" id=\"DejaVuSans-70\" transform=\"scale(0.015625)\"/>\r\n       <path d=\"M 2631 2963 \r\nQ 2534 3019 2420 3045 \r\nQ 2306 3072 2169 3072 \r\nQ 1681 3072 1420 2755 \r\nQ 1159 2438 1159 1844 \r\nL 1159 0 \r\nL 581 0 \r\nL 581 3500 \r\nL 1159 3500 \r\nL 1159 2956 \r\nQ 1341 3275 1631 3429 \r\nQ 1922 3584 2338 3584 \r\nQ 2397 3584 2469 3576 \r\nQ 2541 3569 2628 3553 \r\nL 2631 2963 \r\nz\r\n\" id=\"DejaVuSans-72\" transform=\"scale(0.015625)\"/>\r\n       <path d=\"M 3597 1894 \r\nL 3597 1613 \r\nL 953 1613 \r\nQ 991 1019 1311 708 \r\nQ 1631 397 2203 397 \r\nQ 2534 397 2845 478 \r\nQ 3156 559 3463 722 \r\nL 3463 178 \r\nQ 3153 47 2828 -22 \r\nQ 2503 -91 2169 -91 \r\nQ 1331 -91 842 396 \r\nQ 353 884 353 1716 \r\nQ 353 2575 817 3079 \r\nQ 1281 3584 2069 3584 \r\nQ 2775 3584 3186 3129 \r\nQ 3597 2675 3597 1894 \r\nz\r\nM 3022 2063 \r\nQ 3016 2534 2758 2815 \r\nQ 2500 3097 2075 3097 \r\nQ 1594 3097 1305 2825 \r\nQ 1016 2553 972 2059 \r\nL 3022 2063 \r\nz\r\n\" id=\"DejaVuSans-65\" transform=\"scale(0.015625)\"/>\r\n       <path d=\"M 2906 2969 \r\nL 2906 4863 \r\nL 3481 4863 \r\nL 3481 0 \r\nL 2906 0 \r\nL 2906 525 \r\nQ 2725 213 2448 61 \r\nQ 2172 -91 1784 -91 \r\nQ 1150 -91 751 415 \r\nQ 353 922 353 1747 \r\nQ 353 2572 751 3078 \r\nQ 1150 3584 1784 3584 \r\nQ 2172 3584 2448 3432 \r\nQ 2725 3281 2906 2969 \r\nz\r\nM 947 1747 \r\nQ 947 1113 1208 752 \r\nQ 1469 391 1925 391 \r\nQ 2381 391 2643 752 \r\nQ 2906 1113 2906 1747 \r\nQ 2906 2381 2643 2742 \r\nQ 2381 3103 1925 3103 \r\nQ 1469 3103 1208 2742 \r\nQ 947 2381 947 1747 \r\nz\r\n\" id=\"DejaVuSans-64\" transform=\"scale(0.015625)\"/>\r\n      </defs>\r\n      <use xlink:href=\"#DejaVuSans-70\"/>\r\n      <use x=\"63.476562\" xlink:href=\"#DejaVuSans-72\"/>\r\n      <use x=\"102.339844\" xlink:href=\"#DejaVuSans-65\"/>\r\n      <use x=\"163.863281\" xlink:href=\"#DejaVuSans-64\"/>\r\n     </g>\r\n    </g>\r\n   </g>\r\n  </g>\r\n </g>\r\n <defs>\r\n  <clipPath id=\"p2f146e0ad3\">\r\n   <rect height=\"217.44\" width=\"334.8\" x=\"36.465625\" y=\"7.2\"/>\r\n  </clipPath>\r\n </defs>\r\n</svg>\r\n",
      "image/png": "[encoded data removed]"
     },
     "metadata": {
      "needs_background": "light"
     }
    }
   ],
   "source": [
    "i = 369\n",
    "print('province =',province)\n",
    "h = y_train_scalers[province].inverse_transform(pred[i].numpy().reshape((-1,1)))\n",
    "k = Y_test[province][i].copy()\n",
    "k['pred'] = h\n",
    "k.plot();"
   ]
  },
  {
   "cell_type": "code",
   "execution_count": 129,
   "metadata": {},
   "outputs": [
    {
     "output_type": "execute_result",
     "data": {
      "text/plain": [
       "369"
      ]
     },
     "metadata": {},
     "execution_count": 129
    }
   ],
   "source": [
    "np.argmin(rmse)"
   ]
  },
  {
   "source": [
    "## Save the model\n",
    "- **Bangkok** : `./Models/Bangkok_run_2021_04_26-13_20_42_final_26Apr.h5` (11.98)\n",
    "    - `./Models/Chiang Mai_run_2021_04_26-19_56_00_final_26Apr.h5` (10.40)\n",
    "    - all features\n",
    "    - 360 timesteps\n",
    "- **Chanthaburi** : `./Models/Chanthaburi_run_2021_04_26-10_42_58_final_26Apr1155.h5` (8.89) \n",
    "    - all features\n",
    "   - 360 timesteps\n",
    "- **Songkhla** : `./Models/Songkhla_run_2021_04_25-22_41_22.h5` (7.96)\n",
    "    - all features\n",
    "    - 360 timesteps \n",
    "- **Kanchanaburi** : `./Models/Kanchanaburi_run_2021_04_26-22_18_39_final_26Apr.h5` (12.27)\n",
    "    - all features\n",
    "    - 360 timesteps"
   ],
   "cell_type": "markdown",
   "metadata": {}
  },
  {
   "source": [
    "# xxxxxxxxxxxxxxxxxxxxxxxxxxxxxxxxxxxxxxxxxxxxx"
   ],
   "cell_type": "markdown",
   "metadata": {}
  }
 ]
}