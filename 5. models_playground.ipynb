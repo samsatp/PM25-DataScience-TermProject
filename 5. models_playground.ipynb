{
 "metadata": {
  "language_info": {
   "codemirror_mode": {
    "name": "ipython",
    "version": 3
   },
   "file_extension": ".py",
   "mimetype": "text/x-python",
   "name": "python",
   "nbconvert_exporter": "python",
   "pygments_lexer": "ipython3",
   "version": "3.9.1-final"
  },
  "orig_nbformat": 2,
  "kernelspec": {
   "name": "python391jvsc74a57bd031605234de10b43ea767264d17dfb0196cf2b9da7012776efe0be49341337db4",
   "display_name": "Python 3.9.1 64-bit ('jupyterlab2.26': conda)"
  }
 },
 "nbformat": 4,
 "nbformat_minor": 2,
 "cells": [
  {
   "cell_type": "code",
   "execution_count": 1,
   "metadata": {},
   "outputs": [
    {
     "output_type": "stream",
     "name": "stdout",
     "text": [
      "INFO:tensorflow:Enabling eager execution\n",
      "INFO:tensorflow:Enabling v2 tensorshape\n",
      "INFO:tensorflow:Enabling resource variables\n",
      "INFO:tensorflow:Enabling tensor equality\n",
      "INFO:tensorflow:Enabling control flow v2\n"
     ]
    },
    {
     "output_type": "execute_result",
     "data": {
      "text/plain": [
       "'2.5.0-rc1'"
      ]
     },
     "metadata": {},
     "execution_count": 1
    }
   ],
   "source": [
    "from util_input_output_model import *\n",
    "from collections import defaultdict\n",
    "from datetime import timedelta\n",
    "import tensorflow as tf\n",
    "import numpy as np\n",
    "import pandas as pd\n",
    "import time\n",
    "provinces = ['Bangkok','Chanthaburi','Chiang Mai','Kanchanaburi','Songkhla','Khon Kaen']\n",
    "\n",
    "features = ['PM2.5','WindDir','Wind Speed(km/h)','Temp(C)','Cambodia_frp','Myanmar_frp','Thailand_frp','Lao_PDR_frp']\n",
    "tf.__version__"
   ]
  },
  {
   "source": [
    "## Preparing data\n",
    "We'll preparing `X, Y` of `Train, Test` set."
   ],
   "cell_type": "markdown",
   "metadata": {}
  },
  {
   "cell_type": "code",
   "execution_count": 2,
   "metadata": {},
   "outputs": [
    {
     "output_type": "stream",
     "name": "stdout",
     "text": [
      "Enter timestep :  168\n"
     ]
    }
   ],
   "source": [
    "print(\"Enter timestep : \",end=' ')\n",
    "timesteps = int(input())\n",
    "print(timesteps)"
   ]
  },
  {
   "cell_type": "code",
   "execution_count": 3,
   "metadata": {},
   "outputs": [],
   "source": [
    "feature_used = features\n",
    "Train_data, X_train, Y_train = prepare_train_data(timesteps, feature_used = feature_used)"
   ]
  },
  {
   "cell_type": "code",
   "execution_count": 4,
   "metadata": {},
   "outputs": [
    {
     "output_type": "stream",
     "name": "stdout",
     "text": [
      "dif : 163\n2019-03-18 08:00:00\nbase = 2019-03-18 12:00:00\ndif : 157\n2019-03-18 08:00:00\nbase = 2019-03-18 18:00:00\ndif : 151\n2019-03-18 08:00:00\nbase = 2019-03-19 00:00:00\ndif : 145\n2019-03-18 08:00:00\nbase = 2019-03-19 06:00:00\n"
     ]
    }
   ],
   "source": [
    "Test_data, X_test, Y_test = prepare_test_data(Train_data, timesteps, feature_used = feature_used)"
   ]
  },
  {
   "source": [
    "## Standardize the data\n",
    "Next, we need to scale the data."
   ],
   "cell_type": "markdown",
   "metadata": {}
  },
  {
   "cell_type": "code",
   "execution_count": 5,
   "metadata": {},
   "outputs": [],
   "source": [
    "x_train_scalers, y_train_scalers, X_train_scaled, Y_train_scaled = scale_data(X_train, Y_train, Train_data)\n",
    "x_test_scalers, y_test_scalers, X_test_scaled, Y_test_scaled = scale_data(X_test, Y_test, Test_data)"
   ]
  },
  {
   "source": [
    "## Shaping\n",
    "Make sure that the data is in the right shape. The `X` shape should be `(#datapoints, #timesteps, #features)`. The `Y` shape should be `(#datapoints, 72)` since each forecast we have to predict next 72 hours."
   ],
   "cell_type": "markdown",
   "metadata": {}
  },
  {
   "cell_type": "code",
   "execution_count": 6,
   "metadata": {},
   "outputs": [
    {
     "output_type": "stream",
     "name": "stdout",
     "text": [
      "Bangkok\n",
      "X Train: (4398, 168, 7)\n",
      "Y Train: (4398, 72)\n",
      "X Test: (1454, 168, 7)\n",
      "Y Test: (1454, 72)\n",
      "\n",
      "Chanthaburi\n",
      "X Train: (4398, 168, 7)\n",
      "Y Train: (4398, 72)\n",
      "X Test: (1454, 168, 7)\n",
      "Y Test: (1454, 72)\n",
      "\n",
      "Chiang Mai\n",
      "X Train: (4398, 168, 7)\n",
      "Y Train: (4398, 72)\n",
      "X Test: (1454, 168, 7)\n",
      "Y Test: (1454, 72)\n",
      "\n",
      "Kanchanaburi\n",
      "X Train: (4398, 168, 7)\n",
      "Y Train: (4398, 72)\n",
      "X Test: (1454, 168, 7)\n",
      "Y Test: (1454, 72)\n",
      "\n",
      "Songkhla\n",
      "X Train: (4398, 168, 7)\n",
      "Y Train: (4398, 72)\n",
      "X Test: (1454, 168, 7)\n",
      "Y Test: (1454, 72)\n",
      "\n",
      "Khon Kaen\n",
      "X Train: (1968, 168, 7)\n",
      "Y Train: (1968, 72)\n",
      "X Test: (1454, 168, 7)\n",
      "Y Test: (1454, 72)\n",
      "\n"
     ]
    }
   ],
   "source": [
    "x_, y_ = {}, {}\n",
    "\n",
    "for p in provinces:\n",
    "    x_[p] = {\"Train\": np.array(X_train_scaled[p]),\n",
    "             \"Test\": np.array(X_test_scaled[p])}\n",
    "    \n",
    "    y_[p] = {\"Train\": np.array(Y_train_scaled[p]).squeeze(axis=2),\n",
    "             \"Test\": np.array(Y_test_scaled[p]).squeeze(axis=2)}\n",
    "\n",
    "    print(p)\n",
    "    print(f'X Train: {x_[p][\"Train\"].shape}')\n",
    "    print(f'Y Train: {y_[p][\"Train\"].shape}')\n",
    "    print(f'X Test: {x_[p][\"Test\"].shape}')\n",
    "    print(f'Y Test: {y_[p][\"Test\"].shape}\\n')"
   ]
  },
  {
   "source": [
    "## Building Model"
   ],
   "cell_type": "markdown",
   "metadata": {}
  },
  {
   "cell_type": "code",
   "execution_count": 7,
   "metadata": {},
   "outputs": [
    {
     "output_type": "stream",
     "name": "stdout",
     "text": [
      "timesteps : 168\n"
     ]
    }
   ],
   "source": [
    "print(f\"timesteps : {timesteps}\")"
   ]
  },
  {
   "cell_type": "code",
   "execution_count": 23,
   "metadata": {},
   "outputs": [],
   "source": [
    "from tensorflow.keras.models import Sequential\n",
    "from tensorflow.keras.layers import Dense\n",
    "from tensorflow.keras.layers import LSTM, GRU\n",
    "from tensorflow.keras.layers import Dropout\n",
    "import tensorflow as tf\n",
    "\n",
    "n_features = len(feature_used)-1\n",
    "\n",
    "# define model\n",
    "model = Sequential([\n",
    "    GRU(100, activation='relu', input_shape=(timesteps, n_features), return_sequences=True),\n",
    "    Dropout(rate=0.1),\n",
    "    GRU(60, activation='relu'),\n",
    "    Dropout(rate=0.1),\n",
    "    Dense(72, activation='linear')\n",
    "])"
   ]
  },
  {
   "cell_type": "code",
   "execution_count": 16,
   "metadata": {},
   "outputs": [],
   "source": [
    "province = 'Chiang Mai'\n",
    "x_feed, y_feed = x_[province]['Train'], y_[province]['Train']\n",
    "x_eval, y_eval = x_[province]['Test'], y_[province]['Test']"
   ]
  },
  {
   "cell_type": "code",
   "execution_count": 17,
   "metadata": {},
   "outputs": [
    {
     "output_type": "stream",
     "name": "stdout",
     "text": [
      "False\nFalse\nFalse\nFalse\n"
     ]
    }
   ],
   "source": [
    "# Last check for null values\n",
    "print(np.isnan(x_feed).any())\n",
    "print(np.isnan(y_feed).any())\n",
    "print(np.isnan(x_eval).any())\n",
    "print(np.isnan(y_eval).any())"
   ]
  },
  {
   "cell_type": "code",
   "execution_count": 27,
   "metadata": {},
   "outputs": [
    {
     "output_type": "stream",
     "name": "stdout",
     "text": [
      "Epoch 1/50\n",
      "138/138 [==============================] - 44s 296ms/step - loss: 0.0152 - val_loss: 0.0178\n",
      "Epoch 2/50\n",
      "138/138 [==============================] - 39s 280ms/step - loss: 0.0136 - val_loss: 0.0179\n",
      "Epoch 3/50\n",
      "138/138 [==============================] - 39s 285ms/step - loss: 0.0141 - val_loss: 0.0217\n",
      "Epoch 4/50\n",
      "138/138 [==============================] - 39s 280ms/step - loss: 0.0096 - val_loss: 0.0230\n",
      "Epoch 5/50\n",
      "138/138 [==============================] - 39s 283ms/step - loss: 0.0078 - val_loss: 0.0238\n",
      "Epoch 6/50\n",
      "138/138 [==============================] - 39s 281ms/step - loss: 0.0068 - val_loss: 0.0206\n",
      "Epoch 7/50\n",
      "138/138 [==============================] - 42s 303ms/step - loss: 0.0065 - val_loss: 0.0201\n",
      "Epoch 8/50\n",
      "138/138 [==============================] - 39s 285ms/step - loss: 0.0064 - val_loss: 0.0226\n",
      "Epoch 9/50\n",
      "138/138 [==============================] - 41s 294ms/step - loss: 0.0059 - val_loss: 0.0207\n",
      "Epoch 10/50\n",
      "138/138 [==============================] - 39s 284ms/step - loss: 0.0059 - val_loss: 0.0217\n",
      "Epoch 11/50\n",
      "138/138 [==============================] - 42s 307ms/step - loss: 0.0059 - val_loss: 0.0226\n"
     ]
    }
   ],
   "source": [
    "model.compile(optimizer=tf.keras.optimizers.Adamax(), loss='mse')\n",
    "\n",
    "# TensorBoard\n",
    "run_id = time.strftime(\"run_%Y_%m_%d-%H_%M_%S\")\n",
    "run_log_dir = \"./my_logs/\"+run_id\n",
    "tensorboard_cb = tf.keras.callbacks.TensorBoard(run_log_dir)\n",
    "\n",
    "# Early stopping\n",
    "early_stop = tf.keras.callbacks.EarlyStopping(monitor='val_loss', min_delta=0.0001, \n",
    "                        patience=10, restore_best_weights=True)\n",
    "# Nan stopping\n",
    "nan_stop = tf.keras.callbacks.TerminateOnNaN()\n",
    "\n",
    "history = model.fit(x_feed, y_feed, validation_data=(x_eval, y_eval), \n",
    "                    epochs=50, batch_size=32,\n",
    "                    callbacks=[tensorboard_cb, early_stop, nan_stop])\n",
    "\n",
    "# tensorboard --logdir=.\\my_logs --port=6006"
   ]
  },
  {
   "cell_type": "code",
   "execution_count": 61,
   "metadata": {},
   "outputs": [
    {
     "output_type": "stream",
     "name": "stdout",
     "text": [
      "Epoch 1/50\n",
      "135/135 [==============================] - 160s 1s/step - loss: 0.0109 - val_loss: 0.0160\n",
      "Epoch 2/50\n",
      "135/135 [==============================] - 170s 1s/step - loss: 0.0107 - val_loss: 0.0134\n",
      "Epoch 3/50\n",
      "135/135 [==============================] - 172s 1s/step - loss: 0.0104 - val_loss: 0.0164\n",
      "Epoch 4/50\n",
      "135/135 [==============================] - 169s 1s/step - loss: 0.0102 - val_loss: 0.0149\n",
      "Epoch 5/50\n",
      "135/135 [==============================] - 167s 1s/step - loss: 0.0101 - val_loss: 0.0155\n",
      "Epoch 6/50\n",
      "135/135 [==============================] - 170s 1s/step - loss: 0.0099 - val_loss: 0.0194\n",
      "Epoch 7/50\n",
      "135/135 [==============================] - 167s 1s/step - loss: 0.0099 - val_loss: 0.0165\n",
      "Epoch 8/50\n",
      "135/135 [==============================] - 169s 1s/step - loss: 0.0098 - val_loss: 0.0163\n",
      "Epoch 9/50\n",
      "135/135 [==============================] - 167s 1s/step - loss: 0.0097 - val_loss: 0.0174\n",
      "Epoch 10/50\n",
      "135/135 [==============================] - 169s 1s/step - loss: 0.0098 - val_loss: 0.0198\n",
      "Epoch 11/50\n",
      "135/135 [==============================] - 167s 1s/step - loss: 0.0098 - val_loss: 0.0160\n",
      "Epoch 12/50\n",
      "135/135 [==============================] - 160s 1s/step - loss: 0.0097 - val_loss: 0.0187\n"
     ]
    },
    {
     "output_type": "execute_result",
     "data": {
      "text/plain": [
       "<tensorflow.python.keras.callbacks.History at 0x1b374452850>"
      ]
     },
     "metadata": {},
     "execution_count": 61
    }
   ],
   "source": [
    "model.fit(x_feed, y_feed, validation_data=(x_eval, y_eval), \n",
    "                    epochs=50, batch_size=32,\n",
    "                    callbacks=[tensorboard_cb, early_stop, nan_stop])"
   ]
  },
  {
   "cell_type": "code",
   "execution_count": 69,
   "metadata": {},
   "outputs": [],
   "source": [
    "#model.save(f\"./Models/{province}_{run_id}.h5\")"
   ]
  },
  {
   "source": [
    "### Evaluate on train"
   ],
   "cell_type": "markdown",
   "metadata": {}
  },
  {
   "cell_type": "code",
   "execution_count": 28,
   "metadata": {},
   "outputs": [
    {
     "output_type": "stream",
     "name": "stdout",
     "text": [
      "46/46 [==============================] - 2s 53ms/step - loss: 0.0178\n"
     ]
    },
    {
     "output_type": "execute_result",
     "data": {
      "text/plain": [
       "0.017845910042524338"
      ]
     },
     "metadata": {},
     "execution_count": 28
    }
   ],
   "source": [
    "model.evaluate(x_eval, y_eval)"
   ]
  },
  {
   "source": [
    "### Evaluate on test"
   ],
   "cell_type": "markdown",
   "metadata": {}
  },
  {
   "cell_type": "code",
   "execution_count": 29,
   "metadata": {},
   "outputs": [
    {
     "output_type": "stream",
     "name": "stdout",
     "text": [
      "province : Chiang Mai\n"
     ]
    },
    {
     "output_type": "execute_result",
     "data": {
      "text/plain": [
       "23.370243589615573"
      ]
     },
     "metadata": {},
     "execution_count": 29
    }
   ],
   "source": [
    "from sklearn.metrics import mean_squared_error as mse\n",
    "pred = model(x_eval)\n",
    "rmse = []\n",
    "print('province :', province)\n",
    "for i in range(len(pred)):\n",
    "    p = y_test_scalers[province].inverse_transform(pred[i].numpy().reshape((-1,1)))\n",
    "    y_t = y_test_scalers[province].inverse_transform(y_eval[i].reshape((-1,1)))\n",
    "    rmse.append(np.sqrt(mse(p, y_t)))\n",
    "np.mean(rmse)"
   ]
  },
  {
   "cell_type": "code",
   "execution_count": 33,
   "metadata": {},
   "outputs": [
    {
     "output_type": "stream",
     "name": "stdout",
     "text": [
      "province = Chiang Mai\n"
     ]
    },
    {
     "output_type": "display_data",
     "data": {
      "text/plain": "<Figure size 432x288 with 1 Axes>",
      "image/svg+xml": "<?xml version=\"1.0\" encoding=\"utf-8\" standalone=\"no\"?>\r\n<!DOCTYPE svg PUBLIC \"-//W3C//DTD SVG 1.1//EN\"\r\n  \"http://www.w3.org/Graphics/SVG/1.1/DTD/svg11.dtd\">\r\n<svg height=\"270.91375pt\" version=\"1.1\" viewBox=\"0 0 375.2875 270.91375\" width=\"375.2875pt\" xmlns=\"http://www.w3.org/2000/svg\" xmlns:xlink=\"http://www.w3.org/1999/xlink\">\r\n <metadata>\r\n  <rdf:RDF xmlns:cc=\"http://creativecommons.org/ns#\" xmlns:dc=\"http://purl.org/dc/elements/1.1/\" xmlns:rdf=\"http://www.w3.org/1999/02/22-rdf-syntax-ns#\">\r\n   <cc:Work>\r\n    <dc:type rdf:resource=\"http://purl.org/dc/dcmitype/StillImage\"/>\r\n    <dc:date>2021-04-25T18:33:06.389591</dc:date>\r\n    <dc:format>image/svg+xml</dc:format>\r\n    <dc:creator>\r\n     <cc:Agent>\r\n      <dc:title>Matplotlib v3.4.1, https://matplotlib.org/</dc:title>\r\n     </cc:Agent>\r\n    </dc:creator>\r\n   </cc:Work>\r\n  </rdf:RDF>\r\n </metadata>\r\n <defs>\r\n  <style type=\"text/css\">*{stroke-linecap:butt;stroke-linejoin:round;}</style>\r\n </defs>\r\n <g id=\"figure_1\">\r\n  <g id=\"patch_1\">\r\n   <path d=\"M 0 270.91375 \r\nL 375.2875 270.91375 \r\nL 375.2875 0 \r\nL 0 0 \r\nz\r\n\" style=\"fill:none;\"/>\r\n  </g>\r\n  <g id=\"axes_1\">\r\n   <g id=\"patch_2\">\r\n    <path d=\"M 33.2875 224.64 \r\nL 368.0875 224.64 \r\nL 368.0875 7.2 \r\nL 33.2875 7.2 \r\nz\r\n\" style=\"fill:#ffffff;\"/>\r\n   </g>\r\n   <g id=\"matplotlib.axis_1\">\r\n    <g id=\"xtick_1\">\r\n     <g id=\"line2d_1\">\r\n      <defs>\r\n       <path d=\"M 0 0 \r\nL 0 3.5 \r\n\" id=\"mbe054de424\" style=\"stroke:#000000;stroke-width:0.8;\"/>\r\n      </defs>\r\n      <g>\r\n       <use style=\"stroke:#000000;stroke-width:0.8;\" x=\"33.2875\" xlink:href=\"#mbe054de424\" y=\"224.64\"/>\r\n      </g>\r\n     </g>\r\n    </g>\r\n    <g id=\"xtick_2\">\r\n     <g id=\"line2d_2\">\r\n      <g>\r\n       <use style=\"stroke:#000000;stroke-width:0.8;\" x=\"113.45088\" xlink:href=\"#mbe054de424\" y=\"224.64\"/>\r\n      </g>\r\n     </g>\r\n     <g id=\"text_1\">\r\n      <!-- 00:00 -->\r\n      <g transform=\"translate(99.041505 239.238438)scale(0.1 -0.1)\">\r\n       <defs>\r\n        <path d=\"M 2034 4250 \r\nQ 1547 4250 1301 3770 \r\nQ 1056 3291 1056 2328 \r\nQ 1056 1369 1301 889 \r\nQ 1547 409 2034 409 \r\nQ 2525 409 2770 889 \r\nQ 3016 1369 3016 2328 \r\nQ 3016 3291 2770 3770 \r\nQ 2525 4250 2034 4250 \r\nz\r\nM 2034 4750 \r\nQ 2819 4750 3233 4129 \r\nQ 3647 3509 3647 2328 \r\nQ 3647 1150 3233 529 \r\nQ 2819 -91 2034 -91 \r\nQ 1250 -91 836 529 \r\nQ 422 1150 422 2328 \r\nQ 422 3509 836 4129 \r\nQ 1250 4750 2034 4750 \r\nz\r\n\" id=\"DejaVuSans-30\" transform=\"scale(0.015625)\"/>\r\n        <path d=\"M 750 794 \r\nL 1409 794 \r\nL 1409 0 \r\nL 750 0 \r\nL 750 794 \r\nz\r\nM 750 3309 \r\nL 1409 3309 \r\nL 1409 2516 \r\nL 750 2516 \r\nL 750 3309 \r\nz\r\n\" id=\"DejaVuSans-3a\" transform=\"scale(0.015625)\"/>\r\n       </defs>\r\n       <use xlink:href=\"#DejaVuSans-30\"/>\r\n       <use x=\"63.623047\" xlink:href=\"#DejaVuSans-30\"/>\r\n       <use x=\"127.246094\" xlink:href=\"#DejaVuSans-3a\"/>\r\n       <use x=\"160.9375\" xlink:href=\"#DejaVuSans-30\"/>\r\n       <use x=\"224.560547\" xlink:href=\"#DejaVuSans-30\"/>\r\n      </g>\r\n      <!-- 21-Mar -->\r\n      <g transform=\"translate(95.85088 250.43625)scale(0.1 -0.1)\">\r\n       <defs>\r\n        <path d=\"M 1228 531 \r\nL 3431 531 \r\nL 3431 0 \r\nL 469 0 \r\nL 469 531 \r\nQ 828 903 1448 1529 \r\nQ 2069 2156 2228 2338 \r\nQ 2531 2678 2651 2914 \r\nQ 2772 3150 2772 3378 \r\nQ 2772 3750 2511 3984 \r\nQ 2250 4219 1831 4219 \r\nQ 1534 4219 1204 4116 \r\nQ 875 4013 500 3803 \r\nL 500 4441 \r\nQ 881 4594 1212 4672 \r\nQ 1544 4750 1819 4750 \r\nQ 2544 4750 2975 4387 \r\nQ 3406 4025 3406 3419 \r\nQ 3406 3131 3298 2873 \r\nQ 3191 2616 2906 2266 \r\nQ 2828 2175 2409 1742 \r\nQ 1991 1309 1228 531 \r\nz\r\n\" id=\"DejaVuSans-32\" transform=\"scale(0.015625)\"/>\r\n        <path d=\"M 794 531 \r\nL 1825 531 \r\nL 1825 4091 \r\nL 703 3866 \r\nL 703 4441 \r\nL 1819 4666 \r\nL 2450 4666 \r\nL 2450 531 \r\nL 3481 531 \r\nL 3481 0 \r\nL 794 0 \r\nL 794 531 \r\nz\r\n\" id=\"DejaVuSans-31\" transform=\"scale(0.015625)\"/>\r\n        <path d=\"M 313 2009 \r\nL 1997 2009 \r\nL 1997 1497 \r\nL 313 1497 \r\nL 313 2009 \r\nz\r\n\" id=\"DejaVuSans-2d\" transform=\"scale(0.015625)\"/>\r\n        <path d=\"M 628 4666 \r\nL 1569 4666 \r\nL 2759 1491 \r\nL 3956 4666 \r\nL 4897 4666 \r\nL 4897 0 \r\nL 4281 0 \r\nL 4281 4097 \r\nL 3078 897 \r\nL 2444 897 \r\nL 1241 4097 \r\nL 1241 0 \r\nL 628 0 \r\nL 628 4666 \r\nz\r\n\" id=\"DejaVuSans-4d\" transform=\"scale(0.015625)\"/>\r\n        <path d=\"M 2194 1759 \r\nQ 1497 1759 1228 1600 \r\nQ 959 1441 959 1056 \r\nQ 959 750 1161 570 \r\nQ 1363 391 1709 391 \r\nQ 2188 391 2477 730 \r\nQ 2766 1069 2766 1631 \r\nL 2766 1759 \r\nL 2194 1759 \r\nz\r\nM 3341 1997 \r\nL 3341 0 \r\nL 2766 0 \r\nL 2766 531 \r\nQ 2569 213 2275 61 \r\nQ 1981 -91 1556 -91 \r\nQ 1019 -91 701 211 \r\nQ 384 513 384 1019 \r\nQ 384 1609 779 1909 \r\nQ 1175 2209 1959 2209 \r\nL 2766 2209 \r\nL 2766 2266 \r\nQ 2766 2663 2505 2880 \r\nQ 2244 3097 1772 3097 \r\nQ 1472 3097 1187 3025 \r\nQ 903 2953 641 2809 \r\nL 641 3341 \r\nQ 956 3463 1253 3523 \r\nQ 1550 3584 1831 3584 \r\nQ 2591 3584 2966 3190 \r\nQ 3341 2797 3341 1997 \r\nz\r\n\" id=\"DejaVuSans-61\" transform=\"scale(0.015625)\"/>\r\n        <path d=\"M 2631 2963 \r\nQ 2534 3019 2420 3045 \r\nQ 2306 3072 2169 3072 \r\nQ 1681 3072 1420 2755 \r\nQ 1159 2438 1159 1844 \r\nL 1159 0 \r\nL 581 0 \r\nL 581 3500 \r\nL 1159 3500 \r\nL 1159 2956 \r\nQ 1341 3275 1631 3429 \r\nQ 1922 3584 2338 3584 \r\nQ 2397 3584 2469 3576 \r\nQ 2541 3569 2628 3553 \r\nL 2631 2963 \r\nz\r\n\" id=\"DejaVuSans-72\" transform=\"scale(0.015625)\"/>\r\n       </defs>\r\n       <use xlink:href=\"#DejaVuSans-32\"/>\r\n       <use x=\"63.623047\" xlink:href=\"#DejaVuSans-31\"/>\r\n       <use x=\"127.246094\" xlink:href=\"#DejaVuSans-2d\"/>\r\n       <use x=\"163.330078\" xlink:href=\"#DejaVuSans-4d\"/>\r\n       <use x=\"249.609375\" xlink:href=\"#DejaVuSans-61\"/>\r\n       <use x=\"310.888672\" xlink:href=\"#DejaVuSans-72\"/>\r\n      </g>\r\n      <!-- 2019 -->\r\n      <g transform=\"translate(100.72588 261.634062)scale(0.1 -0.1)\">\r\n       <defs>\r\n        <path d=\"M 703 97 \r\nL 703 672 \r\nQ 941 559 1184 500 \r\nQ 1428 441 1663 441 \r\nQ 2288 441 2617 861 \r\nQ 2947 1281 2994 2138 \r\nQ 2813 1869 2534 1725 \r\nQ 2256 1581 1919 1581 \r\nQ 1219 1581 811 2004 \r\nQ 403 2428 403 3163 \r\nQ 403 3881 828 4315 \r\nQ 1253 4750 1959 4750 \r\nQ 2769 4750 3195 4129 \r\nQ 3622 3509 3622 2328 \r\nQ 3622 1225 3098 567 \r\nQ 2575 -91 1691 -91 \r\nQ 1453 -91 1209 -44 \r\nQ 966 3 703 97 \r\nz\r\nM 1959 2075 \r\nQ 2384 2075 2632 2365 \r\nQ 2881 2656 2881 3163 \r\nQ 2881 3666 2632 3958 \r\nQ 2384 4250 1959 4250 \r\nQ 1534 4250 1286 3958 \r\nQ 1038 3666 1038 3163 \r\nQ 1038 2656 1286 2365 \r\nQ 1534 2075 1959 2075 \r\nz\r\n\" id=\"DejaVuSans-39\" transform=\"scale(0.015625)\"/>\r\n       </defs>\r\n       <use xlink:href=\"#DejaVuSans-32\"/>\r\n       <use x=\"63.623047\" xlink:href=\"#DejaVuSans-30\"/>\r\n       <use x=\"127.246094\" xlink:href=\"#DejaVuSans-31\"/>\r\n       <use x=\"190.869141\" xlink:href=\"#DejaVuSans-39\"/>\r\n      </g>\r\n     </g>\r\n    </g>\r\n    <g id=\"xtick_3\">\r\n     <g id=\"line2d_3\">\r\n      <g>\r\n       <use style=\"stroke:#000000;stroke-width:0.8;\" x=\"226.622711\" xlink:href=\"#mbe054de424\" y=\"224.64\"/>\r\n      </g>\r\n     </g>\r\n     <g id=\"text_2\">\r\n      <!-- 00:00 -->\r\n      <g transform=\"translate(212.213336 239.238438)scale(0.1 -0.1)\">\r\n       <use xlink:href=\"#DejaVuSans-30\"/>\r\n       <use x=\"63.623047\" xlink:href=\"#DejaVuSans-30\"/>\r\n       <use x=\"127.246094\" xlink:href=\"#DejaVuSans-3a\"/>\r\n       <use x=\"160.9375\" xlink:href=\"#DejaVuSans-30\"/>\r\n       <use x=\"224.560547\" xlink:href=\"#DejaVuSans-30\"/>\r\n      </g>\r\n      <!-- 22-Mar -->\r\n      <g transform=\"translate(209.022711 250.43625)scale(0.1 -0.1)\">\r\n       <use xlink:href=\"#DejaVuSans-32\"/>\r\n       <use x=\"63.623047\" xlink:href=\"#DejaVuSans-32\"/>\r\n       <use x=\"127.246094\" xlink:href=\"#DejaVuSans-2d\"/>\r\n       <use x=\"163.330078\" xlink:href=\"#DejaVuSans-4d\"/>\r\n       <use x=\"249.609375\" xlink:href=\"#DejaVuSans-61\"/>\r\n       <use x=\"310.888672\" xlink:href=\"#DejaVuSans-72\"/>\r\n      </g>\r\n     </g>\r\n    </g>\r\n    <g id=\"xtick_4\">\r\n     <g id=\"line2d_4\">\r\n      <g>\r\n       <use style=\"stroke:#000000;stroke-width:0.8;\" x=\"339.794542\" xlink:href=\"#mbe054de424\" y=\"224.64\"/>\r\n      </g>\r\n     </g>\r\n     <g id=\"text_3\">\r\n      <!-- 00:00 -->\r\n      <g transform=\"translate(325.385167 239.238438)scale(0.1 -0.1)\">\r\n       <use xlink:href=\"#DejaVuSans-30\"/>\r\n       <use x=\"63.623047\" xlink:href=\"#DejaVuSans-30\"/>\r\n       <use x=\"127.246094\" xlink:href=\"#DejaVuSans-3a\"/>\r\n       <use x=\"160.9375\" xlink:href=\"#DejaVuSans-30\"/>\r\n       <use x=\"224.560547\" xlink:href=\"#DejaVuSans-30\"/>\r\n      </g>\r\n      <!-- 23-Mar -->\r\n      <g transform=\"translate(322.194542 250.43625)scale(0.1 -0.1)\">\r\n       <defs>\r\n        <path d=\"M 2597 2516 \r\nQ 3050 2419 3304 2112 \r\nQ 3559 1806 3559 1356 \r\nQ 3559 666 3084 287 \r\nQ 2609 -91 1734 -91 \r\nQ 1441 -91 1130 -33 \r\nQ 819 25 488 141 \r\nL 488 750 \r\nQ 750 597 1062 519 \r\nQ 1375 441 1716 441 \r\nQ 2309 441 2620 675 \r\nQ 2931 909 2931 1356 \r\nQ 2931 1769 2642 2001 \r\nQ 2353 2234 1838 2234 \r\nL 1294 2234 \r\nL 1294 2753 \r\nL 1863 2753 \r\nQ 2328 2753 2575 2939 \r\nQ 2822 3125 2822 3475 \r\nQ 2822 3834 2567 4026 \r\nQ 2313 4219 1838 4219 \r\nQ 1578 4219 1281 4162 \r\nQ 984 4106 628 3988 \r\nL 628 4550 \r\nQ 988 4650 1302 4700 \r\nQ 1616 4750 1894 4750 \r\nQ 2613 4750 3031 4423 \r\nQ 3450 4097 3450 3541 \r\nQ 3450 3153 3228 2886 \r\nQ 3006 2619 2597 2516 \r\nz\r\n\" id=\"DejaVuSans-33\" transform=\"scale(0.015625)\"/>\r\n       </defs>\r\n       <use xlink:href=\"#DejaVuSans-32\"/>\r\n       <use x=\"63.623047\" xlink:href=\"#DejaVuSans-33\"/>\r\n       <use x=\"127.246094\" xlink:href=\"#DejaVuSans-2d\"/>\r\n       <use x=\"163.330078\" xlink:href=\"#DejaVuSans-4d\"/>\r\n       <use x=\"249.609375\" xlink:href=\"#DejaVuSans-61\"/>\r\n       <use x=\"310.888672\" xlink:href=\"#DejaVuSans-72\"/>\r\n      </g>\r\n     </g>\r\n    </g>\r\n    <g id=\"xtick_5\">\r\n     <g id=\"line2d_5\">\r\n      <g>\r\n       <use style=\"stroke:#000000;stroke-width:0.8;\" x=\"368.0875\" xlink:href=\"#mbe054de424\" y=\"224.64\"/>\r\n      </g>\r\n     </g>\r\n    </g>\r\n    <g id=\"xtick_6\">\r\n     <g id=\"line2d_6\">\r\n      <defs>\r\n       <path d=\"M 0 0 \r\nL 0 2 \r\n\" id=\"mc17cde5f02\" style=\"stroke:#000000;stroke-width:0.6;\"/>\r\n      </defs>\r\n      <g>\r\n       <use style=\"stroke:#000000;stroke-width:0.6;\" x=\"56.864965\" xlink:href=\"#mc17cde5f02\" y=\"224.64\"/>\r\n      </g>\r\n     </g>\r\n     <g id=\"text_4\">\r\n      <!-- 12:00 -->\r\n      <g transform=\"translate(42.45559 237.638438)scale(0.1 -0.1)\">\r\n       <use xlink:href=\"#DejaVuSans-31\"/>\r\n       <use x=\"63.623047\" xlink:href=\"#DejaVuSans-32\"/>\r\n       <use x=\"127.246094\" xlink:href=\"#DejaVuSans-3a\"/>\r\n       <use x=\"160.9375\" xlink:href=\"#DejaVuSans-30\"/>\r\n       <use x=\"224.560547\" xlink:href=\"#DejaVuSans-30\"/>\r\n      </g>\r\n     </g>\r\n    </g>\r\n    <g id=\"xtick_7\">\r\n     <g id=\"line2d_7\">\r\n      <g>\r\n       <use style=\"stroke:#000000;stroke-width:0.6;\" x=\"170.036796\" xlink:href=\"#mc17cde5f02\" y=\"224.64\"/>\r\n      </g>\r\n     </g>\r\n     <g id=\"text_5\">\r\n      <!-- 12:00 -->\r\n      <g transform=\"translate(155.627421 237.638438)scale(0.1 -0.1)\">\r\n       <use xlink:href=\"#DejaVuSans-31\"/>\r\n       <use x=\"63.623047\" xlink:href=\"#DejaVuSans-32\"/>\r\n       <use x=\"127.246094\" xlink:href=\"#DejaVuSans-3a\"/>\r\n       <use x=\"160.9375\" xlink:href=\"#DejaVuSans-30\"/>\r\n       <use x=\"224.560547\" xlink:href=\"#DejaVuSans-30\"/>\r\n      </g>\r\n     </g>\r\n    </g>\r\n    <g id=\"xtick_8\">\r\n     <g id=\"line2d_8\">\r\n      <g>\r\n       <use style=\"stroke:#000000;stroke-width:0.6;\" x=\"283.208627\" xlink:href=\"#mc17cde5f02\" y=\"224.64\"/>\r\n      </g>\r\n     </g>\r\n     <g id=\"text_6\">\r\n      <!-- 12:00 -->\r\n      <g transform=\"translate(268.799252 237.638438)scale(0.1 -0.1)\">\r\n       <use xlink:href=\"#DejaVuSans-31\"/>\r\n       <use x=\"63.623047\" xlink:href=\"#DejaVuSans-32\"/>\r\n       <use x=\"127.246094\" xlink:href=\"#DejaVuSans-3a\"/>\r\n       <use x=\"160.9375\" xlink:href=\"#DejaVuSans-30\"/>\r\n       <use x=\"224.560547\" xlink:href=\"#DejaVuSans-30\"/>\r\n      </g>\r\n     </g>\r\n    </g>\r\n   </g>\r\n   <g id=\"matplotlib.axis_2\">\r\n    <g id=\"ytick_1\">\r\n     <g id=\"line2d_9\">\r\n      <defs>\r\n       <path d=\"M 0 0 \r\nL -3.5 0 \r\n\" id=\"m6f42b05243\" style=\"stroke:#000000;stroke-width:0.8;\"/>\r\n      </defs>\r\n      <g>\r\n       <use style=\"stroke:#000000;stroke-width:0.8;\" x=\"33.2875\" xlink:href=\"#m6f42b05243\" y=\"214.756364\"/>\r\n      </g>\r\n     </g>\r\n     <g id=\"text_7\">\r\n      <!-- 0 -->\r\n      <g transform=\"translate(19.925 218.555582)scale(0.1 -0.1)\">\r\n       <use xlink:href=\"#DejaVuSans-30\"/>\r\n      </g>\r\n     </g>\r\n    </g>\r\n    <g id=\"ytick_2\">\r\n     <g id=\"line2d_10\">\r\n      <g>\r\n       <use style=\"stroke:#000000;stroke-width:0.8;\" x=\"33.2875\" xlink:href=\"#m6f42b05243\" y=\"184.554266\"/>\r\n      </g>\r\n     </g>\r\n     <g id=\"text_8\">\r\n      <!-- 20 -->\r\n      <g transform=\"translate(13.5625 188.353485)scale(0.1 -0.1)\">\r\n       <use xlink:href=\"#DejaVuSans-32\"/>\r\n       <use x=\"63.623047\" xlink:href=\"#DejaVuSans-30\"/>\r\n      </g>\r\n     </g>\r\n    </g>\r\n    <g id=\"ytick_3\">\r\n     <g id=\"line2d_11\">\r\n      <g>\r\n       <use style=\"stroke:#000000;stroke-width:0.8;\" x=\"33.2875\" xlink:href=\"#m6f42b05243\" y=\"154.352169\"/>\r\n      </g>\r\n     </g>\r\n     <g id=\"text_9\">\r\n      <!-- 40 -->\r\n      <g transform=\"translate(13.5625 158.151388)scale(0.1 -0.1)\">\r\n       <defs>\r\n        <path d=\"M 2419 4116 \r\nL 825 1625 \r\nL 2419 1625 \r\nL 2419 4116 \r\nz\r\nM 2253 4666 \r\nL 3047 4666 \r\nL 3047 1625 \r\nL 3713 1625 \r\nL 3713 1100 \r\nL 3047 1100 \r\nL 3047 0 \r\nL 2419 0 \r\nL 2419 1100 \r\nL 313 1100 \r\nL 313 1709 \r\nL 2253 4666 \r\nz\r\n\" id=\"DejaVuSans-34\" transform=\"scale(0.015625)\"/>\r\n       </defs>\r\n       <use xlink:href=\"#DejaVuSans-34\"/>\r\n       <use x=\"63.623047\" xlink:href=\"#DejaVuSans-30\"/>\r\n      </g>\r\n     </g>\r\n    </g>\r\n    <g id=\"ytick_4\">\r\n     <g id=\"line2d_12\">\r\n      <g>\r\n       <use style=\"stroke:#000000;stroke-width:0.8;\" x=\"33.2875\" xlink:href=\"#m6f42b05243\" y=\"124.150072\"/>\r\n      </g>\r\n     </g>\r\n     <g id=\"text_10\">\r\n      <!-- 60 -->\r\n      <g transform=\"translate(13.5625 127.94929)scale(0.1 -0.1)\">\r\n       <defs>\r\n        <path d=\"M 2113 2584 \r\nQ 1688 2584 1439 2293 \r\nQ 1191 2003 1191 1497 \r\nQ 1191 994 1439 701 \r\nQ 1688 409 2113 409 \r\nQ 2538 409 2786 701 \r\nQ 3034 994 3034 1497 \r\nQ 3034 2003 2786 2293 \r\nQ 2538 2584 2113 2584 \r\nz\r\nM 3366 4563 \r\nL 3366 3988 \r\nQ 3128 4100 2886 4159 \r\nQ 2644 4219 2406 4219 \r\nQ 1781 4219 1451 3797 \r\nQ 1122 3375 1075 2522 \r\nQ 1259 2794 1537 2939 \r\nQ 1816 3084 2150 3084 \r\nQ 2853 3084 3261 2657 \r\nQ 3669 2231 3669 1497 \r\nQ 3669 778 3244 343 \r\nQ 2819 -91 2113 -91 \r\nQ 1303 -91 875 529 \r\nQ 447 1150 447 2328 \r\nQ 447 3434 972 4092 \r\nQ 1497 4750 2381 4750 \r\nQ 2619 4750 2861 4703 \r\nQ 3103 4656 3366 4563 \r\nz\r\n\" id=\"DejaVuSans-36\" transform=\"scale(0.015625)\"/>\r\n       </defs>\r\n       <use xlink:href=\"#DejaVuSans-36\"/>\r\n       <use x=\"63.623047\" xlink:href=\"#DejaVuSans-30\"/>\r\n      </g>\r\n     </g>\r\n    </g>\r\n    <g id=\"ytick_5\">\r\n     <g id=\"line2d_13\">\r\n      <g>\r\n       <use style=\"stroke:#000000;stroke-width:0.8;\" x=\"33.2875\" xlink:href=\"#m6f42b05243\" y=\"93.947974\"/>\r\n      </g>\r\n     </g>\r\n     <g id=\"text_11\">\r\n      <!-- 80 -->\r\n      <g transform=\"translate(13.5625 97.747193)scale(0.1 -0.1)\">\r\n       <defs>\r\n        <path d=\"M 2034 2216 \r\nQ 1584 2216 1326 1975 \r\nQ 1069 1734 1069 1313 \r\nQ 1069 891 1326 650 \r\nQ 1584 409 2034 409 \r\nQ 2484 409 2743 651 \r\nQ 3003 894 3003 1313 \r\nQ 3003 1734 2745 1975 \r\nQ 2488 2216 2034 2216 \r\nz\r\nM 1403 2484 \r\nQ 997 2584 770 2862 \r\nQ 544 3141 544 3541 \r\nQ 544 4100 942 4425 \r\nQ 1341 4750 2034 4750 \r\nQ 2731 4750 3128 4425 \r\nQ 3525 4100 3525 3541 \r\nQ 3525 3141 3298 2862 \r\nQ 3072 2584 2669 2484 \r\nQ 3125 2378 3379 2068 \r\nQ 3634 1759 3634 1313 \r\nQ 3634 634 3220 271 \r\nQ 2806 -91 2034 -91 \r\nQ 1263 -91 848 271 \r\nQ 434 634 434 1313 \r\nQ 434 1759 690 2068 \r\nQ 947 2378 1403 2484 \r\nz\r\nM 1172 3481 \r\nQ 1172 3119 1398 2916 \r\nQ 1625 2713 2034 2713 \r\nQ 2441 2713 2670 2916 \r\nQ 2900 3119 2900 3481 \r\nQ 2900 3844 2670 4047 \r\nQ 2441 4250 2034 4250 \r\nQ 1625 4250 1398 4047 \r\nQ 1172 3844 1172 3481 \r\nz\r\n\" id=\"DejaVuSans-38\" transform=\"scale(0.015625)\"/>\r\n       </defs>\r\n       <use xlink:href=\"#DejaVuSans-38\"/>\r\n       <use x=\"63.623047\" xlink:href=\"#DejaVuSans-30\"/>\r\n      </g>\r\n     </g>\r\n    </g>\r\n    <g id=\"ytick_6\">\r\n     <g id=\"line2d_14\">\r\n      <g>\r\n       <use style=\"stroke:#000000;stroke-width:0.8;\" x=\"33.2875\" xlink:href=\"#m6f42b05243\" y=\"63.745877\"/>\r\n      </g>\r\n     </g>\r\n     <g id=\"text_12\">\r\n      <!-- 100 -->\r\n      <g transform=\"translate(7.2 67.545096)scale(0.1 -0.1)\">\r\n       <use xlink:href=\"#DejaVuSans-31\"/>\r\n       <use x=\"63.623047\" xlink:href=\"#DejaVuSans-30\"/>\r\n       <use x=\"127.246094\" xlink:href=\"#DejaVuSans-30\"/>\r\n      </g>\r\n     </g>\r\n    </g>\r\n    <g id=\"ytick_7\">\r\n     <g id=\"line2d_15\">\r\n      <g>\r\n       <use style=\"stroke:#000000;stroke-width:0.8;\" x=\"33.2875\" xlink:href=\"#m6f42b05243\" y=\"33.543779\"/>\r\n      </g>\r\n     </g>\r\n     <g id=\"text_13\">\r\n      <!-- 120 -->\r\n      <g transform=\"translate(7.2 37.342998)scale(0.1 -0.1)\">\r\n       <use xlink:href=\"#DejaVuSans-31\"/>\r\n       <use x=\"63.623047\" xlink:href=\"#DejaVuSans-32\"/>\r\n       <use x=\"127.246094\" xlink:href=\"#DejaVuSans-30\"/>\r\n      </g>\r\n     </g>\r\n    </g>\r\n   </g>\r\n   <g id=\"line2d_16\">\r\n    <path clip-path=\"url(#p84ff0d97e4)\" d=\"M 33.2875 136.985963 \r\nL 38.002993 132.90868 \r\nL 42.718486 133.210701 \r\nL 47.433979 120.374809 \r\nL 52.149472 100.290415 \r\nL 56.864965 110.408117 \r\nL 61.580458 114.636411 \r\nL 66.295951 127.170281 \r\nL 71.011444 135.173837 \r\nL 75.726937 144.083456 \r\nL 80.44243 158.429452 \r\nL 85.157923 161.298651 \r\nL 89.873415 165.677955 \r\nL 94.588908 164.771892 \r\nL 99.304401 214.756364 \r\nL 104.019894 147.556697 \r\nL 108.735387 214.756364 \r\nL 113.45088 214.756364 \r\nL 118.166373 214.756364 \r\nL 122.881866 214.756364 \r\nL 127.597359 214.756364 \r\nL 132.312852 214.756364 \r\nL 137.028345 214.756364 \r\nL 141.743838 214.756364 \r\nL 146.459331 214.756364 \r\nL 151.174824 214.756364 \r\nL 155.890317 214.756364 \r\nL 160.60581 214.756364 \r\nL 165.321303 214.756364 \r\nL 170.036796 214.756364 \r\nL 174.752289 214.756364 \r\nL 179.467782 214.756364 \r\nL 184.183275 214.756364 \r\nL 188.898768 214.756364 \r\nL 193.614261 214.756364 \r\nL 198.329754 214.756364 \r\nL 203.045246 214.756364 \r\nL 207.760739 151.784991 \r\nL 212.476232 149.217812 \r\nL 217.191725 112.220243 \r\nL 221.907218 120.827841 \r\nL 226.622711 119.921778 \r\nL 231.338204 132.455648 \r\nL 236.053697 117.052579 \r\nL 240.76919 115.089442 \r\nL 245.484683 115.391463 \r\nL 250.200176 115.995505 \r\nL 254.915669 120.52582 \r\nL 259.631162 125.509166 \r\nL 264.346655 87.303513 \r\nL 269.062148 93.947974 \r\nL 273.777641 214.756364 \r\nL 278.493134 60.574657 \r\nL 283.208627 50.607964 \r\nL 287.92412 111.767212 \r\nL 292.639613 104.065677 \r\nL 297.355106 57.101415 \r\nL 302.070599 59.819604 \r\nL 306.786092 61.027688 \r\nL 311.501585 72.353475 \r\nL 316.217077 69.484275 \r\nL 320.93257 74.316611 \r\nL 325.648063 69.333265 \r\nL 330.363556 60.725667 \r\nL 335.079049 48.795839 \r\nL 339.794542 44.416534 \r\nL 344.510035 17.687678 \r\nL 349.225528 17.083636 \r\nL 353.941021 58.61152 \r\nL 358.656514 69.182254 \r\nL 363.372007 66.162045 \r\nL 368.0875 54.987269 \r\n\" style=\"fill:none;stroke:#1f77b4;stroke-linecap:square;stroke-width:1.5;\"/>\r\n   </g>\r\n   <g id=\"line2d_17\">\r\n    <path clip-path=\"url(#p84ff0d97e4)\" d=\"M 33.2875 167.468071 \r\nL 38.002993 170.289077 \r\nL 42.718486 167.548359 \r\nL 47.433979 166.25326 \r\nL 52.149472 169.26698 \r\nL 56.864965 167.912691 \r\nL 61.580458 169.414221 \r\nL 66.295951 169.137802 \r\nL 71.011444 166.329075 \r\nL 75.726937 167.95008 \r\nL 80.44243 167.499659 \r\nL 85.157923 167.283859 \r\nL 89.873415 168.423811 \r\nL 94.588908 166.283186 \r\nL 99.304401 167.479065 \r\nL 104.019894 165.985283 \r\nL 108.735387 168.522 \r\nL 113.45088 169.288119 \r\nL 118.166373 170.154299 \r\nL 122.881866 169.684258 \r\nL 127.597359 168.935404 \r\nL 132.312852 168.040939 \r\nL 137.028345 169.5808 \r\nL 141.743838 170.650865 \r\nL 146.459331 167.694517 \r\nL 151.174824 168.840282 \r\nL 155.890317 166.941092 \r\nL 160.60581 169.183584 \r\nL 165.321303 168.649808 \r\nL 170.036796 169.223955 \r\nL 174.752289 168.360756 \r\nL 179.467782 169.056414 \r\nL 184.183275 168.943742 \r\nL 188.898768 166.785331 \r\nL 193.614261 166.5447 \r\nL 198.329754 168.524236 \r\nL 203.045246 167.647773 \r\nL 207.760739 167.48493 \r\nL 212.476232 167.164828 \r\nL 217.191725 165.768068 \r\nL 221.907218 167.4958 \r\nL 226.622711 169.27853 \r\nL 231.338204 169.842207 \r\nL 236.053697 170.620089 \r\nL 240.76919 166.106688 \r\nL 245.484683 169.044941 \r\nL 250.200176 167.165104 \r\nL 254.915669 168.266109 \r\nL 259.631162 169.630451 \r\nL 264.346655 169.734358 \r\nL 269.062148 167.970516 \r\nL 273.777641 168.891957 \r\nL 278.493134 167.500999 \r\nL 283.208627 169.970349 \r\nL 287.92412 169.858864 \r\nL 292.639613 166.688191 \r\nL 297.355106 168.52264 \r\nL 302.070599 164.836097 \r\nL 306.786092 168.76383 \r\nL 311.501585 168.25468 \r\nL 316.217077 167.350725 \r\nL 320.93257 168.821713 \r\nL 325.648063 168.781783 \r\nL 330.363556 169.251571 \r\nL 335.079049 167.769981 \r\nL 339.794542 170.317497 \r\nL 344.510035 169.851704 \r\nL 349.225528 170.039234 \r\nL 353.941021 170.15391 \r\nL 358.656514 170.256892 \r\nL 363.372007 169.765681 \r\nL 368.0875 169.810458 \r\n\" style=\"fill:none;stroke:#ff7f0e;stroke-linecap:square;stroke-width:1.5;\"/>\r\n   </g>\r\n   <g id=\"patch_3\">\r\n    <path d=\"M 33.2875 224.64 \r\nL 33.2875 7.2 \r\n\" style=\"fill:none;stroke:#000000;stroke-linecap:square;stroke-linejoin:miter;stroke-width:0.8;\"/>\r\n   </g>\r\n   <g id=\"patch_4\">\r\n    <path d=\"M 368.0875 224.64 \r\nL 368.0875 7.2 \r\n\" style=\"fill:none;stroke:#000000;stroke-linecap:square;stroke-linejoin:miter;stroke-width:0.8;\"/>\r\n   </g>\r\n   <g id=\"patch_5\">\r\n    <path d=\"M 33.2875 224.64 \r\nL 368.0875 224.64 \r\n\" style=\"fill:none;stroke:#000000;stroke-linecap:square;stroke-linejoin:miter;stroke-width:0.8;\"/>\r\n   </g>\r\n   <g id=\"patch_6\">\r\n    <path d=\"M 33.2875 7.2 \r\nL 368.0875 7.2 \r\n\" style=\"fill:none;stroke:#000000;stroke-linecap:square;stroke-linejoin:miter;stroke-width:0.8;\"/>\r\n   </g>\r\n   <g id=\"legend_1\">\r\n    <g id=\"patch_7\">\r\n     <path d=\"M 40.2875 44.55625 \r\nL 102.848438 44.55625 \r\nQ 104.848438 44.55625 104.848438 42.55625 \r\nL 104.848438 14.2 \r\nQ 104.848438 12.2 102.848438 12.2 \r\nL 40.2875 12.2 \r\nQ 38.2875 12.2 38.2875 14.2 \r\nL 38.2875 42.55625 \r\nQ 38.2875 44.55625 40.2875 44.55625 \r\nz\r\n\" style=\"fill:#ffffff;opacity:0.8;stroke:#cccccc;stroke-linejoin:miter;\"/>\r\n    </g>\r\n    <g id=\"line2d_18\">\r\n     <path d=\"M 42.2875 20.298437 \r\nL 62.2875 20.298437 \r\n\" style=\"fill:none;stroke:#1f77b4;stroke-linecap:square;stroke-width:1.5;\"/>\r\n    </g>\r\n    <g id=\"line2d_19\"/>\r\n    <g id=\"text_14\">\r\n     <!-- PM2.5 -->\r\n     <g transform=\"translate(70.2875 23.798437)scale(0.1 -0.1)\">\r\n      <defs>\r\n       <path d=\"M 1259 4147 \r\nL 1259 2394 \r\nL 2053 2394 \r\nQ 2494 2394 2734 2622 \r\nQ 2975 2850 2975 3272 \r\nQ 2975 3691 2734 3919 \r\nQ 2494 4147 2053 4147 \r\nL 1259 4147 \r\nz\r\nM 628 4666 \r\nL 2053 4666 \r\nQ 2838 4666 3239 4311 \r\nQ 3641 3956 3641 3272 \r\nQ 3641 2581 3239 2228 \r\nQ 2838 1875 2053 1875 \r\nL 1259 1875 \r\nL 1259 0 \r\nL 628 0 \r\nL 628 4666 \r\nz\r\n\" id=\"DejaVuSans-50\" transform=\"scale(0.015625)\"/>\r\n       <path d=\"M 684 794 \r\nL 1344 794 \r\nL 1344 0 \r\nL 684 0 \r\nL 684 794 \r\nz\r\n\" id=\"DejaVuSans-2e\" transform=\"scale(0.015625)\"/>\r\n       <path d=\"M 691 4666 \r\nL 3169 4666 \r\nL 3169 4134 \r\nL 1269 4134 \r\nL 1269 2991 \r\nQ 1406 3038 1543 3061 \r\nQ 1681 3084 1819 3084 \r\nQ 2600 3084 3056 2656 \r\nQ 3513 2228 3513 1497 \r\nQ 3513 744 3044 326 \r\nQ 2575 -91 1722 -91 \r\nQ 1428 -91 1123 -41 \r\nQ 819 9 494 109 \r\nL 494 744 \r\nQ 775 591 1075 516 \r\nQ 1375 441 1709 441 \r\nQ 2250 441 2565 725 \r\nQ 2881 1009 2881 1497 \r\nQ 2881 1984 2565 2268 \r\nQ 2250 2553 1709 2553 \r\nQ 1456 2553 1204 2497 \r\nQ 953 2441 691 2322 \r\nL 691 4666 \r\nz\r\n\" id=\"DejaVuSans-35\" transform=\"scale(0.015625)\"/>\r\n      </defs>\r\n      <use xlink:href=\"#DejaVuSans-50\"/>\r\n      <use x=\"60.302734\" xlink:href=\"#DejaVuSans-4d\"/>\r\n      <use x=\"146.582031\" xlink:href=\"#DejaVuSans-32\"/>\r\n      <use x=\"210.205078\" xlink:href=\"#DejaVuSans-2e\"/>\r\n      <use x=\"241.992188\" xlink:href=\"#DejaVuSans-35\"/>\r\n     </g>\r\n    </g>\r\n    <g id=\"line2d_20\">\r\n     <path d=\"M 42.2875 34.976562 \r\nL 62.2875 34.976562 \r\n\" style=\"fill:none;stroke:#ff7f0e;stroke-linecap:square;stroke-width:1.5;\"/>\r\n    </g>\r\n    <g id=\"line2d_21\"/>\r\n    <g id=\"text_15\">\r\n     <!-- pred -->\r\n     <g transform=\"translate(70.2875 38.476562)scale(0.1 -0.1)\">\r\n      <defs>\r\n       <path d=\"M 1159 525 \r\nL 1159 -1331 \r\nL 581 -1331 \r\nL 581 3500 \r\nL 1159 3500 \r\nL 1159 2969 \r\nQ 1341 3281 1617 3432 \r\nQ 1894 3584 2278 3584 \r\nQ 2916 3584 3314 3078 \r\nQ 3713 2572 3713 1747 \r\nQ 3713 922 3314 415 \r\nQ 2916 -91 2278 -91 \r\nQ 1894 -91 1617 61 \r\nQ 1341 213 1159 525 \r\nz\r\nM 3116 1747 \r\nQ 3116 2381 2855 2742 \r\nQ 2594 3103 2138 3103 \r\nQ 1681 3103 1420 2742 \r\nQ 1159 2381 1159 1747 \r\nQ 1159 1113 1420 752 \r\nQ 1681 391 2138 391 \r\nQ 2594 391 2855 752 \r\nQ 3116 1113 3116 1747 \r\nz\r\n\" id=\"DejaVuSans-70\" transform=\"scale(0.015625)\"/>\r\n       <path d=\"M 3597 1894 \r\nL 3597 1613 \r\nL 953 1613 \r\nQ 991 1019 1311 708 \r\nQ 1631 397 2203 397 \r\nQ 2534 397 2845 478 \r\nQ 3156 559 3463 722 \r\nL 3463 178 \r\nQ 3153 47 2828 -22 \r\nQ 2503 -91 2169 -91 \r\nQ 1331 -91 842 396 \r\nQ 353 884 353 1716 \r\nQ 353 2575 817 3079 \r\nQ 1281 3584 2069 3584 \r\nQ 2775 3584 3186 3129 \r\nQ 3597 2675 3597 1894 \r\nz\r\nM 3022 2063 \r\nQ 3016 2534 2758 2815 \r\nQ 2500 3097 2075 3097 \r\nQ 1594 3097 1305 2825 \r\nQ 1016 2553 972 2059 \r\nL 3022 2063 \r\nz\r\n\" id=\"DejaVuSans-65\" transform=\"scale(0.015625)\"/>\r\n       <path d=\"M 2906 2969 \r\nL 2906 4863 \r\nL 3481 4863 \r\nL 3481 0 \r\nL 2906 0 \r\nL 2906 525 \r\nQ 2725 213 2448 61 \r\nQ 2172 -91 1784 -91 \r\nQ 1150 -91 751 415 \r\nQ 353 922 353 1747 \r\nQ 353 2572 751 3078 \r\nQ 1150 3584 1784 3584 \r\nQ 2172 3584 2448 3432 \r\nQ 2725 3281 2906 2969 \r\nz\r\nM 947 1747 \r\nQ 947 1113 1208 752 \r\nQ 1469 391 1925 391 \r\nQ 2381 391 2643 752 \r\nQ 2906 1113 2906 1747 \r\nQ 2906 2381 2643 2742 \r\nQ 2381 3103 1925 3103 \r\nQ 1469 3103 1208 2742 \r\nQ 947 2381 947 1747 \r\nz\r\n\" id=\"DejaVuSans-64\" transform=\"scale(0.015625)\"/>\r\n      </defs>\r\n      <use xlink:href=\"#DejaVuSans-70\"/>\r\n      <use x=\"63.476562\" xlink:href=\"#DejaVuSans-72\"/>\r\n      <use x=\"102.339844\" xlink:href=\"#DejaVuSans-65\"/>\r\n      <use x=\"163.863281\" xlink:href=\"#DejaVuSans-64\"/>\r\n     </g>\r\n    </g>\r\n   </g>\r\n  </g>\r\n </g>\r\n <defs>\r\n  <clipPath id=\"p84ff0d97e4\">\r\n   <rect height=\"217.44\" width=\"334.8\" x=\"33.2875\" y=\"7.2\"/>\r\n  </clipPath>\r\n </defs>\r\n</svg>\r\n",
      "image/png": "[encoded data removed]"
     },
     "metadata": {
      "needs_background": "light"
     }
    }
   ],
   "source": [
    "i = 7\n",
    "print('province =',province)\n",
    "h = y_test_scalers[province].inverse_transform(pred[i].numpy().reshape((-1,1)))\n",
    "k = Y_test[province][i].copy()\n",
    "k['pred'] = h\n",
    "k.plot();"
   ]
  },
  {
   "source": [
    "## Save the model\n",
    "- **Bangkok** : `./Models/Bangkok_run_2021_04_25-08_23_07.h5` (12.92)\n",
    "    - features\\[:4]\n",
    "    - 720 timesteps\n",
    "- **Chanthaburi** : `./Models/Chanthaburi_run_2021_04_25-13_57_13.h5` (9.58) \n",
    "    - features\\[:3]\n",
    "   - 720 timesteps"
   ],
   "cell_type": "markdown",
   "metadata": {}
  },
  {
   "source": [
    "# xxxxxxxxxxxxxxxxxxxxxxxxxxxxxxxxxxxxxxxxxxxxx"
   ],
   "cell_type": "markdown",
   "metadata": {}
  }
 ]
}