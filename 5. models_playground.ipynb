{
 "metadata": {
  "language_info": {
   "codemirror_mode": {
    "name": "ipython",
    "version": 3
   },
   "file_extension": ".py",
   "mimetype": "text/x-python",
   "name": "python",
   "nbconvert_exporter": "python",
   "pygments_lexer": "ipython3",
   "version": "3.9.1-final"
  },
  "orig_nbformat": 2,
  "kernelspec": {
   "name": "python391jvsc74a57bd031605234de10b43ea767264d17dfb0196cf2b9da7012776efe0be49341337db4",
   "display_name": "Python 3.9.1 64-bit ('jupyterlab2.26': conda)"
  }
 },
 "nbformat": 4,
 "nbformat_minor": 2,
 "cells": [
  {
   "cell_type": "code",
   "execution_count": 38,
   "metadata": {},
   "outputs": [
    {
     "output_type": "execute_result",
     "data": {
      "text/plain": [
       "'2.5.0-rc1'"
      ]
     },
     "metadata": {},
     "execution_count": 38
    }
   ],
   "source": [
    "from util_input_output_model import *\n",
    "from collections import defaultdict\n",
    "from datetime import timedelta\n",
    "import tensorflow as tf\n",
    "import numpy as np\n",
    "import pandas as pd\n",
    "\n",
    "provinces = ['Bangkok','Chanthaburi','Chiang Mai','Kanchanaburi','Songkhla','Khon Kaen']\n",
    "tf.__version__"
   ]
  },
  {
   "source": [
    "## Preparing data\n",
    "We'll preparing `X, Y` of `Train, Test` set."
   ],
   "cell_type": "markdown",
   "metadata": {}
  },
  {
   "cell_type": "code",
   "execution_count": 39,
   "metadata": {},
   "outputs": [
    {
     "output_type": "stream",
     "name": "stdout",
     "text": [
      "Enter timestep :  24\n"
     ]
    }
   ],
   "source": [
    "print(\"Enter timestep : \",end=' ')\n",
    "timesteps = int(input())\n",
    "print(timesteps)"
   ]
  },
  {
   "cell_type": "code",
   "execution_count": 42,
   "metadata": {},
   "outputs": [],
   "source": [
    "Train_data, X_train, Y_train = prepare_train_data(timesteps)"
   ]
  },
  {
   "cell_type": "code",
   "execution_count": 43,
   "metadata": {},
   "outputs": [
    {
     "output_type": "stream",
     "name": "stdout",
     "text": [
      "dif : 19\n2019-03-18 08:00:00\nbase = 2019-03-18 12:00:00\ndif : 13\n2019-03-18 08:00:00\nbase = 2019-03-18 18:00:00\ndif : 7\n2019-03-18 08:00:00\nbase = 2019-03-19 00:00:00\ndif : 1\n2019-03-18 08:00:00\nbase = 2019-03-19 06:00:00\n"
     ]
    }
   ],
   "source": [
    "Test_data, X_test, Y_test = prepare_test_data(Train_data, timesteps)"
   ]
  },
  {
   "source": [
    "## Standardize the data\n",
    "Next, we need to scale the data."
   ],
   "cell_type": "markdown",
   "metadata": {}
  },
  {
   "cell_type": "code",
   "execution_count": 44,
   "metadata": {},
   "outputs": [],
   "source": [
    "x_train_scalers, y_train_scalers, X_train_scaled, Y_train_scaled = scale_data(X_train, Y_train, Train_data)\n",
    "x_test_scalers, y_test_scalers, X_test_scaled, Y_test_scaled = scale_data(X_test, Y_test, Test_data)"
   ]
  },
  {
   "source": [
    "## Shaping\n",
    "Make sure that the data is in the right shape. The `X` shape should be `(#datapoints, #timesteps, #features)`. The `Y` shape should be `(#datapoints, 72)` since each forecast we have to predict next 72 hours."
   ],
   "cell_type": "markdown",
   "metadata": {}
  },
  {
   "cell_type": "code",
   "execution_count": 45,
   "metadata": {
    "tags": []
   },
   "outputs": [],
   "source": [
    "f = Y_train_scaled['Bangkok']\n",
    "\n",
    "for i in range(len(f)):\n",
    "    if f[i].shape[0] != 72: print(i)"
   ]
  },
  {
   "cell_type": "code",
   "execution_count": 46,
   "metadata": {},
   "outputs": [
    {
     "output_type": "stream",
     "name": "stdout",
     "text": [
      "Bangkok\nX Train: (4422, 24, 7)\nY Train: (4422, 72)\nX Test: (1454, 24, 7)\nY Test: (1454, 72)\n\nChanthaburi\nX Train: (4422, 24, 7)\nY Train: (4422, 72)\nX Test: (1454, 24, 7)\nY Test: (1454, 72)\n\nChiang Mai\nX Train: (4422, 24, 7)\nY Train: (4422, 72)\nX Test: (1454, 24, 7)\nY Test: (1454, 72)\n\nKanchanaburi\nX Train: (4422, 24, 7)\nY Train: (4422, 72)\nX Test: (1454, 24, 7)\nY Test: (1454, 72)\n\nSongkhla\nX Train: (4422, 24, 7)\nY Train: (4422, 72)\nX Test: (1454, 24, 7)\nY Test: (1454, 72)\n\n"
     ]
    }
   ],
   "source": [
    "x_, y_ = {}, {}\n",
    "\n",
    "for p in provinces:\n",
    "    x_[p] = {\"Train\": np.array(X_train_scaled[p]),\n",
    "             \"Test\": np.array(X_test_scaled[p])}\n",
    "    \n",
    "    y_[p] = {\"Train\": np.array(Y_train_scaled[p]).squeeze(axis=2),\n",
    "             \"Test\": np.array(Y_test_scaled[p]).squeeze(axis=2)}\n",
    "\n",
    "    print(p)\n",
    "    print(f'X Train: {x_[p][\"Train\"].shape}')\n",
    "    print(f'Y Train: {y_[p][\"Train\"].shape}')\n",
    "    print(f'X Test: {x_[p][\"Test\"].shape}')\n",
    "    print(f'Y Test: {y_[p][\"Test\"].shape}\\n')"
   ]
  },
  {
   "cell_type": "code",
   "execution_count": 27,
   "metadata": {},
   "outputs": [],
   "source": [
    "'''\n",
    "x_train = x_.reshape((x_.shape[0], timesteps, n_features))\n",
    "y_train = y_.reshape((y_.shape[0], 72))\n",
    "'''"
   ]
  },
  {
   "cell_type": "code",
   "execution_count": 28,
   "metadata": {},
   "outputs": [
    {
     "output_type": "stream",
     "name": "stdout",
     "text": [
      "x : (1452, 12, 7)\ny : (1452, 72)\n"
     ]
    }
   ],
   "source": [
    "'''\n",
    "print(f'x : {x_train.shape}')\n",
    "print(f'y : {y_train.shape}')\n",
    "'''"
   ]
  },
  {
   "source": [
    "## Building Model"
   ],
   "cell_type": "markdown",
   "metadata": {}
  },
  {
   "cell_type": "code",
   "execution_count": 47,
   "metadata": {},
   "outputs": [
    {
     "output_type": "stream",
     "name": "stdout",
     "text": [
      "timesteps : 24\n"
     ]
    }
   ],
   "source": [
    "print(f\"timesteps : {timesteps}\")"
   ]
  },
  {
   "cell_type": "code",
   "execution_count": 50,
   "metadata": {},
   "outputs": [],
   "source": [
    "from tensorflow.keras.models import Sequential\n",
    "from tensorflow.keras.layers import Dense\n",
    "from tensorflow.keras.layers import LSTM\n",
    "import tensorflow as tf\n",
    "\n",
    "n_features = 7\n",
    "# define model\n",
    "\n",
    "model = Sequential([\n",
    "    LSTM(200, activation='relu', input_shape=(timesteps, n_features)),\n",
    "    Dense(144, activation='relu'),\n",
    "    Dense(72)\n",
    "])\n",
    "model.compile(optimizer='adam', loss='mse')"
   ]
  },
  {
   "cell_type": "code",
   "execution_count": 49,
   "metadata": {},
   "outputs": [
    {
     "output_type": "execute_result",
     "data": {
      "text/plain": [
       "['Bangkok', 'Chanthaburi', 'Chiang Mai', 'Kanchanaburi', 'Songkhla']"
      ]
     },
     "metadata": {},
     "execution_count": 49
    }
   ],
   "source": [
    "provinces"
   ]
  },
  {
   "cell_type": "code",
   "execution_count": 51,
   "metadata": {},
   "outputs": [
    {
     "output_type": "execute_result",
     "data": {
      "text/plain": [
       "(1454, 24, 7)"
      ]
     },
     "metadata": {},
     "execution_count": 51
    }
   ],
   "source": [
    "x_['Songkhla']['Test'].shape"
   ]
  },
  {
   "cell_type": "code",
   "execution_count": 52,
   "metadata": {},
   "outputs": [
    {
     "output_type": "stream",
     "name": "stdout",
     "text": [
      "Epoch 1/50\n",
      "46/46 [==============================] - 4s 32ms/step - loss: 0.0232\n",
      "Epoch 2/50\n",
      "46/46 [==============================] - 2s 54ms/step - loss: 0.0154\n",
      "Epoch 3/50\n",
      "46/46 [==============================] - 2s 50ms/step - loss: 0.0146\n",
      "Epoch 4/50\n",
      "46/46 [==============================] - 2s 48ms/step - loss: 0.0162\n",
      "Epoch 5/50\n",
      "46/46 [==============================] - 2s 40ms/step - loss: 0.0159\n",
      "Epoch 6/50\n",
      "46/46 [==============================] - 2s 42ms/step - loss: 0.0146\n",
      "Epoch 7/50\n",
      "46/46 [==============================] - 2s 43ms/step - loss: 0.0159\n",
      "Epoch 8/50\n",
      "46/46 [==============================] - 2s 39ms/step - loss: 0.0145\n",
      "Epoch 9/50\n",
      "46/46 [==============================] - 2s 40ms/step - loss: 0.0149\n",
      "Epoch 10/50\n",
      "46/46 [==============================] - 2s 47ms/step - loss: 0.0143\n",
      "Epoch 11/50\n",
      "46/46 [==============================] - 2s 38ms/step - loss: 0.0141\n",
      "Epoch 12/50\n",
      "46/46 [==============================] - 2s 39ms/step - loss: 0.0143\n",
      "Epoch 13/50\n",
      "46/46 [==============================] - 2s 42ms/step - loss: 0.0142\n",
      "Epoch 14/50\n",
      "46/46 [==============================] - 2s 39ms/step - loss: 0.0142\n",
      "Epoch 15/50\n",
      "46/46 [==============================] - 2s 52ms/step - loss: 0.0147\n",
      "Epoch 16/50\n",
      "46/46 [==============================] - 2s 50ms/step - loss: 0.0146\n",
      "Epoch 17/50\n",
      "46/46 [==============================] - 2s 40ms/step - loss: 0.0140\n",
      "Epoch 18/50\n",
      "46/46 [==============================] - 2s 39ms/step - loss: 0.0136\n",
      "Epoch 19/50\n",
      "46/46 [==============================] - 2s 44ms/step - loss: 0.0132\n",
      "Epoch 20/50\n",
      "46/46 [==============================] - 2s 40ms/step - loss: 0.0123\n",
      "Epoch 21/50\n",
      "46/46 [==============================] - 2s 38ms/step - loss: 0.0124\n",
      "Epoch 22/50\n",
      "46/46 [==============================] - 2s 42ms/step - loss: 0.0132\n",
      "Epoch 23/50\n",
      "46/46 [==============================] - 2s 44ms/step - loss: 0.0122\n",
      "Epoch 24/50\n",
      "46/46 [==============================] - 2s 41ms/step - loss: 0.0130\n",
      "Epoch 25/50\n",
      "46/46 [==============================] - 2s 41ms/step - loss: 0.0118\n",
      "Epoch 26/50\n",
      "46/46 [==============================] - 3s 55ms/step - loss: 0.0124\n",
      "Epoch 27/50\n",
      "46/46 [==============================] - 2s 45ms/step - loss: 0.0109\n",
      "Epoch 28/50\n",
      "46/46 [==============================] - 2s 46ms/step - loss: 0.0119\n",
      "Epoch 29/50\n",
      "46/46 [==============================] - 2s 40ms/step - loss: 0.0122\n",
      "Epoch 30/50\n",
      "46/46 [==============================] - 2s 41ms/step - loss: 0.0118\n",
      "Epoch 31/50\n",
      "46/46 [==============================] - 2s 45ms/step - loss: 0.0116\n",
      "Epoch 32/50\n",
      "46/46 [==============================] - 2s 44ms/step - loss: 0.0111\n",
      "Epoch 33/50\n",
      "46/46 [==============================] - 2s 40ms/step - loss: 0.0117\n",
      "Epoch 34/50\n",
      "46/46 [==============================] - 2s 44ms/step - loss: 0.0117\n",
      "Epoch 35/50\n",
      "46/46 [==============================] - 2s 43ms/step - loss: 0.0106\n",
      "Epoch 36/50\n",
      "46/46 [==============================] - 2s 40ms/step - loss: 0.0106\n",
      "Epoch 37/50\n",
      "46/46 [==============================] - 2s 42ms/step - loss: 0.0101\n",
      "Epoch 38/50\n",
      "46/46 [==============================] - 3s 59ms/step - loss: 0.0112\n",
      "Epoch 39/50\n",
      "46/46 [==============================] - 2s 46ms/step - loss: 0.0108\n",
      "Epoch 40/50\n",
      "46/46 [==============================] - 2s 39ms/step - loss: 0.0103\n",
      "Epoch 41/50\n",
      "46/46 [==============================] - 2s 42ms/step - loss: 0.0098\n",
      "Epoch 42/50\n",
      "46/46 [==============================] - 2s 41ms/step - loss: 0.0099\n",
      "Epoch 43/50\n",
      "46/46 [==============================] - 2s 42ms/step - loss: 0.0113\n",
      "Epoch 44/50\n",
      "46/46 [==============================] - 2s 46ms/step - loss: 0.0099\n",
      "Epoch 45/50\n",
      "46/46 [==============================] - 2s 40ms/step - loss: 0.0098\n",
      "Epoch 46/50\n",
      "46/46 [==============================] - 2s 39ms/step - loss: 0.0102\n",
      "Epoch 47/50\n",
      "46/46 [==============================] - 2s 42ms/step - loss: 0.0099\n",
      "Epoch 48/50\n",
      "46/46 [==============================] - 2s 41ms/step - loss: 0.0103\n",
      "Epoch 49/50\n",
      "46/46 [==============================] - 2s 43ms/step - loss: 0.0100\n",
      "Epoch 50/50\n",
      "46/46 [==============================] - 2s 43ms/step - loss: 0.0096\n"
     ]
    }
   ],
   "source": [
    "province = 'Songkhla'\n",
    "x_feed, y_feed = x_[province]['Test'], y_[province]['Test']\n",
    "history = model.fit(x_feed, y_feed, epochs=50, batch_size=32)"
   ]
  },
  {
   "source": [
    "### Evaluate on train"
   ],
   "cell_type": "markdown",
   "metadata": {}
  },
  {
   "cell_type": "code",
   "execution_count": 53,
   "metadata": {},
   "outputs": [
    {
     "output_type": "stream",
     "name": "stdout",
     "text": [
      "46/46 [==============================] - 1s 10ms/step - loss: 0.0098\n"
     ]
    },
    {
     "output_type": "execute_result",
     "data": {
      "text/plain": [
       "0.009834391996264458"
      ]
     },
     "metadata": {},
     "execution_count": 53
    }
   ],
   "source": [
    "model.evaluate(x_feed, y_feed)"
   ]
  },
  {
   "source": [
    "### Evaluate on test"
   ],
   "cell_type": "markdown",
   "metadata": {}
  },
  {
   "cell_type": "code",
   "execution_count": null,
   "metadata": {},
   "outputs": [],
   "source": [
    "#model.evaluate(x_test, y_test)"
   ]
  },
  {
   "cell_type": "code",
   "execution_count": 54,
   "metadata": {},
   "outputs": [
    {
     "output_type": "stream",
     "name": "stdout",
     "text": [
      "province : Songkhla\n"
     ]
    },
    {
     "output_type": "execute_result",
     "data": {
      "text/plain": [
       "7.405307186991287"
      ]
     },
     "metadata": {},
     "execution_count": 54
    }
   ],
   "source": [
    "from sklearn.metrics import mean_squared_error as mse\n",
    "pred = model(x_feed)\n",
    "rmse = []\n",
    "print('province :', province)\n",
    "for i in range(len(pred)):\n",
    "    p = y_test_scalers[province].inverse_transform(pred[i].numpy().reshape((-1,1)))\n",
    "    y_t = y_test_scalers[province].inverse_transform(y_feed[i].reshape((-1,1)))\n",
    "    rmse.append(np.sqrt(mse(p, y_t)))\n",
    "np.mean(rmse)"
   ]
  },
  {
   "cell_type": "code",
   "execution_count": 55,
   "metadata": {},
   "outputs": [
    {
     "output_type": "stream",
     "name": "stdout",
     "text": [
      "province = Songkhla\n"
     ]
    },
    {
     "output_type": "display_data",
     "data": {
      "text/plain": "<Figure size 432x288 with 1 Axes>",
      "image/svg+xml": "<?xml version=\"1.0\" encoding=\"utf-8\" standalone=\"no\"?>\r\n<!DOCTYPE svg PUBLIC \"-//W3C//DTD SVG 1.1//EN\"\r\n  \"http://www.w3.org/Graphics/SVG/1.1/DTD/svg11.dtd\">\r\n<svg height=\"270.91375pt\" version=\"1.1\" viewBox=\"0 0 383.334375 270.91375\" width=\"383.334375pt\" xmlns=\"http://www.w3.org/2000/svg\" xmlns:xlink=\"http://www.w3.org/1999/xlink\">\r\n <metadata>\r\n  <rdf:RDF xmlns:cc=\"http://creativecommons.org/ns#\" xmlns:dc=\"http://purl.org/dc/elements/1.1/\" xmlns:rdf=\"http://www.w3.org/1999/02/22-rdf-syntax-ns#\">\r\n   <cc:Work>\r\n    <dc:type rdf:resource=\"http://purl.org/dc/dcmitype/StillImage\"/>\r\n    <dc:date>2021-04-23T22:34:09.118589</dc:date>\r\n    <dc:format>image/svg+xml</dc:format>\r\n    <dc:creator>\r\n     <cc:Agent>\r\n      <dc:title>Matplotlib v3.4.1, https://matplotlib.org/</dc:title>\r\n     </cc:Agent>\r\n    </dc:creator>\r\n   </cc:Work>\r\n  </rdf:RDF>\r\n </metadata>\r\n <defs>\r\n  <style type=\"text/css\">*{stroke-linecap:butt;stroke-linejoin:round;}</style>\r\n </defs>\r\n <g id=\"figure_1\">\r\n  <g id=\"patch_1\">\r\n   <path d=\"M -0 270.91375 \r\nL 383.334375 270.91375 \r\nL 383.334375 0 \r\nL -0 0 \r\nz\r\n\" style=\"fill:none;\"/>\r\n  </g>\r\n  <g id=\"axes_1\">\r\n   <g id=\"patch_2\">\r\n    <path d=\"M 26.925 224.64 \r\nL 361.725 224.64 \r\nL 361.725 7.2 \r\nL 26.925 7.2 \r\nz\r\n\" style=\"fill:#ffffff;\"/>\r\n   </g>\r\n   <g id=\"matplotlib.axis_1\">\r\n    <g id=\"xtick_1\">\r\n     <g id=\"line2d_1\">\r\n      <defs>\r\n       <path d=\"M 0 0 \r\nL 0 3.5 \r\n\" id=\"m5e4831ef57\" style=\"stroke:#000000;stroke-width:0.8;\"/>\r\n      </defs>\r\n      <g>\r\n       <use style=\"stroke:#000000;stroke-width:0.8;\" x=\"26.925\" xlink:href=\"#m5e4831ef57\" y=\"224.64\"/>\r\n      </g>\r\n     </g>\r\n    </g>\r\n    <g id=\"xtick_2\">\r\n     <g id=\"line2d_2\">\r\n      <g>\r\n       <use style=\"stroke:#000000;stroke-width:0.8;\" x=\"78.795423\" xlink:href=\"#m5e4831ef57\" y=\"224.64\"/>\r\n      </g>\r\n     </g>\r\n     <g id=\"text_1\">\r\n      <!-- 00:00 -->\r\n      <g transform=\"translate(64.386048 239.238438)scale(0.1 -0.1)\">\r\n       <defs>\r\n        <path d=\"M 2034 4250 \r\nQ 1547 4250 1301 3770 \r\nQ 1056 3291 1056 2328 \r\nQ 1056 1369 1301 889 \r\nQ 1547 409 2034 409 \r\nQ 2525 409 2770 889 \r\nQ 3016 1369 3016 2328 \r\nQ 3016 3291 2770 3770 \r\nQ 2525 4250 2034 4250 \r\nz\r\nM 2034 4750 \r\nQ 2819 4750 3233 4129 \r\nQ 3647 3509 3647 2328 \r\nQ 3647 1150 3233 529 \r\nQ 2819 -91 2034 -91 \r\nQ 1250 -91 836 529 \r\nQ 422 1150 422 2328 \r\nQ 422 3509 836 4129 \r\nQ 1250 4750 2034 4750 \r\nz\r\n\" id=\"DejaVuSans-30\" transform=\"scale(0.015625)\"/>\r\n        <path d=\"M 750 794 \r\nL 1409 794 \r\nL 1409 0 \r\nL 750 0 \r\nL 750 794 \r\nz\r\nM 750 3309 \r\nL 1409 3309 \r\nL 1409 2516 \r\nL 750 2516 \r\nL 750 3309 \r\nz\r\n\" id=\"DejaVuSans-3a\" transform=\"scale(0.015625)\"/>\r\n       </defs>\r\n       <use xlink:href=\"#DejaVuSans-30\"/>\r\n       <use x=\"63.623047\" xlink:href=\"#DejaVuSans-30\"/>\r\n       <use x=\"127.246094\" xlink:href=\"#DejaVuSans-3a\"/>\r\n       <use x=\"160.9375\" xlink:href=\"#DejaVuSans-30\"/>\r\n       <use x=\"224.560547\" xlink:href=\"#DejaVuSans-30\"/>\r\n      </g>\r\n      <!-- 10-Apr -->\r\n      <g transform=\"translate(62.091516 250.43625)scale(0.1 -0.1)\">\r\n       <defs>\r\n        <path d=\"M 794 531 \r\nL 1825 531 \r\nL 1825 4091 \r\nL 703 3866 \r\nL 703 4441 \r\nL 1819 4666 \r\nL 2450 4666 \r\nL 2450 531 \r\nL 3481 531 \r\nL 3481 0 \r\nL 794 0 \r\nL 794 531 \r\nz\r\n\" id=\"DejaVuSans-31\" transform=\"scale(0.015625)\"/>\r\n        <path d=\"M 313 2009 \r\nL 1997 2009 \r\nL 1997 1497 \r\nL 313 1497 \r\nL 313 2009 \r\nz\r\n\" id=\"DejaVuSans-2d\" transform=\"scale(0.015625)\"/>\r\n        <path d=\"M 2188 4044 \r\nL 1331 1722 \r\nL 3047 1722 \r\nL 2188 4044 \r\nz\r\nM 1831 4666 \r\nL 2547 4666 \r\nL 4325 0 \r\nL 3669 0 \r\nL 3244 1197 \r\nL 1141 1197 \r\nL 716 0 \r\nL 50 0 \r\nL 1831 4666 \r\nz\r\n\" id=\"DejaVuSans-41\" transform=\"scale(0.015625)\"/>\r\n        <path d=\"M 1159 525 \r\nL 1159 -1331 \r\nL 581 -1331 \r\nL 581 3500 \r\nL 1159 3500 \r\nL 1159 2969 \r\nQ 1341 3281 1617 3432 \r\nQ 1894 3584 2278 3584 \r\nQ 2916 3584 3314 3078 \r\nQ 3713 2572 3713 1747 \r\nQ 3713 922 3314 415 \r\nQ 2916 -91 2278 -91 \r\nQ 1894 -91 1617 61 \r\nQ 1341 213 1159 525 \r\nz\r\nM 3116 1747 \r\nQ 3116 2381 2855 2742 \r\nQ 2594 3103 2138 3103 \r\nQ 1681 3103 1420 2742 \r\nQ 1159 2381 1159 1747 \r\nQ 1159 1113 1420 752 \r\nQ 1681 391 2138 391 \r\nQ 2594 391 2855 752 \r\nQ 3116 1113 3116 1747 \r\nz\r\n\" id=\"DejaVuSans-70\" transform=\"scale(0.015625)\"/>\r\n        <path d=\"M 2631 2963 \r\nQ 2534 3019 2420 3045 \r\nQ 2306 3072 2169 3072 \r\nQ 1681 3072 1420 2755 \r\nQ 1159 2438 1159 1844 \r\nL 1159 0 \r\nL 581 0 \r\nL 581 3500 \r\nL 1159 3500 \r\nL 1159 2956 \r\nQ 1341 3275 1631 3429 \r\nQ 1922 3584 2338 3584 \r\nQ 2397 3584 2469 3576 \r\nQ 2541 3569 2628 3553 \r\nL 2631 2963 \r\nz\r\n\" id=\"DejaVuSans-72\" transform=\"scale(0.015625)\"/>\r\n       </defs>\r\n       <use xlink:href=\"#DejaVuSans-31\"/>\r\n       <use x=\"63.623047\" xlink:href=\"#DejaVuSans-30\"/>\r\n       <use x=\"127.246094\" xlink:href=\"#DejaVuSans-2d\"/>\r\n       <use x=\"161.080078\" xlink:href=\"#DejaVuSans-41\"/>\r\n       <use x=\"229.488281\" xlink:href=\"#DejaVuSans-70\"/>\r\n       <use x=\"292.964844\" xlink:href=\"#DejaVuSans-72\"/>\r\n      </g>\r\n      <!-- 2019 -->\r\n      <g transform=\"translate(66.070423 261.634062)scale(0.1 -0.1)\">\r\n       <defs>\r\n        <path d=\"M 1228 531 \r\nL 3431 531 \r\nL 3431 0 \r\nL 469 0 \r\nL 469 531 \r\nQ 828 903 1448 1529 \r\nQ 2069 2156 2228 2338 \r\nQ 2531 2678 2651 2914 \r\nQ 2772 3150 2772 3378 \r\nQ 2772 3750 2511 3984 \r\nQ 2250 4219 1831 4219 \r\nQ 1534 4219 1204 4116 \r\nQ 875 4013 500 3803 \r\nL 500 4441 \r\nQ 881 4594 1212 4672 \r\nQ 1544 4750 1819 4750 \r\nQ 2544 4750 2975 4387 \r\nQ 3406 4025 3406 3419 \r\nQ 3406 3131 3298 2873 \r\nQ 3191 2616 2906 2266 \r\nQ 2828 2175 2409 1742 \r\nQ 1991 1309 1228 531 \r\nz\r\n\" id=\"DejaVuSans-32\" transform=\"scale(0.015625)\"/>\r\n        <path d=\"M 703 97 \r\nL 703 672 \r\nQ 941 559 1184 500 \r\nQ 1428 441 1663 441 \r\nQ 2288 441 2617 861 \r\nQ 2947 1281 2994 2138 \r\nQ 2813 1869 2534 1725 \r\nQ 2256 1581 1919 1581 \r\nQ 1219 1581 811 2004 \r\nQ 403 2428 403 3163 \r\nQ 403 3881 828 4315 \r\nQ 1253 4750 1959 4750 \r\nQ 2769 4750 3195 4129 \r\nQ 3622 3509 3622 2328 \r\nQ 3622 1225 3098 567 \r\nQ 2575 -91 1691 -91 \r\nQ 1453 -91 1209 -44 \r\nQ 966 3 703 97 \r\nz\r\nM 1959 2075 \r\nQ 2384 2075 2632 2365 \r\nQ 2881 2656 2881 3163 \r\nQ 2881 3666 2632 3958 \r\nQ 2384 4250 1959 4250 \r\nQ 1534 4250 1286 3958 \r\nQ 1038 3666 1038 3163 \r\nQ 1038 2656 1286 2365 \r\nQ 1534 2075 1959 2075 \r\nz\r\n\" id=\"DejaVuSans-39\" transform=\"scale(0.015625)\"/>\r\n       </defs>\r\n       <use xlink:href=\"#DejaVuSans-32\"/>\r\n       <use x=\"63.623047\" xlink:href=\"#DejaVuSans-30\"/>\r\n       <use x=\"127.246094\" xlink:href=\"#DejaVuSans-31\"/>\r\n       <use x=\"190.869141\" xlink:href=\"#DejaVuSans-39\"/>\r\n      </g>\r\n     </g>\r\n    </g>\r\n    <g id=\"xtick_3\">\r\n     <g id=\"line2d_3\">\r\n      <g>\r\n       <use style=\"stroke:#000000;stroke-width:0.8;\" x=\"191.967254\" xlink:href=\"#m5e4831ef57\" y=\"224.64\"/>\r\n      </g>\r\n     </g>\r\n     <g id=\"text_2\">\r\n      <!-- 00:00 -->\r\n      <g transform=\"translate(177.557879 239.238438)scale(0.1 -0.1)\">\r\n       <use xlink:href=\"#DejaVuSans-30\"/>\r\n       <use x=\"63.623047\" xlink:href=\"#DejaVuSans-30\"/>\r\n       <use x=\"127.246094\" xlink:href=\"#DejaVuSans-3a\"/>\r\n       <use x=\"160.9375\" xlink:href=\"#DejaVuSans-30\"/>\r\n       <use x=\"224.560547\" xlink:href=\"#DejaVuSans-30\"/>\r\n      </g>\r\n      <!-- 11-Apr -->\r\n      <g transform=\"translate(175.263347 250.43625)scale(0.1 -0.1)\">\r\n       <use xlink:href=\"#DejaVuSans-31\"/>\r\n       <use x=\"63.623047\" xlink:href=\"#DejaVuSans-31\"/>\r\n       <use x=\"127.246094\" xlink:href=\"#DejaVuSans-2d\"/>\r\n       <use x=\"161.080078\" xlink:href=\"#DejaVuSans-41\"/>\r\n       <use x=\"229.488281\" xlink:href=\"#DejaVuSans-70\"/>\r\n       <use x=\"292.964844\" xlink:href=\"#DejaVuSans-72\"/>\r\n      </g>\r\n     </g>\r\n    </g>\r\n    <g id=\"xtick_4\">\r\n     <g id=\"line2d_4\">\r\n      <g>\r\n       <use style=\"stroke:#000000;stroke-width:0.8;\" x=\"305.139085\" xlink:href=\"#m5e4831ef57\" y=\"224.64\"/>\r\n      </g>\r\n     </g>\r\n     <g id=\"text_3\">\r\n      <!-- 00:00 -->\r\n      <g transform=\"translate(290.72971 239.238438)scale(0.1 -0.1)\">\r\n       <use xlink:href=\"#DejaVuSans-30\"/>\r\n       <use x=\"63.623047\" xlink:href=\"#DejaVuSans-30\"/>\r\n       <use x=\"127.246094\" xlink:href=\"#DejaVuSans-3a\"/>\r\n       <use x=\"160.9375\" xlink:href=\"#DejaVuSans-30\"/>\r\n       <use x=\"224.560547\" xlink:href=\"#DejaVuSans-30\"/>\r\n      </g>\r\n      <!-- 12-Apr -->\r\n      <g transform=\"translate(288.435178 250.43625)scale(0.1 -0.1)\">\r\n       <use xlink:href=\"#DejaVuSans-31\"/>\r\n       <use x=\"63.623047\" xlink:href=\"#DejaVuSans-32\"/>\r\n       <use x=\"127.246094\" xlink:href=\"#DejaVuSans-2d\"/>\r\n       <use x=\"161.080078\" xlink:href=\"#DejaVuSans-41\"/>\r\n       <use x=\"229.488281\" xlink:href=\"#DejaVuSans-70\"/>\r\n       <use x=\"292.964844\" xlink:href=\"#DejaVuSans-72\"/>\r\n      </g>\r\n     </g>\r\n    </g>\r\n    <g id=\"xtick_5\">\r\n     <g id=\"line2d_5\">\r\n      <g>\r\n       <use style=\"stroke:#000000;stroke-width:0.8;\" x=\"361.725\" xlink:href=\"#m5e4831ef57\" y=\"224.64\"/>\r\n      </g>\r\n     </g>\r\n     <g id=\"text_4\">\r\n      <!-- 12:00 -->\r\n      <g transform=\"translate(347.315625 239.238438)scale(0.1 -0.1)\">\r\n       <use xlink:href=\"#DejaVuSans-31\"/>\r\n       <use x=\"63.623047\" xlink:href=\"#DejaVuSans-32\"/>\r\n       <use x=\"127.246094\" xlink:href=\"#DejaVuSans-3a\"/>\r\n       <use x=\"160.9375\" xlink:href=\"#DejaVuSans-30\"/>\r\n       <use x=\"224.560547\" xlink:href=\"#DejaVuSans-30\"/>\r\n      </g>\r\n     </g>\r\n    </g>\r\n    <g id=\"xtick_6\">\r\n     <g id=\"line2d_6\">\r\n      <defs>\r\n       <path d=\"M 0 0 \r\nL 0 2 \r\n\" id=\"m3ba14d9024\" style=\"stroke:#000000;stroke-width:0.6;\"/>\r\n      </defs>\r\n      <g>\r\n       <use style=\"stroke:#000000;stroke-width:0.6;\" x=\"135.381338\" xlink:href=\"#m3ba14d9024\" y=\"224.64\"/>\r\n      </g>\r\n     </g>\r\n     <g id=\"text_5\">\r\n      <!-- 12:00 -->\r\n      <g transform=\"translate(120.971963 237.638438)scale(0.1 -0.1)\">\r\n       <use xlink:href=\"#DejaVuSans-31\"/>\r\n       <use x=\"63.623047\" xlink:href=\"#DejaVuSans-32\"/>\r\n       <use x=\"127.246094\" xlink:href=\"#DejaVuSans-3a\"/>\r\n       <use x=\"160.9375\" xlink:href=\"#DejaVuSans-30\"/>\r\n       <use x=\"224.560547\" xlink:href=\"#DejaVuSans-30\"/>\r\n      </g>\r\n     </g>\r\n    </g>\r\n    <g id=\"xtick_7\">\r\n     <g id=\"line2d_7\">\r\n      <g>\r\n       <use style=\"stroke:#000000;stroke-width:0.6;\" x=\"248.553169\" xlink:href=\"#m3ba14d9024\" y=\"224.64\"/>\r\n      </g>\r\n     </g>\r\n     <g id=\"text_6\">\r\n      <!-- 12:00 -->\r\n      <g transform=\"translate(234.143794 237.638438)scale(0.1 -0.1)\">\r\n       <use xlink:href=\"#DejaVuSans-31\"/>\r\n       <use x=\"63.623047\" xlink:href=\"#DejaVuSans-32\"/>\r\n       <use x=\"127.246094\" xlink:href=\"#DejaVuSans-3a\"/>\r\n       <use x=\"160.9375\" xlink:href=\"#DejaVuSans-30\"/>\r\n       <use x=\"224.560547\" xlink:href=\"#DejaVuSans-30\"/>\r\n      </g>\r\n     </g>\r\n    </g>\r\n   </g>\r\n   <g id=\"matplotlib.axis_2\">\r\n    <g id=\"ytick_1\">\r\n     <g id=\"line2d_8\">\r\n      <defs>\r\n       <path d=\"M 0 0 \r\nL -3.5 0 \r\n\" id=\"medbd0075e8\" style=\"stroke:#000000;stroke-width:0.8;\"/>\r\n      </defs>\r\n      <g>\r\n       <use style=\"stroke:#000000;stroke-width:0.8;\" x=\"26.925\" xlink:href=\"#medbd0075e8\" y=\"214.756364\"/>\r\n      </g>\r\n     </g>\r\n     <g id=\"text_7\">\r\n      <!-- 0 -->\r\n      <g transform=\"translate(13.5625 218.555582)scale(0.1 -0.1)\">\r\n       <use xlink:href=\"#DejaVuSans-30\"/>\r\n      </g>\r\n     </g>\r\n    </g>\r\n    <g id=\"ytick_2\">\r\n     <g id=\"line2d_9\">\r\n      <g>\r\n       <use style=\"stroke:#000000;stroke-width:0.8;\" x=\"26.925\" xlink:href=\"#medbd0075e8\" y=\"170.632987\"/>\r\n      </g>\r\n     </g>\r\n     <g id=\"text_8\">\r\n      <!-- 5 -->\r\n      <g transform=\"translate(13.5625 174.432206)scale(0.1 -0.1)\">\r\n       <defs>\r\n        <path d=\"M 691 4666 \r\nL 3169 4666 \r\nL 3169 4134 \r\nL 1269 4134 \r\nL 1269 2991 \r\nQ 1406 3038 1543 3061 \r\nQ 1681 3084 1819 3084 \r\nQ 2600 3084 3056 2656 \r\nQ 3513 2228 3513 1497 \r\nQ 3513 744 3044 326 \r\nQ 2575 -91 1722 -91 \r\nQ 1428 -91 1123 -41 \r\nQ 819 9 494 109 \r\nL 494 744 \r\nQ 775 591 1075 516 \r\nQ 1375 441 1709 441 \r\nQ 2250 441 2565 725 \r\nQ 2881 1009 2881 1497 \r\nQ 2881 1984 2565 2268 \r\nQ 2250 2553 1709 2553 \r\nQ 1456 2553 1204 2497 \r\nQ 953 2441 691 2322 \r\nL 691 4666 \r\nz\r\n\" id=\"DejaVuSans-35\" transform=\"scale(0.015625)\"/>\r\n       </defs>\r\n       <use xlink:href=\"#DejaVuSans-35\"/>\r\n      </g>\r\n     </g>\r\n    </g>\r\n    <g id=\"ytick_3\">\r\n     <g id=\"line2d_10\">\r\n      <g>\r\n       <use style=\"stroke:#000000;stroke-width:0.8;\" x=\"26.925\" xlink:href=\"#medbd0075e8\" y=\"126.50961\"/>\r\n      </g>\r\n     </g>\r\n     <g id=\"text_9\">\r\n      <!-- 10 -->\r\n      <g transform=\"translate(7.2 130.308829)scale(0.1 -0.1)\">\r\n       <use xlink:href=\"#DejaVuSans-31\"/>\r\n       <use x=\"63.623047\" xlink:href=\"#DejaVuSans-30\"/>\r\n      </g>\r\n     </g>\r\n    </g>\r\n    <g id=\"ytick_4\">\r\n     <g id=\"line2d_11\">\r\n      <g>\r\n       <use style=\"stroke:#000000;stroke-width:0.8;\" x=\"26.925\" xlink:href=\"#medbd0075e8\" y=\"82.386234\"/>\r\n      </g>\r\n     </g>\r\n     <g id=\"text_10\">\r\n      <!-- 15 -->\r\n      <g transform=\"translate(7.2 86.185453)scale(0.1 -0.1)\">\r\n       <use xlink:href=\"#DejaVuSans-31\"/>\r\n       <use x=\"63.623047\" xlink:href=\"#DejaVuSans-35\"/>\r\n      </g>\r\n     </g>\r\n    </g>\r\n    <g id=\"ytick_5\">\r\n     <g id=\"line2d_12\">\r\n      <g>\r\n       <use style=\"stroke:#000000;stroke-width:0.8;\" x=\"26.925\" xlink:href=\"#medbd0075e8\" y=\"38.262857\"/>\r\n      </g>\r\n     </g>\r\n     <g id=\"text_11\">\r\n      <!-- 20 -->\r\n      <g transform=\"translate(7.2 42.062076)scale(0.1 -0.1)\">\r\n       <use xlink:href=\"#DejaVuSans-32\"/>\r\n       <use x=\"63.623047\" xlink:href=\"#DejaVuSans-30\"/>\r\n      </g>\r\n     </g>\r\n    </g>\r\n   </g>\r\n   <g id=\"line2d_13\">\r\n    <path clip-path=\"url(#pff8543e8f4)\" d=\"M 26.925 121.214805 \r\nL 31.640493 122.097273 \r\nL 36.355986 122.97974 \r\nL 41.071479 99.153117 \r\nL 45.786972 105.33039 \r\nL 50.502465 94.740779 \r\nL 55.217958 113.272597 \r\nL 59.933451 115.92 \r\nL 64.648944 101.800519 \r\nL 69.364437 109.742727 \r\nL 74.07993 85.916104 \r\nL 78.795423 94.740779 \r\nL 83.510915 97.388182 \r\nL 88.226408 80.621299 \r\nL 92.941901 78.856364 \r\nL 97.657394 67.384286 \r\nL 102.372887 58.55961 \r\nL 107.08838 77.091429 \r\nL 111.803873 68.266753 \r\nL 116.519366 91.210909 \r\nL 121.234859 61.207013 \r\nL 125.950352 17.083636 \r\nL 130.665845 55.912208 \r\nL 135.381338 71.796623 \r\nL 140.096831 126.50961 \r\nL 144.812324 127.392078 \r\nL 149.527817 99.153117 \r\nL 154.24331 102.682987 \r\nL 158.958803 106.212857 \r\nL 163.674296 115.037532 \r\nL 168.389789 100.918052 \r\nL 173.105282 91.210909 \r\nL 177.820775 56.794675 \r\nL 182.536268 77.091429 \r\nL 187.251761 65.619351 \r\nL 191.967254 46.205065 \r\nL 196.682746 64.736883 \r\nL 201.398239 73.561558 \r\nL 206.113732 61.207013 \r\nL 210.829225 214.756364 \r\nL 215.544718 214.756364 \r\nL 220.260211 214.756364 \r\nL 224.975704 214.756364 \r\nL 229.691197 26.790779 \r\nL 234.40669 43.557662 \r\nL 239.122183 40.027792 \r\nL 243.837676 39.145325 \r\nL 248.553169 32.968052 \r\nL 253.268662 138.864156 \r\nL 257.984155 129.157013 \r\nL 262.699648 128.274545 \r\nL 267.415141 69.149221 \r\nL 272.130634 107.095325 \r\nL 276.846127 94.740779 \r\nL 281.56162 102.682987 \r\nL 286.277113 77.973896 \r\nL 290.992606 114.155065 \r\nL 295.708099 214.756364 \r\nL 300.423592 214.756364 \r\nL 305.139085 214.756364 \r\nL 309.854577 214.756364 \r\nL 314.57007 214.756364 \r\nL 319.285563 214.756364 \r\nL 324.001056 214.756364 \r\nL 328.716549 214.756364 \r\nL 333.432042 214.756364 \r\nL 338.147535 214.756364 \r\nL 342.863028 214.756364 \r\nL 347.578521 214.756364 \r\nL 352.294014 214.756364 \r\nL 357.009507 214.756364 \r\nL 361.725 214.756364 \r\n\" style=\"fill:none;stroke:#1f77b4;stroke-linecap:square;stroke-width:1.5;\"/>\r\n   </g>\r\n   <g id=\"line2d_14\">\r\n    <path clip-path=\"url(#pff8543e8f4)\" d=\"M 26.925 86.188564 \r\nL 31.640493 107.49046 \r\nL 36.355986 106.506788 \r\nL 41.071479 107.032292 \r\nL 45.786972 118.883026 \r\nL 50.502465 116.756463 \r\nL 55.217958 110.081553 \r\nL 59.933451 110.551041 \r\nL 64.648944 91.775875 \r\nL 69.364437 91.200903 \r\nL 74.07993 63.476557 \r\nL 78.795423 66.387908 \r\nL 83.510915 91.019473 \r\nL 88.226408 69.339386 \r\nL 92.941901 72.145134 \r\nL 97.657394 93.606342 \r\nL 102.372887 109.231635 \r\nL 107.08838 103.641042 \r\nL 111.803873 95.587109 \r\nL 116.519366 84.593429 \r\nL 121.234859 63.131153 \r\nL 125.950352 28.365832 \r\nL 130.665845 46.568543 \r\nL 135.381338 80.590641 \r\nL 140.096831 107.805987 \r\nL 144.812324 122.076191 \r\nL 149.527817 102.779216 \r\nL 154.24331 107.690109 \r\nL 158.958803 100.806217 \r\nL 163.674296 125.088347 \r\nL 168.389789 103.986808 \r\nL 173.105282 83.937488 \r\nL 177.820775 75.429502 \r\nL 182.536268 80.197275 \r\nL 187.251761 52.378924 \r\nL 191.967254 76.597784 \r\nL 196.682746 83.446877 \r\nL 201.398239 78.50535 \r\nL 206.113732 97.21191 \r\nL 210.829225 130.243671 \r\nL 215.544718 126.790843 \r\nL 220.260211 114.513929 \r\nL 224.975704 116.997653 \r\nL 229.691197 77.133505 \r\nL 234.40669 84.457875 \r\nL 239.122183 47.236241 \r\nL 243.837676 71.153123 \r\nL 248.553169 58.799187 \r\nL 253.268662 119.978755 \r\nL 257.984155 100.596485 \r\nL 262.699648 118.36949 \r\nL 267.415141 118.031475 \r\nL 272.130634 114.925137 \r\nL 276.846127 101.126929 \r\nL 281.56162 83.611761 \r\nL 286.277113 84.902654 \r\nL 290.992606 80.635633 \r\nL 295.708099 82.374923 \r\nL 300.423592 87.726909 \r\nL 305.139085 85.973657 \r\nL 309.854577 102.618439 \r\nL 314.57007 96.844389 \r\nL 319.285563 104.500572 \r\nL 324.001056 128.651145 \r\nL 328.716549 120.093581 \r\nL 333.432042 131.36416 \r\nL 338.147535 127.043732 \r\nL 342.863028 106.889727 \r\nL 347.578521 117.939507 \r\nL 352.294014 93.031143 \r\nL 357.009507 91.642315 \r\nL 361.725 129.616008 \r\n\" style=\"fill:none;stroke:#ff7f0e;stroke-linecap:square;stroke-width:1.5;\"/>\r\n   </g>\r\n   <g id=\"patch_3\">\r\n    <path d=\"M 26.925 224.64 \r\nL 26.925 7.2 \r\n\" style=\"fill:none;stroke:#000000;stroke-linecap:square;stroke-linejoin:miter;stroke-width:0.8;\"/>\r\n   </g>\r\n   <g id=\"patch_4\">\r\n    <path d=\"M 361.725 224.64 \r\nL 361.725 7.2 \r\n\" style=\"fill:none;stroke:#000000;stroke-linecap:square;stroke-linejoin:miter;stroke-width:0.8;\"/>\r\n   </g>\r\n   <g id=\"patch_5\">\r\n    <path d=\"M 26.925 224.64 \r\nL 361.725 224.64 \r\n\" style=\"fill:none;stroke:#000000;stroke-linecap:square;stroke-linejoin:miter;stroke-width:0.8;\"/>\r\n   </g>\r\n   <g id=\"patch_6\">\r\n    <path d=\"M 26.925 7.2 \r\nL 361.725 7.2 \r\n\" style=\"fill:none;stroke:#000000;stroke-linecap:square;stroke-linejoin:miter;stroke-width:0.8;\"/>\r\n   </g>\r\n   <g id=\"legend_1\">\r\n    <g id=\"patch_7\">\r\n     <path d=\"M 292.164063 44.55625 \r\nL 354.725 44.55625 \r\nQ 356.725 44.55625 356.725 42.55625 \r\nL 356.725 14.2 \r\nQ 356.725 12.2 354.725 12.2 \r\nL 292.164063 12.2 \r\nQ 290.164063 12.2 290.164063 14.2 \r\nL 290.164063 42.55625 \r\nQ 290.164063 44.55625 292.164063 44.55625 \r\nz\r\n\" style=\"fill:#ffffff;opacity:0.8;stroke:#cccccc;stroke-linejoin:miter;\"/>\r\n    </g>\r\n    <g id=\"line2d_15\">\r\n     <path d=\"M 294.164063 20.298437 \r\nL 314.164063 20.298437 \r\n\" style=\"fill:none;stroke:#1f77b4;stroke-linecap:square;stroke-width:1.5;\"/>\r\n    </g>\r\n    <g id=\"line2d_16\"/>\r\n    <g id=\"text_12\">\r\n     <!-- PM2.5 -->\r\n     <g transform=\"translate(322.164063 23.798437)scale(0.1 -0.1)\">\r\n      <defs>\r\n       <path d=\"M 1259 4147 \r\nL 1259 2394 \r\nL 2053 2394 \r\nQ 2494 2394 2734 2622 \r\nQ 2975 2850 2975 3272 \r\nQ 2975 3691 2734 3919 \r\nQ 2494 4147 2053 4147 \r\nL 1259 4147 \r\nz\r\nM 628 4666 \r\nL 2053 4666 \r\nQ 2838 4666 3239 4311 \r\nQ 3641 3956 3641 3272 \r\nQ 3641 2581 3239 2228 \r\nQ 2838 1875 2053 1875 \r\nL 1259 1875 \r\nL 1259 0 \r\nL 628 0 \r\nL 628 4666 \r\nz\r\n\" id=\"DejaVuSans-50\" transform=\"scale(0.015625)\"/>\r\n       <path d=\"M 628 4666 \r\nL 1569 4666 \r\nL 2759 1491 \r\nL 3956 4666 \r\nL 4897 4666 \r\nL 4897 0 \r\nL 4281 0 \r\nL 4281 4097 \r\nL 3078 897 \r\nL 2444 897 \r\nL 1241 4097 \r\nL 1241 0 \r\nL 628 0 \r\nL 628 4666 \r\nz\r\n\" id=\"DejaVuSans-4d\" transform=\"scale(0.015625)\"/>\r\n       <path d=\"M 684 794 \r\nL 1344 794 \r\nL 1344 0 \r\nL 684 0 \r\nL 684 794 \r\nz\r\n\" id=\"DejaVuSans-2e\" transform=\"scale(0.015625)\"/>\r\n      </defs>\r\n      <use xlink:href=\"#DejaVuSans-50\"/>\r\n      <use x=\"60.302734\" xlink:href=\"#DejaVuSans-4d\"/>\r\n      <use x=\"146.582031\" xlink:href=\"#DejaVuSans-32\"/>\r\n      <use x=\"210.205078\" xlink:href=\"#DejaVuSans-2e\"/>\r\n      <use x=\"241.992188\" xlink:href=\"#DejaVuSans-35\"/>\r\n     </g>\r\n    </g>\r\n    <g id=\"line2d_17\">\r\n     <path d=\"M 294.164063 34.976562 \r\nL 314.164063 34.976562 \r\n\" style=\"fill:none;stroke:#ff7f0e;stroke-linecap:square;stroke-width:1.5;\"/>\r\n    </g>\r\n    <g id=\"line2d_18\"/>\r\n    <g id=\"text_13\">\r\n     <!-- pred -->\r\n     <g transform=\"translate(322.164063 38.476562)scale(0.1 -0.1)\">\r\n      <defs>\r\n       <path d=\"M 3597 1894 \r\nL 3597 1613 \r\nL 953 1613 \r\nQ 991 1019 1311 708 \r\nQ 1631 397 2203 397 \r\nQ 2534 397 2845 478 \r\nQ 3156 559 3463 722 \r\nL 3463 178 \r\nQ 3153 47 2828 -22 \r\nQ 2503 -91 2169 -91 \r\nQ 1331 -91 842 396 \r\nQ 353 884 353 1716 \r\nQ 353 2575 817 3079 \r\nQ 1281 3584 2069 3584 \r\nQ 2775 3584 3186 3129 \r\nQ 3597 2675 3597 1894 \r\nz\r\nM 3022 2063 \r\nQ 3016 2534 2758 2815 \r\nQ 2500 3097 2075 3097 \r\nQ 1594 3097 1305 2825 \r\nQ 1016 2553 972 2059 \r\nL 3022 2063 \r\nz\r\n\" id=\"DejaVuSans-65\" transform=\"scale(0.015625)\"/>\r\n       <path d=\"M 2906 2969 \r\nL 2906 4863 \r\nL 3481 4863 \r\nL 3481 0 \r\nL 2906 0 \r\nL 2906 525 \r\nQ 2725 213 2448 61 \r\nQ 2172 -91 1784 -91 \r\nQ 1150 -91 751 415 \r\nQ 353 922 353 1747 \r\nQ 353 2572 751 3078 \r\nQ 1150 3584 1784 3584 \r\nQ 2172 3584 2448 3432 \r\nQ 2725 3281 2906 2969 \r\nz\r\nM 947 1747 \r\nQ 947 1113 1208 752 \r\nQ 1469 391 1925 391 \r\nQ 2381 391 2643 752 \r\nQ 2906 1113 2906 1747 \r\nQ 2906 2381 2643 2742 \r\nQ 2381 3103 1925 3103 \r\nQ 1469 3103 1208 2742 \r\nQ 947 2381 947 1747 \r\nz\r\n\" id=\"DejaVuSans-64\" transform=\"scale(0.015625)\"/>\r\n      </defs>\r\n      <use xlink:href=\"#DejaVuSans-70\"/>\r\n      <use x=\"63.476562\" xlink:href=\"#DejaVuSans-72\"/>\r\n      <use x=\"102.339844\" xlink:href=\"#DejaVuSans-65\"/>\r\n      <use x=\"163.863281\" xlink:href=\"#DejaVuSans-64\"/>\r\n     </g>\r\n    </g>\r\n   </g>\r\n  </g>\r\n </g>\r\n <defs>\r\n  <clipPath id=\"pff8543e8f4\">\r\n   <rect height=\"217.44\" width=\"334.8\" x=\"26.925\" y=\"7.2\"/>\r\n  </clipPath>\r\n </defs>\r\n</svg>\r\n",
      "image/png": "[encoded data removed]"
     },
     "metadata": {
      "needs_background": "light"
     }
    }
   ],
   "source": [
    "i = 88\n",
    "print('province =',province)\n",
    "h = y_test_scalers[province].inverse_transform(pred[i].numpy().reshape((-1,1)))\n",
    "k = Y_test[province][i].copy()\n",
    "k['pred'] = h\n",
    "k.plot();"
   ]
  },
  {
   "source": [
    "## Save the model\n",
    "- `Bangkok`"
   ],
   "cell_type": "markdown",
   "metadata": {}
  },
  {
   "cell_type": "code",
   "execution_count": 28,
   "metadata": {},
   "outputs": [
    {
     "output_type": "stream",
     "name": "stdout",
     "text": [
      "Bangkok model is ready\n"
     ]
    }
   ],
   "source": [
    "if not os.path.exists(\"./Models/Bangkok.h5\"):\n",
    "    model.save(\"./Models/Bangkok.h5\")\n",
    "    print(\"Bangkok model : saved\")\n",
    "else: print(\"Bangkok model is ready\")"
   ]
  },
  {
   "cell_type": "code",
   "execution_count": 29,
   "metadata": {},
   "outputs": [
    {
     "output_type": "stream",
     "name": "stdout",
     "text": [
      "Chanthaburi model : saved\n"
     ]
    }
   ],
   "source": [
    "if not os.path.exists(\"./Models/Chanthaburi.h5\"):\n",
    "    model.save(\"./Models/Chanthaburi.h5\")\n",
    "    print(\"Chanthaburi model : saved\")\n",
    "else: print(\"Chanthaburi model is ready\")"
   ]
  },
  {
   "cell_type": "code",
   "execution_count": 43,
   "metadata": {},
   "outputs": [
    {
     "output_type": "stream",
     "name": "stdout",
     "text": [
      "Chiang Mai model : saved\n"
     ]
    }
   ],
   "source": [
    "if not os.path.exists(\"./Models/Chiang Mai.h5\"):\n",
    "    model.save(\"./Models/Chiang Mai.h5\")\n",
    "    print(\"Chiang Mai model : saved\")\n",
    "else: print(\"Chiang Mai model is ready\")"
   ]
  },
  {
   "cell_type": "code",
   "execution_count": 52,
   "metadata": {},
   "outputs": [
    {
     "output_type": "stream",
     "name": "stdout",
     "text": [
      "Kanchanaburi model : saved\n"
     ]
    }
   ],
   "source": [
    "if not os.path.exists(\"./Models/Kanchanaburi.h5\"):\n",
    "    model.save(\"./Models/Kanchanaburi.h5\")\n",
    "    print(\"Kanchanaburi model : saved\")\n",
    "else: print(\"Kanchanaburi model is ready\")"
   ]
  },
  {
   "cell_type": "code",
   "execution_count": 60,
   "metadata": {},
   "outputs": [
    {
     "output_type": "stream",
     "name": "stdout",
     "text": [
      "Songkhla model : saved\n"
     ]
    }
   ],
   "source": [
    "if not os.path.exists(\"./Models/Songkhla.h5\"):\n",
    "    model.save(\"./Models/Songkhla.h5\")\n",
    "    print(\"Songkhla model : saved\")\n",
    "else: print(\"Songkhla model is ready\")"
   ]
  },
  {
   "cell_type": "code",
   "execution_count": 52,
   "metadata": {},
   "outputs": [
    {
     "output_type": "execute_result",
     "data": {
      "text/plain": [
       "1454.0"
      ]
     },
     "metadata": {},
     "execution_count": 52
    }
   ],
   "source": [
    "628128/6/72"
   ]
  },
  {
   "cell_type": "code",
   "execution_count": 19,
   "metadata": {},
   "outputs": [
    {
     "output_type": "stream",
     "name": "stdout",
     "text": [
      "46/46 [==============================] - 1s 10ms/step - loss: 0.0049\n"
     ]
    },
    {
     "output_type": "execute_result",
     "data": {
      "text/plain": [
       "0.004932745825499296"
      ]
     },
     "metadata": {},
     "execution_count": 19
    }
   ],
   "source": [
    "from tensorflow.keras.models import load_model\n",
    "p = load_model('./Models/Bangkok.h5')\n",
    "p.evaluate(x_feed, y_feed)"
   ]
  },
  {
   "cell_type": "code",
   "execution_count": null,
   "metadata": {},
   "outputs": [],
   "source": []
  }
 ]
}