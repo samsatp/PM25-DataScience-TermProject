{
 "metadata": {
  "language_info": {
   "codemirror_mode": {
    "name": "ipython",
    "version": 3
   },
   "file_extension": ".py",
   "mimetype": "text/x-python",
   "name": "python",
   "nbconvert_exporter": "python",
   "pygments_lexer": "ipython3",
   "version": "3.9.1"
  },
  "orig_nbformat": 2,
  "kernelspec": {
   "name": "python391jvsc74a57bd031605234de10b43ea767264d17dfb0196cf2b9da7012776efe0be49341337db4",
   "display_name": "Python 3.9.1 64-bit"
  }
 },
 "nbformat": 4,
 "nbformat_minor": 2,
 "cells": [
  {
   "cell_type": "code",
   "execution_count": 1,
   "metadata": {},
   "outputs": [
    {
     "output_type": "stream",
     "name": "stdout",
     "text": [
      "INFO:tensorflow:Enabling eager execution\n",
      "INFO:tensorflow:Enabling v2 tensorshape\n",
      "INFO:tensorflow:Enabling resource variables\n",
      "INFO:tensorflow:Enabling tensor equality\n",
      "INFO:tensorflow:Enabling control flow v2\n"
     ]
    },
    {
     "output_type": "execute_result",
     "data": {
      "text/plain": [
       "'2.5.0-rc1'"
      ]
     },
     "metadata": {},
     "execution_count": 1
    }
   ],
   "source": [
    "from util_input_output_model import *\n",
    "from collections import defaultdict\n",
    "from datetime import timedelta\n",
    "import tensorflow as tf\n",
    "import numpy as np\n",
    "import pandas as pd\n",
    "import time\n",
    "provinces = ['Bangkok','Chanthaburi','Chiang Mai','Kanchanaburi','Songkhla','Khon Kaen']\n",
    "\n",
    "features = ['PM2.5','WindDir','Wind Speed(km/h)','Temp(C)',\n",
    "            'Cambodia_frp','Myanmar_frp','Thailand_frp','Lao_PDR_frp']\n",
    "tf.__version__"
   ]
  },
  {
   "source": [
    "# 1) Preparing data"
   ],
   "cell_type": "markdown",
   "metadata": {}
  },
  {
   "cell_type": "code",
   "execution_count": 2,
   "metadata": {},
   "outputs": [
    {
     "output_type": "stream",
     "name": "stdout",
     "text": [
      "timesteps = 360\n"
     ]
    }
   ],
   "source": [
    "timesteps = 360\n",
    "print(f'timesteps = {timesteps}')"
   ]
  },
  {
   "cell_type": "code",
   "execution_count": 3,
   "metadata": {},
   "outputs": [],
   "source": [
    "feature_used = features\n",
    "Train_data, X_train, Y_train = prepare_train_data(timesteps, feature_used = feature_used)"
   ]
  },
  {
   "cell_type": "code",
   "execution_count": 8,
   "metadata": {},
   "outputs": [],
   "source": [
    "def prepare_new_test(Train_data, timesteps, feature_used:list):\n",
    "    path = \"../new test/\"\n",
    "    data = {}\n",
    "\n",
    "    hour_step = timedelta(hours= timesteps-1)\n",
    "    X = defaultdict(lambda: list())\n",
    "    Y = defaultdict(lambda: list())\n",
    "\n",
    "    for province in provinces:\n",
    "        \n",
    "        testdf = pd.read_csv(path+f'{province}_new_test.csv', index_col=0, parse_dates=True)[feature_used]\n",
    "        data[province] = testdf\n",
    "        \n",
    "        idx = testdf.iloc[:-72].index\n",
    "        predict_at = idx[idx.hour.isin([6,12,18,0])]\n",
    "        \n",
    "        df = Train_data[province].append(testdf)\n",
    "\n",
    "        for base in predict_at:\n",
    "            \n",
    "            i = list(df.index).index(base)\n",
    "\n",
    "            ## X\n",
    "            x = df.iloc[i-timesteps+1:i+1]\n",
    "            \n",
    "            ## Y\n",
    "            y = df.iloc[i+1:i+73, [0]]\n",
    "\n",
    "            X[province].append(x)\n",
    "            Y[province].append(y)\n",
    "        print(f\"{province} done\")\n",
    "\n",
    "    return data, X, Y"
   ]
  },
  {
   "cell_type": "code",
   "execution_count": 9,
   "metadata": {},
   "outputs": [
    {
     "output_type": "stream",
     "name": "stdout",
     "text": [
      "Bangkok done\n",
      "Chanthaburi done\n",
      "Chiang Mai done\n",
      "Kanchanaburi done\n",
      "Songkhla done\n",
      "Khon Kaen done\n"
     ]
    }
   ],
   "source": [
    "Test_data, X_test, Y_test = prepare_new_test(Train_data, timesteps, feature_used = feature_used)"
   ]
  },
  {
   "source": [
    "## 1.1) Example data"
   ],
   "cell_type": "markdown",
   "metadata": {}
  },
  {
   "cell_type": "code",
   "execution_count": 16,
   "metadata": {},
   "outputs": [
    {
     "output_type": "execute_result",
     "data": {
      "text/plain": [
       "                     PM2.5  WindDir  Wind Speed(km/h)  Temp(C)  Cambodia_frp  \\\n",
       "2016-03-03 08:00:00   62.9     75.0              13.0     31.4      0.000000   \n",
       "2016-03-03 09:00:00   62.9     75.0              13.0     31.4      0.000000   \n",
       "2016-03-03 10:00:00   55.5     75.0              13.0     31.4      0.000000   \n",
       "2016-03-03 11:00:00   55.5     75.0              13.0     31.4      0.000000   \n",
       "2016-03-03 12:00:00   47.9     75.0              13.0     31.4      8.984035   \n",
       "...                    ...      ...               ...      ...           ...   \n",
       "2019-03-17 19:00:00   42.2     70.0              17.0     31.3      0.000000   \n",
       "2019-03-17 20:00:00   41.2     70.0              17.0     31.3      0.000000   \n",
       "2019-03-17 21:00:00   37.7     70.0              17.0     31.3      0.000000   \n",
       "2019-03-17 22:00:00   39.0     85.0              19.0     30.2      0.000000   \n",
       "2019-03-17 23:00:00   38.9     85.0              19.0     30.2      0.000000   \n",
       "\n",
       "                     Myanmar_frp  Thailand_frp  Lao_PDR_frp  \n",
       "2016-03-03 08:00:00      0.00000       0.00000     0.000000  \n",
       "2016-03-03 09:00:00      0.00000       0.00000     0.000000  \n",
       "2016-03-03 10:00:00      0.00000       0.00000     0.000000  \n",
       "2016-03-03 11:00:00      0.00000       0.00000     0.000000  \n",
       "2016-03-03 12:00:00      9.31925       6.58053     7.991304  \n",
       "...                          ...           ...          ...  \n",
       "2019-03-17 19:00:00      0.00000       0.00000     0.000000  \n",
       "2019-03-17 20:00:00      0.00000       0.00000     0.000000  \n",
       "2019-03-17 21:00:00      0.00000       0.00000     0.000000  \n",
       "2019-03-17 22:00:00      0.00000       0.00000     0.000000  \n",
       "2019-03-17 23:00:00      0.00000       0.00000     0.000000  \n",
       "\n",
       "[26632 rows x 8 columns]"
      ],
      "text/html": "<div>\n<style scoped>\n    .dataframe tbody tr th:only-of-type {\n        vertical-align: middle;\n    }\n\n    .dataframe tbody tr th {\n        vertical-align: top;\n    }\n\n    .dataframe thead th {\n        text-align: right;\n    }\n</style>\n<table border=\"1\" class=\"dataframe\">\n  <thead>\n    <tr style=\"text-align: right;\">\n      <th></th>\n      <th>PM2.5</th>\n      <th>WindDir</th>\n      <th>Wind Speed(km/h)</th>\n      <th>Temp(C)</th>\n      <th>Cambodia_frp</th>\n      <th>Myanmar_frp</th>\n      <th>Thailand_frp</th>\n      <th>Lao_PDR_frp</th>\n    </tr>\n  </thead>\n  <tbody>\n    <tr>\n      <th>2016-03-03 08:00:00</th>\n      <td>62.9</td>\n      <td>75.0</td>\n      <td>13.0</td>\n      <td>31.4</td>\n      <td>0.000000</td>\n      <td>0.00000</td>\n      <td>0.00000</td>\n      <td>0.000000</td>\n    </tr>\n    <tr>\n      <th>2016-03-03 09:00:00</th>\n      <td>62.9</td>\n      <td>75.0</td>\n      <td>13.0</td>\n      <td>31.4</td>\n      <td>0.000000</td>\n      <td>0.00000</td>\n      <td>0.00000</td>\n      <td>0.000000</td>\n    </tr>\n    <tr>\n      <th>2016-03-03 10:00:00</th>\n      <td>55.5</td>\n      <td>75.0</td>\n      <td>13.0</td>\n      <td>31.4</td>\n      <td>0.000000</td>\n      <td>0.00000</td>\n      <td>0.00000</td>\n      <td>0.000000</td>\n    </tr>\n    <tr>\n      <th>2016-03-03 11:00:00</th>\n      <td>55.5</td>\n      <td>75.0</td>\n      <td>13.0</td>\n      <td>31.4</td>\n      <td>0.000000</td>\n      <td>0.00000</td>\n      <td>0.00000</td>\n      <td>0.000000</td>\n    </tr>\n    <tr>\n      <th>2016-03-03 12:00:00</th>\n      <td>47.9</td>\n      <td>75.0</td>\n      <td>13.0</td>\n      <td>31.4</td>\n      <td>8.984035</td>\n      <td>9.31925</td>\n      <td>6.58053</td>\n      <td>7.991304</td>\n    </tr>\n    <tr>\n      <th>...</th>\n      <td>...</td>\n      <td>...</td>\n      <td>...</td>\n      <td>...</td>\n      <td>...</td>\n      <td>...</td>\n      <td>...</td>\n      <td>...</td>\n    </tr>\n    <tr>\n      <th>2019-03-17 19:00:00</th>\n      <td>42.2</td>\n      <td>70.0</td>\n      <td>17.0</td>\n      <td>31.3</td>\n      <td>0.000000</td>\n      <td>0.00000</td>\n      <td>0.00000</td>\n      <td>0.000000</td>\n    </tr>\n    <tr>\n      <th>2019-03-17 20:00:00</th>\n      <td>41.2</td>\n      <td>70.0</td>\n      <td>17.0</td>\n      <td>31.3</td>\n      <td>0.000000</td>\n      <td>0.00000</td>\n      <td>0.00000</td>\n      <td>0.000000</td>\n    </tr>\n    <tr>\n      <th>2019-03-17 21:00:00</th>\n      <td>37.7</td>\n      <td>70.0</td>\n      <td>17.0</td>\n      <td>31.3</td>\n      <td>0.000000</td>\n      <td>0.00000</td>\n      <td>0.00000</td>\n      <td>0.000000</td>\n    </tr>\n    <tr>\n      <th>2019-03-17 22:00:00</th>\n      <td>39.0</td>\n      <td>85.0</td>\n      <td>19.0</td>\n      <td>30.2</td>\n      <td>0.000000</td>\n      <td>0.00000</td>\n      <td>0.00000</td>\n      <td>0.000000</td>\n    </tr>\n    <tr>\n      <th>2019-03-17 23:00:00</th>\n      <td>38.9</td>\n      <td>85.0</td>\n      <td>19.0</td>\n      <td>30.2</td>\n      <td>0.000000</td>\n      <td>0.00000</td>\n      <td>0.00000</td>\n      <td>0.000000</td>\n    </tr>\n  </tbody>\n</table>\n<p>26632 rows × 8 columns</p>\n</div>"
     },
     "metadata": {},
     "execution_count": 16
    }
   ],
   "source": [
    "Train_data['Bangkok']"
   ]
  },
  {
   "source": [
    "# 2) Standardize the data\n"
   ],
   "cell_type": "markdown",
   "metadata": {}
  },
  {
   "cell_type": "code",
   "execution_count": 10,
   "metadata": {},
   "outputs": [],
   "source": [
    "# Scale train set\n",
    "x_train_scalers, y_train_scalers, X_train_scaled, Y_train_scaled = scale_data(X_train, Y_train,Train_data)"
   ]
  },
  {
   "cell_type": "code",
   "execution_count": 11,
   "metadata": {},
   "outputs": [
    {
     "output_type": "stream",
     "name": "stdout",
     "text": [
      "Bangkok\n",
      "Chanthaburi\n",
      "Chiang Mai\n",
      "Kanchanaburi\n",
      "Songkhla\n",
      "Khon Kaen\n"
     ]
    }
   ],
   "source": [
    "# Scale test set\n",
    "X_test_scaled = defaultdict(lambda: [])\n",
    "Y_test_scaled = defaultdict(lambda: [])\n",
    "\n",
    "for p in provinces:\n",
    "    print(p)\n",
    "    for e in X_test[p]:\n",
    "        X_test_scaled[p].append(x_train_scalers[p].transform(e))\n",
    "    for e in Y_test[p]:\n",
    "        Y_test_scaled[p].append(y_train_scalers[p].transform(e))"
   ]
  },
  {
   "source": [
    "# 3) Reshaping"
   ],
   "cell_type": "markdown",
   "metadata": {}
  },
  {
   "cell_type": "code",
   "execution_count": 12,
   "metadata": {},
   "outputs": [
    {
     "output_type": "stream",
     "name": "stdout",
     "text": [
      "Bangkok\n",
      "X Train: (4366, 360, 8)\n",
      "Y Train: (4366, 72)\n",
      "X Test: (1112, 360, 8)\n",
      "Y Test: (1112, 72)\n",
      "\n",
      "Chanthaburi\n",
      "X Train: (4366, 360, 8)\n",
      "Y Train: (4366, 72)\n",
      "X Test: (1112, 360, 8)\n",
      "Y Test: (1112, 72)\n",
      "\n",
      "Chiang Mai\n",
      "X Train: (4366, 360, 8)\n",
      "Y Train: (4366, 72)\n",
      "X Test: (1112, 360, 8)\n",
      "Y Test: (1112, 72)\n",
      "\n",
      "Kanchanaburi\n",
      "X Train: (4366, 360, 8)\n",
      "Y Train: (4366, 72)\n",
      "X Test: (1112, 360, 8)\n",
      "Y Test: (1112, 72)\n",
      "\n",
      "Songkhla\n",
      "X Train: (4366, 360, 8)\n",
      "Y Train: (4366, 72)\n",
      "X Test: (1127, 360, 8)\n",
      "Y Test: (1127, 72)\n",
      "\n",
      "Khon Kaen\n",
      "X Train: (1936, 360, 8)\n",
      "Y Train: (1936, 72)\n",
      "X Test: (1110, 360, 8)\n",
      "Y Test: (1110, 72)\n",
      "\n"
     ]
    }
   ],
   "source": [
    "x_, y_ = {}, {}\n",
    "\n",
    "for p in provinces:\n",
    "    x_[p] = {\"Train\": np.array(X_train_scaled[p]),\n",
    "             \"Test\": np.array(X_test_scaled[p])}\n",
    "    \n",
    "    y_[p] = {\"Train\": np.array(Y_train_scaled[p]).squeeze(axis=2),\n",
    "             \"Test\": np.array(Y_test_scaled[p]).squeeze(axis=2)}\n",
    "\n",
    "    print(p)\n",
    "    print(f'X Train: {x_[p][\"Train\"].shape}')\n",
    "    print(f'Y Train: {y_[p][\"Train\"].shape}')\n",
    "    print(f'X Test: {x_[p][\"Test\"].shape}')\n",
    "    print(f'Y Test: {y_[p][\"Test\"].shape}\\n')"
   ]
  },
  {
   "source": [
    "# 4) Load the model\n",
    "- **Bangkok** : `Models\\Bangkok_run_2021_04_30-14_43_39.h5` (8.38)\n",
    "    - all features\n",
    "    - 360 timesteps\n",
    "- **Chanthaburi** : `./Models/Chanthaburi_run_2021_04_26-10_42_58_final_26Apr1155.h5` (6.00) \n",
    "    - all features\n",
    "   - 360 timesteps\n",
    "- **Songkhla** : `./Models/Songkhla_run_2021_04_25-22_41_22.h5` (6.13)\n",
    "    - all features\n",
    "    - 360 timesteps \n",
    "- **Kanchanaburi** : `Models\\Kanchanaburi_run_2021_04_30-16_22_11.h5` (10.24)\n",
    "    - all features\n",
    "    - 360 timesteps\n",
    "- **Khon Kaen** : `./Models/Khon Kaen_run_2021_04_27-16_20_46_kind_of_final.h5` (11.24)\n",
    "    - all features\n",
    "    - 360 timesteps\n",
    "- **Chiang Mai** : `Models\\Chiang Mai_run_2021_04_30-15_37_01.h5` (11.02)\n",
    "    - all features\n",
    "    - 360 timesteps"
   ],
   "cell_type": "markdown",
   "metadata": {}
  },
  {
   "source": [
    "# 5) Submission"
   ],
   "cell_type": "markdown",
   "metadata": {}
  },
  {
   "cell_type": "code",
   "execution_count": 27,
   "metadata": {},
   "outputs": [
    {
     "output_type": "stream",
     "name": "stdout",
     "text": [
      "Chanthaburi done\n",
      "Chiang Mai done\n",
      "Kanchanaburi done\n",
      "Bangkok done\n",
      "Khon Kaen done\n",
      "Songkhla done\n"
     ]
    }
   ],
   "source": [
    "models = {\n",
    "    'Bangkok':'Models\\Bangkok_run_2021_04_30-14_43_39.h5',\n",
    "    'Chanthaburi':'./Models/Chanthaburi_run_2021_04_26-10_42_58_final_26Apr1155.h5',\n",
    "    'Songkhla':'./Models/Songkhla_run_2021_04_25-22_41_22.h5',\n",
    "    'Kanchanaburi':'Models\\Kanchanaburi_run_2021_04_30-16_22_11.h5',\n",
    "    'Khon Kaen':'./Models/Khon Kaen_run_2021_04_27-16_20_46_kind_of_final.h5',\n",
    "    'Chiang Mai':'Models\\Chiang Mai_run_2021_04_30-15_37_01.h5'}\n",
    "grand = []\n",
    "for province in [\"Chanthaburi\",\"Chiang Mai\",\"Kanchanaburi\",\"Bangkok\",\"Khon Kaen\",\"Songkhla\"]:\n",
    "\n",
    "    # Load the trained model\n",
    "    model = tf.keras.models.load_model(models[province])\n",
    "\n",
    "    # Load Test data\n",
    "    x_eval = x_[province]['Test']\n",
    "\n",
    "    # Predict Test data\n",
    "    pred = model(x_eval)\n",
    "\n",
    "    # Store predictions in array\n",
    "    prediction_1D = []\n",
    "    for e in pred:\n",
    "        prediction_1D.append(y_train_scalers[province].inverse_transform(e.numpy().reshape((-1,1))))\n",
    "\n",
    "    prediction_1D = np.array(prediction_1D).reshape((-1,1))\n",
    "    province_prediction = pd.DataFrame({'Predicted':prediction_1D.ravel()})\n",
    "\n",
    "    grand.append(province_prediction)\n",
    "    print(f\"{province} done\")"
   ]
  },
  {
   "cell_type": "code",
   "execution_count": 30,
   "metadata": {},
   "outputs": [
    {
     "output_type": "execute_result",
     "data": {
      "text/plain": [
       "        Predicted\n",
       "0       27.177496\n",
       "1       28.232582\n",
       "2       28.580084\n",
       "3       28.684645\n",
       "4       27.955214\n",
       "...           ...\n",
       "481315  13.528379\n",
       "481316  13.611746\n",
       "481317  14.315307\n",
       "481318  13.587895\n",
       "481319  13.652362\n",
       "\n",
       "[481320 rows x 1 columns]"
      ],
      "text/html": "<div>\n<style scoped>\n    .dataframe tbody tr th:only-of-type {\n        vertical-align: middle;\n    }\n\n    .dataframe tbody tr th {\n        vertical-align: top;\n    }\n\n    .dataframe thead th {\n        text-align: right;\n    }\n</style>\n<table border=\"1\" class=\"dataframe\">\n  <thead>\n    <tr style=\"text-align: right;\">\n      <th></th>\n      <th>Predicted</th>\n    </tr>\n  </thead>\n  <tbody>\n    <tr>\n      <th>0</th>\n      <td>27.177496</td>\n    </tr>\n    <tr>\n      <th>1</th>\n      <td>28.232582</td>\n    </tr>\n    <tr>\n      <th>2</th>\n      <td>28.580084</td>\n    </tr>\n    <tr>\n      <th>3</th>\n      <td>28.684645</td>\n    </tr>\n    <tr>\n      <th>4</th>\n      <td>27.955214</td>\n    </tr>\n    <tr>\n      <th>...</th>\n      <td>...</td>\n    </tr>\n    <tr>\n      <th>481315</th>\n      <td>13.528379</td>\n    </tr>\n    <tr>\n      <th>481316</th>\n      <td>13.611746</td>\n    </tr>\n    <tr>\n      <th>481317</th>\n      <td>14.315307</td>\n    </tr>\n    <tr>\n      <th>481318</th>\n      <td>13.587895</td>\n    </tr>\n    <tr>\n      <th>481319</th>\n      <td>13.652362</td>\n    </tr>\n  </tbody>\n</table>\n<p>481320 rows × 1 columns</p>\n</div>"
     },
     "metadata": {},
     "execution_count": 30
    }
   ],
   "source": [
    "# This is what the prediction look like\n",
    "pd.concat(grand, ignore_index=True)"
   ]
  },
  {
   "cell_type": "code",
   "execution_count": 31,
   "metadata": {},
   "outputs": [],
   "source": [
    "# Save the result\n",
    "submit = pd.concat(grand, ignore_index=True).rename_axis('Id') #.to_csv(\"./predictions/sub3.csv\")"
   ]
  },
  {
   "source": [
    "## 5.1) make_submission\n",
    "ในส่วนนี้คัดลอกมาจากไฟล์ `make_submission.ipynb` ที่พี่ TA ให้ใหม่หลังจากแก้ submission ใน Kaggle"
   ],
   "cell_type": "markdown",
   "metadata": {}
  },
  {
   "cell_type": "code",
   "execution_count": 32,
   "metadata": {},
   "outputs": [],
   "source": [
    "miss_index = pd.read_csv('./predictions/missing_index.csv')\n",
    "prediction_index = pd.read_csv('./predictions/output_index.csv')"
   ]
  },
  {
   "cell_type": "code",
   "execution_count": 33,
   "metadata": {},
   "outputs": [
    {
     "output_type": "execute_result",
     "data": {
      "text/plain": [
       "        Predicted                   datetime index\n",
       "Id                                                \n",
       "0       27.177496  Chanthaburi 2019-03-18 13:00:00\n",
       "1       28.232582  Chanthaburi 2019-03-18 14:00:00\n",
       "2       28.580084  Chanthaburi 2019-03-18 15:00:00\n",
       "3       28.684645  Chanthaburi 2019-03-18 16:00:00\n",
       "4       27.955214  Chanthaburi 2019-03-18 17:00:00\n",
       "...           ...                              ...\n",
       "481315  13.528379     Songkhla 2020-03-18 14:00:00\n",
       "481316  13.611746     Songkhla 2020-03-18 15:00:00\n",
       "481317  14.315307     Songkhla 2020-03-18 16:00:00\n",
       "481318  13.587895     Songkhla 2020-03-18 17:00:00\n",
       "481319  13.652362     Songkhla 2020-03-18 18:00:00\n",
       "\n",
       "[481320 rows x 2 columns]"
      ],
      "text/html": "<div>\n<style scoped>\n    .dataframe tbody tr th:only-of-type {\n        vertical-align: middle;\n    }\n\n    .dataframe tbody tr th {\n        vertical-align: top;\n    }\n\n    .dataframe thead th {\n        text-align: right;\n    }\n</style>\n<table border=\"1\" class=\"dataframe\">\n  <thead>\n    <tr style=\"text-align: right;\">\n      <th></th>\n      <th>Predicted</th>\n      <th>datetime index</th>\n    </tr>\n    <tr>\n      <th>Id</th>\n      <th></th>\n      <th></th>\n    </tr>\n  </thead>\n  <tbody>\n    <tr>\n      <th>0</th>\n      <td>27.177496</td>\n      <td>Chanthaburi 2019-03-18 13:00:00</td>\n    </tr>\n    <tr>\n      <th>1</th>\n      <td>28.232582</td>\n      <td>Chanthaburi 2019-03-18 14:00:00</td>\n    </tr>\n    <tr>\n      <th>2</th>\n      <td>28.580084</td>\n      <td>Chanthaburi 2019-03-18 15:00:00</td>\n    </tr>\n    <tr>\n      <th>3</th>\n      <td>28.684645</td>\n      <td>Chanthaburi 2019-03-18 16:00:00</td>\n    </tr>\n    <tr>\n      <th>4</th>\n      <td>27.955214</td>\n      <td>Chanthaburi 2019-03-18 17:00:00</td>\n    </tr>\n    <tr>\n      <th>...</th>\n      <td>...</td>\n      <td>...</td>\n    </tr>\n    <tr>\n      <th>481315</th>\n      <td>13.528379</td>\n      <td>Songkhla 2020-03-18 14:00:00</td>\n    </tr>\n    <tr>\n      <th>481316</th>\n      <td>13.611746</td>\n      <td>Songkhla 2020-03-18 15:00:00</td>\n    </tr>\n    <tr>\n      <th>481317</th>\n      <td>14.315307</td>\n      <td>Songkhla 2020-03-18 16:00:00</td>\n    </tr>\n    <tr>\n      <th>481318</th>\n      <td>13.587895</td>\n      <td>Songkhla 2020-03-18 17:00:00</td>\n    </tr>\n    <tr>\n      <th>481319</th>\n      <td>13.652362</td>\n      <td>Songkhla 2020-03-18 18:00:00</td>\n    </tr>\n  </tbody>\n</table>\n<p>481320 rows × 2 columns</p>\n</div>"
     },
     "metadata": {},
     "execution_count": 33
    }
   ],
   "source": [
    "submit['datetime index'] = prediction_index['predicted timestamp']\n",
    "submit[['Predicted','datetime index']]"
   ]
  },
  {
   "cell_type": "code",
   "execution_count": 35,
   "metadata": {},
   "outputs": [],
   "source": [
    "cond = submit['datetime index'].isin(miss_index['Missing date'])\n",
    "submit.drop(submit[cond].index, inplace = True)"
   ]
  },
  {
   "cell_type": "code",
   "execution_count": 36,
   "metadata": {},
   "outputs": [
    {
     "output_type": "execute_result",
     "data": {
      "text/plain": [
       "        Predicted                   datetime index\n",
       "0       27.177496  Chanthaburi 2019-03-18 13:00:00\n",
       "1       28.232582  Chanthaburi 2019-03-18 14:00:00\n",
       "2       28.580084  Chanthaburi 2019-03-18 15:00:00\n",
       "3       28.684645  Chanthaburi 2019-03-18 16:00:00\n",
       "4       27.955214  Chanthaburi 2019-03-18 17:00:00\n",
       "...           ...                              ...\n",
       "448549  13.528379     Songkhla 2020-03-18 14:00:00\n",
       "448550  13.611746     Songkhla 2020-03-18 15:00:00\n",
       "448551  14.315307     Songkhla 2020-03-18 16:00:00\n",
       "448552  13.587895     Songkhla 2020-03-18 17:00:00\n",
       "448553  13.652362     Songkhla 2020-03-18 18:00:00\n",
       "\n",
       "[448554 rows x 2 columns]"
      ],
      "text/html": "<div>\n<style scoped>\n    .dataframe tbody tr th:only-of-type {\n        vertical-align: middle;\n    }\n\n    .dataframe tbody tr th {\n        vertical-align: top;\n    }\n\n    .dataframe thead th {\n        text-align: right;\n    }\n</style>\n<table border=\"1\" class=\"dataframe\">\n  <thead>\n    <tr style=\"text-align: right;\">\n      <th></th>\n      <th>Predicted</th>\n      <th>datetime index</th>\n    </tr>\n  </thead>\n  <tbody>\n    <tr>\n      <th>0</th>\n      <td>27.177496</td>\n      <td>Chanthaburi 2019-03-18 13:00:00</td>\n    </tr>\n    <tr>\n      <th>1</th>\n      <td>28.232582</td>\n      <td>Chanthaburi 2019-03-18 14:00:00</td>\n    </tr>\n    <tr>\n      <th>2</th>\n      <td>28.580084</td>\n      <td>Chanthaburi 2019-03-18 15:00:00</td>\n    </tr>\n    <tr>\n      <th>3</th>\n      <td>28.684645</td>\n      <td>Chanthaburi 2019-03-18 16:00:00</td>\n    </tr>\n    <tr>\n      <th>4</th>\n      <td>27.955214</td>\n      <td>Chanthaburi 2019-03-18 17:00:00</td>\n    </tr>\n    <tr>\n      <th>...</th>\n      <td>...</td>\n      <td>...</td>\n    </tr>\n    <tr>\n      <th>448549</th>\n      <td>13.528379</td>\n      <td>Songkhla 2020-03-18 14:00:00</td>\n    </tr>\n    <tr>\n      <th>448550</th>\n      <td>13.611746</td>\n      <td>Songkhla 2020-03-18 15:00:00</td>\n    </tr>\n    <tr>\n      <th>448551</th>\n      <td>14.315307</td>\n      <td>Songkhla 2020-03-18 16:00:00</td>\n    </tr>\n    <tr>\n      <th>448552</th>\n      <td>13.587895</td>\n      <td>Songkhla 2020-03-18 17:00:00</td>\n    </tr>\n    <tr>\n      <th>448553</th>\n      <td>13.652362</td>\n      <td>Songkhla 2020-03-18 18:00:00</td>\n    </tr>\n  </tbody>\n</table>\n<p>448554 rows × 2 columns</p>\n</div>"
     },
     "metadata": {},
     "execution_count": 36
    }
   ],
   "source": [
    "submit.reset_index(inplace=True)\n",
    "submit.drop(columns={'Id'},inplace=True)\n",
    "submit"
   ]
  },
  {
   "cell_type": "code",
   "execution_count": 37,
   "metadata": {},
   "outputs": [],
   "source": [
    "submit['id'] = submit.index\n",
    "submit = submit[['Predicted','id']]"
   ]
  },
  {
   "cell_type": "code",
   "execution_count": 38,
   "metadata": {},
   "outputs": [
    {
     "output_type": "execute_result",
     "data": {
      "text/plain": [
       "        Predicted\n",
       "id               \n",
       "0       27.177496\n",
       "1       28.232582\n",
       "2       28.580084\n",
       "3       28.684645\n",
       "4       27.955214\n",
       "...           ...\n",
       "448549  13.528379\n",
       "448550  13.611746\n",
       "448551  14.315307\n",
       "448552  13.587895\n",
       "448553  13.652362\n",
       "\n",
       "[448554 rows x 1 columns]"
      ],
      "text/html": "<div>\n<style scoped>\n    .dataframe tbody tr th:only-of-type {\n        vertical-align: middle;\n    }\n\n    .dataframe tbody tr th {\n        vertical-align: top;\n    }\n\n    .dataframe thead th {\n        text-align: right;\n    }\n</style>\n<table border=\"1\" class=\"dataframe\">\n  <thead>\n    <tr style=\"text-align: right;\">\n      <th></th>\n      <th>Predicted</th>\n    </tr>\n    <tr>\n      <th>id</th>\n      <th></th>\n    </tr>\n  </thead>\n  <tbody>\n    <tr>\n      <th>0</th>\n      <td>27.177496</td>\n    </tr>\n    <tr>\n      <th>1</th>\n      <td>28.232582</td>\n    </tr>\n    <tr>\n      <th>2</th>\n      <td>28.580084</td>\n    </tr>\n    <tr>\n      <th>3</th>\n      <td>28.684645</td>\n    </tr>\n    <tr>\n      <th>4</th>\n      <td>27.955214</td>\n    </tr>\n    <tr>\n      <th>...</th>\n      <td>...</td>\n    </tr>\n    <tr>\n      <th>448549</th>\n      <td>13.528379</td>\n    </tr>\n    <tr>\n      <th>448550</th>\n      <td>13.611746</td>\n    </tr>\n    <tr>\n      <th>448551</th>\n      <td>14.315307</td>\n    </tr>\n    <tr>\n      <th>448552</th>\n      <td>13.587895</td>\n    </tr>\n    <tr>\n      <th>448553</th>\n      <td>13.652362</td>\n    </tr>\n  </tbody>\n</table>\n<p>448554 rows × 1 columns</p>\n</div>"
     },
     "metadata": {},
     "execution_count": 38
    }
   ],
   "source": [
    "submit.set_index('id',inplace=True)\n",
    "submit"
   ]
  },
  {
   "cell_type": "code",
   "execution_count": 45,
   "metadata": {},
   "outputs": [],
   "source": [
    "import time\n",
    "time_now = time.strftime(\"%Y_%b_%d-%H_%M_%S\")\n",
    "submit.to_csv(f'./predictions/submission_{time_now}.csv')"
   ]
  },
  {
   "cell_type": "code",
   "execution_count": null,
   "metadata": {},
   "outputs": [],
   "source": []
  }
 ]
}