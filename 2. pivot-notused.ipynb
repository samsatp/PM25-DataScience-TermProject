{
 "metadata": {
  "language_info": {
   "codemirror_mode": {
    "name": "ipython",
    "version": 3
   },
   "file_extension": ".py",
   "mimetype": "text/x-python",
   "name": "python",
   "nbconvert_exporter": "python",
   "pygments_lexer": "ipython3",
   "version": "3.9.1-final"
  },
  "orig_nbformat": 2,
  "kernelspec": {
   "name": "python391jvsc74a57bd031605234de10b43ea767264d17dfb0196cf2b9da7012776efe0be49341337db4",
   "display_name": "Python 3.9.1 64-bit ('jupyterlab2.26': conda)"
  },
  "metadata": {
   "interpreter": {
    "hash": "a9c2c22397b07014c1cd4f0e704763f14b6d6b76ade59c4da849259a43dd80ef"
   }
  }
 },
 "nbformat": 4,
 "nbformat_minor": 2,
 "cells": [
  {
   "cell_type": "code",
   "execution_count": 1,
   "metadata": {},
   "outputs": [],
   "source": [
    "import pandas as pd\n",
    "import os\n",
    "\n",
    "# IMPORT ALL .CSV\n",
    "provinces = ['Bangkok','Chanthaburi','Chiang Mai','Kanchanaburi','Khon Kaen','Songkhla']\n",
    "data = dict()\n",
    "subset = 'Train'\n",
    "\n",
    "for province in provinces:\n",
    "    df =  pd.read_csv(f'./extracted/{subset}/{province}_full.csv', index_col='Datetime')\n",
    "    idx = pd.MultiIndex.from_product([[province],['Temp','WindDir','Wind Speed','PM2.5']])\n",
    "    df.columns = idx\n",
    "    data[province] = df\n",
    "\n"
   ]
  },
  {
   "cell_type": "code",
   "execution_count": 2,
   "metadata": {},
   "outputs": [
    {
     "output_type": "execute_result",
     "data": {
      "text/plain": [
       "                    Bangkok                               Chanthaburi          \\\n",
       "                       Temp WindDir Wind Speed      PM2.5        Temp WindDir   \n",
       "Datetime                                                                        \n",
       "2016-03-03 07:00:00    26.4      65         15  62.900000        25.4      70   \n",
       "2016-03-03 10:00:00    31.4      75         13  52.966667        30.9      75   \n",
       "2016-03-03 13:00:00    34.1      70         12  35.266667        33.4      65   \n",
       "2016-03-03 16:00:00    34.6      60         12  33.050000        31.7      55   \n",
       "2016-03-03 19:00:00    29.1      70         11  42.066667        27.2      65   \n",
       "\n",
       "                                     Chiang Mai          ... Kanchanaburi  \\\n",
       "                    Wind Speed PM2.5       Temp WindDir  ...   Wind Speed   \n",
       "Datetime                                                 ...                \n",
       "2016-03-03 07:00:00         20  44.2       19.9     210  ...           18   \n",
       "2016-03-03 10:00:00         16  40.9       29.8     205  ...           17   \n",
       "2016-03-03 13:00:00         11  32.4       33.7     240  ...           13   \n",
       "2016-03-03 16:00:00         10  37.8       33.4     230  ...           10   \n",
       "2016-03-03 19:00:00         17  47.2       24.4     220  ...           13   \n",
       "\n",
       "                               Khon Kaen                                \\\n",
       "                         PM2.5      Temp WindDir Wind Speed      PM2.5   \n",
       "Datetime                                                                 \n",
       "2016-03-03 07:00:00  65.200000      20.9      75          8  35.800000   \n",
       "2016-03-03 10:00:00  56.066667      27.0      85          8  35.950000   \n",
       "2016-03-03 13:00:00  33.800000      31.2      90         10        NaN   \n",
       "2016-03-03 16:00:00  48.050000      33.0      80          6  48.700000   \n",
       "2016-03-03 19:00:00  74.166667      28.1     125          8  60.066667   \n",
       "\n",
       "                    Songkhla                                \n",
       "                        Temp WindDir Wind Speed      PM2.5  \n",
       "Datetime                                                    \n",
       "2016-03-03 07:00:00     25.4    80.0       38.0  31.200000  \n",
       "2016-03-03 10:00:00     28.6    85.0       40.0  28.966667  \n",
       "2016-03-03 13:00:00     30.3    90.0       32.0  23.800000  \n",
       "2016-03-03 16:00:00     29.3    95.0       31.0  23.200000  \n",
       "2016-03-03 19:00:00     26.7    85.0       29.0  26.366667  \n",
       "\n",
       "[5 rows x 24 columns]"
      ],
      "text/html": "<div>\n<style scoped>\n    .dataframe tbody tr th:only-of-type {\n        vertical-align: middle;\n    }\n\n    .dataframe tbody tr th {\n        vertical-align: top;\n    }\n\n    .dataframe thead tr th {\n        text-align: left;\n    }\n\n    .dataframe thead tr:last-of-type th {\n        text-align: right;\n    }\n</style>\n<table border=\"1\" class=\"dataframe\">\n  <thead>\n    <tr>\n      <th></th>\n      <th colspan=\"4\" halign=\"left\">Bangkok</th>\n      <th colspan=\"4\" halign=\"left\">Chanthaburi</th>\n      <th colspan=\"2\" halign=\"left\">Chiang Mai</th>\n      <th>...</th>\n      <th colspan=\"2\" halign=\"left\">Kanchanaburi</th>\n      <th colspan=\"4\" halign=\"left\">Khon Kaen</th>\n      <th colspan=\"4\" halign=\"left\">Songkhla</th>\n    </tr>\n    <tr>\n      <th></th>\n      <th>Temp</th>\n      <th>WindDir</th>\n      <th>Wind Speed</th>\n      <th>PM2.5</th>\n      <th>Temp</th>\n      <th>WindDir</th>\n      <th>Wind Speed</th>\n      <th>PM2.5</th>\n      <th>Temp</th>\n      <th>WindDir</th>\n      <th>...</th>\n      <th>Wind Speed</th>\n      <th>PM2.5</th>\n      <th>Temp</th>\n      <th>WindDir</th>\n      <th>Wind Speed</th>\n      <th>PM2.5</th>\n      <th>Temp</th>\n      <th>WindDir</th>\n      <th>Wind Speed</th>\n      <th>PM2.5</th>\n    </tr>\n    <tr>\n      <th>Datetime</th>\n      <th></th>\n      <th></th>\n      <th></th>\n      <th></th>\n      <th></th>\n      <th></th>\n      <th></th>\n      <th></th>\n      <th></th>\n      <th></th>\n      <th></th>\n      <th></th>\n      <th></th>\n      <th></th>\n      <th></th>\n      <th></th>\n      <th></th>\n      <th></th>\n      <th></th>\n      <th></th>\n      <th></th>\n    </tr>\n  </thead>\n  <tbody>\n    <tr>\n      <th>2016-03-03 07:00:00</th>\n      <td>26.4</td>\n      <td>65</td>\n      <td>15</td>\n      <td>62.900000</td>\n      <td>25.4</td>\n      <td>70</td>\n      <td>20</td>\n      <td>44.2</td>\n      <td>19.9</td>\n      <td>210</td>\n      <td>...</td>\n      <td>18</td>\n      <td>65.200000</td>\n      <td>20.9</td>\n      <td>75</td>\n      <td>8</td>\n      <td>35.800000</td>\n      <td>25.4</td>\n      <td>80.0</td>\n      <td>38.0</td>\n      <td>31.200000</td>\n    </tr>\n    <tr>\n      <th>2016-03-03 10:00:00</th>\n      <td>31.4</td>\n      <td>75</td>\n      <td>13</td>\n      <td>52.966667</td>\n      <td>30.9</td>\n      <td>75</td>\n      <td>16</td>\n      <td>40.9</td>\n      <td>29.8</td>\n      <td>205</td>\n      <td>...</td>\n      <td>17</td>\n      <td>56.066667</td>\n      <td>27.0</td>\n      <td>85</td>\n      <td>8</td>\n      <td>35.950000</td>\n      <td>28.6</td>\n      <td>85.0</td>\n      <td>40.0</td>\n      <td>28.966667</td>\n    </tr>\n    <tr>\n      <th>2016-03-03 13:00:00</th>\n      <td>34.1</td>\n      <td>70</td>\n      <td>12</td>\n      <td>35.266667</td>\n      <td>33.4</td>\n      <td>65</td>\n      <td>11</td>\n      <td>32.4</td>\n      <td>33.7</td>\n      <td>240</td>\n      <td>...</td>\n      <td>13</td>\n      <td>33.800000</td>\n      <td>31.2</td>\n      <td>90</td>\n      <td>10</td>\n      <td>NaN</td>\n      <td>30.3</td>\n      <td>90.0</td>\n      <td>32.0</td>\n      <td>23.800000</td>\n    </tr>\n    <tr>\n      <th>2016-03-03 16:00:00</th>\n      <td>34.6</td>\n      <td>60</td>\n      <td>12</td>\n      <td>33.050000</td>\n      <td>31.7</td>\n      <td>55</td>\n      <td>10</td>\n      <td>37.8</td>\n      <td>33.4</td>\n      <td>230</td>\n      <td>...</td>\n      <td>10</td>\n      <td>48.050000</td>\n      <td>33.0</td>\n      <td>80</td>\n      <td>6</td>\n      <td>48.700000</td>\n      <td>29.3</td>\n      <td>95.0</td>\n      <td>31.0</td>\n      <td>23.200000</td>\n    </tr>\n    <tr>\n      <th>2016-03-03 19:00:00</th>\n      <td>29.1</td>\n      <td>70</td>\n      <td>11</td>\n      <td>42.066667</td>\n      <td>27.2</td>\n      <td>65</td>\n      <td>17</td>\n      <td>47.2</td>\n      <td>24.4</td>\n      <td>220</td>\n      <td>...</td>\n      <td>13</td>\n      <td>74.166667</td>\n      <td>28.1</td>\n      <td>125</td>\n      <td>8</td>\n      <td>60.066667</td>\n      <td>26.7</td>\n      <td>85.0</td>\n      <td>29.0</td>\n      <td>26.366667</td>\n    </tr>\n  </tbody>\n</table>\n<p>5 rows × 24 columns</p>\n</div>"
     },
     "metadata": {},
     "execution_count": 2
    }
   ],
   "source": [
    "grand_data = data['Bangkok']\\\n",
    "                .merge(data['Chanthaburi'], how='left', left_index=True, right_index=True)\\\n",
    "                .merge(data['Chiang Mai'], how='left', left_index=True, right_index=True)\\\n",
    "                .merge(data['Kanchanaburi'], how='left', left_index=True, right_index=True)\\\n",
    "                .merge(data['Khon Kaen'], how='left', left_index=True, right_index=True)\\\n",
    "                .merge(data['Songkhla'], how='left', left_index=True, right_index=True)\n",
    "grand_data.head()"
   ]
  },
  {
   "cell_type": "code",
   "execution_count": 3,
   "metadata": {},
   "outputs": [
    {
     "output_type": "stream",
     "name": "stdout",
     "text": [
      "Create new file\n"
     ]
    }
   ],
   "source": [
    "if not os.path.exists('pivot_.csv'):    \n",
    "    grand_data.stack(0, dropna=False).to_csv('pivot_.csv')\n",
    "    print('Create new file')"
   ]
  }
 ]
}