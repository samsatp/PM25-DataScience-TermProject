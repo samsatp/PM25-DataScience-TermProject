{
  "nbformat": 4,
  "nbformat_minor": 0,
  "metadata": {
    "colab": {
      "name": "make_submission.ipynb",
      "provenance": []
    },
    "kernelspec": {
      "name": "python383jvsc74a57bd0a9c2c22397b07014c1cd4f0e704763f14b6d6b76ade59c4da849259a43dd80ef",
      "display_name": "Python 3.8.3 32-bit"
    },
    "language_info": {
      "name": "python",
      "version": "3.8.3"
    },
    "metadata": {
      "interpreter": {
        "hash": "a9c2c22397b07014c1cd4f0e704763f14b6d6b76ade59c4da849259a43dd80ef"
      }
    }
  },
  "cells": [
    {
      "cell_type": "markdown",
      "metadata": {
        "id": "AITBlvqoaNCL"
      },
      "source": [
        "สมมติว่ามีลำดับตามนี้ครับ\n",
        "1 2 3 4 5 6 7 8 9 10 11 12 13 14 15 16 17 18 19 20 21 22\n",
        "\n",
        "สมมติว่า ลำดับที่ 10 13 15 20 เป็น **missing**\n",
        "\n",
        "สมมติว่ากำหนดให้โมเดลมี input : 1 step และตอบ output : 9 step\n",
        "- ที่ time point 6 โมเดลจะตอบลำดับออกไป 9 step คือ\n",
        "\n",
        "    6 ==> 7 8 9 10 11 12 13 14 15\n",
        "- ที่ time point 12 โมเดลจะตอบลำดับออกไป 9 step คือ\n",
        "\n",
        "    12 ==> 13 14 15 16 17 18 19 20 21\n",
        "\n",
        "ในการประเมินผล จะไม่เอา missing มาคิด ดังนั้น filter เพื่อเอาลำดับที่ missing ออกไป จะได้ว่า \n",
        "- ที่ time point 6 จะเหลือ\n",
        "\n",
        "    6 ==> 7 8 9 11 12 14 \n",
        "    \n",
        "    (drop 10 13 15)\n",
        "- ที่ time point 12 จะเหลือ\n",
        "\n",
        "    12 ==> 14 16 17 18 19 21\n",
        "    \n",
        "    (drop 13 15 20)"
      ]
    },
    {
      "cell_type": "code",
      "metadata": {
        "colab": {
          "base_uri": "https://localhost:8080/",
          "height": 392
        },
        "id": "U6q37vC2RR_E",
        "outputId": "4fc488af-11dd-4478-c80f-c0e6d5cded8b"
      },
      "source": [
        "import pandas as pd\n",
        "#missing index เป็นไฟล์ที่รวม missing date ที่หายไปทั้งหมดของทุก 6 จังหวัด\n",
        "#file นี้อยู่ใน kaggle นะครับ\n",
        "#อ่านไฟล์ missing index\n",
        "miss_index = pd.read_csv('./predictions/missing_index.csv')\n",
        "miss_index"
      ],
      "execution_count": 1,
      "outputs": [
        {
          "output_type": "execute_result",
          "data": {
            "text/plain": [
              "       Unnamed: 0                     Missing date\n",
              "0               0  Chanthaburi 2019-03-20 21:00:00\n",
              "1               1  Chanthaburi 2019-03-20 23:00:00\n",
              "2               2  Chanthaburi 2019-03-21 00:00:00\n",
              "3               3  Chanthaburi 2019-03-21 01:00:00\n",
              "4               4  Chanthaburi 2019-03-21 02:00:00\n",
              "...           ...                              ...\n",
              "12169        1936     Songkhla 2020-03-16 07:00:00\n",
              "12170        1937     Songkhla 2020-03-17 07:00:00\n",
              "12171        1938     Songkhla 2020-03-17 15:00:00\n",
              "12172        1939     Songkhla 2020-03-18 07:00:00\n",
              "12173        1940     Songkhla 2020-03-18 13:00:00\n",
              "\n",
              "[12174 rows x 2 columns]"
            ],
            "text/html": "<div>\n<style scoped>\n    .dataframe tbody tr th:only-of-type {\n        vertical-align: middle;\n    }\n\n    .dataframe tbody tr th {\n        vertical-align: top;\n    }\n\n    .dataframe thead th {\n        text-align: right;\n    }\n</style>\n<table border=\"1\" class=\"dataframe\">\n  <thead>\n    <tr style=\"text-align: right;\">\n      <th></th>\n      <th>Unnamed: 0</th>\n      <th>Missing date</th>\n    </tr>\n  </thead>\n  <tbody>\n    <tr>\n      <th>0</th>\n      <td>0</td>\n      <td>Chanthaburi 2019-03-20 21:00:00</td>\n    </tr>\n    <tr>\n      <th>1</th>\n      <td>1</td>\n      <td>Chanthaburi 2019-03-20 23:00:00</td>\n    </tr>\n    <tr>\n      <th>2</th>\n      <td>2</td>\n      <td>Chanthaburi 2019-03-21 00:00:00</td>\n    </tr>\n    <tr>\n      <th>3</th>\n      <td>3</td>\n      <td>Chanthaburi 2019-03-21 01:00:00</td>\n    </tr>\n    <tr>\n      <th>4</th>\n      <td>4</td>\n      <td>Chanthaburi 2019-03-21 02:00:00</td>\n    </tr>\n    <tr>\n      <th>...</th>\n      <td>...</td>\n      <td>...</td>\n    </tr>\n    <tr>\n      <th>12169</th>\n      <td>1936</td>\n      <td>Songkhla 2020-03-16 07:00:00</td>\n    </tr>\n    <tr>\n      <th>12170</th>\n      <td>1937</td>\n      <td>Songkhla 2020-03-17 07:00:00</td>\n    </tr>\n    <tr>\n      <th>12171</th>\n      <td>1938</td>\n      <td>Songkhla 2020-03-17 15:00:00</td>\n    </tr>\n    <tr>\n      <th>12172</th>\n      <td>1939</td>\n      <td>Songkhla 2020-03-18 07:00:00</td>\n    </tr>\n    <tr>\n      <th>12173</th>\n      <td>1940</td>\n      <td>Songkhla 2020-03-18 13:00:00</td>\n    </tr>\n  </tbody>\n</table>\n<p>12174 rows × 2 columns</p>\n</div>"
          },
          "metadata": {},
          "execution_count": 1
        }
      ]
    },
    {
      "cell_type": "code",
      "metadata": {
        "colab": {
          "base_uri": "https://localhost:8080/",
          "height": 392
        },
        "id": "DRZc7D4rSDsF",
        "outputId": "8485acce-ba73-4999-caad-f54482d5869e"
      },
      "source": [
        "#อ่านไฟล์ submission ล่าสุดของตัวเองครับ ที่มี 481320 row \n",
        "#file นี้ใช้เป็น submission file ของน้องเองนะ\n",
        "your_submission = pd.read_csv('./predictions/sub3.csv')\n",
        "your_submission"
      ],
      "execution_count": 2,
      "outputs": [
        {
          "output_type": "execute_result",
          "data": {
            "text/plain": [
              "            Id  Predicted\n",
              "0            0  27.177496\n",
              "1            1  28.232582\n",
              "2            2  28.580084\n",
              "3            3  28.684645\n",
              "4            4  27.955214\n",
              "...        ...        ...\n",
              "481315  481315  13.528379\n",
              "481316  481316  13.611746\n",
              "481317  481317  14.315307\n",
              "481318  481318  13.587895\n",
              "481319  481319  13.652362\n",
              "\n",
              "[481320 rows x 2 columns]"
            ],
            "text/html": "<div>\n<style scoped>\n    .dataframe tbody tr th:only-of-type {\n        vertical-align: middle;\n    }\n\n    .dataframe tbody tr th {\n        vertical-align: top;\n    }\n\n    .dataframe thead th {\n        text-align: right;\n    }\n</style>\n<table border=\"1\" class=\"dataframe\">\n  <thead>\n    <tr style=\"text-align: right;\">\n      <th></th>\n      <th>Id</th>\n      <th>Predicted</th>\n    </tr>\n  </thead>\n  <tbody>\n    <tr>\n      <th>0</th>\n      <td>0</td>\n      <td>27.177496</td>\n    </tr>\n    <tr>\n      <th>1</th>\n      <td>1</td>\n      <td>28.232582</td>\n    </tr>\n    <tr>\n      <th>2</th>\n      <td>2</td>\n      <td>28.580084</td>\n    </tr>\n    <tr>\n      <th>3</th>\n      <td>3</td>\n      <td>28.684645</td>\n    </tr>\n    <tr>\n      <th>4</th>\n      <td>4</td>\n      <td>27.955214</td>\n    </tr>\n    <tr>\n      <th>...</th>\n      <td>...</td>\n      <td>...</td>\n    </tr>\n    <tr>\n      <th>481315</th>\n      <td>481315</td>\n      <td>13.528379</td>\n    </tr>\n    <tr>\n      <th>481316</th>\n      <td>481316</td>\n      <td>13.611746</td>\n    </tr>\n    <tr>\n      <th>481317</th>\n      <td>481317</td>\n      <td>14.315307</td>\n    </tr>\n    <tr>\n      <th>481318</th>\n      <td>481318</td>\n      <td>13.587895</td>\n    </tr>\n    <tr>\n      <th>481319</th>\n      <td>481319</td>\n      <td>13.652362</td>\n    </tr>\n  </tbody>\n</table>\n<p>481320 rows × 2 columns</p>\n</div>"
          },
          "metadata": {},
          "execution_count": 2
        }
      ]
    },
    {
      "cell_type": "code",
      "metadata": {
        "colab": {
          "base_uri": "https://localhost:8080/",
          "height": 392
        },
        "id": "AVsyjECMUlYj",
        "outputId": "0eb52dcb-8f02-46d4-fa20-302f5c237086"
      },
      "source": [
        "#อ่านไฟล์ prediction index เป็นไฟล์ที่รวม index ของ output แต่ละ time point \n",
        "#file นี้อยู่ใน kaggle นะครับ\n",
        "prediction_index = pd.read_csv('./predictions/output_index.csv')\n",
        "prediction_index"
      ],
      "execution_count": 3,
      "outputs": [
        {
          "output_type": "execute_result",
          "data": {
            "text/plain": [
              "        Unnamed: 0              predicted timestamp\n",
              "0                0  Chanthaburi 2019-03-18 13:00:00\n",
              "1                1  Chanthaburi 2019-03-18 14:00:00\n",
              "2                2  Chanthaburi 2019-03-18 15:00:00\n",
              "3                3  Chanthaburi 2019-03-18 16:00:00\n",
              "4                4  Chanthaburi 2019-03-18 17:00:00\n",
              "...            ...                              ...\n",
              "481315       81139     Songkhla 2020-03-18 14:00:00\n",
              "481316       81140     Songkhla 2020-03-18 15:00:00\n",
              "481317       81141     Songkhla 2020-03-18 16:00:00\n",
              "481318       81142     Songkhla 2020-03-18 17:00:00\n",
              "481319       81143     Songkhla 2020-03-18 18:00:00\n",
              "\n",
              "[481320 rows x 2 columns]"
            ],
            "text/html": "<div>\n<style scoped>\n    .dataframe tbody tr th:only-of-type {\n        vertical-align: middle;\n    }\n\n    .dataframe tbody tr th {\n        vertical-align: top;\n    }\n\n    .dataframe thead th {\n        text-align: right;\n    }\n</style>\n<table border=\"1\" class=\"dataframe\">\n  <thead>\n    <tr style=\"text-align: right;\">\n      <th></th>\n      <th>Unnamed: 0</th>\n      <th>predicted timestamp</th>\n    </tr>\n  </thead>\n  <tbody>\n    <tr>\n      <th>0</th>\n      <td>0</td>\n      <td>Chanthaburi 2019-03-18 13:00:00</td>\n    </tr>\n    <tr>\n      <th>1</th>\n      <td>1</td>\n      <td>Chanthaburi 2019-03-18 14:00:00</td>\n    </tr>\n    <tr>\n      <th>2</th>\n      <td>2</td>\n      <td>Chanthaburi 2019-03-18 15:00:00</td>\n    </tr>\n    <tr>\n      <th>3</th>\n      <td>3</td>\n      <td>Chanthaburi 2019-03-18 16:00:00</td>\n    </tr>\n    <tr>\n      <th>4</th>\n      <td>4</td>\n      <td>Chanthaburi 2019-03-18 17:00:00</td>\n    </tr>\n    <tr>\n      <th>...</th>\n      <td>...</td>\n      <td>...</td>\n    </tr>\n    <tr>\n      <th>481315</th>\n      <td>81139</td>\n      <td>Songkhla 2020-03-18 14:00:00</td>\n    </tr>\n    <tr>\n      <th>481316</th>\n      <td>81140</td>\n      <td>Songkhla 2020-03-18 15:00:00</td>\n    </tr>\n    <tr>\n      <th>481317</th>\n      <td>81141</td>\n      <td>Songkhla 2020-03-18 16:00:00</td>\n    </tr>\n    <tr>\n      <th>481318</th>\n      <td>81142</td>\n      <td>Songkhla 2020-03-18 17:00:00</td>\n    </tr>\n    <tr>\n      <th>481319</th>\n      <td>81143</td>\n      <td>Songkhla 2020-03-18 18:00:00</td>\n    </tr>\n  </tbody>\n</table>\n<p>481320 rows × 2 columns</p>\n</div>"
          },
          "metadata": {},
          "execution_count": 3
        }
      ]
    },
    {
      "cell_type": "code",
      "metadata": {
        "colab": {
          "base_uri": "https://localhost:8080/",
          "height": 392
        },
        "id": "5UKyE1TEU_lw",
        "outputId": "b73c968e-3829-4977-a541-ea4d4713ef9e"
      },
      "source": [
        "#assign index ให้กับ submission \n",
        "your_submission['datetime index'] = prediction_index['predicted timestamp']\n",
        "your_submission[['Predicted','datetime index']]"
      ],
      "execution_count": 4,
      "outputs": [
        {
          "output_type": "execute_result",
          "data": {
            "text/plain": [
              "        Predicted                   datetime index\n",
              "0       27.177496  Chanthaburi 2019-03-18 13:00:00\n",
              "1       28.232582  Chanthaburi 2019-03-18 14:00:00\n",
              "2       28.580084  Chanthaburi 2019-03-18 15:00:00\n",
              "3       28.684645  Chanthaburi 2019-03-18 16:00:00\n",
              "4       27.955214  Chanthaburi 2019-03-18 17:00:00\n",
              "...           ...                              ...\n",
              "481315  13.528379     Songkhla 2020-03-18 14:00:00\n",
              "481316  13.611746     Songkhla 2020-03-18 15:00:00\n",
              "481317  14.315307     Songkhla 2020-03-18 16:00:00\n",
              "481318  13.587895     Songkhla 2020-03-18 17:00:00\n",
              "481319  13.652362     Songkhla 2020-03-18 18:00:00\n",
              "\n",
              "[481320 rows x 2 columns]"
            ],
            "text/html": "<div>\n<style scoped>\n    .dataframe tbody tr th:only-of-type {\n        vertical-align: middle;\n    }\n\n    .dataframe tbody tr th {\n        vertical-align: top;\n    }\n\n    .dataframe thead th {\n        text-align: right;\n    }\n</style>\n<table border=\"1\" class=\"dataframe\">\n  <thead>\n    <tr style=\"text-align: right;\">\n      <th></th>\n      <th>Predicted</th>\n      <th>datetime index</th>\n    </tr>\n  </thead>\n  <tbody>\n    <tr>\n      <th>0</th>\n      <td>27.177496</td>\n      <td>Chanthaburi 2019-03-18 13:00:00</td>\n    </tr>\n    <tr>\n      <th>1</th>\n      <td>28.232582</td>\n      <td>Chanthaburi 2019-03-18 14:00:00</td>\n    </tr>\n    <tr>\n      <th>2</th>\n      <td>28.580084</td>\n      <td>Chanthaburi 2019-03-18 15:00:00</td>\n    </tr>\n    <tr>\n      <th>3</th>\n      <td>28.684645</td>\n      <td>Chanthaburi 2019-03-18 16:00:00</td>\n    </tr>\n    <tr>\n      <th>4</th>\n      <td>27.955214</td>\n      <td>Chanthaburi 2019-03-18 17:00:00</td>\n    </tr>\n    <tr>\n      <th>...</th>\n      <td>...</td>\n      <td>...</td>\n    </tr>\n    <tr>\n      <th>481315</th>\n      <td>13.528379</td>\n      <td>Songkhla 2020-03-18 14:00:00</td>\n    </tr>\n    <tr>\n      <th>481316</th>\n      <td>13.611746</td>\n      <td>Songkhla 2020-03-18 15:00:00</td>\n    </tr>\n    <tr>\n      <th>481317</th>\n      <td>14.315307</td>\n      <td>Songkhla 2020-03-18 16:00:00</td>\n    </tr>\n    <tr>\n      <th>481318</th>\n      <td>13.587895</td>\n      <td>Songkhla 2020-03-18 17:00:00</td>\n    </tr>\n    <tr>\n      <th>481319</th>\n      <td>13.652362</td>\n      <td>Songkhla 2020-03-18 18:00:00</td>\n    </tr>\n  </tbody>\n</table>\n<p>481320 rows × 2 columns</p>\n</div>"
          },
          "metadata": {},
          "execution_count": 4
        }
      ]
    },
    {
      "cell_type": "code",
      "metadata": {
        "id": "c59X8XctVGRD"
      },
      "source": [
        "#เช็คเงื่อนไขว่า ถ้า index ที่ทำนายออกมา ตรงกับ missing index ให้ drop ทิ้ง\n",
        "cond = your_submission['datetime index'].isin(miss_index['Missing date'])\n",
        "your_submission.drop(your_submission[cond].index, inplace = True)"
      ],
      "execution_count": 5,
      "outputs": []
    },
    {
      "cell_type": "code",
      "metadata": {
        "colab": {
          "base_uri": "https://localhost:8080/",
          "height": 392
        },
        "id": "hTXKVDBzVV1o",
        "outputId": "f246aa74-f126-4366-afed-a6ff20b45cb2"
      },
      "source": [
        "#ได้ออกมาเป็น submission ล่าสุด ซึ่งต้องมี 448554 row\n",
        "your_submission.reset_index(inplace=True)\n",
        "your_submission.drop(columns={'Id'},inplace=True)\n",
        "your_submission"
      ],
      "execution_count": 6,
      "outputs": [
        {
          "output_type": "execute_result",
          "data": {
            "text/plain": [
              "         index  Predicted                   datetime index\n",
              "0            0  27.177496  Chanthaburi 2019-03-18 13:00:00\n",
              "1            1  28.232582  Chanthaburi 2019-03-18 14:00:00\n",
              "2            2  28.580084  Chanthaburi 2019-03-18 15:00:00\n",
              "3            3  28.684645  Chanthaburi 2019-03-18 16:00:00\n",
              "4            4  27.955214  Chanthaburi 2019-03-18 17:00:00\n",
              "...        ...        ...                              ...\n",
              "448549  481315  13.528379     Songkhla 2020-03-18 14:00:00\n",
              "448550  481316  13.611746     Songkhla 2020-03-18 15:00:00\n",
              "448551  481317  14.315307     Songkhla 2020-03-18 16:00:00\n",
              "448552  481318  13.587895     Songkhla 2020-03-18 17:00:00\n",
              "448553  481319  13.652362     Songkhla 2020-03-18 18:00:00\n",
              "\n",
              "[448554 rows x 3 columns]"
            ],
            "text/html": "<div>\n<style scoped>\n    .dataframe tbody tr th:only-of-type {\n        vertical-align: middle;\n    }\n\n    .dataframe tbody tr th {\n        vertical-align: top;\n    }\n\n    .dataframe thead th {\n        text-align: right;\n    }\n</style>\n<table border=\"1\" class=\"dataframe\">\n  <thead>\n    <tr style=\"text-align: right;\">\n      <th></th>\n      <th>index</th>\n      <th>Predicted</th>\n      <th>datetime index</th>\n    </tr>\n  </thead>\n  <tbody>\n    <tr>\n      <th>0</th>\n      <td>0</td>\n      <td>27.177496</td>\n      <td>Chanthaburi 2019-03-18 13:00:00</td>\n    </tr>\n    <tr>\n      <th>1</th>\n      <td>1</td>\n      <td>28.232582</td>\n      <td>Chanthaburi 2019-03-18 14:00:00</td>\n    </tr>\n    <tr>\n      <th>2</th>\n      <td>2</td>\n      <td>28.580084</td>\n      <td>Chanthaburi 2019-03-18 15:00:00</td>\n    </tr>\n    <tr>\n      <th>3</th>\n      <td>3</td>\n      <td>28.684645</td>\n      <td>Chanthaburi 2019-03-18 16:00:00</td>\n    </tr>\n    <tr>\n      <th>4</th>\n      <td>4</td>\n      <td>27.955214</td>\n      <td>Chanthaburi 2019-03-18 17:00:00</td>\n    </tr>\n    <tr>\n      <th>...</th>\n      <td>...</td>\n      <td>...</td>\n      <td>...</td>\n    </tr>\n    <tr>\n      <th>448549</th>\n      <td>481315</td>\n      <td>13.528379</td>\n      <td>Songkhla 2020-03-18 14:00:00</td>\n    </tr>\n    <tr>\n      <th>448550</th>\n      <td>481316</td>\n      <td>13.611746</td>\n      <td>Songkhla 2020-03-18 15:00:00</td>\n    </tr>\n    <tr>\n      <th>448551</th>\n      <td>481317</td>\n      <td>14.315307</td>\n      <td>Songkhla 2020-03-18 16:00:00</td>\n    </tr>\n    <tr>\n      <th>448552</th>\n      <td>481318</td>\n      <td>13.587895</td>\n      <td>Songkhla 2020-03-18 17:00:00</td>\n    </tr>\n    <tr>\n      <th>448553</th>\n      <td>481319</td>\n      <td>13.652362</td>\n      <td>Songkhla 2020-03-18 18:00:00</td>\n    </tr>\n  </tbody>\n</table>\n<p>448554 rows × 3 columns</p>\n</div>"
          },
          "metadata": {},
          "execution_count": 6
        }
      ]
    },
    {
      "cell_type": "code",
      "metadata": {
        "id": "lOrHKlZIVWji"
      },
      "source": [
        "your_submission['id'] = your_submission.index\n",
        "your_submission = your_submission[['Predicted','id']]"
      ],
      "execution_count": 7,
      "outputs": []
    },
    {
      "cell_type": "code",
      "metadata": {
        "colab": {
          "base_uri": "https://localhost:8080/",
          "height": 421
        },
        "id": "l6buWuBjXzJL",
        "outputId": "68b52077-bef0-4832-c5f4-4038e5a0a5aa"
      },
      "source": [
        "your_submission.set_index('id',inplace=True)\n",
        "your_submission"
      ],
      "execution_count": 8,
      "outputs": [
        {
          "output_type": "execute_result",
          "data": {
            "text/plain": [
              "        Predicted\n",
              "id               \n",
              "0       27.177496\n",
              "1       28.232582\n",
              "2       28.580084\n",
              "3       28.684645\n",
              "4       27.955214\n",
              "...           ...\n",
              "448549  13.528379\n",
              "448550  13.611746\n",
              "448551  14.315307\n",
              "448552  13.587895\n",
              "448553  13.652362\n",
              "\n",
              "[448554 rows x 1 columns]"
            ],
            "text/html": "<div>\n<style scoped>\n    .dataframe tbody tr th:only-of-type {\n        vertical-align: middle;\n    }\n\n    .dataframe tbody tr th {\n        vertical-align: top;\n    }\n\n    .dataframe thead th {\n        text-align: right;\n    }\n</style>\n<table border=\"1\" class=\"dataframe\">\n  <thead>\n    <tr style=\"text-align: right;\">\n      <th></th>\n      <th>Predicted</th>\n    </tr>\n    <tr>\n      <th>id</th>\n      <th></th>\n    </tr>\n  </thead>\n  <tbody>\n    <tr>\n      <th>0</th>\n      <td>27.177496</td>\n    </tr>\n    <tr>\n      <th>1</th>\n      <td>28.232582</td>\n    </tr>\n    <tr>\n      <th>2</th>\n      <td>28.580084</td>\n    </tr>\n    <tr>\n      <th>3</th>\n      <td>28.684645</td>\n    </tr>\n    <tr>\n      <th>4</th>\n      <td>27.955214</td>\n    </tr>\n    <tr>\n      <th>...</th>\n      <td>...</td>\n    </tr>\n    <tr>\n      <th>448549</th>\n      <td>13.528379</td>\n    </tr>\n    <tr>\n      <th>448550</th>\n      <td>13.611746</td>\n    </tr>\n    <tr>\n      <th>448551</th>\n      <td>14.315307</td>\n    </tr>\n    <tr>\n      <th>448552</th>\n      <td>13.587895</td>\n    </tr>\n    <tr>\n      <th>448553</th>\n      <td>13.652362</td>\n    </tr>\n  </tbody>\n</table>\n<p>448554 rows × 1 columns</p>\n</div>"
          },
          "metadata": {},
          "execution_count": 8
        }
      ]
    },
    {
      "cell_type": "code",
      "metadata": {
        "id": "DGjayVxZVo8r"
      },
      "source": [
        "your_submission.to_csv('./predictions/final_submission3.csv')"
      ],
      "execution_count": 9,
      "outputs": []
    },
    {
      "cell_type": "code",
      "execution_count": null,
      "metadata": {},
      "outputs": [],
      "source": []
    }
  ]
}